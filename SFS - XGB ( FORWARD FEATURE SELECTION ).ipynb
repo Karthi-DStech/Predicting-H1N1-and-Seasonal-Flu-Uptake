{
 "cells": [
  {
   "cell_type": "markdown",
   "metadata": {},
   "source": [
    "<font size=\"5\">Importing the Required Libraries.</font>"
   ]
  },
  {
   "cell_type": "code",
   "execution_count": 1,
   "id": "2cd35cda",
   "metadata": {},
   "outputs": [],
   "source": [
    "import numpy as np\n",
    "import pandas as pd\n",
    "import matplotlib.pyplot as plt\n",
    "import seaborn as sns\n",
    "%matplotlib inline\n",
    "\n",
    "training_data = pd.read_csv('training_set_features.csv')\n",
    "labels = pd.read_csv('training_set_labels.csv')"
   ]
  },
  {
   "cell_type": "markdown",
   "metadata": {},
   "source": [
    "**Separating Features**"
   ]
  },
  {
   "cell_type": "code",
   "execution_count": 2,
   "id": "c0e10a19",
   "metadata": {},
   "outputs": [],
   "source": [
    "numeric_columns = training_data.select_dtypes('number').columns\n",
    "\n",
    "category_columns = ['race', 'sex', \n",
    "       'marital_status', 'rent_or_own',  'hhs_geo_region',\n",
    "       'census_msa', 'employment_industry', 'employment_occupation']\n",
    "\n",
    "ordinal_columns = ['age_group', 'education',  'income_poverty',\n",
    "        'employment_status']"
   ]
  },
  {
   "cell_type": "code",
   "execution_count": null,
   "metadata": {},
   "outputs": [],
   "source": []
  },
  {
   "cell_type": "markdown",
   "metadata": {},
   "source": [
    "**Missing Value Imputation**"
   ]
  },
  {
   "cell_type": "code",
   "execution_count": 3,
   "id": "9f6556b6",
   "metadata": {},
   "outputs": [],
   "source": [
    "for i, row in training_data[training_data['employment_occupation'].isna()].iterrows():\n",
    "    conditions = (training_data[\"employment_status\"]==\"Unemployed\")\n",
    "    if conditions.any():\n",
    "        training_data.loc[i, 'employment_occupation'] = 'unemployed_occupation'\n",
    "\n",
    "for i, row in training_data[training_data['employment_industry'].isna()].iterrows():\n",
    "    conditions = (training_data[\"employment_status\"]==\"Unemployed\")\n",
    "    if conditions.any():\n",
    "        training_data.loc[i, 'employment_industry'] = 'unemployed_in_industry'\n",
    "\n",
    "for i, row in training_data[training_data['employment_industry'].isna()].iterrows():\n",
    "    conditions = (training_data[\"employment_status\"]==\"Not in Labor Force\")\n",
    "    if conditions.any():\n",
    "        training_data.loc[i, 'employment_industry'] = 'Not_in_laborforce'\n",
    "\n",
    "for i, row in training_data[training_data['employment_occupation'].isna()].iterrows():\n",
    "    conditions = (training_data[\"employment_status\"]==\"Not in Labor Force\")\n",
    "    if conditions.any():\n",
    "        training_data.loc[i, 'employment_occupation'] = 'Not_in_laborforce'\n",
    "\n",
    "for i, row in training_data[training_data['employment_industry'].isna()].iterrows():\n",
    "    conditions = (training_data[\"employment_status\"]==\"Employed\")\n",
    "    if conditions.any():\n",
    "        training_data.loc[i, 'employment_industry'] = 'other_industry'\n",
    "        \n",
    "for i, row in training_data[training_data['employment_occupation'].isna()].iterrows():\n",
    "    conditions = (training_data[\"employment_status\"]==\"Employed\")\n",
    "    if conditions.any():\n",
    "        training_data.loc[i, 'employment_occupation'] = 'other_occupation'"
   ]
  },
  {
   "cell_type": "code",
   "execution_count": 4,
   "id": "29a09d56",
   "metadata": {},
   "outputs": [],
   "source": [
    "income_poverty_nan = 'refused_or_unknown'\n",
    "marital_status_nan = 'refused_or_other_category'\n",
    "employment_status_nan = 'refused_or_other_category'\n",
    "rent_or_own_nan = 'other_or_refused'\n",
    "education_nan = 'refused_or_unknown'\n",
    "\n",
    "\n",
    "training_data['income_poverty'].fillna(income_poverty_nan, inplace=True)\n",
    "training_data['marital_status'].fillna(marital_status_nan, inplace=True)\n",
    "training_data['employment_status'].fillna(employment_status_nan, inplace=True)\n",
    "training_data['rent_or_own'].fillna(rent_or_own_nan, inplace=True)\n",
    "training_data['education'].fillna(education_nan, inplace=True)"
   ]
  },
  {
   "cell_type": "code",
   "execution_count": null,
   "id": "f71b4f92",
   "metadata": {},
   "outputs": [],
   "source": []
  },
  {
   "cell_type": "code",
   "execution_count": 5,
   "id": "4cfe8857",
   "metadata": {},
   "outputs": [],
   "source": [
    "def missing_count(training_data): # Creating a function which returns the values which is above zero\n",
    "    \n",
    "    count_nan = training_data.isnull().sum()\n",
    "    count_nan = count_nan[count_nan > 0].sort_values()    # To sort down the values\n",
    "    \n",
    "    return count_nan"
   ]
  },
  {
   "cell_type": "code",
   "execution_count": null,
   "id": "d532425c",
   "metadata": {},
   "outputs": [],
   "source": []
  },
  {
   "cell_type": "code",
   "execution_count": 6,
   "id": "695c073e",
   "metadata": {},
   "outputs": [],
   "source": [
    "missing_counts_as_nan = missing_count(training_data)"
   ]
  },
  {
   "cell_type": "code",
   "execution_count": null,
   "id": "88944c63",
   "metadata": {},
   "outputs": [],
   "source": []
  },
  {
   "cell_type": "code",
   "execution_count": 7,
   "id": "5427db45",
   "metadata": {},
   "outputs": [
    {
     "data": {
      "text/plain": [
       "behavioral_face_mask              19\n",
       "behavioral_wash_hands             42\n",
       "behavioral_antiviral_meds         71\n",
       "behavioral_outside_home           82\n",
       "behavioral_large_gatherings       87\n",
       "h1n1_concern                      92\n",
       "h1n1_knowledge                   116\n",
       "behavioral_touch_face            128\n",
       "behavioral_avoidance             208\n",
       "household_adults                 249\n",
       "household_children               249\n",
       "opinion_h1n1_risk                388\n",
       "opinion_h1n1_vacc_effective      391\n",
       "opinion_h1n1_sick_from_vacc      395\n",
       "opinion_seas_vacc_effective      462\n",
       "opinion_seas_risk                514\n",
       "opinion_seas_sick_from_vacc      537\n",
       "health_worker                    804\n",
       "child_under_6_months             820\n",
       "chronic_med_condition            971\n",
       "doctor_recc_h1n1                2160\n",
       "doctor_recc_seasonal            2160\n",
       "health_insurance               12274\n",
       "dtype: int64"
      ]
     },
     "execution_count": 7,
     "metadata": {},
     "output_type": "execute_result"
    }
   ],
   "source": [
    "missing_counts_as_nan"
   ]
  },
  {
   "cell_type": "code",
   "execution_count": null,
   "id": "56bfef4e",
   "metadata": {},
   "outputs": [],
   "source": []
  },
  {
   "cell_type": "code",
   "execution_count": 8,
   "id": "7dd0d983",
   "metadata": {},
   "outputs": [
    {
     "data": {
      "text/plain": [
       "race                     0\n",
       "sex                      0\n",
       "marital_status           0\n",
       "rent_or_own              0\n",
       "hhs_geo_region           0\n",
       "census_msa               0\n",
       "employment_industry      0\n",
       "employment_occupation    0\n",
       "dtype: int64"
      ]
     },
     "execution_count": 8,
     "metadata": {},
     "output_type": "execute_result"
    }
   ],
   "source": [
    "training_data[category_columns].isna().sum()"
   ]
  },
  {
   "cell_type": "code",
   "execution_count": null,
   "id": "98ec861d",
   "metadata": {},
   "outputs": [],
   "source": []
  },
  {
   "cell_type": "code",
   "execution_count": 9,
   "id": "44ac1b04",
   "metadata": {},
   "outputs": [
    {
     "data": {
      "text/plain": [
       "age_group            0\n",
       "education            0\n",
       "income_poverty       0\n",
       "employment_status    0\n",
       "dtype: int64"
      ]
     },
     "execution_count": 9,
     "metadata": {},
     "output_type": "execute_result"
    }
   ],
   "source": [
    "training_data[ordinal_columns].isna().sum()"
   ]
  },
  {
   "cell_type": "code",
   "execution_count": null,
   "metadata": {},
   "outputs": [],
   "source": []
  },
  {
   "cell_type": "markdown",
   "id": "d35551af",
   "metadata": {},
   "source": [
    "**Encoding the Data**"
   ]
  },
  {
   "cell_type": "code",
   "execution_count": 10,
   "id": "aeca9dcf",
   "metadata": {},
   "outputs": [],
   "source": [
    "from sklearn.preprocessing import LabelEncoder\n",
    "\n",
    "le = LabelEncoder()\n",
    "\n",
    "for features in ordinal_columns:\n",
    "    training_data[features] = le.fit_transform(training_data[features])"
   ]
  },
  {
   "cell_type": "code",
   "execution_count": null,
   "id": "66f17fb5",
   "metadata": {},
   "outputs": [],
   "source": []
  },
  {
   "cell_type": "code",
   "execution_count": 11,
   "id": "0e9591cc",
   "metadata": {},
   "outputs": [],
   "source": [
    "training_data = pd.get_dummies(training_data, columns=category_columns, drop_first=True)"
   ]
  },
  {
   "cell_type": "code",
   "execution_count": null,
   "id": "75595df3",
   "metadata": {},
   "outputs": [],
   "source": []
  },
  {
   "cell_type": "code",
   "execution_count": 12,
   "id": "1c3d5108",
   "metadata": {},
   "outputs": [],
   "source": [
    "final_training_data = pd.merge(training_data, labels, on='respondent_id')"
   ]
  },
  {
   "cell_type": "code",
   "execution_count": 13,
   "id": "f7793052",
   "metadata": {},
   "outputs": [],
   "source": [
    "final_training_data.drop('respondent_id', axis=1, inplace=True)"
   ]
  },
  {
   "cell_type": "code",
   "execution_count": 14,
   "id": "5baac0f7",
   "metadata": {},
   "outputs": [],
   "source": [
    "data = final_training_data.drop(['h1n1_vaccine','seasonal_vaccine'], axis=1)"
   ]
  },
  {
   "cell_type": "code",
   "execution_count": 15,
   "id": "b96ad010",
   "metadata": {},
   "outputs": [],
   "source": [
    "label1 = final_training_data['h1n1_vaccine']\n",
    "label2 = final_training_data['seasonal_vaccine']"
   ]
  },
  {
   "cell_type": "code",
   "execution_count": null,
   "id": "fa6408bd",
   "metadata": {},
   "outputs": [],
   "source": []
  },
  {
   "cell_type": "markdown",
   "metadata": {},
   "source": [
    "**Imports for SFS**"
   ]
  },
  {
   "cell_type": "code",
   "execution_count": 21,
   "id": "953c625a",
   "metadata": {},
   "outputs": [],
   "source": [
    "from sklearn.model_selection import train_test_split\n",
    "from mlxtend.feature_selection import SequentialFeatureSelector\n",
    "from mlxtend.plotting import plot_sequential_feature_selection as plot_sfs\n",
    "from xgboost import XGBClassifier"
   ]
  },
  {
   "cell_type": "code",
   "execution_count": null,
   "id": "24b12939",
   "metadata": {},
   "outputs": [],
   "source": []
  },
  {
   "cell_type": "code",
   "execution_count": 22,
   "id": "56e3f2cd",
   "metadata": {},
   "outputs": [],
   "source": [
    "X_train_h1, X_test_h1, y_train_h1, y_test_h1 = train_test_split(data, label1, test_size=0.3, random_state=68)"
   ]
  },
  {
   "cell_type": "code",
   "execution_count": null,
   "metadata": {},
   "outputs": [],
   "source": []
  },
  {
   "cell_type": "markdown",
   "metadata": {},
   "source": [
    "**Using XGBoost as a Base Model for SFS Calculation**"
   ]
  },
  {
   "cell_type": "code",
   "execution_count": 23,
   "id": "9d519f5a",
   "metadata": {},
   "outputs": [],
   "source": [
    "xgb = XGBClassifier(missing = np.nan)"
   ]
  },
  {
   "cell_type": "code",
   "execution_count": 24,
   "id": "b2c3a751",
   "metadata": {},
   "outputs": [],
   "source": [
    "sfs = SequentialFeatureSelector(xgb, k_features=X_train_h1.shape[1], forward=True, floating=False,\n",
    "                                verbose=1, scoring='roc_auc', cv=5)"
   ]
  },
  {
   "cell_type": "code",
   "execution_count": 25,
   "id": "e2d11e1a",
   "metadata": {},
   "outputs": [
    {
     "name": "stderr",
     "output_type": "stream",
     "text": [
      "[Parallel(n_jobs=1)]: Using backend SequentialBackend with 1 concurrent workers.\n",
      "[Parallel(n_jobs=1)]: Done  90 out of  90 | elapsed:   29.7s finished\n",
      "Features: 1/90[Parallel(n_jobs=1)]: Using backend SequentialBackend with 1 concurrent workers.\n",
      "[Parallel(n_jobs=1)]: Done  89 out of  89 | elapsed:  1.3min finished\n",
      "Features: 2/90[Parallel(n_jobs=1)]: Using backend SequentialBackend with 1 concurrent workers.\n",
      "[Parallel(n_jobs=1)]: Done  88 out of  88 | elapsed:  2.0min finished\n",
      "Features: 3/90[Parallel(n_jobs=1)]: Using backend SequentialBackend with 1 concurrent workers.\n",
      "[Parallel(n_jobs=1)]: Done  87 out of  87 | elapsed:  2.6min finished\n",
      "Features: 4/90[Parallel(n_jobs=1)]: Using backend SequentialBackend with 1 concurrent workers.\n",
      "[Parallel(n_jobs=1)]: Done  86 out of  86 | elapsed:  2.7min finished\n",
      "Features: 5/90[Parallel(n_jobs=1)]: Using backend SequentialBackend with 1 concurrent workers.\n",
      "[Parallel(n_jobs=1)]: Done  85 out of  85 | elapsed:  2.9min finished\n",
      "Features: 6/90[Parallel(n_jobs=1)]: Using backend SequentialBackend with 1 concurrent workers.\n",
      "[Parallel(n_jobs=1)]: Done  84 out of  84 | elapsed:  2.9min finished\n",
      "Features: 7/90[Parallel(n_jobs=1)]: Using backend SequentialBackend with 1 concurrent workers.\n",
      "[Parallel(n_jobs=1)]: Done  83 out of  83 | elapsed:  2.8min finished\n",
      "Features: 8/90[Parallel(n_jobs=1)]: Using backend SequentialBackend with 1 concurrent workers.\n",
      "[Parallel(n_jobs=1)]: Done  82 out of  82 | elapsed:  3.3min finished\n",
      "Features: 9/90[Parallel(n_jobs=1)]: Using backend SequentialBackend with 1 concurrent workers.\n",
      "[Parallel(n_jobs=1)]: Done  81 out of  81 | elapsed:  3.6min finished\n",
      "Features: 10/90[Parallel(n_jobs=1)]: Using backend SequentialBackend with 1 concurrent workers.\n",
      "[Parallel(n_jobs=1)]: Done  80 out of  80 | elapsed:  3.5min finished\n",
      "Features: 11/90[Parallel(n_jobs=1)]: Using backend SequentialBackend with 1 concurrent workers.\n",
      "[Parallel(n_jobs=1)]: Done  79 out of  79 | elapsed:  3.4min finished\n",
      "Features: 12/90[Parallel(n_jobs=1)]: Using backend SequentialBackend with 1 concurrent workers.\n",
      "[Parallel(n_jobs=1)]: Done  78 out of  78 | elapsed:  3.4min finished\n",
      "Features: 13/90[Parallel(n_jobs=1)]: Using backend SequentialBackend with 1 concurrent workers.\n",
      "[Parallel(n_jobs=1)]: Done  77 out of  77 | elapsed:  3.6min finished\n",
      "Features: 14/90[Parallel(n_jobs=1)]: Using backend SequentialBackend with 1 concurrent workers.\n",
      "[Parallel(n_jobs=1)]: Done  76 out of  76 | elapsed:  3.5min finished\n",
      "Features: 15/90[Parallel(n_jobs=1)]: Using backend SequentialBackend with 1 concurrent workers.\n",
      "[Parallel(n_jobs=1)]: Done  75 out of  75 | elapsed:  3.4min finished\n",
      "Features: 16/90[Parallel(n_jobs=1)]: Using backend SequentialBackend with 1 concurrent workers.\n",
      "[Parallel(n_jobs=1)]: Done  74 out of  74 | elapsed:  3.4min finished\n",
      "Features: 17/90[Parallel(n_jobs=1)]: Using backend SequentialBackend with 1 concurrent workers.\n",
      "[Parallel(n_jobs=1)]: Done  73 out of  73 | elapsed:  4.3min finished\n",
      "Features: 18/90[Parallel(n_jobs=1)]: Using backend SequentialBackend with 1 concurrent workers.\n",
      "[Parallel(n_jobs=1)]: Done  72 out of  72 | elapsed:  4.5min finished\n",
      "Features: 19/90[Parallel(n_jobs=1)]: Using backend SequentialBackend with 1 concurrent workers.\n",
      "[Parallel(n_jobs=1)]: Done  71 out of  71 | elapsed:  4.2min finished\n",
      "Features: 20/90[Parallel(n_jobs=1)]: Using backend SequentialBackend with 1 concurrent workers.\n",
      "[Parallel(n_jobs=1)]: Done  70 out of  70 | elapsed:  4.3min finished\n",
      "Features: 21/90[Parallel(n_jobs=1)]: Using backend SequentialBackend with 1 concurrent workers.\n",
      "[Parallel(n_jobs=1)]: Done  69 out of  69 | elapsed:  4.7min finished\n",
      "Features: 22/90[Parallel(n_jobs=1)]: Using backend SequentialBackend with 1 concurrent workers.\n",
      "[Parallel(n_jobs=1)]: Done  68 out of  68 | elapsed:  5.0min finished\n",
      "Features: 23/90[Parallel(n_jobs=1)]: Using backend SequentialBackend with 1 concurrent workers.\n",
      "[Parallel(n_jobs=1)]: Done  67 out of  67 | elapsed:  5.3min finished\n",
      "Features: 24/90[Parallel(n_jobs=1)]: Using backend SequentialBackend with 1 concurrent workers.\n",
      "[Parallel(n_jobs=1)]: Done  66 out of  66 | elapsed:  5.0min finished\n",
      "Features: 25/90[Parallel(n_jobs=1)]: Using backend SequentialBackend with 1 concurrent workers.\n",
      "[Parallel(n_jobs=1)]: Done  65 out of  65 | elapsed:  4.7min finished\n",
      "Features: 26/90[Parallel(n_jobs=1)]: Using backend SequentialBackend with 1 concurrent workers.\n",
      "[Parallel(n_jobs=1)]: Done  64 out of  64 | elapsed:  4.9min finished\n",
      "Features: 27/90[Parallel(n_jobs=1)]: Using backend SequentialBackend with 1 concurrent workers.\n",
      "[Parallel(n_jobs=1)]: Done  63 out of  63 | elapsed:  5.3min finished\n",
      "Features: 28/90[Parallel(n_jobs=1)]: Using backend SequentialBackend with 1 concurrent workers.\n",
      "[Parallel(n_jobs=1)]: Done  62 out of  62 | elapsed:  4.9min finished\n",
      "Features: 29/90[Parallel(n_jobs=1)]: Using backend SequentialBackend with 1 concurrent workers.\n",
      "[Parallel(n_jobs=1)]: Done  61 out of  61 | elapsed:  4.9min finished\n",
      "Features: 30/90[Parallel(n_jobs=1)]: Using backend SequentialBackend with 1 concurrent workers.\n",
      "[Parallel(n_jobs=1)]: Done  60 out of  60 | elapsed:  4.9min finished\n",
      "Features: 31/90[Parallel(n_jobs=1)]: Using backend SequentialBackend with 1 concurrent workers.\n",
      "[Parallel(n_jobs=1)]: Done  59 out of  59 | elapsed:  4.5min finished\n",
      "Features: 32/90[Parallel(n_jobs=1)]: Using backend SequentialBackend with 1 concurrent workers.\n",
      "[Parallel(n_jobs=1)]: Done  58 out of  58 | elapsed:  7.8min finished\n",
      "Features: 33/90[Parallel(n_jobs=1)]: Using backend SequentialBackend with 1 concurrent workers.\n",
      "[Parallel(n_jobs=1)]: Done  57 out of  57 | elapsed:  4.0min finished\n",
      "Features: 34/90[Parallel(n_jobs=1)]: Using backend SequentialBackend with 1 concurrent workers.\n",
      "[Parallel(n_jobs=1)]: Done  56 out of  56 | elapsed:  4.2min finished\n",
      "Features: 35/90[Parallel(n_jobs=1)]: Using backend SequentialBackend with 1 concurrent workers.\n",
      "[Parallel(n_jobs=1)]: Done  55 out of  55 | elapsed:  4.4min finished\n",
      "Features: 36/90[Parallel(n_jobs=1)]: Using backend SequentialBackend with 1 concurrent workers.\n",
      "[Parallel(n_jobs=1)]: Done  54 out of  54 | elapsed:  4.9min finished\n",
      "Features: 37/90[Parallel(n_jobs=1)]: Using backend SequentialBackend with 1 concurrent workers.\n",
      "[Parallel(n_jobs=1)]: Done  53 out of  53 | elapsed:  4.9min finished\n",
      "Features: 38/90[Parallel(n_jobs=1)]: Using backend SequentialBackend with 1 concurrent workers.\n",
      "[Parallel(n_jobs=1)]: Done  52 out of  52 | elapsed: 90.1min finished\n",
      "Features: 39/90[Parallel(n_jobs=1)]: Using backend SequentialBackend with 1 concurrent workers.\n",
      "[Parallel(n_jobs=1)]: Done  51 out of  51 | elapsed:  3.6min finished\n",
      "Features: 40/90[Parallel(n_jobs=1)]: Using backend SequentialBackend with 1 concurrent workers.\n",
      "[Parallel(n_jobs=1)]: Done  50 out of  50 | elapsed:  3.6min finished\n",
      "Features: 41/90[Parallel(n_jobs=1)]: Using backend SequentialBackend with 1 concurrent workers.\n",
      "[Parallel(n_jobs=1)]: Done  49 out of  49 | elapsed:  3.5min finished\n",
      "Features: 42/90[Parallel(n_jobs=1)]: Using backend SequentialBackend with 1 concurrent workers.\n",
      "[Parallel(n_jobs=1)]: Done  48 out of  48 | elapsed:  3.5min finished\n",
      "Features: 43/90[Parallel(n_jobs=1)]: Using backend SequentialBackend with 1 concurrent workers.\n",
      "[Parallel(n_jobs=1)]: Done  47 out of  47 | elapsed:  3.6min finished\n",
      "Features: 44/90[Parallel(n_jobs=1)]: Using backend SequentialBackend with 1 concurrent workers.\n",
      "[Parallel(n_jobs=1)]: Done  46 out of  46 | elapsed:  7.8min finished\n",
      "Features: 45/90[Parallel(n_jobs=1)]: Using backend SequentialBackend with 1 concurrent workers.\n",
      "[Parallel(n_jobs=1)]: Done  45 out of  45 | elapsed:  3.6min finished\n",
      "Features: 46/90[Parallel(n_jobs=1)]: Using backend SequentialBackend with 1 concurrent workers.\n",
      "[Parallel(n_jobs=1)]: Done  44 out of  44 | elapsed:  3.7min finished\n",
      "Features: 47/90[Parallel(n_jobs=1)]: Using backend SequentialBackend with 1 concurrent workers.\n",
      "[Parallel(n_jobs=1)]: Done  43 out of  43 | elapsed:  3.7min finished\n",
      "Features: 48/90[Parallel(n_jobs=1)]: Using backend SequentialBackend with 1 concurrent workers.\n",
      "[Parallel(n_jobs=1)]: Done  42 out of  42 | elapsed:  3.7min finished\n",
      "Features: 49/90[Parallel(n_jobs=1)]: Using backend SequentialBackend with 1 concurrent workers.\n"
     ]
    },
    {
     "name": "stderr",
     "output_type": "stream",
     "text": [
      "[Parallel(n_jobs=1)]: Done  41 out of  41 | elapsed:  3.7min finished\n",
      "Features: 50/90[Parallel(n_jobs=1)]: Using backend SequentialBackend with 1 concurrent workers.\n",
      "[Parallel(n_jobs=1)]: Done  40 out of  40 | elapsed:  3.6min finished\n",
      "Features: 51/90[Parallel(n_jobs=1)]: Using backend SequentialBackend with 1 concurrent workers.\n",
      "[Parallel(n_jobs=1)]: Done  39 out of  39 | elapsed:  3.8min finished\n",
      "Features: 52/90[Parallel(n_jobs=1)]: Using backend SequentialBackend with 1 concurrent workers.\n",
      "[Parallel(n_jobs=1)]: Done  38 out of  38 | elapsed:  3.5min finished\n",
      "Features: 53/90[Parallel(n_jobs=1)]: Using backend SequentialBackend with 1 concurrent workers.\n",
      "[Parallel(n_jobs=1)]: Done  37 out of  37 | elapsed:  3.5min finished\n",
      "Features: 54/90[Parallel(n_jobs=1)]: Using backend SequentialBackend with 1 concurrent workers.\n",
      "[Parallel(n_jobs=1)]: Done  36 out of  36 | elapsed:  3.4min finished\n",
      "Features: 55/90[Parallel(n_jobs=1)]: Using backend SequentialBackend with 1 concurrent workers.\n",
      "[Parallel(n_jobs=1)]: Done  35 out of  35 | elapsed:  3.4min finished\n",
      "Features: 56/90[Parallel(n_jobs=1)]: Using backend SequentialBackend with 1 concurrent workers.\n",
      "[Parallel(n_jobs=1)]: Done  34 out of  34 | elapsed: 296.6min finished\n",
      "Features: 57/90[Parallel(n_jobs=1)]: Using backend SequentialBackend with 1 concurrent workers.\n",
      "[Parallel(n_jobs=1)]: Done  33 out of  33 | elapsed: 168.3min finished\n",
      "Features: 58/90[Parallel(n_jobs=1)]: Using backend SequentialBackend with 1 concurrent workers.\n",
      "[Parallel(n_jobs=1)]: Done  32 out of  32 | elapsed:  2.8min finished\n",
      "Features: 59/90[Parallel(n_jobs=1)]: Using backend SequentialBackend with 1 concurrent workers.\n",
      "[Parallel(n_jobs=1)]: Done  31 out of  31 | elapsed:  2.9min finished\n",
      "Features: 60/90[Parallel(n_jobs=1)]: Using backend SequentialBackend with 1 concurrent workers.\n",
      "[Parallel(n_jobs=1)]: Done  30 out of  30 | elapsed:  2.9min finished\n",
      "Features: 61/90[Parallel(n_jobs=1)]: Using backend SequentialBackend with 1 concurrent workers.\n",
      "[Parallel(n_jobs=1)]: Done  29 out of  29 | elapsed:  2.9min finished\n",
      "Features: 62/90[Parallel(n_jobs=1)]: Using backend SequentialBackend with 1 concurrent workers.\n",
      "[Parallel(n_jobs=1)]: Done  28 out of  28 | elapsed:  2.9min finished\n",
      "Features: 63/90[Parallel(n_jobs=1)]: Using backend SequentialBackend with 1 concurrent workers.\n",
      "[Parallel(n_jobs=1)]: Done  27 out of  27 | elapsed: 20.3min finished\n",
      "Features: 64/90[Parallel(n_jobs=1)]: Using backend SequentialBackend with 1 concurrent workers.\n",
      "[Parallel(n_jobs=1)]: Done  26 out of  26 | elapsed:  2.6min finished\n",
      "Features: 65/90[Parallel(n_jobs=1)]: Using backend SequentialBackend with 1 concurrent workers.\n",
      "[Parallel(n_jobs=1)]: Done  25 out of  25 | elapsed:  2.6min finished\n",
      "Features: 66/90[Parallel(n_jobs=1)]: Using backend SequentialBackend with 1 concurrent workers.\n",
      "[Parallel(n_jobs=1)]: Done  24 out of  24 | elapsed:  2.6min finished\n",
      "Features: 67/90[Parallel(n_jobs=1)]: Using backend SequentialBackend with 1 concurrent workers.\n",
      "[Parallel(n_jobs=1)]: Done  23 out of  23 | elapsed:  2.6min finished\n",
      "Features: 68/90[Parallel(n_jobs=1)]: Using backend SequentialBackend with 1 concurrent workers.\n",
      "[Parallel(n_jobs=1)]: Done  22 out of  22 | elapsed:  2.5min finished\n",
      "Features: 69/90[Parallel(n_jobs=1)]: Using backend SequentialBackend with 1 concurrent workers.\n",
      "[Parallel(n_jobs=1)]: Done  21 out of  21 | elapsed:  2.4min finished\n",
      "Features: 70/90[Parallel(n_jobs=1)]: Using backend SequentialBackend with 1 concurrent workers.\n",
      "[Parallel(n_jobs=1)]: Done  20 out of  20 | elapsed:  2.3min finished\n",
      "Features: 71/90[Parallel(n_jobs=1)]: Using backend SequentialBackend with 1 concurrent workers.\n",
      "[Parallel(n_jobs=1)]: Done  19 out of  19 | elapsed: 42.5min finished\n",
      "Features: 72/90[Parallel(n_jobs=1)]: Using backend SequentialBackend with 1 concurrent workers.\n",
      "[Parallel(n_jobs=1)]: Done  18 out of  18 | elapsed:  2.9min finished\n",
      "Features: 73/90[Parallel(n_jobs=1)]: Using backend SequentialBackend with 1 concurrent workers.\n",
      "[Parallel(n_jobs=1)]: Done  17 out of  17 | elapsed:  1.9min finished\n",
      "Features: 74/90[Parallel(n_jobs=1)]: Using backend SequentialBackend with 1 concurrent workers.\n",
      "[Parallel(n_jobs=1)]: Done  16 out of  16 | elapsed:  1.8min finished\n",
      "Features: 75/90[Parallel(n_jobs=1)]: Using backend SequentialBackend with 1 concurrent workers.\n",
      "[Parallel(n_jobs=1)]: Done  15 out of  15 | elapsed:  1.7min finished\n",
      "Features: 76/90[Parallel(n_jobs=1)]: Using backend SequentialBackend with 1 concurrent workers.\n",
      "[Parallel(n_jobs=1)]: Done  14 out of  14 | elapsed:  1.7min finished\n",
      "Features: 77/90[Parallel(n_jobs=1)]: Using backend SequentialBackend with 1 concurrent workers.\n",
      "[Parallel(n_jobs=1)]: Done  13 out of  13 | elapsed:  1.6min finished\n",
      "Features: 78/90[Parallel(n_jobs=1)]: Using backend SequentialBackend with 1 concurrent workers.\n",
      "[Parallel(n_jobs=1)]: Done  12 out of  12 | elapsed:  1.5min finished\n",
      "Features: 79/90[Parallel(n_jobs=1)]: Using backend SequentialBackend with 1 concurrent workers.\n",
      "[Parallel(n_jobs=1)]: Done  11 out of  11 | elapsed:  1.4min finished\n",
      "Features: 80/90[Parallel(n_jobs=1)]: Using backend SequentialBackend with 1 concurrent workers.\n",
      "[Parallel(n_jobs=1)]: Done  10 out of  10 | elapsed:  1.3min finished\n",
      "Features: 81/90[Parallel(n_jobs=1)]: Using backend SequentialBackend with 1 concurrent workers.\n",
      "[Parallel(n_jobs=1)]: Done   9 out of   9 | elapsed:  1.2min finished\n",
      "Features: 82/90[Parallel(n_jobs=1)]: Using backend SequentialBackend with 1 concurrent workers.\n",
      "[Parallel(n_jobs=1)]: Done   8 out of   8 | elapsed:  1.1min finished\n",
      "Features: 83/90[Parallel(n_jobs=1)]: Using backend SequentialBackend with 1 concurrent workers.\n",
      "[Parallel(n_jobs=1)]: Done   7 out of   7 | elapsed:   56.1s finished\n",
      "Features: 84/90[Parallel(n_jobs=1)]: Using backend SequentialBackend with 1 concurrent workers.\n",
      "[Parallel(n_jobs=1)]: Done   6 out of   6 | elapsed:   49.3s finished\n",
      "Features: 85/90[Parallel(n_jobs=1)]: Using backend SequentialBackend with 1 concurrent workers.\n",
      "[Parallel(n_jobs=1)]: Done   5 out of   5 | elapsed:   41.5s finished\n",
      "Features: 86/90[Parallel(n_jobs=1)]: Using backend SequentialBackend with 1 concurrent workers.\n",
      "[Parallel(n_jobs=1)]: Done   4 out of   4 | elapsed:   34.4s finished\n",
      "Features: 87/90[Parallel(n_jobs=1)]: Using backend SequentialBackend with 1 concurrent workers.\n",
      "[Parallel(n_jobs=1)]: Done   3 out of   3 | elapsed:   25.8s finished\n",
      "Features: 88/90[Parallel(n_jobs=1)]: Using backend SequentialBackend with 1 concurrent workers.\n",
      "[Parallel(n_jobs=1)]: Done   2 out of   2 | elapsed:   16.9s finished\n",
      "Features: 89/90[Parallel(n_jobs=1)]: Using backend SequentialBackend with 1 concurrent workers.\n",
      "[Parallel(n_jobs=1)]: Done   1 out of   1 | elapsed:    8.6s finished\n",
      "Features: 90/90"
     ]
    },
    {
     "data": {
      "text/plain": [
       "SequentialFeatureSelector(estimator=XGBClassifier(base_score=None, booster=None,\n",
       "                                                  callbacks=None,\n",
       "                                                  colsample_bylevel=None,\n",
       "                                                  colsample_bynode=None,\n",
       "                                                  colsample_bytree=None,\n",
       "                                                  early_stopping_rounds=None,\n",
       "                                                  enable_categorical=False,\n",
       "                                                  eval_metric=None,\n",
       "                                                  feature_types=None,\n",
       "                                                  gamma=None, gpu_id=None,\n",
       "                                                  grow_policy=None,\n",
       "                                                  importance_type=None,\n",
       "                                                  interaction_constraints=None,\n",
       "                                                  learning_rate=None,\n",
       "                                                  max_bin=None,\n",
       "                                                  max_cat_threshold=None,\n",
       "                                                  max_cat_to_onehot=None,\n",
       "                                                  max_delta_step=None,\n",
       "                                                  max_depth=None,\n",
       "                                                  max_leaves=None,\n",
       "                                                  min_child_weight=None,\n",
       "                                                  missing=nan,\n",
       "                                                  monotone_constraints=None,\n",
       "                                                  n_estimators=100, n_jobs=None,\n",
       "                                                  num_parallel_tree=None,\n",
       "                                                  predictor=None,\n",
       "                                                  random_state=None, ...),\n",
       "                          k_features=(90, 90), scoring='roc_auc', verbose=1)"
      ]
     },
     "execution_count": 25,
     "metadata": {},
     "output_type": "execute_result"
    }
   ],
   "source": [
    "sfs.fit(X_train_h1, y_train_h1)"
   ]
  },
  {
   "cell_type": "code",
   "execution_count": 26,
   "id": "b7c712c8",
   "metadata": {},
   "outputs": [],
   "source": [
    "h1n1_sfs_df = pd.DataFrame.from_dict(sfs.get_metric_dict()).T"
   ]
  },
  {
   "cell_type": "code",
   "execution_count": 27,
   "id": "58159379",
   "metadata": {},
   "outputs": [
    {
     "data": {
      "text/html": [
       "<div>\n",
       "<style scoped>\n",
       "    .dataframe tbody tr th:only-of-type {\n",
       "        vertical-align: middle;\n",
       "    }\n",
       "\n",
       "    .dataframe tbody tr th {\n",
       "        vertical-align: top;\n",
       "    }\n",
       "\n",
       "    .dataframe thead th {\n",
       "        text-align: right;\n",
       "    }\n",
       "</style>\n",
       "<table border=\"1\" class=\"dataframe\">\n",
       "  <thead>\n",
       "    <tr style=\"text-align: right;\">\n",
       "      <th></th>\n",
       "      <th>feature_idx</th>\n",
       "      <th>cv_scores</th>\n",
       "      <th>avg_score</th>\n",
       "      <th>feature_names</th>\n",
       "      <th>ci_bound</th>\n",
       "      <th>std_dev</th>\n",
       "      <th>std_err</th>\n",
       "    </tr>\n",
       "  </thead>\n",
       "  <tbody>\n",
       "    <tr>\n",
       "      <th>1</th>\n",
       "      <td>(16,)</td>\n",
       "      <td>[0.7050372019814923, 0.708107924020672, 0.7061...</td>\n",
       "      <td>0.707174</td>\n",
       "      <td>(opinion_h1n1_risk,)</td>\n",
       "      <td>0.005078</td>\n",
       "      <td>0.003951</td>\n",
       "      <td>0.001975</td>\n",
       "    </tr>\n",
       "    <tr>\n",
       "      <th>2</th>\n",
       "      <td>(9, 16)</td>\n",
       "      <td>[0.7925673159437187, 0.7833433373349339, 0.783...</td>\n",
       "      <td>0.78679</td>\n",
       "      <td>(doctor_recc_h1n1, opinion_h1n1_risk)</td>\n",
       "      <td>0.008038</td>\n",
       "      <td>0.006254</td>\n",
       "      <td>0.003127</td>\n",
       "    </tr>\n",
       "    <tr>\n",
       "      <th>3</th>\n",
       "      <td>(9, 14, 16)</td>\n",
       "      <td>[0.8311918013326414, 0.8251198351681098, 0.814...</td>\n",
       "      <td>0.825234</td>\n",
       "      <td>(doctor_recc_h1n1, health_insurance, opinion_h...</td>\n",
       "      <td>0.008998</td>\n",
       "      <td>0.007001</td>\n",
       "      <td>0.0035</td>\n",
       "    </tr>\n",
       "    <tr>\n",
       "      <th>4</th>\n",
       "      <td>(9, 14, 15, 16)</td>\n",
       "      <td>[0.8421455287317239, 0.8435012302793459, 0.834...</td>\n",
       "      <td>0.841401</td>\n",
       "      <td>(doctor_recc_h1n1, health_insurance, opinion_h...</td>\n",
       "      <td>0.008801</td>\n",
       "      <td>0.006848</td>\n",
       "      <td>0.003424</td>\n",
       "    </tr>\n",
       "    <tr>\n",
       "      <th>5</th>\n",
       "      <td>(9, 13, 14, 15, 16)</td>\n",
       "      <td>[0.8457214951694094, 0.8473806543894153, 0.838...</td>\n",
       "      <td>0.84613</td>\n",
       "      <td>(doctor_recc_h1n1, health_worker, health_insur...</td>\n",
       "      <td>0.01033</td>\n",
       "      <td>0.008037</td>\n",
       "      <td>0.004019</td>\n",
       "    </tr>\n",
       "    <tr>\n",
       "      <th>...</th>\n",
       "      <td>...</td>\n",
       "      <td>...</td>\n",
       "      <td>...</td>\n",
       "      <td>...</td>\n",
       "      <td>...</td>\n",
       "      <td>...</td>\n",
       "      <td>...</td>\n",
       "    </tr>\n",
       "    <tr>\n",
       "      <th>86</th>\n",
       "      <td>(0, 1, 2, 3, 4, 5, 6, 7, 9, 10, 11, 12, 13, 14...</td>\n",
       "      <td>[0.85173406143717, 0.8520884949724571, 0.84922...</td>\n",
       "      <td>0.852278</td>\n",
       "      <td>(h1n1_concern, h1n1_knowledge, behavioral_anti...</td>\n",
       "      <td>0.005621</td>\n",
       "      <td>0.004373</td>\n",
       "      <td>0.002187</td>\n",
       "    </tr>\n",
       "    <tr>\n",
       "      <th>87</th>\n",
       "      <td>(0, 1, 2, 3, 4, 5, 6, 7, 9, 10, 11, 12, 13, 14...</td>\n",
       "      <td>[0.8496036077954151, 0.8506598384034465, 0.849...</td>\n",
       "      <td>0.85263</td>\n",
       "      <td>(h1n1_concern, h1n1_knowledge, behavioral_anti...</td>\n",
       "      <td>0.007504</td>\n",
       "      <td>0.005838</td>\n",
       "      <td>0.002919</td>\n",
       "    </tr>\n",
       "    <tr>\n",
       "      <th>88</th>\n",
       "      <td>(0, 1, 2, 3, 4, 5, 6, 7, 9, 10, 11, 12, 13, 14...</td>\n",
       "      <td>[0.8516045298557512, 0.8494551011894118, 0.842...</td>\n",
       "      <td>0.85179</td>\n",
       "      <td>(h1n1_concern, h1n1_knowledge, behavioral_anti...</td>\n",
       "      <td>0.009294</td>\n",
       "      <td>0.007231</td>\n",
       "      <td>0.003616</td>\n",
       "    </tr>\n",
       "    <tr>\n",
       "      <th>89</th>\n",
       "      <td>(0, 1, 2, 3, 4, 5, 6, 7, 9, 10, 11, 12, 13, 14...</td>\n",
       "      <td>[0.8467760697220781, 0.8504899832273336, 0.845...</td>\n",
       "      <td>0.850836</td>\n",
       "      <td>(h1n1_concern, h1n1_knowledge, behavioral_anti...</td>\n",
       "      <td>0.009566</td>\n",
       "      <td>0.007443</td>\n",
       "      <td>0.003722</td>\n",
       "    </tr>\n",
       "    <tr>\n",
       "      <th>90</th>\n",
       "      <td>(0, 1, 2, 3, 4, 5, 6, 7, 8, 9, 10, 11, 12, 13,...</td>\n",
       "      <td>[0.8486155033963692, 0.846687185512503, 0.8502...</td>\n",
       "      <td>0.851762</td>\n",
       "      <td>(h1n1_concern, h1n1_knowledge, behavioral_anti...</td>\n",
       "      <td>0.008874</td>\n",
       "      <td>0.006904</td>\n",
       "      <td>0.003452</td>\n",
       "    </tr>\n",
       "  </tbody>\n",
       "</table>\n",
       "<p>90 rows × 7 columns</p>\n",
       "</div>"
      ],
      "text/plain": [
       "                                          feature_idx  \\\n",
       "1                                               (16,)   \n",
       "2                                             (9, 16)   \n",
       "3                                         (9, 14, 16)   \n",
       "4                                     (9, 14, 15, 16)   \n",
       "5                                 (9, 13, 14, 15, 16)   \n",
       "..                                                ...   \n",
       "86  (0, 1, 2, 3, 4, 5, 6, 7, 9, 10, 11, 12, 13, 14...   \n",
       "87  (0, 1, 2, 3, 4, 5, 6, 7, 9, 10, 11, 12, 13, 14...   \n",
       "88  (0, 1, 2, 3, 4, 5, 6, 7, 9, 10, 11, 12, 13, 14...   \n",
       "89  (0, 1, 2, 3, 4, 5, 6, 7, 9, 10, 11, 12, 13, 14...   \n",
       "90  (0, 1, 2, 3, 4, 5, 6, 7, 8, 9, 10, 11, 12, 13,...   \n",
       "\n",
       "                                            cv_scores avg_score  \\\n",
       "1   [0.7050372019814923, 0.708107924020672, 0.7061...  0.707174   \n",
       "2   [0.7925673159437187, 0.7833433373349339, 0.783...   0.78679   \n",
       "3   [0.8311918013326414, 0.8251198351681098, 0.814...  0.825234   \n",
       "4   [0.8421455287317239, 0.8435012302793459, 0.834...  0.841401   \n",
       "5   [0.8457214951694094, 0.8473806543894153, 0.838...   0.84613   \n",
       "..                                                ...       ...   \n",
       "86  [0.85173406143717, 0.8520884949724571, 0.84922...  0.852278   \n",
       "87  [0.8496036077954151, 0.8506598384034465, 0.849...   0.85263   \n",
       "88  [0.8516045298557512, 0.8494551011894118, 0.842...   0.85179   \n",
       "89  [0.8467760697220781, 0.8504899832273336, 0.845...  0.850836   \n",
       "90  [0.8486155033963692, 0.846687185512503, 0.8502...  0.851762   \n",
       "\n",
       "                                        feature_names  ci_bound   std_dev  \\\n",
       "1                                (opinion_h1n1_risk,)  0.005078  0.003951   \n",
       "2               (doctor_recc_h1n1, opinion_h1n1_risk)  0.008038  0.006254   \n",
       "3   (doctor_recc_h1n1, health_insurance, opinion_h...  0.008998  0.007001   \n",
       "4   (doctor_recc_h1n1, health_insurance, opinion_h...  0.008801  0.006848   \n",
       "5   (doctor_recc_h1n1, health_worker, health_insur...   0.01033  0.008037   \n",
       "..                                                ...       ...       ...   \n",
       "86  (h1n1_concern, h1n1_knowledge, behavioral_anti...  0.005621  0.004373   \n",
       "87  (h1n1_concern, h1n1_knowledge, behavioral_anti...  0.007504  0.005838   \n",
       "88  (h1n1_concern, h1n1_knowledge, behavioral_anti...  0.009294  0.007231   \n",
       "89  (h1n1_concern, h1n1_knowledge, behavioral_anti...  0.009566  0.007443   \n",
       "90  (h1n1_concern, h1n1_knowledge, behavioral_anti...  0.008874  0.006904   \n",
       "\n",
       "     std_err  \n",
       "1   0.001975  \n",
       "2   0.003127  \n",
       "3     0.0035  \n",
       "4   0.003424  \n",
       "5   0.004019  \n",
       "..       ...  \n",
       "86  0.002187  \n",
       "87  0.002919  \n",
       "88  0.003616  \n",
       "89  0.003722  \n",
       "90  0.003452  \n",
       "\n",
       "[90 rows x 7 columns]"
      ]
     },
     "execution_count": 27,
     "metadata": {},
     "output_type": "execute_result"
    }
   ],
   "source": [
    "h1n1_sfs_df"
   ]
  },
  {
   "cell_type": "code",
   "execution_count": 50,
   "id": "896575ea",
   "metadata": {},
   "outputs": [
    {
     "data": {
      "image/png": "[encoded data removed]",
      "text/plain": [
       "<Figure size 2800x1200 with 1 Axes>"
      ]
     },
     "metadata": {},
     "output_type": "display_data"
    }
   ],
   "source": [
    "fig = plot_sfs(sfs.get_metric_dict(), kind='std_err', figsize=(28,12))\n",
    "\n",
    "plt.title('Sequential Forward Selection for H1N1')\n",
    "plt.grid()\n",
    "plt.show()"
   ]
  },
  {
   "cell_type": "code",
   "execution_count": 51,
   "id": "302fe429",
   "metadata": {},
   "outputs": [
    {
     "name": "stdout",
     "output_type": "stream",
     "text": [
      "(0, 1, 2, 3, 4, 5, 7, 9, 10, 12, 13, 14, 15, 16, 17, 18, 19, 20, 21, 22, 23, 25, 27, 28, 29, 30, 31, 32, 36, 37, 40, 42, 43, 44, 45, 46, 47, 48, 49, 50, 51, 52, 53, 54, 55, 56, 57, 58, 59, 60, 61, 62, 63, 64, 65, 66, 67, 68, 69, 70, 72, 73, 74, 75, 77, 78, 79, 80, 81, 82, 83, 84, 85, 86, 87, 88, 89)\n"
     ]
    }
   ],
   "source": [
    "print(h1n1_sfs_df.loc[77, 'feature_idx'])"
   ]
  },
  {
   "cell_type": "code",
   "execution_count": 52,
   "id": "f999f12d",
   "metadata": {},
   "outputs": [],
   "source": [
    "h1_column_names = X_train_h1.columns"
   ]
  },
  {
   "cell_type": "code",
   "execution_count": 53,
   "id": "5941ff27",
   "metadata": {},
   "outputs": [],
   "source": [
    "final_h1_columns = [h1_column_names[i] for i in \n",
    "                     list((0, 1, 2, 3, 4, 5, 7, 9, 10, 12, 13, 14, 15, 16, 17, 18, 19, 20, 21, 22, 23, 25, 27, 28,\n",
    "                           29, 30, 31, 32, 36, 37, 40, 42, 43, 44, 45, 46, 47, 48, 49, 50, 51, 52, 53, 54, 55, 56, \n",
    "                           57, 58, 59, 60, 61, 62, 63, 64, 65, 66, 67, 68, 69, 70, 72, 73, 74, 75, 77, 78, 79, 80,\n",
    "                           81, 82, 83, 84, 85, 86, 87, 88, 89))]"
   ]
  },
  {
   "cell_type": "code",
   "execution_count": null,
   "id": "13b13584",
   "metadata": {},
   "outputs": [],
   "source": []
  },
  {
   "cell_type": "code",
   "execution_count": 54,
   "id": "38e95da7",
   "metadata": {},
   "outputs": [
    {
     "data": {
      "text/plain": [
       "77"
      ]
     },
     "execution_count": 54,
     "metadata": {},
     "output_type": "execute_result"
    }
   ],
   "source": [
    "len(final_h1_columns)"
   ]
  },
  {
   "cell_type": "code",
   "execution_count": 55,
   "id": "aafd8d93",
   "metadata": {},
   "outputs": [
    {
     "name": "stdout",
     "output_type": "stream",
     "text": [
      "['h1n1_concern', 'h1n1_knowledge', 'behavioral_antiviral_meds', 'behavioral_avoidance', 'behavioral_face_mask', 'behavioral_wash_hands', 'behavioral_outside_home', 'doctor_recc_h1n1', 'doctor_recc_seasonal', 'child_under_6_months', 'health_worker', 'health_insurance', 'opinion_h1n1_vacc_effective', 'opinion_h1n1_risk', 'opinion_h1n1_sick_from_vacc', 'opinion_seas_vacc_effective', 'opinion_seas_risk', 'opinion_seas_sick_from_vacc', 'age_group', 'education', 'income_poverty', 'household_adults', 'race_Hispanic', 'race_Other or Multiple', 'race_White', 'sex_Male', 'marital_status_Not Married', 'marital_status_refused_or_other_category', 'hhs_geo_region_dqpwygqj', 'hhs_geo_region_fpwskwrf', 'hhs_geo_region_lzgpxyit', 'hhs_geo_region_oxchjgsf', 'hhs_geo_region_qufhixun', 'census_msa_MSA, Principle City', 'census_msa_Non-MSA', 'employment_industry_atmlpfrs', 'employment_industry_cfqqtusy', 'employment_industry_dotnnunm', 'employment_industry_fcxhlnwr', 'employment_industry_haxffmxo', 'employment_industry_ldnlellj', 'employment_industry_mcubkhph', 'employment_industry_mfikgejo', 'employment_industry_msuufmds', 'employment_industry_nduyfdeo', 'employment_industry_phxvnwax', 'employment_industry_pxcmvdjn', 'employment_industry_qnlwzans', 'employment_industry_rucpziij', 'employment_industry_saaquncn', 'employment_industry_unemployed_in_industry', 'employment_industry_vjjrobsf', 'employment_industry_wlfvacwt', 'employment_industry_wxleyezf', 'employment_industry_xicduogh', 'employment_industry_xqicxuve', 'employment_occupation_ccgxvspp', 'employment_occupation_cmhcxjea', 'employment_occupation_dcjcmpih', 'employment_occupation_dlvbwzss', 'employment_occupation_haliazsg', 'employment_occupation_hfxkjkmi', 'employment_occupation_hodpvpew', 'employment_occupation_kldqjyjy', 'employment_occupation_oijqvulv', 'employment_occupation_pvmttkik', 'employment_occupation_qxajmpny', 'employment_occupation_rcertsgn', 'employment_occupation_tfqavkke', 'employment_occupation_ukymxvdu', 'employment_occupation_unemployed_occupation', 'employment_occupation_uqqtjvyb', 'employment_occupation_vlluhbov', 'employment_occupation_xgwztkwe', 'employment_occupation_xqwwgdyp', 'employment_occupation_xtkaffoo', 'employment_occupation_xzmlyyjv']\n"
     ]
    }
   ],
   "source": [
    "print(final_h1_columns)"
   ]
  },
  {
   "cell_type": "code",
   "execution_count": null,
   "id": "aee236e7",
   "metadata": {},
   "outputs": [],
   "source": []
  },
  {
   "cell_type": "code",
   "execution_count": null,
   "id": "631d15ad",
   "metadata": {},
   "outputs": [],
   "source": []
  },
  {
   "cell_type": "code",
   "execution_count": null,
   "id": "21106f99",
   "metadata": {},
   "outputs": [],
   "source": []
  },
  {
   "cell_type": "code",
   "execution_count": 56,
   "id": "d18f0160",
   "metadata": {},
   "outputs": [],
   "source": [
    "X_train_seas, X_test_seas, y_train_seas, y_test_seas = train_test_split(data, label2, \\\n",
    "                                                                        test_size=0.3, random_state=68)"
   ]
  },
  {
   "cell_type": "code",
   "execution_count": 57,
   "id": "5293e1fd",
   "metadata": {},
   "outputs": [],
   "source": [
    "sfs_2 = SequentialFeatureSelector(xgb, k_features=X_train_seas.shape[1], forward=True, floating=False,\n",
    "                                verbose=1, scoring='roc_auc', cv=5)"
   ]
  },
  {
   "cell_type": "code",
   "execution_count": 58,
   "id": "d8e320f6",
   "metadata": {},
   "outputs": [
    {
     "name": "stderr",
     "output_type": "stream",
     "text": [
      "[Parallel(n_jobs=1)]: Using backend SequentialBackend with 1 concurrent workers.\n",
      "[Parallel(n_jobs=1)]: Done  90 out of  90 | elapsed:   28.9s finished\n",
      "Features: 1/90[Parallel(n_jobs=1)]: Using backend SequentialBackend with 1 concurrent workers.\n",
      "[Parallel(n_jobs=1)]: Done  89 out of  89 | elapsed:  1.1min finished\n",
      "Features: 2/90[Parallel(n_jobs=1)]: Using backend SequentialBackend with 1 concurrent workers.\n",
      "[Parallel(n_jobs=1)]: Done  88 out of  88 | elapsed:  1.8min finished\n",
      "Features: 3/90[Parallel(n_jobs=1)]: Using backend SequentialBackend with 1 concurrent workers.\n",
      "[Parallel(n_jobs=1)]: Done  87 out of  87 | elapsed:  2.3min finished\n",
      "Features: 4/90[Parallel(n_jobs=1)]: Using backend SequentialBackend with 1 concurrent workers.\n",
      "[Parallel(n_jobs=1)]: Done  86 out of  86 | elapsed:  2.5min finished\n",
      "Features: 5/90[Parallel(n_jobs=1)]: Using backend SequentialBackend with 1 concurrent workers.\n",
      "[Parallel(n_jobs=1)]: Done  85 out of  85 | elapsed:  2.5min finished\n",
      "Features: 6/90[Parallel(n_jobs=1)]: Using backend SequentialBackend with 1 concurrent workers.\n",
      "[Parallel(n_jobs=1)]: Done  84 out of  84 | elapsed:  2.8min finished\n",
      "Features: 7/90[Parallel(n_jobs=1)]: Using backend SequentialBackend with 1 concurrent workers.\n",
      "[Parallel(n_jobs=1)]: Done  83 out of  83 | elapsed:  3.1min finished\n",
      "Features: 8/90[Parallel(n_jobs=1)]: Using backend SequentialBackend with 1 concurrent workers.\n",
      "[Parallel(n_jobs=1)]: Done  82 out of  82 | elapsed:  3.0min finished\n",
      "Features: 9/90[Parallel(n_jobs=1)]: Using backend SequentialBackend with 1 concurrent workers.\n",
      "[Parallel(n_jobs=1)]: Done  81 out of  81 | elapsed:  3.1min finished\n",
      "Features: 10/90[Parallel(n_jobs=1)]: Using backend SequentialBackend with 1 concurrent workers.\n",
      "[Parallel(n_jobs=1)]: Done  80 out of  80 | elapsed:  3.4min finished\n",
      "Features: 11/90[Parallel(n_jobs=1)]: Using backend SequentialBackend with 1 concurrent workers.\n",
      "[Parallel(n_jobs=1)]: Done  79 out of  79 | elapsed:  3.4min finished\n",
      "Features: 12/90[Parallel(n_jobs=1)]: Using backend SequentialBackend with 1 concurrent workers.\n",
      "[Parallel(n_jobs=1)]: Done  78 out of  78 | elapsed:  3.5min finished\n",
      "Features: 13/90[Parallel(n_jobs=1)]: Using backend SequentialBackend with 1 concurrent workers.\n",
      "[Parallel(n_jobs=1)]: Done  77 out of  77 | elapsed:  3.3min finished\n",
      "Features: 14/90[Parallel(n_jobs=1)]: Using backend SequentialBackend with 1 concurrent workers.\n",
      "[Parallel(n_jobs=1)]: Done  76 out of  76 | elapsed:  3.5min finished\n",
      "Features: 15/90[Parallel(n_jobs=1)]: Using backend SequentialBackend with 1 concurrent workers.\n",
      "[Parallel(n_jobs=1)]: Done  75 out of  75 | elapsed:  4.0min finished\n",
      "Features: 16/90[Parallel(n_jobs=1)]: Using backend SequentialBackend with 1 concurrent workers.\n",
      "[Parallel(n_jobs=1)]: Done  74 out of  74 | elapsed:  7.4min finished\n",
      "Features: 17/90[Parallel(n_jobs=1)]: Using backend SequentialBackend with 1 concurrent workers.\n",
      "[Parallel(n_jobs=1)]: Done  73 out of  73 | elapsed:  4.1min finished\n",
      "Features: 18/90[Parallel(n_jobs=1)]: Using backend SequentialBackend with 1 concurrent workers.\n",
      "[Parallel(n_jobs=1)]: Done  72 out of  72 | elapsed:  4.2min finished\n",
      "Features: 19/90[Parallel(n_jobs=1)]: Using backend SequentialBackend with 1 concurrent workers.\n",
      "[Parallel(n_jobs=1)]: Done  71 out of  71 | elapsed:  4.0min finished\n",
      "Features: 20/90[Parallel(n_jobs=1)]: Using backend SequentialBackend with 1 concurrent workers.\n",
      "[Parallel(n_jobs=1)]: Done  70 out of  70 | elapsed:  3.9min finished\n",
      "Features: 21/90[Parallel(n_jobs=1)]: Using backend SequentialBackend with 1 concurrent workers.\n",
      "[Parallel(n_jobs=1)]: Done  69 out of  69 | elapsed:  3.9min finished\n",
      "Features: 22/90[Parallel(n_jobs=1)]: Using backend SequentialBackend with 1 concurrent workers.\n",
      "[Parallel(n_jobs=1)]: Done  68 out of  68 | elapsed:  3.9min finished\n",
      "Features: 23/90[Parallel(n_jobs=1)]: Using backend SequentialBackend with 1 concurrent workers.\n",
      "[Parallel(n_jobs=1)]: Done  67 out of  67 | elapsed: 50.1min finished\n",
      "Features: 24/90[Parallel(n_jobs=1)]: Using backend SequentialBackend with 1 concurrent workers.\n",
      "[Parallel(n_jobs=1)]: Done  66 out of  66 | elapsed:  4.0min finished\n",
      "Features: 25/90[Parallel(n_jobs=1)]: Using backend SequentialBackend with 1 concurrent workers.\n",
      "[Parallel(n_jobs=1)]: Done  65 out of  65 | elapsed:  4.9min finished\n",
      "Features: 26/90[Parallel(n_jobs=1)]: Using backend SequentialBackend with 1 concurrent workers.\n",
      "[Parallel(n_jobs=1)]: Done  64 out of  64 | elapsed:  5.2min finished\n",
      "Features: 27/90[Parallel(n_jobs=1)]: Using backend SequentialBackend with 1 concurrent workers.\n",
      "[Parallel(n_jobs=1)]: Done  63 out of  63 | elapsed:  5.4min finished\n",
      "Features: 28/90[Parallel(n_jobs=1)]: Using backend SequentialBackend with 1 concurrent workers.\n",
      "[Parallel(n_jobs=1)]: Done  62 out of  62 | elapsed:  5.7min finished\n",
      "Features: 29/90[Parallel(n_jobs=1)]: Using backend SequentialBackend with 1 concurrent workers.\n",
      "[Parallel(n_jobs=1)]: Done  61 out of  61 | elapsed:  6.1min finished\n",
      "Features: 30/90[Parallel(n_jobs=1)]: Using backend SequentialBackend with 1 concurrent workers.\n",
      "[Parallel(n_jobs=1)]: Done  60 out of  60 | elapsed:  6.3min finished\n",
      "Features: 31/90[Parallel(n_jobs=1)]: Using backend SequentialBackend with 1 concurrent workers.\n",
      "[Parallel(n_jobs=1)]: Done  59 out of  59 | elapsed:  6.3min finished\n",
      "Features: 32/90[Parallel(n_jobs=1)]: Using backend SequentialBackend with 1 concurrent workers.\n",
      "[Parallel(n_jobs=1)]: Done  58 out of  58 | elapsed:  6.5min finished\n",
      "Features: 33/90[Parallel(n_jobs=1)]: Using backend SequentialBackend with 1 concurrent workers.\n",
      "[Parallel(n_jobs=1)]: Done  57 out of  57 | elapsed:  8.4min finished\n",
      "Features: 34/90[Parallel(n_jobs=1)]: Using backend SequentialBackend with 1 concurrent workers.\n",
      "[Parallel(n_jobs=1)]: Done  56 out of  56 | elapsed:  6.2min finished\n",
      "Features: 35/90[Parallel(n_jobs=1)]: Using backend SequentialBackend with 1 concurrent workers.\n",
      "[Parallel(n_jobs=1)]: Done  55 out of  55 | elapsed:  6.7min finished\n",
      "Features: 36/90[Parallel(n_jobs=1)]: Using backend SequentialBackend with 1 concurrent workers.\n",
      "[Parallel(n_jobs=1)]: Done  54 out of  54 | elapsed:  5.8min finished\n",
      "Features: 37/90[Parallel(n_jobs=1)]: Using backend SequentialBackend with 1 concurrent workers.\n",
      "[Parallel(n_jobs=1)]: Done  53 out of  53 | elapsed:  5.7min finished\n",
      "Features: 38/90[Parallel(n_jobs=1)]: Using backend SequentialBackend with 1 concurrent workers.\n",
      "[Parallel(n_jobs=1)]: Done  52 out of  52 | elapsed:  5.5min finished\n",
      "Features: 39/90[Parallel(n_jobs=1)]: Using backend SequentialBackend with 1 concurrent workers.\n",
      "[Parallel(n_jobs=1)]: Done  51 out of  51 | elapsed:  6.1min finished\n",
      "Features: 40/90[Parallel(n_jobs=1)]: Using backend SequentialBackend with 1 concurrent workers.\n",
      "[Parallel(n_jobs=1)]: Done  50 out of  50 | elapsed:  5.9min finished\n",
      "Features: 41/90[Parallel(n_jobs=1)]: Using backend SequentialBackend with 1 concurrent workers.\n",
      "[Parallel(n_jobs=1)]: Done  49 out of  49 | elapsed:  5.6min finished\n",
      "Features: 42/90[Parallel(n_jobs=1)]: Using backend SequentialBackend with 1 concurrent workers.\n",
      "[Parallel(n_jobs=1)]: Done  48 out of  48 | elapsed:  5.2min finished\n",
      "Features: 43/90[Parallel(n_jobs=1)]: Using backend SequentialBackend with 1 concurrent workers.\n",
      "[Parallel(n_jobs=1)]: Done  47 out of  47 | elapsed:  5.4min finished\n",
      "Features: 44/90[Parallel(n_jobs=1)]: Using backend SequentialBackend with 1 concurrent workers.\n",
      "[Parallel(n_jobs=1)]: Done  46 out of  46 | elapsed:  6.0min finished\n",
      "Features: 45/90[Parallel(n_jobs=1)]: Using backend SequentialBackend with 1 concurrent workers.\n",
      "[Parallel(n_jobs=1)]: Done  45 out of  45 | elapsed:  5.0min finished\n",
      "Features: 46/90[Parallel(n_jobs=1)]: Using backend SequentialBackend with 1 concurrent workers.\n",
      "[Parallel(n_jobs=1)]: Done  44 out of  44 | elapsed:  4.6min finished\n",
      "Features: 47/90[Parallel(n_jobs=1)]: Using backend SequentialBackend with 1 concurrent workers.\n",
      "[Parallel(n_jobs=1)]: Done  43 out of  43 | elapsed:  4.4min finished\n",
      "Features: 48/90[Parallel(n_jobs=1)]: Using backend SequentialBackend with 1 concurrent workers.\n",
      "[Parallel(n_jobs=1)]: Done  42 out of  42 | elapsed:  4.3min finished\n",
      "Features: 49/90[Parallel(n_jobs=1)]: Using backend SequentialBackend with 1 concurrent workers.\n"
     ]
    },
    {
     "name": "stderr",
     "output_type": "stream",
     "text": [
      "[Parallel(n_jobs=1)]: Done  41 out of  41 | elapsed:  5.2min finished\n",
      "Features: 50/90[Parallel(n_jobs=1)]: Using backend SequentialBackend with 1 concurrent workers.\n",
      "[Parallel(n_jobs=1)]: Done  40 out of  40 | elapsed:  5.2min finished\n",
      "Features: 51/90[Parallel(n_jobs=1)]: Using backend SequentialBackend with 1 concurrent workers.\n",
      "[Parallel(n_jobs=1)]: Done  39 out of  39 | elapsed:  4.6min finished\n",
      "Features: 52/90[Parallel(n_jobs=1)]: Using backend SequentialBackend with 1 concurrent workers.\n",
      "[Parallel(n_jobs=1)]: Done  38 out of  38 | elapsed:  4.6min finished\n",
      "Features: 53/90[Parallel(n_jobs=1)]: Using backend SequentialBackend with 1 concurrent workers.\n",
      "[Parallel(n_jobs=1)]: Done  37 out of  37 | elapsed:  4.5min finished\n",
      "Features: 54/90[Parallel(n_jobs=1)]: Using backend SequentialBackend with 1 concurrent workers.\n",
      "[Parallel(n_jobs=1)]: Done  36 out of  36 | elapsed:  4.6min finished\n",
      "Features: 55/90[Parallel(n_jobs=1)]: Using backend SequentialBackend with 1 concurrent workers.\n",
      "[Parallel(n_jobs=1)]: Done  35 out of  35 | elapsed:  4.5min finished\n",
      "Features: 56/90[Parallel(n_jobs=1)]: Using backend SequentialBackend with 1 concurrent workers.\n",
      "[Parallel(n_jobs=1)]: Done  34 out of  34 | elapsed:  4.2min finished\n",
      "Features: 57/90[Parallel(n_jobs=1)]: Using backend SequentialBackend with 1 concurrent workers.\n",
      "[Parallel(n_jobs=1)]: Done  33 out of  33 | elapsed:  4.5min finished\n",
      "Features: 58/90[Parallel(n_jobs=1)]: Using backend SequentialBackend with 1 concurrent workers.\n",
      "[Parallel(n_jobs=1)]: Done  32 out of  32 | elapsed:  4.6min finished\n",
      "Features: 59/90[Parallel(n_jobs=1)]: Using backend SequentialBackend with 1 concurrent workers.\n",
      "[Parallel(n_jobs=1)]: Done  31 out of  31 | elapsed:  4.6min finished\n",
      "Features: 60/90[Parallel(n_jobs=1)]: Using backend SequentialBackend with 1 concurrent workers.\n",
      "[Parallel(n_jobs=1)]: Done  30 out of  30 | elapsed:  4.3min finished\n",
      "Features: 61/90[Parallel(n_jobs=1)]: Using backend SequentialBackend with 1 concurrent workers.\n",
      "[Parallel(n_jobs=1)]: Done  29 out of  29 | elapsed:  4.0min finished\n",
      "Features: 62/90[Parallel(n_jobs=1)]: Using backend SequentialBackend with 1 concurrent workers.\n",
      "[Parallel(n_jobs=1)]: Done  28 out of  28 | elapsed:  4.5min finished\n",
      "Features: 63/90[Parallel(n_jobs=1)]: Using backend SequentialBackend with 1 concurrent workers.\n",
      "[Parallel(n_jobs=1)]: Done  27 out of  27 | elapsed:  4.4min finished\n",
      "Features: 64/90[Parallel(n_jobs=1)]: Using backend SequentialBackend with 1 concurrent workers.\n",
      "[Parallel(n_jobs=1)]: Done  26 out of  26 | elapsed:  4.3min finished\n",
      "Features: 65/90[Parallel(n_jobs=1)]: Using backend SequentialBackend with 1 concurrent workers.\n",
      "[Parallel(n_jobs=1)]: Done  25 out of  25 | elapsed:  3.9min finished\n",
      "Features: 66/90[Parallel(n_jobs=1)]: Using backend SequentialBackend with 1 concurrent workers.\n",
      "[Parallel(n_jobs=1)]: Done  24 out of  24 | elapsed:  3.8min finished\n",
      "Features: 67/90[Parallel(n_jobs=1)]: Using backend SequentialBackend with 1 concurrent workers.\n",
      "[Parallel(n_jobs=1)]: Done  23 out of  23 | elapsed:  3.5min finished\n",
      "Features: 68/90[Parallel(n_jobs=1)]: Using backend SequentialBackend with 1 concurrent workers.\n",
      "[Parallel(n_jobs=1)]: Done  22 out of  22 | elapsed:  3.5min finished\n",
      "Features: 69/90[Parallel(n_jobs=1)]: Using backend SequentialBackend with 1 concurrent workers.\n",
      "[Parallel(n_jobs=1)]: Done  21 out of  21 | elapsed:  3.4min finished\n",
      "Features: 70/90[Parallel(n_jobs=1)]: Using backend SequentialBackend with 1 concurrent workers.\n",
      "[Parallel(n_jobs=1)]: Done  20 out of  20 | elapsed:  3.4min finished\n",
      "Features: 71/90[Parallel(n_jobs=1)]: Using backend SequentialBackend with 1 concurrent workers.\n",
      "[Parallel(n_jobs=1)]: Done  19 out of  19 | elapsed:  3.1min finished\n",
      "Features: 72/90[Parallel(n_jobs=1)]: Using backend SequentialBackend with 1 concurrent workers.\n",
      "[Parallel(n_jobs=1)]: Done  18 out of  18 | elapsed:  2.4min finished\n",
      "Features: 73/90[Parallel(n_jobs=1)]: Using backend SequentialBackend with 1 concurrent workers.\n",
      "[Parallel(n_jobs=1)]: Done  17 out of  17 | elapsed:  2.3min finished\n",
      "Features: 74/90[Parallel(n_jobs=1)]: Using backend SequentialBackend with 1 concurrent workers.\n",
      "[Parallel(n_jobs=1)]: Done  16 out of  16 | elapsed:  2.2min finished\n",
      "Features: 75/90[Parallel(n_jobs=1)]: Using backend SequentialBackend with 1 concurrent workers.\n",
      "[Parallel(n_jobs=1)]: Done  15 out of  15 | elapsed:  2.5min finished\n",
      "Features: 76/90[Parallel(n_jobs=1)]: Using backend SequentialBackend with 1 concurrent workers.\n",
      "[Parallel(n_jobs=1)]: Done  14 out of  14 | elapsed:  2.5min finished\n",
      "Features: 77/90[Parallel(n_jobs=1)]: Using backend SequentialBackend with 1 concurrent workers.\n",
      "[Parallel(n_jobs=1)]: Done  13 out of  13 | elapsed:  2.3min finished\n",
      "Features: 78/90[Parallel(n_jobs=1)]: Using backend SequentialBackend with 1 concurrent workers.\n",
      "[Parallel(n_jobs=1)]: Done  12 out of  12 | elapsed:  2.1min finished\n",
      "Features: 79/90[Parallel(n_jobs=1)]: Using backend SequentialBackend with 1 concurrent workers.\n",
      "[Parallel(n_jobs=1)]: Done  11 out of  11 | elapsed:  1.9min finished\n",
      "Features: 80/90[Parallel(n_jobs=1)]: Using backend SequentialBackend with 1 concurrent workers.\n",
      "[Parallel(n_jobs=1)]: Done  10 out of  10 | elapsed:  1.8min finished\n",
      "Features: 81/90[Parallel(n_jobs=1)]: Using backend SequentialBackend with 1 concurrent workers.\n",
      "[Parallel(n_jobs=1)]: Done   9 out of   9 | elapsed:  1.6min finished\n",
      "Features: 82/90[Parallel(n_jobs=1)]: Using backend SequentialBackend with 1 concurrent workers.\n",
      "[Parallel(n_jobs=1)]: Done   8 out of   8 | elapsed:  1.4min finished\n",
      "Features: 83/90[Parallel(n_jobs=1)]: Using backend SequentialBackend with 1 concurrent workers.\n",
      "[Parallel(n_jobs=1)]: Done   7 out of   7 | elapsed:  1.3min finished\n",
      "Features: 84/90[Parallel(n_jobs=1)]: Using backend SequentialBackend with 1 concurrent workers.\n",
      "[Parallel(n_jobs=1)]: Done   6 out of   6 | elapsed:  1.2min finished\n",
      "Features: 85/90[Parallel(n_jobs=1)]: Using backend SequentialBackend with 1 concurrent workers.\n",
      "[Parallel(n_jobs=1)]: Done   5 out of   5 | elapsed:   58.4s finished\n",
      "Features: 86/90[Parallel(n_jobs=1)]: Using backend SequentialBackend with 1 concurrent workers.\n",
      "[Parallel(n_jobs=1)]: Done   4 out of   4 | elapsed:   46.0s finished\n",
      "Features: 87/90[Parallel(n_jobs=1)]: Using backend SequentialBackend with 1 concurrent workers.\n",
      "[Parallel(n_jobs=1)]: Done   3 out of   3 | elapsed:   36.5s finished\n",
      "Features: 88/90[Parallel(n_jobs=1)]: Using backend SequentialBackend with 1 concurrent workers.\n",
      "[Parallel(n_jobs=1)]: Done   2 out of   2 | elapsed:   24.3s finished\n",
      "Features: 89/90[Parallel(n_jobs=1)]: Using backend SequentialBackend with 1 concurrent workers.\n",
      "[Parallel(n_jobs=1)]: Done   1 out of   1 | elapsed:   12.3s finished\n",
      "Features: 90/90"
     ]
    },
    {
     "data": {
      "text/plain": [
       "SequentialFeatureSelector(estimator=XGBClassifier(base_score=None, booster=None,\n",
       "                                                  callbacks=None,\n",
       "                                                  colsample_bylevel=None,\n",
       "                                                  colsample_bynode=None,\n",
       "                                                  colsample_bytree=None,\n",
       "                                                  early_stopping_rounds=None,\n",
       "                                                  enable_categorical=False,\n",
       "                                                  eval_metric=None,\n",
       "                                                  feature_types=None,\n",
       "                                                  gamma=None, gpu_id=None,\n",
       "                                                  grow_policy=None,\n",
       "                                                  importance_type=None,\n",
       "                                                  interaction_constraints=None,\n",
       "                                                  learning_rate=None,\n",
       "                                                  max_bin=None,\n",
       "                                                  max_cat_threshold=None,\n",
       "                                                  max_cat_to_onehot=None,\n",
       "                                                  max_delta_step=None,\n",
       "                                                  max_depth=None,\n",
       "                                                  max_leaves=None,\n",
       "                                                  min_child_weight=None,\n",
       "                                                  missing=nan,\n",
       "                                                  monotone_constraints=None,\n",
       "                                                  n_estimators=100, n_jobs=None,\n",
       "                                                  num_parallel_tree=None,\n",
       "                                                  predictor=None,\n",
       "                                                  random_state=None, ...),\n",
       "                          k_features=(90, 90), scoring='roc_auc', verbose=1)"
      ]
     },
     "execution_count": 58,
     "metadata": {},
     "output_type": "execute_result"
    }
   ],
   "source": [
    "sfs_2.fit(X_train_seas, y_train_seas)"
   ]
  },
  {
   "cell_type": "code",
   "execution_count": 59,
   "id": "73a32b8c",
   "metadata": {},
   "outputs": [],
   "source": [
    "seas_sfs_df = pd.DataFrame.from_dict(sfs_2.get_metric_dict()).T"
   ]
  },
  {
   "cell_type": "code",
   "execution_count": 60,
   "id": "d290d476",
   "metadata": {},
   "outputs": [
    {
     "data": {
      "text/html": [
       "<div>\n",
       "<style scoped>\n",
       "    .dataframe tbody tr th:only-of-type {\n",
       "        vertical-align: middle;\n",
       "    }\n",
       "\n",
       "    .dataframe tbody tr th {\n",
       "        vertical-align: top;\n",
       "    }\n",
       "\n",
       "    .dataframe thead th {\n",
       "        text-align: right;\n",
       "    }\n",
       "</style>\n",
       "<table border=\"1\" class=\"dataframe\">\n",
       "  <thead>\n",
       "    <tr style=\"text-align: right;\">\n",
       "      <th></th>\n",
       "      <th>feature_idx</th>\n",
       "      <th>cv_scores</th>\n",
       "      <th>avg_score</th>\n",
       "      <th>feature_names</th>\n",
       "      <th>ci_bound</th>\n",
       "      <th>std_dev</th>\n",
       "      <th>std_err</th>\n",
       "    </tr>\n",
       "  </thead>\n",
       "  <tbody>\n",
       "    <tr>\n",
       "      <th>1</th>\n",
       "      <td>(19,)</td>\n",
       "      <td>[0.704703565267395, 0.7271142898217366, 0.7135...</td>\n",
       "      <td>0.714989</td>\n",
       "      <td>(opinion_seas_risk,)</td>\n",
       "      <td>0.009434</td>\n",
       "      <td>0.00734</td>\n",
       "      <td>0.00367</td>\n",
       "    </tr>\n",
       "    <tr>\n",
       "      <th>2</th>\n",
       "      <td>(19, 21)</td>\n",
       "      <td>[0.7679320011500862, 0.7837525876940771, 0.778...</td>\n",
       "      <td>0.776593</td>\n",
       "      <td>(opinion_seas_risk, age_group)</td>\n",
       "      <td>0.00664</td>\n",
       "      <td>0.005167</td>\n",
       "      <td>0.002583</td>\n",
       "    </tr>\n",
       "    <tr>\n",
       "      <th>3</th>\n",
       "      <td>(10, 19, 21)</td>\n",
       "      <td>[0.8102540253018978, 0.8121117021276596, 0.808...</td>\n",
       "      <td>0.810975</td>\n",
       "      <td>(doctor_recc_seasonal, opinion_seas_risk, age_...</td>\n",
       "      <td>0.002687</td>\n",
       "      <td>0.002091</td>\n",
       "      <td>0.001045</td>\n",
       "    </tr>\n",
       "    <tr>\n",
       "      <th>4</th>\n",
       "      <td>(10, 18, 19, 21)</td>\n",
       "      <td>[0.8348911730879816, 0.8337091719378954, 0.825...</td>\n",
       "      <td>0.831985</td>\n",
       "      <td>(doctor_recc_seasonal, opinion_seas_vacc_effec...</td>\n",
       "      <td>0.004365</td>\n",
       "      <td>0.003396</td>\n",
       "      <td>0.001698</td>\n",
       "    </tr>\n",
       "    <tr>\n",
       "      <th>5</th>\n",
       "      <td>(10, 18, 19, 21, 50)</td>\n",
       "      <td>[0.8370631109833238, 0.8362895342150662, 0.829...</td>\n",
       "      <td>0.835008</td>\n",
       "      <td>(doctor_recc_seasonal, opinion_seas_vacc_effec...</td>\n",
       "      <td>0.003408</td>\n",
       "      <td>0.002652</td>\n",
       "      <td>0.001326</td>\n",
       "    </tr>\n",
       "    <tr>\n",
       "      <th>...</th>\n",
       "      <td>...</td>\n",
       "      <td>...</td>\n",
       "      <td>...</td>\n",
       "      <td>...</td>\n",
       "      <td>...</td>\n",
       "      <td>...</td>\n",
       "      <td>...</td>\n",
       "    </tr>\n",
       "    <tr>\n",
       "      <th>86</th>\n",
       "      <td>(0, 1, 2, 3, 4, 5, 6, 7, 8, 9, 10, 11, 12, 13,...</td>\n",
       "      <td>[0.8479235192639447, 0.8574065554916619, 0.840...</td>\n",
       "      <td>0.851087</td>\n",
       "      <td>(h1n1_concern, h1n1_knowledge, behavioral_anti...</td>\n",
       "      <td>0.007937</td>\n",
       "      <td>0.006175</td>\n",
       "      <td>0.003088</td>\n",
       "    </tr>\n",
       "    <tr>\n",
       "      <th>87</th>\n",
       "      <td>(0, 1, 2, 3, 4, 5, 6, 7, 8, 9, 10, 11, 12, 13,...</td>\n",
       "      <td>[0.8488812535940194, 0.8564031052328924, 0.842...</td>\n",
       "      <td>0.850796</td>\n",
       "      <td>(h1n1_concern, h1n1_knowledge, behavioral_anti...</td>\n",
       "      <td>0.006178</td>\n",
       "      <td>0.004807</td>\n",
       "      <td>0.002404</td>\n",
       "    </tr>\n",
       "    <tr>\n",
       "      <th>88</th>\n",
       "      <td>(0, 1, 2, 3, 4, 5, 6, 7, 8, 9, 10, 11, 12, 13,...</td>\n",
       "      <td>[0.8499194939620472, 0.8550296147211041, 0.842...</td>\n",
       "      <td>0.850727</td>\n",
       "      <td>(h1n1_concern, h1n1_knowledge, behavioral_anti...</td>\n",
       "      <td>0.005963</td>\n",
       "      <td>0.004639</td>\n",
       "      <td>0.00232</td>\n",
       "    </tr>\n",
       "    <tr>\n",
       "      <th>89</th>\n",
       "      <td>(0, 1, 2, 3, 4, 5, 6, 7, 8, 9, 10, 11, 12, 13,...</td>\n",
       "      <td>[0.8473435882691203, 0.8550402530189765, 0.841...</td>\n",
       "      <td>0.849862</td>\n",
       "      <td>(h1n1_concern, h1n1_knowledge, behavioral_anti...</td>\n",
       "      <td>0.006073</td>\n",
       "      <td>0.004725</td>\n",
       "      <td>0.002363</td>\n",
       "    </tr>\n",
       "    <tr>\n",
       "      <th>90</th>\n",
       "      <td>(0, 1, 2, 3, 4, 5, 6, 7, 8, 9, 10, 11, 12, 13,...</td>\n",
       "      <td>[0.8471804197814836, 0.8550802185163886, 0.844...</td>\n",
       "      <td>0.850365</td>\n",
       "      <td>(h1n1_concern, h1n1_knowledge, behavioral_anti...</td>\n",
       "      <td>0.004967</td>\n",
       "      <td>0.003864</td>\n",
       "      <td>0.001932</td>\n",
       "    </tr>\n",
       "  </tbody>\n",
       "</table>\n",
       "<p>90 rows × 7 columns</p>\n",
       "</div>"
      ],
      "text/plain": [
       "                                          feature_idx  \\\n",
       "1                                               (19,)   \n",
       "2                                            (19, 21)   \n",
       "3                                        (10, 19, 21)   \n",
       "4                                    (10, 18, 19, 21)   \n",
       "5                                (10, 18, 19, 21, 50)   \n",
       "..                                                ...   \n",
       "86  (0, 1, 2, 3, 4, 5, 6, 7, 8, 9, 10, 11, 12, 13,...   \n",
       "87  (0, 1, 2, 3, 4, 5, 6, 7, 8, 9, 10, 11, 12, 13,...   \n",
       "88  (0, 1, 2, 3, 4, 5, 6, 7, 8, 9, 10, 11, 12, 13,...   \n",
       "89  (0, 1, 2, 3, 4, 5, 6, 7, 8, 9, 10, 11, 12, 13,...   \n",
       "90  (0, 1, 2, 3, 4, 5, 6, 7, 8, 9, 10, 11, 12, 13,...   \n",
       "\n",
       "                                            cv_scores avg_score  \\\n",
       "1   [0.704703565267395, 0.7271142898217366, 0.7135...  0.714989   \n",
       "2   [0.7679320011500862, 0.7837525876940771, 0.778...  0.776593   \n",
       "3   [0.8102540253018978, 0.8121117021276596, 0.808...  0.810975   \n",
       "4   [0.8348911730879816, 0.8337091719378954, 0.825...  0.831985   \n",
       "5   [0.8370631109833238, 0.8362895342150662, 0.829...  0.835008   \n",
       "..                                                ...       ...   \n",
       "86  [0.8479235192639447, 0.8574065554916619, 0.840...  0.851087   \n",
       "87  [0.8488812535940194, 0.8564031052328924, 0.842...  0.850796   \n",
       "88  [0.8499194939620472, 0.8550296147211041, 0.842...  0.850727   \n",
       "89  [0.8473435882691203, 0.8550402530189765, 0.841...  0.849862   \n",
       "90  [0.8471804197814836, 0.8550802185163886, 0.844...  0.850365   \n",
       "\n",
       "                                        feature_names  ci_bound   std_dev  \\\n",
       "1                                (opinion_seas_risk,)  0.009434   0.00734   \n",
       "2                      (opinion_seas_risk, age_group)   0.00664  0.005167   \n",
       "3   (doctor_recc_seasonal, opinion_seas_risk, age_...  0.002687  0.002091   \n",
       "4   (doctor_recc_seasonal, opinion_seas_vacc_effec...  0.004365  0.003396   \n",
       "5   (doctor_recc_seasonal, opinion_seas_vacc_effec...  0.003408  0.002652   \n",
       "..                                                ...       ...       ...   \n",
       "86  (h1n1_concern, h1n1_knowledge, behavioral_anti...  0.007937  0.006175   \n",
       "87  (h1n1_concern, h1n1_knowledge, behavioral_anti...  0.006178  0.004807   \n",
       "88  (h1n1_concern, h1n1_knowledge, behavioral_anti...  0.005963  0.004639   \n",
       "89  (h1n1_concern, h1n1_knowledge, behavioral_anti...  0.006073  0.004725   \n",
       "90  (h1n1_concern, h1n1_knowledge, behavioral_anti...  0.004967  0.003864   \n",
       "\n",
       "     std_err  \n",
       "1    0.00367  \n",
       "2   0.002583  \n",
       "3   0.001045  \n",
       "4   0.001698  \n",
       "5   0.001326  \n",
       "..       ...  \n",
       "86  0.003088  \n",
       "87  0.002404  \n",
       "88   0.00232  \n",
       "89  0.002363  \n",
       "90  0.001932  \n",
       "\n",
       "[90 rows x 7 columns]"
      ]
     },
     "execution_count": 60,
     "metadata": {},
     "output_type": "execute_result"
    }
   ],
   "source": [
    "seas_sfs_df"
   ]
  },
  {
   "cell_type": "code",
   "execution_count": 61,
   "id": "b8d4f409",
   "metadata": {},
   "outputs": [
    {
     "data": {
      "image/png": "[encoded data removed]",
      "text/plain": [
       "<Figure size 2800x1200 with 1 Axes>"
      ]
     },
     "metadata": {},
     "output_type": "display_data"
    }
   ],
   "source": [
    "fig = plot_sfs(sfs_2.get_metric_dict(), kind='std_err', figsize=(28,12))\n",
    "\n",
    "plt.title('Sequential Forward Selection - Seasonal Vaccine')\n",
    "plt.grid()\n",
    "plt.show()"
   ]
  },
  {
   "cell_type": "code",
   "execution_count": 64,
   "id": "1771bee0",
   "metadata": {},
   "outputs": [],
   "source": [
    "seas_column_names = X_train_seas.columns"
   ]
  },
  {
   "cell_type": "code",
   "execution_count": 65,
   "id": "6062c9fb",
   "metadata": {},
   "outputs": [
    {
     "name": "stdout",
     "output_type": "stream",
     "text": [
      "(1, 2, 4, 5, 8, 10, 11, 13, 14, 15, 16, 17, 18, 19, 20, 21, 22, 23, 24, 27, 31, 32, 33, 34, 36, 37, 41, 45, 46, 47, 50, 51, 52, 53, 54, 55, 56, 58, 59, 60, 62, 63, 64, 65, 67, 68, 69, 70, 71, 72, 73, 74, 77, 78, 81, 83, 84, 85, 86, 87, 89)\n"
     ]
    }
   ],
   "source": [
    "print(seas_sfs_df.loc[61, 'feature_idx'])"
   ]
  },
  {
   "cell_type": "code",
   "execution_count": 66,
   "id": "8f0972ed",
   "metadata": {},
   "outputs": [],
   "source": [
    "final_seas_columns = [seas_column_names[i] for i in \n",
    "                     list((1, 2, 4, 5, 8, 10, 11, 13, 14, 15, 16, 17, 18, 19, 20, 21, 22, 23, 24, 27, 31, 32,\n",
    "                           33, 34, 36, 37, 41, 45, 46, 47, 50, 51, 52, 53, 54, 55, 56, 58, 59, 60, 62, 63, \n",
    "                           64, 65, 67, 68, 69, 70, 71, 72, 73, 74, 77, 78, 81, 83, 84, 85, 86, 87, 89))]"
   ]
  },
  {
   "cell_type": "code",
   "execution_count": 67,
   "id": "daec152d",
   "metadata": {},
   "outputs": [
    {
     "data": {
      "text/plain": [
       "61"
      ]
     },
     "execution_count": 67,
     "metadata": {},
     "output_type": "execute_result"
    }
   ],
   "source": [
    "len(final_seas_columns) #78"
   ]
  },
  {
   "cell_type": "code",
   "execution_count": 68,
   "id": "23096a6b",
   "metadata": {},
   "outputs": [
    {
     "name": "stdout",
     "output_type": "stream",
     "text": [
      "['h1n1_knowledge', 'behavioral_antiviral_meds', 'behavioral_face_mask', 'behavioral_wash_hands', 'behavioral_touch_face', 'doctor_recc_seasonal', 'chronic_med_condition', 'health_worker', 'health_insurance', 'opinion_h1n1_vacc_effective', 'opinion_h1n1_risk', 'opinion_h1n1_sick_from_vacc', 'opinion_seas_vacc_effective', 'opinion_seas_risk', 'opinion_seas_sick_from_vacc', 'age_group', 'education', 'income_poverty', 'employment_status', 'race_Hispanic', 'marital_status_Not Married', 'marital_status_refused_or_other_category', 'rent_or_own_Rent', 'rent_or_own_other_refused', 'hhs_geo_region_dqpwygqj', 'hhs_geo_region_fpwskwrf', 'hhs_geo_region_mlyzmhmf', 'census_msa_Non-MSA', 'employment_industry_atmlpfrs', 'employment_industry_cfqqtusy', 'employment_industry_haxffmxo', 'employment_industry_ldnlellj', 'employment_industry_mcubkhph', 'employment_industry_mfikgejo', 'employment_industry_msuufmds', 'employment_industry_nduyfdeo', 'employment_industry_phxvnwax', 'employment_industry_qnlwzans', 'employment_industry_rucpziij', 'employment_industry_saaquncn', 'employment_industry_vjjrobsf', 'employment_industry_wlfvacwt', 'employment_industry_wxleyezf', 'employment_industry_xicduogh', 'employment_occupation_ccgxvspp', 'employment_occupation_cmhcxjea', 'employment_occupation_dcjcmpih', 'employment_occupation_dlvbwzss', 'employment_occupation_emcorrxb', 'employment_occupation_haliazsg', 'employment_occupation_hfxkjkmi', 'employment_occupation_hodpvpew', 'employment_occupation_oijqvulv', 'employment_occupation_pvmttkik', 'employment_occupation_tfqavkke', 'employment_occupation_unemployed_occupation', 'employment_occupation_uqqtjvyb', 'employment_occupation_vlluhbov', 'employment_occupation_xgwztkwe', 'employment_occupation_xqwwgdyp', 'employment_occupation_xzmlyyjv']\n"
     ]
    }
   ],
   "source": [
    "print(final_seas_columns)"
   ]
  },
  {
   "cell_type": "code",
   "execution_count": null,
   "id": "81313334",
   "metadata": {},
   "outputs": [],
   "source": []
  },
  {
   "cell_type": "code",
   "execution_count": 69,
   "id": "9bb2cb9f",
   "metadata": {},
   "outputs": [],
   "source": [
    "data_h1 = data[['h1n1_concern', 'h1n1_knowledge', 'behavioral_antiviral_meds', 'behavioral_avoidance', \n",
    "                'behavioral_face_mask', 'behavioral_wash_hands', 'behavioral_outside_home', 'doctor_recc_h1n1',\n",
    "                'doctor_recc_seasonal', 'child_under_6_months', 'health_worker', 'health_insurance', \n",
    "                'opinion_h1n1_vacc_effective', 'opinion_h1n1_risk', 'opinion_h1n1_sick_from_vacc',\n",
    "                'opinion_seas_vacc_effective', 'opinion_seas_risk', 'opinion_seas_sick_from_vacc', \n",
    "                'age_group', 'education', 'income_poverty', 'household_adults', 'race_Hispanic', \n",
    "                'race_Other or Multiple', 'race_White', 'sex_Male', 'marital_status_Not Married',\n",
    "                'marital_status_refused_or_other_category', 'hhs_geo_region_dqpwygqj', 'hhs_geo_region_fpwskwrf', \n",
    "                'hhs_geo_region_lzgpxyit', 'hhs_geo_region_oxchjgsf', 'hhs_geo_region_qufhixun', \n",
    "                'census_msa_MSA, Principle City', 'census_msa_Non-MSA', 'employment_industry_atmlpfrs', \n",
    "                'employment_industry_cfqqtusy', 'employment_industry_dotnnunm', 'employment_industry_fcxhlnwr', \n",
    "                'employment_industry_haxffmxo', 'employment_industry_ldnlellj', 'employment_industry_mcubkhph',\n",
    "                'employment_industry_mfikgejo', 'employment_industry_msuufmds', 'employment_industry_nduyfdeo', \n",
    "                'employment_industry_phxvnwax', 'employment_industry_pxcmvdjn', 'employment_industry_qnlwzans',\n",
    "                'employment_industry_rucpziij', 'employment_industry_saaquncn', \n",
    "                'employment_industry_unemployed_in_industry', 'employment_industry_vjjrobsf',\n",
    "                'employment_industry_wlfvacwt', 'employment_industry_wxleyezf', 'employment_industry_xicduogh', \n",
    "                'employment_industry_xqicxuve', 'employment_occupation_ccgxvspp', 'employment_occupation_cmhcxjea', \n",
    "                'employment_occupation_dcjcmpih', 'employment_occupation_dlvbwzss', 'employment_occupation_haliazsg',\n",
    "                'employment_occupation_hfxkjkmi', 'employment_occupation_hodpvpew', 'employment_occupation_kldqjyjy',\n",
    "                'employment_occupation_oijqvulv', 'employment_occupation_pvmttkik', 'employment_occupation_qxajmpny',\n",
    "                'employment_occupation_rcertsgn', 'employment_occupation_tfqavkke', 'employment_occupation_ukymxvdu', \n",
    "                'employment_occupation_unemployed_occupation', 'employment_occupation_uqqtjvyb',\n",
    "                'employment_occupation_vlluhbov', 'employment_occupation_xgwztkwe', 'employment_occupation_xqwwgdyp',\n",
    "                'employment_occupation_xtkaffoo', 'employment_occupation_xzmlyyjv']]"
   ]
  },
  {
   "cell_type": "code",
   "execution_count": null,
   "id": "ba4000e6",
   "metadata": {},
   "outputs": [],
   "source": []
  },
  {
   "cell_type": "code",
   "execution_count": 70,
   "id": "32f92a9d",
   "metadata": {},
   "outputs": [],
   "source": [
    "data_seas = data[['h1n1_knowledge', 'behavioral_antiviral_meds', 'behavioral_face_mask', 'behavioral_wash_hands',\n",
    "                  'behavioral_touch_face', 'doctor_recc_seasonal', 'chronic_med_condition', 'health_worker', \n",
    "                  'health_insurance', 'opinion_h1n1_vacc_effective', 'opinion_h1n1_risk', \n",
    "                  'opinion_h1n1_sick_from_vacc', 'opinion_seas_vacc_effective', 'opinion_seas_risk',\n",
    "                  'opinion_seas_sick_from_vacc', 'age_group', 'education', 'income_poverty', 'employment_status', \n",
    "                  'race_Hispanic', 'marital_status_Not Married', 'marital_status_refused_or_other_category', \n",
    "                  'rent_or_own_Rent', 'rent_or_own_other_refused', 'hhs_geo_region_dqpwygqj', \n",
    "                  'hhs_geo_region_fpwskwrf', 'hhs_geo_region_mlyzmhmf', 'census_msa_Non-MSA', \n",
    "                  'employment_industry_atmlpfrs', 'employment_industry_cfqqtusy', 'employment_industry_haxffmxo',\n",
    "                  'employment_industry_ldnlellj', 'employment_industry_mcubkhph', 'employment_industry_mfikgejo', \n",
    "                  'employment_industry_msuufmds', 'employment_industry_nduyfdeo', 'employment_industry_phxvnwax',\n",
    "                  'employment_industry_qnlwzans', 'employment_industry_rucpziij', 'employment_industry_saaquncn', \n",
    "                  'employment_industry_vjjrobsf', 'employment_industry_wlfvacwt', 'employment_industry_wxleyezf',\n",
    "                  'employment_industry_xicduogh', 'employment_occupation_ccgxvspp', 'employment_occupation_cmhcxjea', \n",
    "                  'employment_occupation_dcjcmpih', 'employment_occupation_dlvbwzss', \n",
    "                  'employment_occupation_emcorrxb','employment_occupation_haliazsg', \n",
    "                  'employment_occupation_hfxkjkmi', 'employment_occupation_hodpvpew',\n",
    "                  'employment_occupation_oijqvulv', 'employment_occupation_pvmttkik',\n",
    "                  'employment_occupation_tfqavkke', 'employment_occupation_unemployed_occupation',\n",
    "                  'employment_occupation_uqqtjvyb','employment_occupation_vlluhbov', \n",
    "                  'employment_occupation_xgwztkwe', 'employment_occupation_xqwwgdyp',\n",
    "                  'employment_occupation_xzmlyyjv']]"
   ]
  },
  {
   "cell_type": "code",
   "execution_count": null,
   "id": "17ceeda1",
   "metadata": {},
   "outputs": [],
   "source": []
  },
  {
   "cell_type": "code",
   "execution_count": 72,
   "id": "03f5cdba",
   "metadata": {},
   "outputs": [
    {
     "data": {
      "text/plain": [
       "77"
      ]
     },
     "execution_count": 72,
     "metadata": {},
     "output_type": "execute_result"
    }
   ],
   "source": [
    "len(data_h1.columns)"
   ]
  },
  {
   "cell_type": "code",
   "execution_count": 73,
   "id": "b9498949",
   "metadata": {},
   "outputs": [
    {
     "data": {
      "text/plain": [
       "61"
      ]
     },
     "execution_count": 73,
     "metadata": {},
     "output_type": "execute_result"
    }
   ],
   "source": [
    "len(data_seas.columns)"
   ]
  },
  {
   "cell_type": "code",
   "execution_count": null,
   "id": "6b8f40da",
   "metadata": {},
   "outputs": [],
   "source": []
  },
  {
   "cell_type": "code",
   "execution_count": null,
   "id": "45a73e62",
   "metadata": {},
   "outputs": [],
   "source": []
  },
  {
   "cell_type": "code",
   "execution_count": 74,
   "id": "3ea0ce58",
   "metadata": {},
   "outputs": [],
   "source": [
    "import optuna\n",
    "from optuna import visualization\n",
    "from optuna.samplers import TPESampler\n",
    "from xgboost import XGBClassifier\n",
    "from sklearn.model_selection import train_test_split\n",
    "from sklearn.metrics import roc_curve, roc_auc_score"
   ]
  },
  {
   "cell_type": "code",
   "execution_count": 75,
   "id": "8367e4a4",
   "metadata": {},
   "outputs": [],
   "source": [
    "X_train_H, X_test_H, y_train_H, y_test_H = train_test_split(data_h1, label1, test_size=0.2, random_state=101)\n",
    "\n",
    "def objective(trial):\n",
    "    param = {\n",
    "        'n_estimators': trial.suggest_int('n_estimators', 50, 500),\n",
    "        'max_depth': trial.suggest_int('max_depth', 3, 10),\n",
    "        'reg_alpha': trial.suggest_float('reg_alpha', 1e-8, 1.0),\n",
    "        'reg_lambda': trial.suggest_float('reg_lambda', 1e-8, 1.0),\n",
    "        'min_child_weight': trial.suggest_int('min_child_weight', 0, 8),\n",
    "        'gamma': trial.suggest_float('gamma',1e-8, 1.0),\n",
    "        'learning_rate': trial.suggest_float('learning_rate', 0.01, 1),\n",
    "        'colsample_bytree': trial.suggest_float('colsample_bytree', 0.3, 0.9),\n",
    "        'subsample': trial.suggest_float('subsample', 0.3, 0.9),\n",
    "    }\n",
    "    \n",
    "    xgb = XGBClassifier(**param, missing= np.nan)\n",
    "    \n",
    "#     print(\"X_train shape:\", X_train.shape)\n",
    "#     print(\"y_train shape:\", y_train.shape)\n",
    "    \n",
    "    from sklearn.model_selection import cross_val_score\n",
    "    scores = cross_val_score(xgb, data_h1, label1, cv=5, scoring='roc_auc')\n",
    "    AUC = np.mean(scores).max() \n",
    "    return AUC"
   ]
  },
  {
   "cell_type": "code",
   "execution_count": 76,
   "id": "2ec537d1",
   "metadata": {},
   "outputs": [
    {
     "name": "stderr",
     "output_type": "stream",
     "text": [
      "\u001b[32m[I 2023-05-14 19:45:39,008]\u001b[0m A new study created in memory with name: no-name-dfd68ab5-e6ec-4466-b433-5dc32890bbcb\u001b[0m\n",
      "/Users/karthikeyan/opt/anaconda3/lib/python3.9/site-packages/optuna/progress_bar.py:56: ExperimentalWarning: Progress bar is experimental (supported from v1.2.0). The interface can change in the future.\n",
      "  self._init_valid()\n"
     ]
    },
    {
     "data": {
      "application/vnd.jupyter.widget-view+json": {
       "model_id": "34649f60860248fa845cf738c2fcfd63",
       "version_major": 2,
       "version_minor": 0
      },
      "text/plain": [
       "  0%|          | 0/120 [00:00<?, ?it/s]"
      ]
     },
     "metadata": {},
     "output_type": "display_data"
    },
    {
     "name": "stdout",
     "output_type": "stream",
     "text": [
      "\u001b[32m[I 2023-05-14 19:45:56,119]\u001b[0m Trial 0 finished with value: 0.8226902528205251 and parameters: {'n_estimators': 460, 'max_depth': 3, 'reg_alpha': 0.9452400919215485, 'reg_lambda': 0.9004925579424771, 'min_child_weight': 7, 'gamma': 0.07722025094480649, 'learning_rate': 0.9720324289109239, 'colsample_bytree': 0.5385603928689817, 'subsample': 0.543196163509702}. Best is trial 0 with value: 0.8226902528205251.\u001b[0m\n",
      "\u001b[32m[I 2023-05-14 19:46:07,388]\u001b[0m Trial 1 finished with value: 0.8127517484114254 and parameters: {'n_estimators': 209, 'max_depth': 5, 'reg_alpha': 0.5209266862748118, 'reg_lambda': 0.2651946481594423, 'min_child_weight': 1, 'gamma': 0.4995583788973864, 'learning_rate': 0.8068342210867918, 'colsample_bytree': 0.5150328583888656, 'subsample': 0.6383360633890387}. Best is trial 0 with value: 0.8226902528205251.\u001b[0m\n",
      "\u001b[32m[I 2023-05-14 19:46:20,486]\u001b[0m Trial 2 finished with value: 0.7907644090201489 and parameters: {'n_estimators': 315, 'max_depth': 4, 'reg_alpha': 0.41935936632933435, 'reg_lambda': 0.08724064199338775, 'min_child_weight': 1, 'gamma': 0.25296124731864716, 'learning_rate': 0.7846930479382856, 'colsample_bytree': 0.5913908832621969, 'subsample': 0.35763172397585075}. Best is trial 0 with value: 0.8226902528205251.\u001b[0m\n",
      "\u001b[32m[I 2023-05-14 19:46:47,494]\u001b[0m Trial 3 finished with value: 0.8698850331963003 and parameters: {'n_estimators': 400, 'max_depth': 6, 'reg_alpha': 0.985532982254418, 'reg_lambda': 0.6747597785730881, 'min_child_weight': 6, 'gamma': 0.3126768208055462, 'learning_rate': 0.05570902826118845, 'colsample_bytree': 0.5062424078137779, 'subsample': 0.5910303020574487}. Best is trial 3 with value: 0.8698850331963003.\u001b[0m\n",
      "\u001b[32m[I 2023-05-14 19:47:02,876]\u001b[0m Trial 4 finished with value: 0.8172389483678799 and parameters: {'n_estimators': 181, 'max_depth': 9, 'reg_alpha': 0.4223339860795631, 'reg_lambda': 0.5683803794792532, 'min_child_weight': 8, 'gamma': 0.9647166210202912, 'learning_rate': 0.7944610517195225, 'colsample_bytree': 0.3892722201798183, 'subsample': 0.8225454298811066}. Best is trial 3 with value: 0.8698850331963003.\u001b[0m\n",
      "\u001b[32m[I 2023-05-14 19:47:21,654]\u001b[0m Trial 5 finished with value: 0.8550610838766122 and parameters: {'n_estimators': 230, 'max_depth': 5, 'reg_alpha': 0.6435934608159811, 'reg_lambda': 0.5730527916882241, 'min_child_weight': 5, 'gamma': 0.6969926077921476, 'learning_rate': 0.24926970579680924, 'colsample_bytree': 0.8711763712108112, 'subsample': 0.5046391748962662}. Best is trial 3 with value: 0.8698850331963003.\u001b[0m\n",
      "\u001b[32m[I 2023-05-14 19:47:40,786]\u001b[0m Trial 6 finished with value: 0.796001636700052 and parameters: {'n_estimators': 244, 'max_depth': 6, 'reg_alpha': 0.38917919837778947, 'reg_lambda': 0.5356082157017829, 'min_child_weight': 7, 'gamma': 0.086340105868964, 'learning_rate': 0.8704639318281429, 'colsample_bytree': 0.627141496991499, 'subsample': 0.5878069669495862}. Best is trial 3 with value: 0.8698850331963003.\u001b[0m\n",
      "\u001b[32m[I 2023-05-14 19:47:55,804]\u001b[0m Trial 7 finished with value: 0.8341471559960365 and parameters: {'n_estimators': 303, 'max_depth': 5, 'reg_alpha': 0.7638486728252241, 'reg_lambda': 0.7416436472306166, 'min_child_weight': 0, 'gamma': 0.6771788649940775, 'learning_rate': 0.5705925494944706, 'colsample_bytree': 0.33195193590392014, 'subsample': 0.7053249765946126}. Best is trial 3 with value: 0.8698850331963003.\u001b[0m\n",
      "\u001b[32m[I 2023-05-14 19:48:22,646]\u001b[0m Trial 8 finished with value: 0.8612518247527318 and parameters: {'n_estimators': 247, 'max_depth': 9, 'reg_alpha': 0.28152089788435397, 'reg_lambda': 0.5859103416936128, 'min_child_weight': 4, 'gamma': 0.5407962405707057, 'learning_rate': 0.07318211761878667, 'colsample_bytree': 0.8732197904922538, 'subsample': 0.3120085777249506}. Best is trial 3 with value: 0.8698850331963003.\u001b[0m\n",
      "\u001b[32m[I 2023-05-14 19:48:28,392]\u001b[0m Trial 9 finished with value: 0.7847333190146741 and parameters: {'n_estimators': 71, 'max_depth': 7, 'reg_alpha': 0.006199579995563633, 'reg_lambda': 0.7864055554175301, 'min_child_weight': 2, 'gamma': 0.15354335753687154, 'learning_rate': 0.8749242173559166, 'colsample_bytree': 0.6236919325327063, 'subsample': 0.3653158276888356}. Best is trial 3 with value: 0.8698850331963003.\u001b[0m\n",
      "\u001b[32m[I 2023-05-14 19:49:02,296]\u001b[0m Trial 10 finished with value: 0.8667172458667528 and parameters: {'n_estimators': 490, 'max_depth': 7, 'reg_alpha': 0.9649582703146276, 'reg_lambda': 0.3619251369911862, 'min_child_weight': 5, 'gamma': 0.3061297332054874, 'learning_rate': 0.06091192433082898, 'colsample_bytree': 0.4355239576957056, 'subsample': 0.8991185131231774}. Best is trial 3 with value: 0.8698850331963003.\u001b[0m\n",
      "\u001b[32m[I 2023-05-14 19:49:36,525]\u001b[0m Trial 11 finished with value: 0.8724231355240054 and parameters: {'n_estimators': 488, 'max_depth': 7, 'reg_alpha': 0.9895791594796094, 'reg_lambda': 0.37384105021920155, 'min_child_weight': 5, 'gamma': 0.29199789381528024, 'learning_rate': 0.01995976146326478, 'colsample_bytree': 0.41967375250562045, 'subsample': 0.8766875278102219}. Best is trial 11 with value: 0.8724231355240054.\u001b[0m\n",
      "\u001b[32m[I 2023-05-14 19:50:04,739]\u001b[0m Trial 12 finished with value: 0.8452893365899616 and parameters: {'n_estimators': 401, 'max_depth': 8, 'reg_alpha': 0.9963423596698862, 'reg_lambda': 0.9937937314118035, 'min_child_weight': 4, 'gamma': 0.3232376046974222, 'learning_rate': 0.2507161799922366, 'colsample_bytree': 0.3182829543837631, 'subsample': 0.7394224062330252}. Best is trial 11 with value: 0.8724231355240054.\u001b[0m\n",
      "\u001b[32m[I 2023-05-14 19:50:45,035]\u001b[0m Trial 13 finished with value: 0.8638951309651779 and parameters: {'n_estimators': 390, 'max_depth': 10, 'reg_alpha': 0.8070483151281639, 'reg_lambda': 0.3890408361439211, 'min_child_weight': 6, 'gamma': 0.3836260423093474, 'learning_rate': 0.059738617787639295, 'colsample_bytree': 0.45069047046625704, 'subsample': 0.8941973777890329}. Best is trial 11 with value: 0.8724231355240054.\u001b[0m\n",
      "\u001b[32m[I 2023-05-14 19:51:13,208]\u001b[0m Trial 14 finished with value: 0.8470583148882962 and parameters: {'n_estimators': 414, 'max_depth': 6, 'reg_alpha': 0.815363419293158, 'reg_lambda': 0.6707366902169279, 'min_child_weight': 3, 'gamma': 0.007589105347578562, 'learning_rate': 0.24230583375074946, 'colsample_bytree': 0.4772893822800224, 'subsample': 0.7661107658212314}. Best is trial 11 with value: 0.8724231355240054.\u001b[0m\n",
      "\u001b[32m[I 2023-05-14 19:51:44,544]\u001b[0m Trial 15 finished with value: 0.8719958795724156 and parameters: {'n_estimators': 349, 'max_depth': 8, 'reg_alpha': 0.8847665659475379, 'reg_lambda': 0.4177083431030099, 'min_child_weight': 6, 'gamma': 0.1858893214367737, 'learning_rate': 0.021890224286380718, 'colsample_bytree': 0.39007691599450534, 'subsample': 0.6746449225189661}. Best is trial 11 with value: 0.8724231355240054.\u001b[0m\n",
      "\u001b[32m[I 2023-05-14 19:52:13,691]\u001b[0m Trial 16 finished with value: 0.834741398931181 and parameters: {'n_estimators': 339, 'max_depth': 8, 'reg_alpha': 0.8525288011047198, 'reg_lambda': 0.4448105790787592, 'min_child_weight': 8, 'gamma': 0.18283268944204728, 'learning_rate': 0.39184917264127844, 'colsample_bytree': 0.3930395418777348, 'subsample': 0.8211932249038151}. Best is trial 11 with value: 0.8724231355240054.\u001b[0m\n",
      "\u001b[32m[I 2023-05-14 19:52:57,716]\u001b[0m Trial 17 finished with value: 0.8436541703443163 and parameters: {'n_estimators': 500, 'max_depth': 8, 'reg_alpha': 0.6684116713864116, 'reg_lambda': 0.23685646718121156, 'min_child_weight': 5, 'gamma': 0.18311412077052475, 'learning_rate': 0.17267116948155148, 'colsample_bytree': 0.3718344436485016, 'subsample': 0.6828878780863955}. Best is trial 11 with value: 0.8724231355240054.\u001b[0m\n",
      "\u001b[32m[I 2023-05-14 19:53:10,983]\u001b[0m Trial 18 finished with value: 0.8619024700763391 and parameters: {'n_estimators': 154, 'max_depth': 10, 'reg_alpha': 0.874386438281326, 'reg_lambda': 0.46756809639100955, 'min_child_weight': 3, 'gamma': 0.4185753083348517, 'learning_rate': 0.015534982308092686, 'colsample_bytree': 0.3012544290913174, 'subsample': 0.7881810381793409}. Best is trial 11 with value: 0.8724231355240054.\u001b[0m\n",
      "\u001b[32m[I 2023-05-14 19:53:45,701]\u001b[0m Trial 19 finished with value: 0.8275896538147617 and parameters: {'n_estimators': 347, 'max_depth': 9, 'reg_alpha': 0.7097913790353065, 'reg_lambda': 0.28376249614470106, 'min_child_weight': 6, 'gamma': 0.23926979633359557, 'learning_rate': 0.38880405219918385, 'colsample_bytree': 0.42421608592595433, 'subsample': 0.65155836995269}. Best is trial 11 with value: 0.8724231355240054.\u001b[0m\n"
     ]
    },
    {
     "name": "stdout",
     "output_type": "stream",
     "text": [
      "\u001b[32m[I 2023-05-14 19:54:20,952]\u001b[0m Trial 20 finished with value: 0.8551982786200323 and parameters: {'n_estimators': 457, 'max_depth': 7, 'reg_alpha': 0.9014789566141964, 'reg_lambda': 0.12378601684135193, 'min_child_weight': 7, 'gamma': 0.017914030013421955, 'learning_rate': 0.14480866126636677, 'colsample_bytree': 0.390681562721627, 'subsample': 0.718063346925101}. Best is trial 11 with value: 0.8724231355240054.\u001b[0m\n",
      "\u001b[32m[I 2023-05-14 19:54:49,558]\u001b[0m Trial 21 finished with value: 0.8721149755655251 and parameters: {'n_estimators': 378, 'max_depth': 6, 'reg_alpha': 0.9465165825622684, 'reg_lambda': 0.452806681753423, 'min_child_weight': 6, 'gamma': 0.26885938070565163, 'learning_rate': 0.022736062018413994, 'colsample_bytree': 0.4809796606694571, 'subsample': 0.5747705931393474}. Best is trial 11 with value: 0.8724231355240054.\u001b[0m\n",
      "\u001b[32m[I 2023-05-14 19:55:20,531]\u001b[0m Trial 22 finished with value: 0.869492952999084 and parameters: {'n_estimators': 370, 'max_depth': 7, 'reg_alpha': 0.897422719258824, 'reg_lambda': 0.38404873205309026, 'min_child_weight': 5, 'gamma': 0.15864585249205773, 'learning_rate': 0.011010604658633698, 'colsample_bytree': 0.46161386396859616, 'subsample': 0.49860831119524873}. Best is trial 11 with value: 0.8724231355240054.\u001b[0m\n",
      "\u001b[32m[I 2023-05-14 19:55:56,331]\u001b[0m Trial 23 finished with value: 0.8514359090881787 and parameters: {'n_estimators': 451, 'max_depth': 8, 'reg_alpha': 0.9903878656037992, 'reg_lambda': 0.45537885917411003, 'min_child_weight': 6, 'gamma': 0.274347864480037, 'learning_rate': 0.14910308945638845, 'colsample_bytree': 0.3524232596786204, 'subsample': 0.6587406222554724}. Best is trial 11 with value: 0.8724231355240054.\u001b[0m\n",
      "\u001b[32m[I 2023-05-14 19:56:17,056]\u001b[0m Trial 24 finished with value: 0.8629424070880866 and parameters: {'n_estimators': 300, 'max_depth': 6, 'reg_alpha': 0.7825850970232014, 'reg_lambda': 0.33090458158179803, 'min_child_weight': 7, 'gamma': 0.21297606915925094, 'learning_rate': 0.14163078084250635, 'colsample_bytree': 0.4261876414103151, 'subsample': 0.84539133423447}. Best is trial 11 with value: 0.8724231355240054.\u001b[0m\n",
      "\u001b[32m[I 2023-05-14 19:56:34,878]\u001b[0m Trial 25 finished with value: 0.8693073358013106 and parameters: {'n_estimators': 433, 'max_depth': 4, 'reg_alpha': 0.8889714181193215, 'reg_lambda': 0.20092653104245775, 'min_child_weight': 4, 'gamma': 0.11983489638591899, 'learning_rate': 0.01727243868304961, 'colsample_bytree': 0.3507666650650303, 'subsample': 0.7569801267244851}. Best is trial 11 with value: 0.8724231355240054.\u001b[0m\n",
      "\u001b[32m[I 2023-05-14 19:57:03,507]\u001b[0m Trial 26 finished with value: 0.859476817508481 and parameters: {'n_estimators': 358, 'max_depth': 7, 'reg_alpha': 0.9205350885569248, 'reg_lambda': 0.48254873087831807, 'min_child_weight': 6, 'gamma': 0.3717700205024254, 'learning_rate': 0.12230020758160103, 'colsample_bytree': 0.47955413626014615, 'subsample': 0.7129382973265392}. Best is trial 11 with value: 0.8724231355240054.\u001b[0m\n",
      "\u001b[32m[I 2023-05-14 19:57:33,348]\u001b[0m Trial 27 finished with value: 0.8418612223431557 and parameters: {'n_estimators': 277, 'max_depth': 8, 'reg_alpha': 0.7523331618885039, 'reg_lambda': 0.15907253874679894, 'min_child_weight': 3, 'gamma': 0.22604231147556886, 'learning_rate': 0.21088580268396356, 'colsample_bytree': 0.543010730889577, 'subsample': 0.6214040598619932}. Best is trial 11 with value: 0.8724231355240054.\u001b[0m\n",
      "\u001b[32m[I 2023-05-14 19:58:04,453]\u001b[0m Trial 28 finished with value: 0.8352905707134143 and parameters: {'n_estimators': 326, 'max_depth': 9, 'reg_alpha': 0.8703055337456764, 'reg_lambda': 0.3010676353518176, 'min_child_weight': 4, 'gamma': 0.11402172075788469, 'learning_rate': 0.31541316981940065, 'colsample_bytree': 0.4186070140256603, 'subsample': 0.7798720511483422}. Best is trial 11 with value: 0.8724231355240054.\u001b[0m\n",
      "\u001b[32m[I 2023-05-14 19:58:32,060]\u001b[0m Trial 29 finished with value: 0.8696007772089619 and parameters: {'n_estimators': 469, 'max_depth': 4, 'reg_alpha': 0.9409795803913141, 'reg_lambda': 0.40705142084311224, 'min_child_weight': 8, 'gamma': 0.07615530640705856, 'learning_rate': 0.0900890873173405, 'colsample_bytree': 0.5571392875605995, 'subsample': 0.53626995701681}. Best is trial 11 with value: 0.8724231355240054.\u001b[0m\n",
      "\u001b[32m[I 2023-05-14 19:58:46,275]\u001b[0m Trial 30 finished with value: 0.8702695773952935 and parameters: {'n_estimators': 428, 'max_depth': 3, 'reg_alpha': 0.9989193900360638, 'reg_lambda': 0.3317849208912163, 'min_child_weight': 5, 'gamma': 0.2672813103793601, 'learning_rate': 0.18291135428786515, 'colsample_bytree': 0.34747129098415497, 'subsample': 0.6921641249567608}. Best is trial 11 with value: 0.8724231355240054.\u001b[0m\n",
      "\u001b[32m[I 2023-05-14 19:59:00,805]\u001b[0m Trial 31 finished with value: 0.8713700704457196 and parameters: {'n_estimators': 445, 'max_depth': 3, 'reg_alpha': 0.9921796160439518, 'reg_lambda': 0.33135065151696397, 'min_child_weight': 5, 'gamma': 0.24676686335507148, 'learning_rate': 0.09613381614720173, 'colsample_bytree': 0.3015312886625685, 'subsample': 0.5892301335591292}. Best is trial 11 with value: 0.8724231355240054.\u001b[0m\n",
      "\u001b[32m[I 2023-05-14 19:59:13,045]\u001b[0m Trial 32 finished with value: 0.8706424305946321 and parameters: {'n_estimators': 371, 'max_depth': 3, 'reg_alpha': 0.9409573154261516, 'reg_lambda': 0.24109447649494414, 'min_child_weight': 6, 'gamma': 0.35998039892323597, 'learning_rate': 0.11448493645206655, 'colsample_bytree': 0.3095595334914029, 'subsample': 0.56976539205231}. Best is trial 11 with value: 0.8724231355240054.\u001b[0m\n",
      "\u001b[32m[I 2023-05-14 19:59:35,803]\u001b[0m Trial 33 finished with value: 0.8673616158145879 and parameters: {'n_estimators': 437, 'max_depth': 5, 'reg_alpha': 0.8256966901585426, 'reg_lambda': 0.047811520913834726, 'min_child_weight': 5, 'gamma': 0.22324264893201823, 'learning_rate': 0.10040191747338392, 'colsample_bytree': 0.3750070014547572, 'subsample': 0.6228542524999809}. Best is trial 11 with value: 0.8724231355240054.\u001b[0m\n",
      "\u001b[32m[I 2023-05-14 19:59:51,521]\u001b[0m Trial 34 finished with value: 0.8665651503682852 and parameters: {'n_estimators': 484, 'max_depth': 3, 'reg_alpha': 0.9347277066622781, 'reg_lambda': 0.40145885983349844, 'min_child_weight': 7, 'gamma': 0.4391609832196909, 'learning_rate': 0.017504159256515203, 'colsample_bytree': 0.30104215047017474, 'subsample': 0.6675161810552594}. Best is trial 11 with value: 0.8724231355240054.\u001b[0m\n",
      "\u001b[32m[I 2023-05-14 20:00:11,464]\u001b[0m Trial 35 finished with value: 0.8707307461655708 and parameters: {'n_estimators': 383, 'max_depth': 4, 'reg_alpha': 0.8633328638684258, 'reg_lambda': 0.5145884806662224, 'min_child_weight': 6, 'gamma': 0.2772635473481915, 'learning_rate': 0.08674593390437113, 'colsample_bytree': 0.5030899702939716, 'subsample': 0.5532570887799082}. Best is trial 11 with value: 0.8724231355240054.\u001b[0m\n",
      "\u001b[32m[I 2023-05-14 20:00:38,706]\u001b[0m Trial 36 finished with value: 0.8488027186789455 and parameters: {'n_estimators': 416, 'max_depth': 6, 'reg_alpha': 0.9335377807886176, 'reg_lambda': 0.32498990438851527, 'min_child_weight': 4, 'gamma': 0.30275297709321797, 'learning_rate': 0.2036803672489262, 'colsample_bytree': 0.39336337529589654, 'subsample': 0.6118181297686656}. Best is trial 11 with value: 0.8724231355240054.\u001b[0m\n",
      "\u001b[32m[I 2023-05-14 20:00:57,850]\u001b[0m Trial 37 finished with value: 0.8717114978867638 and parameters: {'n_estimators': 454, 'max_depth': 4, 'reg_alpha': 0.994383961065582, 'reg_lambda': 0.4271031012807959, 'min_child_weight': 7, 'gamma': 0.16618658941958234, 'learning_rate': 0.07592841853036592, 'colsample_bytree': 0.35765677530943896, 'subsample': 0.647691331948644}. Best is trial 11 with value: 0.8724231355240054.\u001b[0m\n",
      "\u001b[32m[I 2023-05-14 20:01:26,738]\u001b[0m Trial 38 finished with value: 0.872199499684274 and parameters: {'n_estimators': 459, 'max_depth': 5, 'reg_alpha': 0.8200213333818368, 'reg_lambda': 0.5303231460111208, 'min_child_weight': 8, 'gamma': 0.06211723403754789, 'learning_rate': 0.04998020733818456, 'colsample_bytree': 0.5023105549075271, 'subsample': 0.6406813899084829}. Best is trial 11 with value: 0.8724231355240054.\u001b[0m\n",
      "\u001b[32m[I 2023-05-14 20:01:56,522]\u001b[0m Trial 39 finished with value: 0.8700622327522811 and parameters: {'n_estimators': 475, 'max_depth': 5, 'reg_alpha': 0.7373277774999162, 'reg_lambda': 0.5420937913709029, 'min_child_weight': 8, 'gamma': 0.07100582775094164, 'learning_rate': 0.0120681796256768, 'colsample_bytree': 0.4986826150395677, 'subsample': 0.7354622702890925}. Best is trial 11 with value: 0.8724231355240054.\u001b[0m\n"
     ]
    },
    {
     "name": "stdout",
     "output_type": "stream",
     "text": [
      "\u001b[32m[I 2023-05-14 20:02:18,095]\u001b[0m Trial 40 finished with value: 0.8615613752633224 and parameters: {'n_estimators': 278, 'max_depth': 6, 'reg_alpha': 0.8154633028730458, 'reg_lambda': 0.48496604739740884, 'min_child_weight': 7, 'gamma': 0.04136854574366769, 'learning_rate': 0.15610985249598683, 'colsample_bytree': 0.5318287440159177, 'subsample': 0.6849329333182737}. Best is trial 11 with value: 0.8724231355240054.\u001b[0m\n",
      "\u001b[32m[I 2023-05-14 20:02:43,126]\u001b[0m Trial 41 finished with value: 0.8679853141948026 and parameters: {'n_estimators': 409, 'max_depth': 5, 'reg_alpha': 0.9374234883204331, 'reg_lambda': 0.4316805811430724, 'min_child_weight': 7, 'gamma': 0.13060675067773475, 'learning_rate': 0.10263404264694496, 'colsample_bytree': 0.47871109073387463, 'subsample': 0.6627984272316881}. Best is trial 11 with value: 0.8724231355240054.\u001b[0m\n",
      "\u001b[32m[I 2023-05-14 20:03:13,335]\u001b[0m Trial 42 finished with value: 0.8713907500145709 and parameters: {'n_estimators': 499, 'max_depth': 5, 'reg_alpha': 0.8509560860373073, 'reg_lambda': 0.6216300221761157, 'min_child_weight': 8, 'gamma': 0.17439412460261686, 'learning_rate': 0.04848962018277572, 'colsample_bytree': 0.4557215963393336, 'subsample': 0.6313044741376913}. Best is trial 11 with value: 0.8724231355240054.\u001b[0m\n",
      "\u001b[32m[I 2023-05-14 20:03:36,957]\u001b[0m Trial 43 finished with value: 0.8719715753525101 and parameters: {'n_estimators': 466, 'max_depth': 4, 'reg_alpha': 0.9600654717589217, 'reg_lambda': 0.5419319382067503, 'min_child_weight': 8, 'gamma': 0.08769035231683078, 'learning_rate': 0.05936148295013404, 'colsample_bytree': 0.42570449904156465, 'subsample': 0.603763693496974}. Best is trial 11 with value: 0.8724231355240054.\u001b[0m\n",
      "\u001b[32m[I 2023-05-14 20:04:09,712]\u001b[0m Trial 44 finished with value: 0.8695923070195954 and parameters: {'n_estimators': 468, 'max_depth': 6, 'reg_alpha': 0.6065319266765733, 'reg_lambda': 0.511643865343594, 'min_child_weight': 8, 'gamma': 0.06935246061937096, 'learning_rate': 0.056284602761678536, 'colsample_bytree': 0.41685272444567645, 'subsample': 0.6034317930061375}. Best is trial 11 with value: 0.8724231355240054.\u001b[0m\n",
      "\u001b[32m[I 2023-05-14 20:04:38,691]\u001b[0m Trial 45 finished with value: 0.8707631824873113 and parameters: {'n_estimators': 324, 'max_depth': 7, 'reg_alpha': 0.7860472648057375, 'reg_lambda': 0.603965650171365, 'min_child_weight': 8, 'gamma': 0.10794923337776244, 'learning_rate': 0.04948837958224244, 'colsample_bytree': 0.5236850186383283, 'subsample': 0.5389951884538341}. Best is trial 11 with value: 0.8724231355240054.\u001b[0m\n",
      "\u001b[32m[I 2023-05-14 20:05:01,655]\u001b[0m Trial 46 finished with value: 0.8622282952500167 and parameters: {'n_estimators': 392, 'max_depth': 5, 'reg_alpha': 0.9133869390227903, 'reg_lambda': 0.5509399460446599, 'min_child_weight': 0, 'gamma': 0.007215203572990714, 'learning_rate': 0.1384981074261007, 'colsample_bytree': 0.4408286132260768, 'subsample': 0.5110217692746419}. Best is trial 11 with value: 0.8724231355240054.\u001b[0m\n",
      "\u001b[32m[I 2023-05-14 20:05:18,059]\u001b[0m Trial 47 finished with value: 0.8212334897785418 and parameters: {'n_estimators': 204, 'max_depth': 6, 'reg_alpha': 0.8382678132774012, 'reg_lambda': 0.5108725903478112, 'min_child_weight': 6, 'gamma': 0.05806916583842296, 'learning_rate': 0.6155653282501183, 'colsample_bytree': 0.5691086447433173, 'subsample': 0.5789373195127534}. Best is trial 11 with value: 0.8724231355240054.\u001b[0m\n",
      "\u001b[32m[I 2023-05-14 20:05:38,958]\u001b[0m Trial 48 finished with value: 0.8634986791632743 and parameters: {'n_estimators': 424, 'max_depth': 4, 'reg_alpha': 0.9607094229353844, 'reg_lambda': 0.3666247018580532, 'min_child_weight': 7, 'gamma': 0.13187036901486826, 'learning_rate': 0.20099093572278387, 'colsample_bytree': 0.5013521144199953, 'subsample': 0.8624786929996746}. Best is trial 11 with value: 0.8724231355240054.\u001b[0m\n",
      "\u001b[32m[I 2023-05-14 20:05:48,223]\u001b[0m Trial 49 finished with value: 0.8698918961791126 and parameters: {'n_estimators': 98, 'max_depth': 9, 'reg_alpha': 0.8833732710512437, 'reg_lambda': 0.6411167773200861, 'min_child_weight': 6, 'gamma': 0.20117501524633719, 'learning_rate': 0.05843594632332674, 'colsample_bytree': 0.40358350647726543, 'subsample': 0.7946560604996192}. Best is trial 11 with value: 0.8724231355240054.\u001b[0m\n",
      "\u001b[32m[I 2023-05-14 20:06:20,395]\u001b[0m Trial 50 finished with value: 0.8404269381194158 and parameters: {'n_estimators': 401, 'max_depth': 7, 'reg_alpha': 0.7855257477092306, 'reg_lambda': 0.5524598865975929, 'min_child_weight': 2, 'gamma': 0.3375504167001363, 'learning_rate': 0.26862627190483446, 'colsample_bytree': 0.45505879369098606, 'subsample': 0.7335532999594374}. Best is trial 11 with value: 0.8724231355240054.\u001b[0m\n",
      "\u001b[32m[I 2023-05-14 20:06:44,336]\u001b[0m Trial 51 finished with value: 0.8712521020218429 and parameters: {'n_estimators': 456, 'max_depth': 5, 'reg_alpha': 0.9679219560195809, 'reg_lambda': 0.4425459410337146, 'min_child_weight': 8, 'gamma': 0.16306973843684786, 'learning_rate': 0.07222065020506963, 'colsample_bytree': 0.3714471031646663, 'subsample': 0.6283862695762829}. Best is trial 11 with value: 0.8724231355240054.\u001b[0m\n",
      "\u001b[32m[I 2023-05-14 20:07:06,850]\u001b[0m Trial 52 finished with value: 0.8698101450494896 and parameters: {'n_estimators': 473, 'max_depth': 4, 'reg_alpha': 0.9624704020441313, 'reg_lambda': 0.5787407939677485, 'min_child_weight': 7, 'gamma': 0.0942763325062087, 'learning_rate': 0.11382827120619302, 'colsample_bytree': 0.4413402568881667, 'subsample': 0.6943325559596606}. Best is trial 11 with value: 0.8724231355240054.\u001b[0m\n",
      "\u001b[32m[I 2023-05-14 20:07:27,405]\u001b[0m Trial 53 finished with value: 0.8721578561475958 and parameters: {'n_estimators': 489, 'max_depth': 4, 'reg_alpha': 0.9997170101042877, 'reg_lambda': 0.4174549414309389, 'min_child_weight': 7, 'gamma': 0.14805552189859067, 'learning_rate': 0.04369934322891904, 'colsample_bytree': 0.3359925479294117, 'subsample': 0.5960245172716707}. Best is trial 11 with value: 0.8724231355240054.\u001b[0m\n",
      "\u001b[32m[I 2023-05-14 20:08:03,815]\u001b[0m Trial 54 finished with value: 0.8711786549499336 and parameters: {'n_estimators': 491, 'max_depth': 8, 'reg_alpha': 0.9023337635369016, 'reg_lambda': 0.48834883315856303, 'min_child_weight': 8, 'gamma': 0.04380422389761912, 'learning_rate': 0.03762408695754331, 'colsample_bytree': 0.3342648823975599, 'subsample': 0.5898978641885105}. Best is trial 11 with value: 0.8724231355240054.\u001b[0m\n",
      "\u001b[32m[I 2023-05-14 20:08:26,165]\u001b[0m Trial 55 finished with value: 0.8678475710386696 and parameters: {'n_estimators': 486, 'max_depth': 4, 'reg_alpha': 0.8546278962359465, 'reg_lambda': 0.37865195563957627, 'min_child_weight': 6, 'gamma': 0.2018354618404949, 'learning_rate': 0.01199606758406077, 'colsample_bytree': 0.40824514495486774, 'subsample': 0.6701718323427153}. Best is trial 11 with value: 0.8724231355240054.\u001b[0m\n",
      "\u001b[32m[I 2023-05-14 20:08:49,371]\u001b[0m Trial 56 finished with value: 0.8624979799799263 and parameters: {'n_estimators': 436, 'max_depth': 5, 'reg_alpha': 0.9514312765864265, 'reg_lambda': 0.4485789010593888, 'min_child_weight': 7, 'gamma': 0.12671700092061572, 'learning_rate': 0.1628296101525691, 'colsample_bytree': 0.379271873238615, 'subsample': 0.6411062861586162}. Best is trial 11 with value: 0.8724231355240054.\u001b[0m\n",
      "\u001b[32m[I 2023-05-14 20:09:07,094]\u001b[0m Trial 57 finished with value: 0.8721394246400083 and parameters: {'n_estimators': 299, 'max_depth': 6, 'reg_alpha': 0.9069817486169376, 'reg_lambda': 0.41159886718666033, 'min_child_weight': 5, 'gamma': 0.2923251184991576, 'learning_rate': 0.05058062912156114, 'colsample_bytree': 0.32835670879117823, 'subsample': 0.600998388438052}. Best is trial 11 with value: 0.8724231355240054.\u001b[0m\n",
      "\u001b[32m[I 2023-05-14 20:09:22,610]\u001b[0m Trial 58 finished with value: 0.8672490338585828 and parameters: {'n_estimators': 258, 'max_depth': 6, 'reg_alpha': 0.9004926682870525, 'reg_lambda': 0.39271652195320733, 'min_child_weight': 5, 'gamma': 0.30902394885338447, 'learning_rate': 0.12131991736228798, 'colsample_bytree': 0.33230609223709673, 'subsample': 0.5585274644885917}. Best is trial 11 with value: 0.8724231355240054.\u001b[0m\n",
      "\u001b[32m[I 2023-05-14 20:09:42,224]\u001b[0m Trial 59 finished with value: 0.8569458116579 and parameters: {'n_estimators': 297, 'max_depth': 7, 'reg_alpha': 0.8319174223350668, 'reg_lambda': 0.2712843333148076, 'min_child_weight': 5, 'gamma': 0.26705335253918694, 'learning_rate': 0.1760032835245669, 'colsample_bytree': 0.33086804548444776, 'subsample': 0.7070514367993679}. Best is trial 11 with value: 0.8724231355240054.\u001b[0m\n"
     ]
    },
    {
     "name": "stdout",
     "output_type": "stream",
     "text": [
      "\u001b[32m[I 2023-05-14 20:10:07,649]\u001b[0m Trial 60 finished with value: 0.8703249643391082 and parameters: {'n_estimators': 336, 'max_depth': 8, 'reg_alpha': 0.9082647522706919, 'reg_lambda': 0.4600820674033802, 'min_child_weight': 4, 'gamma': 0.243775338455054, 'learning_rate': 0.05083338272666531, 'colsample_bytree': 0.3623723499903612, 'subsample': 0.4724223195061705}. Best is trial 11 with value: 0.8724231355240054.\u001b[0m\n",
      "\u001b[32m[I 2023-05-14 20:10:30,559]\u001b[0m Trial 61 finished with value: 0.8698096788435802 and parameters: {'n_estimators': 354, 'max_depth': 6, 'reg_alpha': 0.9613204571497713, 'reg_lambda': 0.5134862359845923, 'min_child_weight': 6, 'gamma': 0.18767143910869183, 'learning_rate': 0.06945720457139422, 'colsample_bytree': 0.39170546603441164, 'subsample': 0.6021257511290294}. Best is trial 11 with value: 0.8724231355240054.\u001b[0m\n",
      "\u001b[32m[I 2023-05-14 20:10:52,050]\u001b[0m Trial 62 finished with value: 0.8716850794589414 and parameters: {'n_estimators': 314, 'max_depth': 6, 'reg_alpha': 0.8740253597708204, 'reg_lambda': 0.4125167848982275, 'min_child_weight': 5, 'gamma': 0.14968446294279153, 'learning_rate': 0.047289124053352505, 'colsample_bytree': 0.42222546046237625, 'subsample': 0.569517659212294}. Best is trial 11 with value: 0.8724231355240054.\u001b[0m\n",
      "\u001b[32m[I 2023-05-14 20:11:08,643]\u001b[0m Trial 63 finished with value: 0.8713285560030857 and parameters: {'n_estimators': 362, 'max_depth': 4, 'reg_alpha': 0.9773418056308464, 'reg_lambda': 0.479292241609084, 'min_child_weight': 6, 'gamma': 0.2219307826204236, 'learning_rate': 0.09190687846613514, 'colsample_bytree': 0.4021322732956053, 'subsample': 0.6107896316539402}. Best is trial 11 with value: 0.8724231355240054.\u001b[0m\n",
      "\u001b[32m[I 2023-05-14 20:11:29,207]\u001b[0m Trial 64 finished with value: 0.8633912712243538 and parameters: {'n_estimators': 261, 'max_depth': 7, 'reg_alpha': 0.9976693261940859, 'reg_lambda': 0.35787619759938927, 'min_child_weight': 8, 'gamma': 0.09677092324585898, 'learning_rate': 0.13123274771270427, 'colsample_bytree': 0.4338360662979911, 'subsample': 0.6477278108824006}. Best is trial 11 with value: 0.8724231355240054.\u001b[0m\n",
      "\u001b[32m[I 2023-05-14 20:11:52,482]\u001b[0m Trial 65 finished with value: 0.87232097401435 and parameters: {'n_estimators': 378, 'max_depth': 5, 'reg_alpha': 0.9205179610902205, 'reg_lambda': 0.42942347702218797, 'min_child_weight': 7, 'gamma': 0.03738950485925586, 'learning_rate': 0.03325802795641623, 'colsample_bytree': 0.4692322269190227, 'subsample': 0.5952152632534878}. Best is trial 11 with value: 0.8724231355240054.\u001b[0m\n",
      "\u001b[32m[I 2023-05-14 20:12:16,851]\u001b[0m Trial 66 finished with value: 0.8675556923448683 and parameters: {'n_estimators': 379, 'max_depth': 5, 'reg_alpha': 0.9156271392070192, 'reg_lambda': 0.40784125874088795, 'min_child_weight': 7, 'gamma': 0.2940617341883962, 'learning_rate': 0.01084457318844911, 'colsample_bytree': 0.47670626922754267, 'subsample': 0.5774599808390791}. Best is trial 11 with value: 0.8724231355240054.\u001b[0m\n",
      "\u001b[32m[I 2023-05-14 20:12:40,029]\u001b[0m Trial 67 finished with value: 0.867067096063656 and parameters: {'n_estimators': 340, 'max_depth': 6, 'reg_alpha': 0.8070427552030842, 'reg_lambda': 0.45925980836725666, 'min_child_weight': 6, 'gamma': 0.03469778360962342, 'learning_rate': 0.09634351969254501, 'colsample_bytree': 0.37499655206097204, 'subsample': 0.6323989490508599}. Best is trial 11 with value: 0.8724231355240054.\u001b[0m\n",
      "\u001b[32m[I 2023-05-14 20:12:58,783]\u001b[0m Trial 68 finished with value: 0.8629326901795759 and parameters: {'n_estimators': 289, 'max_depth': 7, 'reg_alpha': 0.8651782173608631, 'reg_lambda': 0.35641186308012435, 'min_child_weight': 5, 'gamma': 0.013405268592200953, 'learning_rate': 0.130667105440111, 'colsample_bytree': 0.3212381518883459, 'subsample': 0.7196384788006593}. Best is trial 11 with value: 0.8724231355240054.\u001b[0m\n",
      "\u001b[32m[I 2023-05-14 20:13:22,772]\u001b[0m Trial 69 finished with value: 0.871760371103715 and parameters: {'n_estimators': 237, 'max_depth': 8, 'reg_alpha': 0.8911093691268592, 'reg_lambda': 0.29823800236300857, 'min_child_weight': 7, 'gamma': 0.34211999820899264, 'learning_rate': 0.04060266252081746, 'colsample_bytree': 0.4551189420637191, 'subsample': 0.6688577429070307}. Best is trial 11 with value: 0.8724231355240054.\u001b[0m\n",
      "\u001b[32m[I 2023-05-14 20:13:44,366]\u001b[0m Trial 70 finished with value: 0.8700896381186223 and parameters: {'n_estimators': 310, 'max_depth': 5, 'reg_alpha': 0.9274270270722769, 'reg_lambda': 0.4264025924468476, 'min_child_weight': 6, 'gamma': 0.25086502011938117, 'learning_rate': 0.07987365186933462, 'colsample_bytree': 0.51824566331738, 'subsample': 0.618273665433825}. Best is trial 11 with value: 0.8724231355240054.\u001b[0m\n",
      "\u001b[32m[I 2023-05-14 20:14:04,941]\u001b[0m Trial 71 finished with value: 0.8719329599563996 and parameters: {'n_estimators': 446, 'max_depth': 4, 'reg_alpha': 0.9702768619182245, 'reg_lambda': 0.4841467323934856, 'min_child_weight': 7, 'gamma': 0.07065579830349952, 'learning_rate': 0.03327421424519466, 'colsample_bytree': 0.34959188246212813, 'subsample': 0.5926774754892253}. Best is trial 11 with value: 0.8724231355240054.\u001b[0m\n",
      "\u001b[32m[I 2023-05-14 20:14:22,985]\u001b[0m Trial 72 finished with value: 0.8703422313716068 and parameters: {'n_estimators': 464, 'max_depth': 3, 'reg_alpha': 0.9343613360496952, 'reg_lambda': 0.5519907356991585, 'min_child_weight': 8, 'gamma': 0.09403981299045464, 'learning_rate': 0.03487371689623105, 'colsample_bytree': 0.4310609224095961, 'subsample': 0.6062842967017741}. Best is trial 11 with value: 0.8724231355240054.\u001b[0m\n",
      "\u001b[32m[I 2023-05-14 20:14:52,241]\u001b[0m Trial 73 finished with value: 0.8682147197821312 and parameters: {'n_estimators': 483, 'max_depth': 5, 'reg_alpha': 0.9553695253614416, 'reg_lambda': 0.39407289018574, 'min_child_weight': 4, 'gamma': 0.1466029867323395, 'learning_rate': 0.08030010296649824, 'colsample_bytree': 0.47113485977329134, 'subsample': 0.644536803946883}. Best is trial 11 with value: 0.8724231355240054.\u001b[0m\n",
      "\u001b[32m[I 2023-05-14 20:15:44,065]\u001b[0m Trial 74 finished with value: 0.8503360079763557 and parameters: {'n_estimators': 499, 'max_depth': 9, 'reg_alpha': 0.8527462447868819, 'reg_lambda': 0.5295111305613609, 'min_child_weight': 7, 'gamma': 0.19975025526907247, 'learning_rate': 0.11298295391617891, 'colsample_bytree': 0.49003960863992696, 'subsample': 0.5504195403140252}. Best is trial 11 with value: 0.8724231355240054.\u001b[0m\n",
      "\u001b[32m[I 2023-05-14 20:16:03,904]\u001b[0m Trial 75 finished with value: 0.8661422875811674 and parameters: {'n_estimators': 424, 'max_depth': 4, 'reg_alpha': 0.8889988987700113, 'reg_lambda': 0.580101599208397, 'min_child_weight': 8, 'gamma': 0.128618364504857, 'learning_rate': 0.011589275489186434, 'colsample_bytree': 0.40972294380259605, 'subsample': 0.5914489765756222}. Best is trial 11 with value: 0.8724231355240054.\u001b[0m\n",
      "\u001b[32m[I 2023-05-14 20:16:29,031]\u001b[0m Trial 76 finished with value: 0.8599667167927848 and parameters: {'n_estimators': 406, 'max_depth': 6, 'reg_alpha': 0.9953368440476447, 'reg_lambda': 0.4531642560121901, 'min_child_weight': 6, 'gamma': 0.0007492948469737387, 'learning_rate': 0.1561712414194063, 'colsample_bytree': 0.38598356797293704, 'subsample': 0.8899417171266196}. Best is trial 11 with value: 0.8724231355240054.\u001b[0m\n",
      "\u001b[32m[I 2023-05-14 20:16:50,577]\u001b[0m Trial 77 finished with value: 0.8693292765940196 and parameters: {'n_estimators': 370, 'max_depth': 5, 'reg_alpha': 0.928878104985864, 'reg_lambda': 0.4198592413923094, 'min_child_weight': 5, 'gamma': 0.034092525866028844, 'learning_rate': 0.08222451542656166, 'colsample_bytree': 0.4671118662961917, 'subsample': 0.756152269435643}. Best is trial 11 with value: 0.8724231355240054.\u001b[0m\n",
      "\u001b[32m[I 2023-05-14 20:17:15,797]\u001b[0m Trial 78 finished with value: 0.8696894029295936 and parameters: {'n_estimators': 324, 'max_depth': 7, 'reg_alpha': 0.831339649253364, 'reg_lambda': 0.4981235756662516, 'min_child_weight': 7, 'gamma': 0.1669371314925666, 'learning_rate': 0.06076532702026059, 'colsample_bytree': 0.4471486349551396, 'subsample': 0.807565726509599}. Best is trial 11 with value: 0.8724231355240054.\u001b[0m\n",
      "\u001b[32m[I 2023-05-14 20:17:43,973]\u001b[0m Trial 79 finished with value: 0.8725217194920687 and parameters: {'n_estimators': 461, 'max_depth': 6, 'reg_alpha': 0.9764781690593561, 'reg_lambda': 0.34428491876011313, 'min_child_weight': 8, 'gamma': 0.22609377198552139, 'learning_rate': 0.032337041417245166, 'colsample_bytree': 0.3600390838927368, 'subsample': 0.6208861794375538}. Best is trial 79 with value: 0.8725217194920687.\u001b[0m\n"
     ]
    },
    {
     "name": "stdout",
     "output_type": "stream",
     "text": [
      "\u001b[32m[I 2023-05-14 20:18:12,539]\u001b[0m Trial 80 finished with value: 0.8727463990260809 and parameters: {'n_estimators': 446, 'max_depth': 6, 'reg_alpha': 0.915683688202254, 'reg_lambda': 0.31334741303605357, 'min_child_weight': 6, 'gamma': 0.22429294648503934, 'learning_rate': 0.030618678740731226, 'colsample_bytree': 0.3643474858944649, 'subsample': 0.6783493117610017}. Best is trial 80 with value: 0.8727463990260809.\u001b[0m\n",
      "\u001b[32m[I 2023-05-14 20:18:41,789]\u001b[0m Trial 81 finished with value: 0.8722690233640418 and parameters: {'n_estimators': 446, 'max_depth': 6, 'reg_alpha': 0.9136689675305364, 'reg_lambda': 0.3431761496781834, 'min_child_weight': 6, 'gamma': 0.2842889307825871, 'learning_rate': 0.0364742746543211, 'colsample_bytree': 0.344176063573904, 'subsample': 0.683959244790534}. Best is trial 80 with value: 0.8727463990260809.\u001b[0m\n",
      "\u001b[32m[I 2023-05-14 20:19:11,439]\u001b[0m Trial 82 finished with value: 0.872588484613947 and parameters: {'n_estimators': 447, 'max_depth': 6, 'reg_alpha': 0.9778853218093838, 'reg_lambda': 0.31596616130774635, 'min_child_weight': 6, 'gamma': 0.2834794334166281, 'learning_rate': 0.03138799333954773, 'colsample_bytree': 0.34227242327930063, 'subsample': 0.6832307836832847}. Best is trial 80 with value: 0.8727463990260809.\u001b[0m\n",
      "\u001b[32m[I 2023-05-14 20:19:39,021]\u001b[0m Trial 83 finished with value: 0.8725589069668013 and parameters: {'n_estimators': 442, 'max_depth': 6, 'reg_alpha': 0.977429281270937, 'reg_lambda': 0.3113130581704563, 'min_child_weight': 5, 'gamma': 0.29261719445879886, 'learning_rate': 0.03218119289491884, 'colsample_bytree': 0.34206926346612126, 'subsample': 0.7006046829860263}. Best is trial 80 with value: 0.8727463990260809.\u001b[0m\n",
      "\u001b[32m[I 2023-05-14 20:20:05,362]\u001b[0m Trial 84 finished with value: 0.8646640835036351 and parameters: {'n_estimators': 444, 'max_depth': 6, 'reg_alpha': 0.9772607667321903, 'reg_lambda': 0.30820573333018686, 'min_child_weight': 6, 'gamma': 0.24918378190617724, 'learning_rate': 0.10456347053309746, 'colsample_bytree': 0.3419978251823375, 'subsample': 0.6778802064925964}. Best is trial 80 with value: 0.8727463990260809.\u001b[0m\n",
      "\u001b[32m[I 2023-05-14 20:20:37,168]\u001b[0m Trial 85 finished with value: 0.8720974631829262 and parameters: {'n_estimators': 478, 'max_depth': 6, 'reg_alpha': 0.9973344350067113, 'reg_lambda': 0.26042901058294543, 'min_child_weight': 7, 'gamma': 0.32655136131545004, 'learning_rate': 0.03896040108508926, 'colsample_bytree': 0.3604075442597212, 'subsample': 0.6950192112032895}. Best is trial 80 with value: 0.8727463990260809.\u001b[0m\n",
      "\u001b[32m[I 2023-05-14 20:21:04,643]\u001b[0m Trial 86 finished with value: 0.872440190343772 and parameters: {'n_estimators': 419, 'max_depth': 6, 'reg_alpha': 0.9272132887636794, 'reg_lambda': 0.3387975213069413, 'min_child_weight': 5, 'gamma': 0.2782608892959619, 'learning_rate': 0.03168179501852813, 'colsample_bytree': 0.34336914277997127, 'subsample': 0.6582207956378955}. Best is trial 80 with value: 0.8727463990260809.\u001b[0m\n",
      "\u001b[32m[I 2023-05-14 20:21:29,807]\u001b[0m Trial 87 finished with value: 0.8691626449150999 and parameters: {'n_estimators': 419, 'max_depth': 6, 'reg_alpha': 0.9403539133425294, 'reg_lambda': 0.3125215801187729, 'min_child_weight': 4, 'gamma': 0.371331293199169, 'learning_rate': 0.07807650572730669, 'colsample_bytree': 0.3081398494807104, 'subsample': 0.6577268864577045}. Best is trial 80 with value: 0.8727463990260809.\u001b[0m\n",
      "\u001b[32m[I 2023-05-14 20:21:58,911]\u001b[0m Trial 88 finished with value: 0.8587041428651518 and parameters: {'n_estimators': 437, 'max_depth': 7, 'reg_alpha': 0.8759805240475305, 'reg_lambda': 0.34330034047322455, 'min_child_weight': 5, 'gamma': 0.4038688631922965, 'learning_rate': 0.13457200362996005, 'colsample_bytree': 0.3170425619376763, 'subsample': 0.6918949750620186}. Best is trial 80 with value: 0.8727463990260809.\u001b[0m\n",
      "\u001b[32m[I 2023-05-14 20:22:27,490]\u001b[0m Trial 89 finished with value: 0.8727019579440217 and parameters: {'n_estimators': 460, 'max_depth': 6, 'reg_alpha': 0.9145325798394898, 'reg_lambda': 0.3423202190884413, 'min_child_weight': 5, 'gamma': 0.22108056041329852, 'learning_rate': 0.03214604154412246, 'colsample_bytree': 0.36973437916920454, 'subsample': 0.7180006735807781}. Best is trial 80 with value: 0.8727463990260809.\u001b[0m\n",
      "\u001b[32m[I 2023-05-14 20:22:55,313]\u001b[0m Trial 90 finished with value: 0.8712578638734054 and parameters: {'n_estimators': 450, 'max_depth': 6, 'reg_alpha': 0.920369893602777, 'reg_lambda': 0.32729340270139645, 'min_child_weight': 5, 'gamma': 0.2274087888253182, 'learning_rate': 0.014587712005909814, 'colsample_bytree': 0.36689162172283396, 'subsample': 0.7217207839364619}. Best is trial 80 with value: 0.8727463990260809.\u001b[0m\n",
      "\u001b[32m[I 2023-05-14 20:23:19,654]\u001b[0m Trial 91 finished with value: 0.8723097701511089 and parameters: {'n_estimators': 393, 'max_depth': 6, 'reg_alpha': 0.9486631705838071, 'reg_lambda': 0.27996125804755567, 'min_child_weight': 5, 'gamma': 0.27964168915324195, 'learning_rate': 0.0327645037661239, 'colsample_bytree': 0.3504534587086012, 'subsample': 0.6839464395537223}. Best is trial 80 with value: 0.8727463990260809.\u001b[0m\n",
      "\u001b[32m[I 2023-05-14 20:23:45,164]\u001b[0m Trial 92 finished with value: 0.8726654947917332 and parameters: {'n_estimators': 430, 'max_depth': 6, 'reg_alpha': 0.9737979355480024, 'reg_lambda': 0.2801364669369285, 'min_child_weight': 5, 'gamma': 0.2806211649797823, 'learning_rate': 0.031211111106051414, 'colsample_bytree': 0.3485022707661492, 'subsample': 0.6825514723547347}. Best is trial 80 with value: 0.8727463990260809.\u001b[0m\n",
      "\u001b[32m[I 2023-05-14 20:24:09,049]\u001b[0m Trial 93 finished with value: 0.8699968482565852 and parameters: {'n_estimators': 395, 'max_depth': 6, 'reg_alpha': 0.9702433848545623, 'reg_lambda': 0.28764043580919696, 'min_child_weight': 5, 'gamma': 0.32187845883892374, 'learning_rate': 0.06758818876269054, 'colsample_bytree': 0.35693034225538084, 'subsample': 0.6569070999357284}. Best is trial 80 with value: 0.8727463990260809.\u001b[0m\n",
      "\u001b[32m[I 2023-05-14 20:24:40,136]\u001b[0m Trial 94 finished with value: 0.8606182237812547 and parameters: {'n_estimators': 429, 'max_depth': 7, 'reg_alpha': 0.9745054069075747, 'reg_lambda': 0.2267171991347457, 'min_child_weight': 4, 'gamma': 0.2594873757233814, 'learning_rate': 0.10491284764859363, 'colsample_bytree': 0.3794578681737019, 'subsample': 0.699505890483938}. Best is trial 80 with value: 0.8727463990260809.\u001b[0m\n",
      "\u001b[32m[I 2023-05-14 20:25:03,721]\u001b[0m Trial 95 finished with value: 0.8723535187978835 and parameters: {'n_estimators': 411, 'max_depth': 6, 'reg_alpha': 0.9455905567504317, 'reg_lambda': 0.2883776107571095, 'min_child_weight': 3, 'gamma': 0.2863349579930524, 'learning_rate': 0.030391731884682006, 'colsample_bytree': 0.31360921427886906, 'subsample': 0.70914005263275}. Best is trial 80 with value: 0.8727463990260809.\u001b[0m\n",
      "\u001b[32m[I 2023-05-14 20:25:27,562]\u001b[0m Trial 96 finished with value: 0.8702184344670357 and parameters: {'n_estimators': 410, 'max_depth': 6, 'reg_alpha': 0.9436580872104283, 'reg_lambda': 0.3764670856044965, 'min_child_weight': 3, 'gamma': 0.3058345419744558, 'learning_rate': 0.06845137832482392, 'colsample_bytree': 0.3264622815043446, 'subsample': 0.7074085752021871}. Best is trial 80 with value: 0.8727463990260809.\u001b[0m\n",
      "\u001b[32m[I 2023-05-14 20:25:53,678]\u001b[0m Trial 97 finished with value: 0.8663660990625683 and parameters: {'n_estimators': 464, 'max_depth': 6, 'reg_alpha': 0.8983432937604201, 'reg_lambda': 0.3170876577923712, 'min_child_weight': 2, 'gamma': 0.2202235406127999, 'learning_rate': 0.09078053333335086, 'colsample_bytree': 0.31428676612904244, 'subsample': 0.7401792966684764}. Best is trial 80 with value: 0.8727463990260809.\u001b[0m\n",
      "\u001b[32m[I 2023-05-14 20:26:25,232]\u001b[0m Trial 98 finished with value: 0.8725469350536592 and parameters: {'n_estimators': 437, 'max_depth': 7, 'reg_alpha': 0.973887873540735, 'reg_lambda': 0.24661516074576229, 'min_child_weight': 3, 'gamma': 0.3543849984414016, 'learning_rate': 0.022461006005576066, 'colsample_bytree': 0.36753993422753134, 'subsample': 0.6708868990151595}. Best is trial 80 with value: 0.8727463990260809.\u001b[0m\n",
      "\u001b[32m[I 2023-05-14 20:26:56,151]\u001b[0m Trial 99 finished with value: 0.8585760291715466 and parameters: {'n_estimators': 435, 'max_depth': 7, 'reg_alpha': 0.9791670848228271, 'reg_lambda': 0.2540494651817442, 'min_child_weight': 3, 'gamma': 0.3519445409117346, 'learning_rate': 0.11938460142129084, 'colsample_bytree': 0.3688589280365555, 'subsample': 0.6741097029725579}. Best is trial 80 with value: 0.8727463990260809.\u001b[0m\n"
     ]
    },
    {
     "name": "stdout",
     "output_type": "stream",
     "text": [
      "\u001b[32m[I 2023-05-14 20:27:25,355]\u001b[0m Trial 100 finished with value: 0.8696995126211025 and parameters: {'n_estimators': 417, 'max_depth': 7, 'reg_alpha': 0.953095805126904, 'reg_lambda': 0.22628175771170594, 'min_child_weight': 2, 'gamma': 0.31636131069051276, 'learning_rate': 0.012088810857114128, 'colsample_bytree': 0.34041994399960884, 'subsample': 0.7111243468609243}. Best is trial 80 with value: 0.8727463990260809.\u001b[0m\n",
      "\u001b[32m[I 2023-05-14 20:27:55,151]\u001b[0m Trial 101 finished with value: 0.8725810557804932 and parameters: {'n_estimators': 459, 'max_depth': 6, 'reg_alpha': 0.924856481692854, 'reg_lambda': 0.29237142293491225, 'min_child_weight': 3, 'gamma': 0.27432858972372887, 'learning_rate': 0.028723518899979577, 'colsample_bytree': 0.3939326781312376, 'subsample': 0.6617288552690209}. Best is trial 80 with value: 0.8727463990260809.\u001b[0m\n",
      "\u001b[32m[I 2023-05-14 20:28:24,020]\u001b[0m Trial 102 finished with value: 0.8687801081480826 and parameters: {'n_estimators': 459, 'max_depth': 6, 'reg_alpha': 0.9774508850337651, 'reg_lambda': 0.29335555882888653, 'min_child_weight': 3, 'gamma': 0.28421032756753367, 'learning_rate': 0.06396836246222298, 'colsample_bytree': 0.38813234043947353, 'subsample': 0.6785337922623843}. Best is trial 80 with value: 0.8727463990260809.\u001b[0m\n",
      "\u001b[32m[I 2023-05-14 20:28:53,568]\u001b[0m Trial 103 finished with value: 0.8725923923946948 and parameters: {'n_estimators': 476, 'max_depth': 6, 'reg_alpha': 0.8806671160537716, 'reg_lambda': 0.26480791522354824, 'min_child_weight': 3, 'gamma': 0.23658971751362057, 'learning_rate': 0.02740176640283645, 'colsample_bytree': 0.35768471411190345, 'subsample': 0.6547776248974277}. Best is trial 80 with value: 0.8727463990260809.\u001b[0m\n",
      "\u001b[32m[I 2023-05-14 20:29:27,107]\u001b[0m Trial 104 finished with value: 0.8717240024297972 and parameters: {'n_estimators': 475, 'max_depth': 7, 'reg_alpha': 0.8638797920201468, 'reg_lambda': 0.2511251144273496, 'min_child_weight': 3, 'gamma': 0.23723565881844316, 'learning_rate': 0.030465148943381763, 'colsample_bytree': 0.3546345883492805, 'subsample': 0.6545548569265769}. Best is trial 80 with value: 0.8727463990260809.\u001b[0m\n",
      "\u001b[32m[I 2023-05-14 20:29:56,525]\u001b[0m Trial 105 finished with value: 0.8685982340799219 and parameters: {'n_estimators': 455, 'max_depth': 6, 'reg_alpha': 0.8804779245814863, 'reg_lambda': 0.20332094027903103, 'min_child_weight': 4, 'gamma': 0.26637708678331934, 'learning_rate': 0.059812037192605264, 'colsample_bytree': 0.39737787875906094, 'subsample': 0.6365817435418473}. Best is trial 80 with value: 0.8727463990260809.\u001b[0m\n",
      "\u001b[32m[I 2023-05-14 20:30:30,684]\u001b[0m Trial 106 finished with value: 0.870046428956139 and parameters: {'n_estimators': 469, 'max_depth': 7, 'reg_alpha': 0.9275699612720287, 'reg_lambda': 0.2667859531464051, 'min_child_weight': 2, 'gamma': 0.23945206742500194, 'learning_rate': 0.01022005278235134, 'colsample_bytree': 0.36782072192848614, 'subsample': 0.6632618807782026}. Best is trial 80 with value: 0.8727463990260809.\u001b[0m\n",
      "\u001b[32m[I 2023-05-14 20:30:59,887]\u001b[0m Trial 107 finished with value: 0.8662440997567347 and parameters: {'n_estimators': 493, 'max_depth': 6, 'reg_alpha': 0.8949314265292532, 'reg_lambda': 0.3564959639519314, 'min_child_weight': 4, 'gamma': 0.20258216116174763, 'learning_rate': 0.08684751133224505, 'colsample_bytree': 0.32612046124093796, 'subsample': 0.6952500908522369}. Best is trial 80 with value: 0.8727463990260809.\u001b[0m\n",
      "\u001b[32m[I 2023-05-14 20:31:31,428]\u001b[0m Trial 108 finished with value: 0.8559020276515523 and parameters: {'n_estimators': 481, 'max_depth': 6, 'reg_alpha': 0.9816503555676565, 'reg_lambda': 0.3120712674219893, 'min_child_weight': 1, 'gamma': 0.340763312084764, 'learning_rate': 0.14221783989070574, 'colsample_bytree': 0.3819946484498027, 'subsample': 0.6192045969466615}. Best is trial 80 with value: 0.8727463990260809.\u001b[0m\n",
      "\u001b[32m[I 2023-05-14 20:31:42,186]\u001b[0m Trial 109 finished with value: 0.8697754796778515 and parameters: {'n_estimators': 152, 'max_depth': 7, 'reg_alpha': 0.9556523102968703, 'reg_lambda': 0.2739734408503694, 'min_child_weight': 3, 'gamma': 0.3176473721232392, 'learning_rate': 0.09957995272968062, 'colsample_bytree': 0.34338515543497333, 'subsample': 0.6641614831348196}. Best is trial 80 with value: 0.8727463990260809.\u001b[0m\n",
      "\u001b[32m[I 2023-05-14 20:32:11,041]\u001b[0m Trial 110 finished with value: 0.8699202127904521 and parameters: {'n_estimators': 442, 'max_depth': 6, 'reg_alpha': 0.9099898339075998, 'reg_lambda': 0.3404506229121895, 'min_child_weight': 4, 'gamma': 0.25948941335990244, 'learning_rate': 0.053215027045828936, 'colsample_bytree': 0.39845953822724856, 'subsample': 0.6322528557076232}. Best is trial 80 with value: 0.8727463990260809.\u001b[0m\n",
      "\u001b[32m[I 2023-05-14 20:32:35,447]\u001b[0m Trial 111 finished with value: 0.8724225874766469 and parameters: {'n_estimators': 426, 'max_depth': 6, 'reg_alpha': 0.9442689247846785, 'reg_lambda': 0.29672317567173345, 'min_child_weight': 3, 'gamma': 0.2978991839585953, 'learning_rate': 0.029657765597683478, 'colsample_bytree': 0.3145869127099648, 'subsample': 0.7275679323758026}. Best is trial 80 with value: 0.8727463990260809.\u001b[0m\n",
      "\u001b[32m[I 2023-05-14 20:33:01,414]\u001b[0m Trial 112 finished with value: 0.8725865995072892 and parameters: {'n_estimators': 422, 'max_depth': 6, 'reg_alpha': 0.9990861030426059, 'reg_lambda': 0.30499964261507523, 'min_child_weight': 3, 'gamma': 0.2969913171454198, 'learning_rate': 0.02872514619352241, 'colsample_bytree': 0.3646244420748314, 'subsample': 0.7247152959710192}. Best is trial 80 with value: 0.8727463990260809.\u001b[0m\n",
      "\u001b[32m[I 2023-05-14 20:33:29,262]\u001b[0m Trial 113 finished with value: 0.8684057429957402 and parameters: {'n_estimators': 455, 'max_depth': 6, 'reg_alpha': 0.9798206464548905, 'reg_lambda': 0.3283902191707295, 'min_child_weight': 3, 'gamma': 0.22780243396214023, 'learning_rate': 0.06780526927956888, 'colsample_bytree': 0.3605467459008028, 'subsample': 0.6505637231249786}. Best is trial 80 with value: 0.8727463990260809.\u001b[0m\n",
      "\u001b[32m[I 2023-05-14 20:33:56,500]\u001b[0m Trial 114 finished with value: 0.87269278533659 and parameters: {'n_estimators': 434, 'max_depth': 6, 'reg_alpha': 0.9951190016796521, 'reg_lambda': 0.3740715711812458, 'min_child_weight': 2, 'gamma': 0.21393901754936723, 'learning_rate': 0.02734583406113348, 'colsample_bytree': 0.3687066027139865, 'subsample': 0.6733258140658023}. Best is trial 80 with value: 0.8727463990260809.\u001b[0m\n",
      "\u001b[32m[I 2023-05-14 20:34:23,953]\u001b[0m Trial 115 finished with value: 0.8724871737679232 and parameters: {'n_estimators': 432, 'max_depth': 6, 'reg_alpha': 0.9972529908989547, 'reg_lambda': 0.2411286793529906, 'min_child_weight': 2, 'gamma': 0.2125370548655173, 'learning_rate': 0.02514301248801256, 'colsample_bytree': 0.3786203021329092, 'subsample': 0.6980060124148212}. Best is trial 80 with value: 0.8727463990260809.\u001b[0m\n",
      "\u001b[32m[I 2023-05-14 20:34:51,522]\u001b[0m Trial 116 finished with value: 0.8706754365045999 and parameters: {'n_estimators': 431, 'max_depth': 6, 'reg_alpha': 0.9942732655863878, 'reg_lambda': 0.24964737073891075, 'min_child_weight': 2, 'gamma': 0.18530972040335603, 'learning_rate': 0.05049089249223838, 'colsample_bytree': 0.3775989684965162, 'subsample': 0.6863450818013666}. Best is trial 80 with value: 0.8727463990260809.\u001b[0m\n",
      "\u001b[32m[I 2023-05-14 20:35:20,235]\u001b[0m Trial 117 finished with value: 0.8620411046024049 and parameters: {'n_estimators': 444, 'max_depth': 6, 'reg_alpha': 0.9712479211493729, 'reg_lambda': 0.2130521389088432, 'min_child_weight': 1, 'gamma': 0.19662262243462167, 'learning_rate': 0.11228824678639901, 'colsample_bytree': 0.3649137528350621, 'subsample': 0.7020094615993934}. Best is trial 80 with value: 0.8727463990260809.\u001b[0m\n",
      "\u001b[32m[I 2023-05-14 20:35:50,336]\u001b[0m Trial 118 finished with value: 0.8649503246080078 and parameters: {'n_estimators': 463, 'max_depth': 6, 'reg_alpha': 0.9611092321437293, 'reg_lambda': 0.23332177080875774, 'min_child_weight': 1, 'gamma': 0.21722834001241187, 'learning_rate': 0.08311487933067035, 'colsample_bytree': 0.390816430074181, 'subsample': 0.715654156932969}. Best is trial 80 with value: 0.8727463990260809.\u001b[0m\n",
      "\u001b[32m[I 2023-05-14 20:36:20,897]\u001b[0m Trial 119 finished with value: 0.8726004356925074 and parameters: {'n_estimators': 440, 'max_depth': 6, 'reg_alpha': 0.9958213843920382, 'reg_lambda': 0.2751747709075514, 'min_child_weight': 2, 'gamma': 0.25077104308696424, 'learning_rate': 0.027255774317433153, 'colsample_bytree': 0.40981034957628704, 'subsample': 0.6763166416684923}. Best is trial 80 with value: 0.8727463990260809.\u001b[0m\n"
     ]
    }
   ],
   "source": [
    "study1 = optuna.create_study(direction='maximize', sampler=TPESampler())\n",
    "study1.optimize(objective, n_trials=120, show_progress_bar=True)"
   ]
  },
  {
   "cell_type": "code",
   "execution_count": null,
   "id": "851d97f2",
   "metadata": {},
   "outputs": [],
   "source": []
  },
  {
   "cell_type": "code",
   "execution_count": 77,
   "id": "33b2b9af",
   "metadata": {},
   "outputs": [
    {
     "data": {
      "text/plain": [
       "FrozenTrial(number=80, state=TrialState.COMPLETE, values=[0.8727463990260809], datetime_start=datetime.datetime(2023, 5, 14, 20, 17, 43, 976277), datetime_complete=datetime.datetime(2023, 5, 14, 20, 18, 12, 538933), params={'n_estimators': 446, 'max_depth': 6, 'reg_alpha': 0.915683688202254, 'reg_lambda': 0.31334741303605357, 'min_child_weight': 6, 'gamma': 0.22429294648503934, 'learning_rate': 0.030618678740731226, 'colsample_bytree': 0.3643474858944649, 'subsample': 0.6783493117610017}, user_attrs={}, system_attrs={}, intermediate_values={}, distributions={'n_estimators': IntDistribution(high=500, log=False, low=50, step=1), 'max_depth': IntDistribution(high=10, log=False, low=3, step=1), 'reg_alpha': FloatDistribution(high=1.0, log=False, low=1e-08, step=None), 'reg_lambda': FloatDistribution(high=1.0, log=False, low=1e-08, step=None), 'min_child_weight': IntDistribution(high=8, log=False, low=0, step=1), 'gamma': FloatDistribution(high=1.0, log=False, low=1e-08, step=None), 'learning_rate': FloatDistribution(high=1.0, log=False, low=0.01, step=None), 'colsample_bytree': FloatDistribution(high=0.9, log=False, low=0.3, step=None), 'subsample': FloatDistribution(high=0.9, log=False, low=0.3, step=None)}, trial_id=80, value=None)"
      ]
     },
     "execution_count": 77,
     "metadata": {},
     "output_type": "execute_result"
    }
   ],
   "source": [
    "study1.best_trial"
   ]
  },
  {
   "cell_type": "code",
   "execution_count": 78,
   "id": "ba278f80",
   "metadata": {},
   "outputs": [
    {
     "data": {
      "text/plain": [
       "0.8727463990260809"
      ]
     },
     "execution_count": 78,
     "metadata": {},
     "output_type": "execute_result"
    }
   ],
   "source": [
    "study1.best_value"
   ]
  },
  {
   "cell_type": "code",
   "execution_count": 79,
   "id": "ec746580",
   "metadata": {},
   "outputs": [
    {
     "data": {
      "text/plain": [
       "{'n_estimators': 446,\n",
       " 'max_depth': 6,\n",
       " 'reg_alpha': 0.915683688202254,\n",
       " 'reg_lambda': 0.31334741303605357,\n",
       " 'min_child_weight': 6,\n",
       " 'gamma': 0.22429294648503934,\n",
       " 'learning_rate': 0.030618678740731226,\n",
       " 'colsample_bytree': 0.3643474858944649,\n",
       " 'subsample': 0.6783493117610017}"
      ]
     },
     "execution_count": 79,
     "metadata": {},
     "output_type": "execute_result"
    }
   ],
   "source": [
    "study1.best_params"
   ]
  },
  {
   "cell_type": "code",
   "execution_count": 80,
   "id": "cfce897b",
   "metadata": {},
   "outputs": [],
   "source": [
    "param_h1 = study1.best_params"
   ]
  },
  {
   "cell_type": "code",
   "execution_count": null,
   "id": "029942b3",
   "metadata": {},
   "outputs": [],
   "source": []
  },
  {
   "cell_type": "code",
   "execution_count": null,
   "id": "11955c90",
   "metadata": {},
   "outputs": [],
   "source": []
  },
  {
   "cell_type": "code",
   "execution_count": 81,
   "id": "2b0232e5",
   "metadata": {},
   "outputs": [],
   "source": [
    "X_train_S, X_test_S, y_train_S, y_test_S = train_test_split(data_seas, label2, test_size=0.2, random_state=101)\n",
    "\n",
    "def objective(trial):\n",
    "    param = {\n",
    "        'n_estimators': trial.suggest_int('n_estimators', 50, 500),\n",
    "        'max_depth': trial.suggest_int('max_depth', 3, 10),\n",
    "        'reg_alpha': trial.suggest_float('reg_alpha', 1e-8, 1.0),\n",
    "        'reg_lambda': trial.suggest_float('reg_lambda', 1e-8, 1.0),\n",
    "        'min_child_weight': trial.suggest_int('min_child_weight', 0, 8),\n",
    "        'gamma': trial.suggest_float('gamma',1e-8, 1.0),\n",
    "        'learning_rate': trial.suggest_float('learning_rate', 0.01, 1),\n",
    "        'colsample_bytree': trial.suggest_float('colsample_bytree', 0.3, 0.9),\n",
    "        'subsample': trial.suggest_float('subsample', 0.3, 0.9),\n",
    "    }\n",
    "    \n",
    "    xgb = XGBClassifier(**param, missing= np.nan)\n",
    "    \n",
    "#     print(\"X_train shape:\", X_train.shape)\n",
    "#     print(\"y_train shape:\", y_train.shape)\n",
    "    \n",
    "    from sklearn.model_selection import cross_val_score\n",
    "    scores = cross_val_score(xgb, data_seas, label2, cv=5, scoring='roc_auc')\n",
    "    AUC = np.mean(scores).max() \n",
    "    return AUC"
   ]
  },
  {
   "cell_type": "code",
   "execution_count": 82,
   "id": "8e7e06cd",
   "metadata": {},
   "outputs": [
    {
     "name": "stderr",
     "output_type": "stream",
     "text": [
      "\u001b[32m[I 2023-05-14 20:40:27,594]\u001b[0m A new study created in memory with name: no-name-ecf01fe8-1844-49b7-aff8-2e5ae734116f\u001b[0m\n",
      "/Users/karthikeyan/opt/anaconda3/lib/python3.9/site-packages/optuna/progress_bar.py:56: ExperimentalWarning: Progress bar is experimental (supported from v1.2.0). The interface can change in the future.\n",
      "  self._init_valid()\n"
     ]
    },
    {
     "data": {
      "application/vnd.jupyter.widget-view+json": {
       "model_id": "172d592d50244f0f91e0c1d69ed62504",
       "version_major": 2,
       "version_minor": 0
      },
      "text/plain": [
       "  0%|          | 0/120 [00:00<?, ?it/s]"
      ]
     },
     "metadata": {},
     "output_type": "display_data"
    },
    {
     "name": "stdout",
     "output_type": "stream",
     "text": [
      "\u001b[32m[I 2023-05-14 20:40:48,475]\u001b[0m Trial 0 finished with value: 0.7808155757697869 and parameters: {'n_estimators': 379, 'max_depth': 7, 'reg_alpha': 0.10015189065049622, 'reg_lambda': 0.6699051138119736, 'min_child_weight': 1, 'gamma': 0.6637090985944448, 'learning_rate': 0.7363320326030119, 'colsample_bytree': 0.3915332001626675, 'subsample': 0.42507320341638766}. Best is trial 0 with value: 0.7808155757697869.\u001b[0m\n",
      "\u001b[32m[I 2023-05-14 20:41:14,134]\u001b[0m Trial 1 finished with value: 0.8212295904506799 and parameters: {'n_estimators': 323, 'max_depth': 8, 'reg_alpha': 0.405291479075366, 'reg_lambda': 0.6911213386870216, 'min_child_weight': 5, 'gamma': 0.6305710388116685, 'learning_rate': 0.3639792426210921, 'colsample_bytree': 0.5537017907151911, 'subsample': 0.5767489417006199}. Best is trial 1 with value: 0.8212295904506799.\u001b[0m\n",
      "\u001b[32m[I 2023-05-14 20:41:20,600]\u001b[0m Trial 2 finished with value: 0.8485852053141256 and parameters: {'n_estimators': 145, 'max_depth': 4, 'reg_alpha': 0.5544456465400988, 'reg_lambda': 0.10487687311254705, 'min_child_weight': 2, 'gamma': 0.16152947935404294, 'learning_rate': 0.32774050247906583, 'colsample_bytree': 0.8339986890972899, 'subsample': 0.32778243020753894}. Best is trial 2 with value: 0.8485852053141256.\u001b[0m\n",
      "\u001b[32m[I 2023-05-14 20:41:24,741]\u001b[0m Trial 3 finished with value: 0.8464578986263692 and parameters: {'n_estimators': 79, 'max_depth': 4, 'reg_alpha': 0.33736293406861045, 'reg_lambda': 0.025237499003659524, 'min_child_weight': 3, 'gamma': 0.9202615392212846, 'learning_rate': 0.6244881171159947, 'colsample_bytree': 0.6504636661429349, 'subsample': 0.48080979668837176}. Best is trial 2 with value: 0.8485852053141256.\u001b[0m\n",
      "\u001b[32m[I 2023-05-14 20:41:38,957]\u001b[0m Trial 4 finished with value: 0.835534210989484 and parameters: {'n_estimators': 350, 'max_depth': 4, 'reg_alpha': 0.7471206121742312, 'reg_lambda': 0.7757025787730167, 'min_child_weight': 3, 'gamma': 0.24488556414510101, 'learning_rate': 0.5839453123521176, 'colsample_bytree': 0.4473639226570586, 'subsample': 0.5411312798354535}. Best is trial 2 with value: 0.8485852053141256.\u001b[0m\n",
      "\u001b[32m[I 2023-05-14 20:41:47,963]\u001b[0m Trial 5 finished with value: 0.8445771231334758 and parameters: {'n_estimators': 200, 'max_depth': 3, 'reg_alpha': 0.9315884915789048, 'reg_lambda': 0.5536581801624888, 'min_child_weight': 6, 'gamma': 0.5610910341483504, 'learning_rate': 0.8312530803366803, 'colsample_bytree': 0.8769550570616549, 'subsample': 0.663579372822851}. Best is trial 2 with value: 0.8485852053141256.\u001b[0m\n",
      "\u001b[32m[I 2023-05-14 20:42:12,214]\u001b[0m Trial 6 finished with value: 0.8577252162820456 and parameters: {'n_estimators': 423, 'max_depth': 4, 'reg_alpha': 0.6254885480026996, 'reg_lambda': 0.05706965237197959, 'min_child_weight': 4, 'gamma': 0.11740590954133567, 'learning_rate': 0.148012805699603, 'colsample_bytree': 0.7493658856748364, 'subsample': 0.504193058139156}. Best is trial 6 with value: 0.8577252162820456.\u001b[0m\n",
      "\u001b[32m[I 2023-05-14 20:42:41,535]\u001b[0m Trial 7 finished with value: 0.7901962585574513 and parameters: {'n_estimators': 231, 'max_depth': 9, 'reg_alpha': 0.04352362831947082, 'reg_lambda': 0.015057753745279684, 'min_child_weight': 7, 'gamma': 0.7487446020621323, 'learning_rate': 0.5936120208844069, 'colsample_bytree': 0.8720215498471562, 'subsample': 0.442447801734158}. Best is trial 6 with value: 0.8577252162820456.\u001b[0m\n",
      "\u001b[32m[I 2023-05-14 20:42:57,273]\u001b[0m Trial 8 finished with value: 0.7633995728596059 and parameters: {'n_estimators': 223, 'max_depth': 10, 'reg_alpha': 0.48793172143166325, 'reg_lambda': 0.8980298967791738, 'min_child_weight': 4, 'gamma': 0.6556764880601423, 'learning_rate': 0.9202195157139166, 'colsample_bytree': 0.4907843518099374, 'subsample': 0.32568125701925965}. Best is trial 6 with value: 0.8577252162820456.\u001b[0m\n",
      "\u001b[32m[I 2023-05-14 20:43:18,112]\u001b[0m Trial 9 finished with value: 0.806854600927438 and parameters: {'n_estimators': 348, 'max_depth': 6, 'reg_alpha': 0.26942872470440626, 'reg_lambda': 0.18612900668218876, 'min_child_weight': 0, 'gamma': 0.17227297978851813, 'learning_rate': 0.7304197969763333, 'colsample_bytree': 0.44924223299237, 'subsample': 0.7695698863358093}. Best is trial 6 with value: 0.8577252162820456.\u001b[0m\n",
      "\u001b[32m[I 2023-05-14 20:43:40,122]\u001b[0m Trial 10 finished with value: 0.8636284874085455 and parameters: {'n_estimators': 473, 'max_depth': 6, 'reg_alpha': 0.6486993996022813, 'reg_lambda': 0.34966834120410395, 'min_child_weight': 8, 'gamma': 0.018592926250556474, 'learning_rate': 0.01744399682730363, 'colsample_bytree': 0.3118121139017216, 'subsample': 0.8992361703483364}. Best is trial 10 with value: 0.8636284874085455.\u001b[0m\n",
      "\u001b[32m[I 2023-05-14 20:44:06,153]\u001b[0m Trial 11 finished with value: 0.8623553939919576 and parameters: {'n_estimators': 492, 'max_depth': 6, 'reg_alpha': 0.6645657196595791, 'reg_lambda': 0.3179969583141449, 'min_child_weight': 8, 'gamma': 0.00760448931712557, 'learning_rate': 0.06466336587911037, 'colsample_bytree': 0.3249558666930343, 'subsample': 0.8763768500890211}. Best is trial 10 with value: 0.8636284874085455.\u001b[0m\n",
      "\u001b[32m[I 2023-05-14 20:44:34,682]\u001b[0m Trial 12 finished with value: 0.8642992529152999 and parameters: {'n_estimators': 497, 'max_depth': 6, 'reg_alpha': 0.7749222343200535, 'reg_lambda': 0.3141336880961536, 'min_child_weight': 8, 'gamma': 0.005213524205539563, 'learning_rate': 0.03491523529261374, 'colsample_bytree': 0.3170246187745117, 'subsample': 0.8957989188085712}. Best is trial 12 with value: 0.8642992529152999.\u001b[0m\n",
      "\u001b[32m[I 2023-05-14 20:45:06,546]\u001b[0m Trial 13 finished with value: 0.8633470672826841 and parameters: {'n_estimators': 492, 'max_depth': 7, 'reg_alpha': 0.8197732418270094, 'reg_lambda': 0.33369795156408305, 'min_child_weight': 8, 'gamma': 0.325073105260943, 'learning_rate': 0.016379650062767648, 'colsample_bytree': 0.3001199064221092, 'subsample': 0.889046420570797}. Best is trial 12 with value: 0.8642992529152999.\u001b[0m\n",
      "\u001b[32m[I 2023-05-14 20:45:30,170]\u001b[0m Trial 14 finished with value: 0.8530638864964496 and parameters: {'n_estimators': 433, 'max_depth': 5, 'reg_alpha': 0.8840713199067369, 'reg_lambda': 0.4249017964496754, 'min_child_weight': 6, 'gamma': 0.38423873686972293, 'learning_rate': 0.22229875036553787, 'colsample_bytree': 0.36473561639971247, 'subsample': 0.7722209579975308}. Best is trial 12 with value: 0.8642992529152999.\u001b[0m\n",
      "\u001b[32m[I 2023-05-14 20:46:03,081]\u001b[0m Trial 15 finished with value: 0.8627898541624873 and parameters: {'n_estimators': 435, 'max_depth': 8, 'reg_alpha': 0.9872652376446288, 'reg_lambda': 0.2381816193692237, 'min_child_weight': 7, 'gamma': 0.07090634705896609, 'learning_rate': 0.0159003467930669, 'colsample_bytree': 0.3079052678854089, 'subsample': 0.8209568668558549}. Best is trial 12 with value: 0.8642992529152999.\u001b[0m\n",
      "\u001b[32m[I 2023-05-14 20:46:31,138]\u001b[0m Trial 16 finished with value: 0.8554585071531395 and parameters: {'n_estimators': 494, 'max_depth': 5, 'reg_alpha': 0.7515240561655966, 'reg_lambda': 0.46314353912269723, 'min_child_weight': 8, 'gamma': 0.048241726737904896, 'learning_rate': 0.17851873592237705, 'colsample_bytree': 0.39257234832330146, 'subsample': 0.6705710268920286}. Best is trial 12 with value: 0.8642992529152999.\u001b[0m\n",
      "\u001b[32m[I 2023-05-14 20:46:51,789]\u001b[0m Trial 17 finished with value: 0.8394641232723032 and parameters: {'n_estimators': 281, 'max_depth': 6, 'reg_alpha': 0.6559068396213896, 'reg_lambda': 0.36464607819018535, 'min_child_weight': 6, 'gamma': 0.0022303533587567383, 'learning_rate': 0.4009858162356702, 'colsample_bytree': 0.5342811355894408, 'subsample': 0.8994431032582426}. Best is trial 12 with value: 0.8642992529152999.\u001b[0m\n",
      "\u001b[32m[I 2023-05-14 20:47:27,439]\u001b[0m Trial 18 finished with value: 0.8382242344025919 and parameters: {'n_estimators': 405, 'max_depth': 8, 'reg_alpha': 0.8295097110239361, 'reg_lambda': 0.2338445617887832, 'min_child_weight': 7, 'gamma': 0.4113631574056505, 'learning_rate': 0.24725171026626197, 'colsample_bytree': 0.41938899877990105, 'subsample': 0.7996475225509003}. Best is trial 12 with value: 0.8642992529152999.\u001b[0m\n",
      "\u001b[32m[I 2023-05-14 20:47:43,688]\u001b[0m Trial 19 finished with value: 0.8625566900833277 and parameters: {'n_estimators': 294, 'max_depth': 5, 'reg_alpha': 0.5361548549322378, 'reg_lambda': 0.5346746593001506, 'min_child_weight': 5, 'gamma': 0.24881161309707667, 'learning_rate': 0.1107073811461759, 'colsample_bytree': 0.36339862328820954, 'subsample': 0.7118980196670077}. Best is trial 12 with value: 0.8642992529152999.\u001b[0m\n"
     ]
    },
    {
     "name": "stdout",
     "output_type": "stream",
     "text": [
      "\u001b[32m[I 2023-05-14 20:48:22,637]\u001b[0m Trial 20 finished with value: 0.8532702958897115 and parameters: {'n_estimators': 467, 'max_depth': 7, 'reg_alpha': 0.7351499826194628, 'reg_lambda': 0.422376687742663, 'min_child_weight': 8, 'gamma': 0.15068596963664097, 'learning_rate': 0.11330378386792023, 'colsample_bytree': 0.4775594671891297, 'subsample': 0.8360524561056124}. Best is trial 12 with value: 0.8642992529152999.\u001b[0m\n",
      "\u001b[32m[I 2023-05-14 20:48:53,213]\u001b[0m Trial 21 finished with value: 0.8615656364773085 and parameters: {'n_estimators': 459, 'max_depth': 7, 'reg_alpha': 0.8441794230840991, 'reg_lambda': 0.3214149825169222, 'min_child_weight': 8, 'gamma': 0.23681999117973201, 'learning_rate': 0.010275703209866847, 'colsample_bytree': 0.3014767111595803, 'subsample': 0.8866450634540658}. Best is trial 12 with value: 0.8642992529152999.\u001b[0m\n",
      "\u001b[32m[I 2023-05-14 20:49:25,345]\u001b[0m Trial 22 finished with value: 0.8637232861410433 and parameters: {'n_estimators': 500, 'max_depth': 6, 'reg_alpha': 0.9966023591649851, 'reg_lambda': 0.1586381305831485, 'min_child_weight': 7, 'gamma': 0.34940100266461455, 'learning_rate': 0.01640262114860493, 'colsample_bytree': 0.3489604792335005, 'subsample': 0.8474530515975952}. Best is trial 12 with value: 0.8642992529152999.\u001b[0m\n",
      "\u001b[32m[I 2023-05-14 20:49:50,900]\u001b[0m Trial 23 finished with value: 0.8586523010323119 and parameters: {'n_estimators': 391, 'max_depth': 6, 'reg_alpha': 0.9939293915658511, 'reg_lambda': 0.147376376948113, 'min_child_weight': 7, 'gamma': 0.08474511759260607, 'learning_rate': 0.1141923394114397, 'colsample_bytree': 0.3558615790190478, 'subsample': 0.8209584264627585}. Best is trial 12 with value: 0.8642992529152999.\u001b[0m\n",
      "\u001b[32m[I 2023-05-14 20:50:18,718]\u001b[0m Trial 24 finished with value: 0.8492507569638242 and parameters: {'n_estimators': 456, 'max_depth': 5, 'reg_alpha': 0.9086048476459481, 'reg_lambda': 0.23467639852830763, 'min_child_weight': 7, 'gamma': 0.002859604789840626, 'learning_rate': 0.2565788665463766, 'colsample_bytree': 0.410914399362007, 'subsample': 0.8459535602208351}. Best is trial 12 with value: 0.8642992529152999.\u001b[0m\n",
      "\u001b[32m[I 2023-05-14 20:50:50,728]\u001b[0m Trial 25 finished with value: 0.8502878681856607 and parameters: {'n_estimators': 500, 'max_depth': 6, 'reg_alpha': 0.7974284415814942, 'reg_lambda': 0.11403223310663924, 'min_child_weight': 6, 'gamma': 0.4669663751508802, 'learning_rate': 0.1901654253140966, 'colsample_bytree': 0.35304340599695383, 'subsample': 0.7489094211667073}. Best is trial 12 with value: 0.8642992529152999.\u001b[0m\n",
      "\u001b[32m[I 2023-05-14 20:51:18,799]\u001b[0m Trial 26 finished with value: 0.8606275387628276 and parameters: {'n_estimators': 455, 'max_depth': 5, 'reg_alpha': 0.9245479048567228, 'reg_lambda': 0.17203320582006337, 'min_child_weight': 5, 'gamma': 0.3275298979130002, 'learning_rate': 0.11390664498570108, 'colsample_bytree': 0.3451325325458989, 'subsample': 0.8524498314052023}. Best is trial 12 with value: 0.8642992529152999.\u001b[0m\n",
      "\u001b[32m[I 2023-05-14 20:51:33,814]\u001b[0m Trial 27 finished with value: 0.8638707354774896 and parameters: {'n_estimators': 375, 'max_depth': 3, 'reg_alpha': 0.7208710638639508, 'reg_lambda': 0.2668191642677445, 'min_child_weight': 8, 'gamma': 0.1122030575750085, 'learning_rate': 0.07168291486144897, 'colsample_bytree': 0.40096668465341506, 'subsample': 0.7996696695454254}. Best is trial 12 with value: 0.8642992529152999.\u001b[0m\n",
      "\u001b[32m[I 2023-05-14 20:51:49,162]\u001b[0m Trial 28 finished with value: 0.8604793098512159 and parameters: {'n_estimators': 383, 'max_depth': 3, 'reg_alpha': 0.9916940532244207, 'reg_lambda': 0.28511714245571285, 'min_child_weight': 7, 'gamma': 0.11573545068071547, 'learning_rate': 0.27267696087414967, 'colsample_bytree': 0.4102218557889552, 'subsample': 0.7930252870442659}. Best is trial 12 with value: 0.8642992529152999.\u001b[0m\n",
      "\u001b[32m[I 2023-05-14 20:52:24,286]\u001b[0m Trial 29 finished with value: 0.8212561048888395 and parameters: {'n_estimators': 338, 'max_depth': 9, 'reg_alpha': 0.7134620156736382, 'reg_lambda': 0.1921429748259961, 'min_child_weight': 6, 'gamma': 0.20964450698542617, 'learning_rate': 0.4300940812853491, 'colsample_bytree': 0.38500531246555114, 'subsample': 0.7214466444538808}. Best is trial 12 with value: 0.8642992529152999.\u001b[0m\n",
      "\u001b[32m[I 2023-05-14 20:52:39,344]\u001b[0m Trial 30 finished with value: 0.8627213808479297 and parameters: {'n_estimators': 368, 'max_depth': 3, 'reg_alpha': 0.8694125685689532, 'reg_lambda': 0.12014246108942958, 'min_child_weight': 8, 'gamma': 0.09284995575555195, 'learning_rate': 0.1859730017557643, 'colsample_bytree': 0.44525709213201575, 'subsample': 0.8440663546806243}. Best is trial 12 with value: 0.8642992529152999.\u001b[0m\n",
      "\u001b[32m[I 2023-05-14 20:53:09,251]\u001b[0m Trial 31 finished with value: 0.8615878979013228 and parameters: {'n_estimators': 409, 'max_depth': 7, 'reg_alpha': 0.6068269160957079, 'reg_lambda': 0.381132177528231, 'min_child_weight': 8, 'gamma': 0.06443453999321633, 'learning_rate': 0.06781041062243595, 'colsample_bytree': 0.3354452366108291, 'subsample': 0.8681460835266536}. Best is trial 12 with value: 0.8642992529152999.\u001b[0m\n",
      "\u001b[32m[I 2023-05-14 20:53:51,579]\u001b[0m Trial 32 finished with value: 0.8581984022808392 and parameters: {'n_estimators': 466, 'max_depth': 8, 'reg_alpha': 0.7839315011673764, 'reg_lambda': 0.2656127648693174, 'min_child_weight': 7, 'gamma': 0.1637174313297353, 'learning_rate': 0.0658336728540924, 'colsample_bytree': 0.3825534017185081, 'subsample': 0.8111032983629763}. Best is trial 12 with value: 0.8642992529152999.\u001b[0m\n",
      "\u001b[32m[I 2023-05-14 20:54:11,744]\u001b[0m Trial 33 finished with value: 0.8469178938029881 and parameters: {'n_estimators': 318, 'max_depth': 6, 'reg_alpha': 0.6810453928488678, 'reg_lambda': 0.3719909837584449, 'min_child_weight': 8, 'gamma': 0.05282048815825857, 'learning_rate': 0.3267170526583134, 'colsample_bytree': 0.33464037625789117, 'subsample': 0.8576651508349339}. Best is trial 12 with value: 0.8642992529152999.\u001b[0m\n",
      "\u001b[32m[I 2023-05-14 20:54:32,187]\u001b[0m Trial 34 finished with value: 0.8610329351205236 and parameters: {'n_estimators': 433, 'max_depth': 4, 'reg_alpha': 0.6035989414383494, 'reg_lambda': 0.29039823980627866, 'min_child_weight': 7, 'gamma': 0.18692977414210576, 'learning_rate': 0.1531065242273398, 'colsample_bytree': 0.383547653286499, 'subsample': 0.8944742642987322}. Best is trial 12 with value: 0.8642992529152999.\u001b[0m\n",
      "\u001b[32m[I 2023-05-14 20:54:58,088]\u001b[0m Trial 35 finished with value: 0.8637849077884843 and parameters: {'n_estimators': 477, 'max_depth': 5, 'reg_alpha': 0.6993466041037785, 'reg_lambda': 0.48784660680596037, 'min_child_weight': 1, 'gamma': 0.2970733412277306, 'learning_rate': 0.05622391417927336, 'colsample_bytree': 0.3248625652164132, 'subsample': 0.7917167907078503}. Best is trial 12 with value: 0.8642992529152999.\u001b[0m\n",
      "\u001b[32m[I 2023-05-14 20:55:07,777]\u001b[0m Trial 36 finished with value: 0.862364225249116 and parameters: {'n_estimators': 152, 'max_depth': 4, 'reg_alpha': 0.782744732211542, 'reg_lambda': 0.4734506466601087, 'min_child_weight': 2, 'gamma': 0.28599401165093813, 'learning_rate': 0.20649219267643149, 'colsample_bytree': 0.6049722025094038, 'subsample': 0.7908606621467396}. Best is trial 12 with value: 0.8642992529152999.\u001b[0m\n",
      "\u001b[32m[I 2023-05-14 20:55:21,800]\u001b[0m Trial 37 finished with value: 0.859195991029986 and parameters: {'n_estimators': 372, 'max_depth': 3, 'reg_alpha': 0.8613305269268201, 'reg_lambda': 0.6117379117225028, 'min_child_weight': 0, 'gamma': 0.26725272955630197, 'learning_rate': 0.3038423851927882, 'colsample_bytree': 0.34362163166756976, 'subsample': 0.7475967635842118}. Best is trial 12 with value: 0.8642992529152999.\u001b[0m\n",
      "\u001b[32m[I 2023-05-14 20:55:26,863]\u001b[0m Trial 38 finished with value: 0.8622472249016331 and parameters: {'n_estimators': 88, 'max_depth': 4, 'reg_alpha': 0.6969004077905752, 'reg_lambda': 0.07036838373223282, 'min_child_weight': 1, 'gamma': 0.14677744289894878, 'learning_rate': 0.08547716956671898, 'colsample_bytree': 0.4289250823193471, 'subsample': 0.5976657901814257}. Best is trial 12 with value: 0.8642992529152999.\u001b[0m\n",
      "\u001b[32m[I 2023-05-14 20:55:54,621]\u001b[0m Trial 39 finished with value: 0.8562821926325077 and parameters: {'n_estimators': 411, 'max_depth': 5, 'reg_alpha': 0.7680884510842579, 'reg_lambda': 0.5327241692389482, 'min_child_weight': 2, 'gamma': 0.20204690691149568, 'learning_rate': 0.1513600343298669, 'colsample_bytree': 0.4954810448343305, 'subsample': 0.8255185922154853}. Best is trial 12 with value: 0.8642992529152999.\u001b[0m\n"
     ]
    },
    {
     "name": "stdout",
     "output_type": "stream",
     "text": [
      "\u001b[32m[I 2023-05-14 20:56:17,584]\u001b[0m Trial 40 finished with value: 0.8637905978477942 and parameters: {'n_estimators': 443, 'max_depth': 4, 'reg_alpha': 0.7234750673793251, 'reg_lambda': 0.08237900976804899, 'min_child_weight': 3, 'gamma': 0.3154636600497686, 'learning_rate': 0.06621014645141433, 'colsample_bytree': 0.3944365428111357, 'subsample': 0.6489406283513098}. Best is trial 12 with value: 0.8642992529152999.\u001b[0m\n",
      "\u001b[32m[I 2023-05-14 20:56:40,294]\u001b[0m Trial 41 finished with value: 0.8643581225627738 and parameters: {'n_estimators': 446, 'max_depth': 4, 'reg_alpha': 0.7206137061291473, 'reg_lambda': 0.009210558284682369, 'min_child_weight': 3, 'gamma': 0.31785339133233587, 'learning_rate': 0.06423248879619561, 'colsample_bytree': 0.3855261838655738, 'subsample': 0.562956322592604}. Best is trial 41 with value: 0.8643581225627738.\u001b[0m\n",
      "\u001b[32m[I 2023-05-14 20:57:03,391]\u001b[0m Trial 42 finished with value: 0.8635399527391912 and parameters: {'n_estimators': 443, 'max_depth': 4, 'reg_alpha': 0.7266203131761696, 'reg_lambda': 0.02031709708923716, 'min_child_weight': 3, 'gamma': 0.2786795281766421, 'learning_rate': 0.0762436322946996, 'colsample_bytree': 0.39914354140430575, 'subsample': 0.5592628977239451}. Best is trial 41 with value: 0.8643581225627738.\u001b[0m\n",
      "\u001b[32m[I 2023-05-14 20:57:26,973]\u001b[0m Trial 43 finished with value: 0.8628393202810619 and parameters: {'n_estimators': 471, 'max_depth': 3, 'reg_alpha': 0.5836414011254355, 'reg_lambda': 0.0012985403938679807, 'min_child_weight': 3, 'gamma': 0.4428383809021158, 'learning_rate': 0.13995399443279, 'colsample_bytree': 0.4483771109192051, 'subsample': 0.6415592987944305}. Best is trial 41 with value: 0.8643581225627738.\u001b[0m\n",
      "\u001b[32m[I 2023-05-14 20:57:47,846]\u001b[0m Trial 44 finished with value: 0.8644082386209366 and parameters: {'n_estimators': 418, 'max_depth': 4, 'reg_alpha': 0.6620115660936848, 'reg_lambda': 0.07995392429822226, 'min_child_weight': 1, 'gamma': 0.5637975275084939, 'learning_rate': 0.0565359009811449, 'colsample_bytree': 0.37355882553723196, 'subsample': 0.5816133868355675}. Best is trial 44 with value: 0.8644082386209366.\u001b[0m\n",
      "\u001b[32m[I 2023-05-14 20:58:11,277]\u001b[0m Trial 45 finished with value: 0.8579536119235052 and parameters: {'n_estimators': 418, 'max_depth': 4, 'reg_alpha': 0.6384154250113178, 'reg_lambda': 0.06471132083371259, 'min_child_weight': 3, 'gamma': 0.5390200614235929, 'learning_rate': 0.1721283988908312, 'colsample_bytree': 0.46577503262447534, 'subsample': 0.5225054296086638}. Best is trial 44 with value: 0.8644082386209366.\u001b[0m\n",
      "\u001b[32m[I 2023-05-14 20:58:26,831]\u001b[0m Trial 46 finished with value: 0.861568086609459 and parameters: {'n_estimators': 360, 'max_depth': 3, 'reg_alpha': 0.5529962693904897, 'reg_lambda': 0.08220090736980248, 'min_child_weight': 4, 'gamma': 0.616610219781459, 'learning_rate': 0.2152101801737572, 'colsample_bytree': 0.4276171659767984, 'subsample': 0.5856877063563686}. Best is trial 44 with value: 0.8644082386209366.\u001b[0m\n",
      "\u001b[32m[I 2023-05-14 20:58:46,749]\u001b[0m Trial 47 finished with value: 0.8642126761330079 and parameters: {'n_estimators': 399, 'max_depth': 4, 'reg_alpha': 0.4790662584344037, 'reg_lambda': 0.04910147708258002, 'min_child_weight': 2, 'gamma': 0.39488634988631177, 'learning_rate': 0.05010921516131357, 'colsample_bytree': 0.37557375404839316, 'subsample': 0.55451920710997}. Best is trial 44 with value: 0.8644082386209366.\u001b[0m\n",
      "\u001b[32m[I 2023-05-14 20:59:02,703]\u001b[0m Trial 48 finished with value: 0.8627917384972736 and parameters: {'n_estimators': 394, 'max_depth': 3, 'reg_alpha': 0.46889343704671554, 'reg_lambda': 0.04448739457605432, 'min_child_weight': 1, 'gamma': 0.5151383762628308, 'learning_rate': 0.12992792443329576, 'colsample_bytree': 0.3701606348983379, 'subsample': 0.5416366813615713}. Best is trial 44 with value: 0.8644082386209366.\u001b[0m\n",
      "\u001b[32m[I 2023-05-14 20:59:21,623]\u001b[0m Trial 49 finished with value: 0.8638981165247956 and parameters: {'n_estimators': 327, 'max_depth': 4, 'reg_alpha': 0.4105593257556228, 'reg_lambda': 0.03682087658673039, 'min_child_weight': 2, 'gamma': 0.37598982913475354, 'learning_rate': 0.038181809726286486, 'colsample_bytree': 0.5018116514075421, 'subsample': 0.470758394581609}. Best is trial 44 with value: 0.8644082386209366.\u001b[0m\n",
      "\u001b[32m[I 2023-05-14 20:59:37,468]\u001b[0m Trial 50 finished with value: 0.8637974412640285 and parameters: {'n_estimators': 331, 'max_depth': 4, 'reg_alpha': 0.4177565170266413, 'reg_lambda': 0.014172438997099347, 'min_child_weight': 2, 'gamma': 0.3680464388256216, 'learning_rate': 0.042191732903543604, 'colsample_bytree': 0.32084733787225866, 'subsample': 0.48769475306200744}. Best is trial 44 with value: 0.8644082386209366.\u001b[0m\n",
      "\u001b[32m[I 2023-05-14 20:59:52,358]\u001b[0m Trial 51 finished with value: 0.8631978884388681 and parameters: {'n_estimators': 251, 'max_depth': 4, 'reg_alpha': 0.32622212584937427, 'reg_lambda': 0.11197605651305652, 'min_child_weight': 2, 'gamma': 0.42724716869299545, 'learning_rate': 0.07890510044746202, 'colsample_bytree': 0.5185818426578949, 'subsample': 0.45130892762298136}. Best is trial 44 with value: 0.8644082386209366.\u001b[0m\n",
      "\u001b[32m[I 2023-05-14 21:00:06,432]\u001b[0m Trial 52 finished with value: 0.86249601292014 and parameters: {'n_estimators': 313, 'max_depth': 3, 'reg_alpha': 0.5320864984642953, 'reg_lambda': 0.044561470766422875, 'min_child_weight': 2, 'gamma': 0.3994707123061864, 'learning_rate': 0.04071503151891881, 'colsample_bytree': 0.4281646676156916, 'subsample': 0.5621069020738306}. Best is trial 44 with value: 0.8644082386209366.\u001b[0m\n",
      "\u001b[32m[I 2023-05-14 21:00:23,100]\u001b[0m Trial 53 finished with value: 0.8637224871032696 and parameters: {'n_estimators': 346, 'max_depth': 3, 'reg_alpha': 0.6429955026610255, 'reg_lambda': 0.14276840568710286, 'min_child_weight': 0, 'gamma': 0.47553095818554547, 'learning_rate': 0.10039029631699027, 'colsample_bytree': 0.4026618387864367, 'subsample': 0.6070811495820511}. Best is trial 44 with value: 0.8644082386209366.\u001b[0m\n",
      "\u001b[32m[I 2023-05-14 21:00:46,653]\u001b[0m Trial 54 finished with value: 0.8603403780064575 and parameters: {'n_estimators': 396, 'max_depth': 4, 'reg_alpha': 0.4951881784644324, 'reg_lambda': 0.18629914206824316, 'min_child_weight': 4, 'gamma': 0.380205462800874, 'learning_rate': 0.012458519513846349, 'colsample_bytree': 0.468952166700743, 'subsample': 0.5108452631727446}. Best is trial 44 with value: 0.8644082386209366.\u001b[0m\n",
      "\u001b[32m[I 2023-05-14 21:01:09,755]\u001b[0m Trial 55 finished with value: 0.8550489791363844 and parameters: {'n_estimators': 378, 'max_depth': 5, 'reg_alpha': 0.586710458326327, 'reg_lambda': 0.0984896453132667, 'min_child_weight': 1, 'gamma': 0.48636955614093613, 'learning_rate': 0.14772714174500934, 'colsample_bytree': 0.37517580018869334, 'subsample': 0.4763192363724056}. Best is trial 44 with value: 0.8644082386209366.\u001b[0m\n",
      "\u001b[32m[I 2023-05-14 21:01:25,510]\u001b[0m Trial 56 finished with value: 0.8620807948342056 and parameters: {'n_estimators': 362, 'max_depth': 4, 'reg_alpha': 0.8200561609541223, 'reg_lambda': 0.03607744368001574, 'min_child_weight': 2, 'gamma': 0.34471517759110293, 'learning_rate': 0.11012928698656418, 'colsample_bytree': 0.3067014592031202, 'subsample': 0.3772760227174011}. Best is trial 44 with value: 0.8644082386209366.\u001b[0m\n",
      "\u001b[32m[I 2023-05-14 21:01:38,052]\u001b[0m Trial 57 finished with value: 0.8611205553088341 and parameters: {'n_estimators': 299, 'max_depth': 3, 'reg_alpha': 0.7503605952939266, 'reg_lambda': 0.0005571782526674479, 'min_child_weight': 1, 'gamma': 0.4313995640448238, 'learning_rate': 0.22942657149756746, 'colsample_bytree': 0.3628539774946127, 'subsample': 0.5297488420132881}. Best is trial 44 with value: 0.8644082386209366.\u001b[0m\n",
      "\u001b[32m[I 2023-05-14 21:02:07,076]\u001b[0m Trial 58 finished with value: 0.8638156186985565 and parameters: {'n_estimators': 426, 'max_depth': 5, 'reg_alpha': 0.6728584770506091, 'reg_lambda': 0.2124834986893907, 'min_child_weight': 2, 'gamma': 0.5620290267933359, 'learning_rate': 0.04843445118719571, 'colsample_bytree': 0.4404662453415202, 'subsample': 0.6143154287943415}. Best is trial 44 with value: 0.8644082386209366.\u001b[0m\n",
      "\u001b[32m[I 2023-05-14 21:02:21,123]\u001b[0m Trial 59 finished with value: 0.8635957045844114 and parameters: {'n_estimators': 256, 'max_depth': 4, 'reg_alpha': 0.466543274141298, 'reg_lambda': 0.1500323525860864, 'min_child_weight': 4, 'gamma': 0.22177449796334572, 'learning_rate': 0.10413440635379591, 'colsample_bytree': 0.4088670460682893, 'subsample': 0.5521259378120066}. Best is trial 44 with value: 0.8644082386209366.\u001b[0m\n"
     ]
    },
    {
     "name": "stdout",
     "output_type": "stream",
     "text": [
      "\u001b[32m[I 2023-05-14 21:02:48,834]\u001b[0m Trial 60 finished with value: 0.8541337564757011 and parameters: {'n_estimators': 482, 'max_depth': 5, 'reg_alpha': 0.6280281762943611, 'reg_lambda': 0.12337525010790895, 'min_child_weight': 5, 'gamma': 0.03208684128378328, 'learning_rate': 0.1697455487579929, 'colsample_bytree': 0.3240853390885731, 'subsample': 0.5821453281336428}. Best is trial 44 with value: 0.8644082386209366.\u001b[0m\n",
      "\u001b[32m[I 2023-05-14 21:03:18,744]\u001b[0m Trial 61 finished with value: 0.8641830239611862 and parameters: {'n_estimators': 425, 'max_depth': 5, 'reg_alpha': 0.694655840488776, 'reg_lambda': 0.217496999254345, 'min_child_weight': 3, 'gamma': 0.577914298956804, 'learning_rate': 0.034631095742312074, 'colsample_bytree': 0.4411809529249875, 'subsample': 0.6153674030146911}. Best is trial 44 with value: 0.8644082386209366.\u001b[0m\n",
      "\u001b[32m[I 2023-05-14 21:03:46,869]\u001b[0m Trial 62 finished with value: 0.8641361475637069 and parameters: {'n_estimators': 445, 'max_depth': 5, 'reg_alpha': 0.7528054710845987, 'reg_lambda': 0.2118862616883396, 'min_child_weight': 3, 'gamma': 0.6915105370295959, 'learning_rate': 0.04009166565235186, 'colsample_bytree': 0.376560031084563, 'subsample': 0.5654116903834985}. Best is trial 44 with value: 0.8644082386209366.\u001b[0m\n",
      "\u001b[32m[I 2023-05-14 21:04:14,324]\u001b[0m Trial 63 finished with value: 0.863998194312113 and parameters: {'n_estimators': 448, 'max_depth': 5, 'reg_alpha': 0.7948665963014522, 'reg_lambda': 0.06244201482397389, 'min_child_weight': 3, 'gamma': 0.710399226778695, 'learning_rate': 0.022667167422336657, 'colsample_bytree': 0.3575113273845675, 'subsample': 0.5719630425890116}. Best is trial 44 with value: 0.8644082386209366.\u001b[0m\n",
      "\u001b[32m[I 2023-05-14 21:04:47,541]\u001b[0m Trial 64 finished with value: 0.8629540056588787 and parameters: {'n_estimators': 447, 'max_depth': 6, 'reg_alpha': 0.8092736729251477, 'reg_lambda': 0.19379075946268814, 'min_child_weight': 3, 'gamma': 0.7139933478600919, 'learning_rate': 0.012274202092255725, 'colsample_bytree': 0.3613691209009448, 'subsample': 0.5698294250177564}. Best is trial 44 with value: 0.8644082386209366.\u001b[0m\n",
      "\u001b[32m[I 2023-05-14 21:05:13,290]\u001b[0m Trial 65 finished with value: 0.8641152678368316 and parameters: {'n_estimators': 425, 'max_depth': 5, 'reg_alpha': 0.7558552528414847, 'reg_lambda': 0.13912377743827384, 'min_child_weight': 3, 'gamma': 0.5943013656118976, 'learning_rate': 0.04037784878883089, 'colsample_bytree': 0.3461909642506666, 'subsample': 0.5357205080620356}. Best is trial 44 with value: 0.8644082386209366.\u001b[0m\n",
      "\u001b[32m[I 2023-05-14 21:05:38,193]\u001b[0m Trial 66 finished with value: 0.8620099566499073 and parameters: {'n_estimators': 419, 'max_depth': 5, 'reg_alpha': 0.6728313151208933, 'reg_lambda': 0.22336241534661078, 'min_child_weight': 4, 'gamma': 0.6042392692355318, 'learning_rate': 0.09289278095459663, 'colsample_bytree': 0.33372248470458243, 'subsample': 0.5388424622029069}. Best is trial 44 with value: 0.8644082386209366.\u001b[0m\n",
      "\u001b[32m[I 2023-05-14 21:06:10,599]\u001b[0m Trial 67 finished with value: 0.8544743754898464 and parameters: {'n_estimators': 482, 'max_depth': 6, 'reg_alpha': 0.7536442410374619, 'reg_lambda': 0.09712148969649285, 'min_child_weight': 3, 'gamma': 0.6538934949076549, 'learning_rate': 0.12675237517092097, 'colsample_bytree': 0.30071082234066404, 'subsample': 0.5039133563521269}. Best is trial 44 with value: 0.8644082386209366.\u001b[0m\n",
      "\u001b[32m[I 2023-05-14 21:06:40,197]\u001b[0m Trial 68 finished with value: 0.86391330686842 and parameters: {'n_estimators': 461, 'max_depth': 5, 'reg_alpha': 0.6944809895290567, 'reg_lambda': 0.16745454255871892, 'min_child_weight': 3, 'gamma': 0.5751172843248424, 'learning_rate': 0.04687199737476214, 'colsample_bytree': 0.3817366423951285, 'subsample': 0.6248386906728671}. Best is trial 44 with value: 0.8644082386209366.\u001b[0m\n",
      "\u001b[32m[I 2023-05-14 21:07:06,238]\u001b[0m Trial 69 finished with value: 0.8627459939017816 and parameters: {'n_estimators': 431, 'max_depth': 5, 'reg_alpha': 0.8293043937833527, 'reg_lambda': 0.13829584142767806, 'min_child_weight': 4, 'gamma': 0.516592504303241, 'learning_rate': 0.08361618615088143, 'colsample_bytree': 0.34442144993653584, 'subsample': 0.6736962297395401}. Best is trial 44 with value: 0.8644082386209366.\u001b[0m\n",
      "\u001b[32m[I 2023-05-14 21:07:36,109]\u001b[0m Trial 70 finished with value: 0.8488939599033627 and parameters: {'n_estimators': 402, 'max_depth': 6, 'reg_alpha': 0.7417989911714973, 'reg_lambda': 0.254581553884192, 'min_child_weight': 3, 'gamma': 0.6441068187902748, 'learning_rate': 0.19606356464134517, 'colsample_bytree': 0.3718368129668998, 'subsample': 0.5915678276343659}. Best is trial 44 with value: 0.8644082386209366.\u001b[0m\n",
      "\u001b[32m[I 2023-05-14 21:08:03,963]\u001b[0m Trial 71 finished with value: 0.8642428654461678 and parameters: {'n_estimators': 447, 'max_depth': 5, 'reg_alpha': 0.7964155015809282, 'reg_lambda': 0.06766294144552315, 'min_child_weight': 3, 'gamma': 0.5947647773515413, 'learning_rate': 0.03365160658547522, 'colsample_bytree': 0.35448979285680965, 'subsample': 0.5700793541301911}. Best is trial 44 with value: 0.8644082386209366.\u001b[0m\n",
      "\u001b[32m[I 2023-05-14 21:08:33,071]\u001b[0m Trial 72 finished with value: 0.8643130443642223 and parameters: {'n_estimators': 488, 'max_depth': 5, 'reg_alpha': 0.7803288165483041, 'reg_lambda': 0.09195920309953443, 'min_child_weight': 3, 'gamma': 0.5849294558782269, 'learning_rate': 0.04096566576778711, 'colsample_bytree': 0.3197235557689143, 'subsample': 0.5600214441948297}. Best is trial 44 with value: 0.8644082386209366.\u001b[0m\n",
      "\u001b[32m[I 2023-05-14 21:09:02,091]\u001b[0m Trial 73 finished with value: 0.8587476557025667 and parameters: {'n_estimators': 493, 'max_depth': 5, 'reg_alpha': 0.7926630300503127, 'reg_lambda': 0.08813452480079378, 'min_child_weight': 4, 'gamma': 0.5351669753257532, 'learning_rate': 0.12625370652618662, 'colsample_bytree': 0.3162918240432263, 'subsample': 0.57937099665431}. Best is trial 44 with value: 0.8644082386209366.\u001b[0m\n",
      "\u001b[32m[I 2023-05-14 21:09:42,231]\u001b[0m Trial 74 finished with value: 0.862991705930073 and parameters: {'n_estimators': 487, 'max_depth': 6, 'reg_alpha': 0.8492899698499936, 'reg_lambda': 0.1127726420846068, 'min_child_weight': 3, 'gamma': 0.5792433391599431, 'learning_rate': 0.011083263134923825, 'colsample_bytree': 0.4154956923352484, 'subsample': 0.5537541534242164}. Best is trial 44 with value: 0.8644082386209366.\u001b[0m\n",
      "\u001b[32m[I 2023-05-14 21:10:23,473]\u001b[0m Trial 75 finished with value: 0.8586790271954217 and parameters: {'n_estimators': 460, 'max_depth': 7, 'reg_alpha': 0.9005570911624353, 'reg_lambda': 0.04823532425535887, 'min_child_weight': 1, 'gamma': 0.6250032923616328, 'learning_rate': 0.06340093691339609, 'colsample_bytree': 0.38880760390320657, 'subsample': 0.5169288871634219}. Best is trial 44 with value: 0.8644082386209366.\u001b[0m\n",
      "\u001b[32m[I 2023-05-14 21:11:14,385]\u001b[0m Trial 76 finished with value: 0.8533288014423178 and parameters: {'n_estimators': 446, 'max_depth': 10, 'reg_alpha': 0.7737990273360944, 'reg_lambda': 0.17193899625675185, 'min_child_weight': 2, 'gamma': 0.6777194096241749, 'learning_rate': 0.0825202515485198, 'colsample_bytree': 0.3232372044541589, 'subsample': 0.5935962114443912}. Best is trial 44 with value: 0.8644082386209366.\u001b[0m\n",
      "\u001b[32m[I 2023-05-14 21:11:38,084]\u001b[0m Trial 77 finished with value: 0.8590750725545085 and parameters: {'n_estimators': 473, 'max_depth': 4, 'reg_alpha': 0.7108630869500971, 'reg_lambda': 0.2105871809129755, 'min_child_weight': 2, 'gamma': 0.4532802785493868, 'learning_rate': 0.16148717175851024, 'colsample_bytree': 0.33795742743588686, 'subsample': 0.6151099910117412}. Best is trial 44 with value: 0.8644082386209366.\u001b[0m\n",
      "\u001b[32m[I 2023-05-14 21:12:09,808]\u001b[0m Trial 78 finished with value: 0.8641356992822027 and parameters: {'n_estimators': 500, 'max_depth': 5, 'reg_alpha': 0.8711091936478237, 'reg_lambda': 0.06919562136824176, 'min_child_weight': 4, 'gamma': 0.49654319531723634, 'learning_rate': 0.04195695375828684, 'colsample_bytree': 0.36258236976325775, 'subsample': 0.5453832923019474}. Best is trial 44 with value: 0.8644082386209366.\u001b[0m\n",
      "\u001b[32m[I 2023-05-14 21:12:41,490]\u001b[0m Trial 79 finished with value: 0.8578476313748492 and parameters: {'n_estimators': 413, 'max_depth': 6, 'reg_alpha': 0.6633509133338955, 'reg_lambda': 0.02162541472317026, 'min_child_weight': 3, 'gamma': 0.5548029759408861, 'learning_rate': 0.10380016765531286, 'colsample_bytree': 0.383717656785558, 'subsample': 0.570018275127143}. Best is trial 44 with value: 0.8644082386209366.\u001b[0m\n"
     ]
    },
    {
     "name": "stdout",
     "output_type": "stream",
     "text": [
      "\u001b[32m[I 2023-05-14 21:13:03,925]\u001b[0m Trial 80 finished with value: 0.8603631235973935 and parameters: {'n_estimators': 387, 'max_depth': 5, 'reg_alpha': 0.8409079983254432, 'reg_lambda': 0.30459451996195286, 'min_child_weight': 5, 'gamma': 0.5913462337294948, 'learning_rate': 0.12721771163436812, 'colsample_bytree': 0.30065340828586207, 'subsample': 0.6318913796641032}. Best is trial 44 with value: 0.8644082386209366.\u001b[0m\n",
      "\u001b[32m[I 2023-05-14 21:13:34,795]\u001b[0m Trial 81 finished with value: 0.8639092425636056 and parameters: {'n_estimators': 496, 'max_depth': 5, 'reg_alpha': 0.8691886451619738, 'reg_lambda': 0.07270544433307799, 'min_child_weight': 4, 'gamma': 0.49495553798497455, 'learning_rate': 0.046627942328358915, 'colsample_bytree': 0.35841505733148793, 'subsample': 0.5435062336559917}. Best is trial 44 with value: 0.8644082386209366.\u001b[0m\n",
      "\u001b[32m[I 2023-05-14 21:14:06,359]\u001b[0m Trial 82 finished with value: 0.8640746363655806 and parameters: {'n_estimators': 474, 'max_depth': 5, 'reg_alpha': 0.8127802833136838, 'reg_lambda': 0.061526246418366966, 'min_child_weight': 3, 'gamma': 0.5121766525681714, 'learning_rate': 0.03899795614229672, 'colsample_bytree': 0.3947141168978634, 'subsample': 0.5598117939255731}. Best is trial 44 with value: 0.8644082386209366.\u001b[0m\n",
      "\u001b[32m[I 2023-05-14 21:14:30,111]\u001b[0m Trial 83 finished with value: 0.8643309451277084 and parameters: {'n_estimators': 455, 'max_depth': 4, 'reg_alpha': 0.7325975807239223, 'reg_lambda': 0.0978541343028265, 'min_child_weight': 5, 'gamma': 0.6288451811487644, 'learning_rate': 0.06528772249414097, 'colsample_bytree': 0.37201037997241665, 'subsample': 0.5281478857327793}. Best is trial 44 with value: 0.8644082386209366.\u001b[0m\n",
      "\u001b[32m[I 2023-05-14 21:14:51,798]\u001b[0m Trial 84 finished with value: 0.8634189832829318 and parameters: {'n_estimators': 433, 'max_depth': 4, 'reg_alpha': 0.7279563901229272, 'reg_lambda': 0.123557260250515, 'min_child_weight': 2, 'gamma': 0.627038909453532, 'learning_rate': 0.07342033470646162, 'colsample_bytree': 0.33268120733093015, 'subsample': 0.5268445129241439}. Best is trial 44 with value: 0.8644082386209366.\u001b[0m\n",
      "\u001b[32m[I 2023-05-14 21:15:15,801]\u001b[0m Trial 85 finished with value: 0.8628800362103602 and parameters: {'n_estimators': 455, 'max_depth': 4, 'reg_alpha': 0.7714317024807511, 'reg_lambda': 0.165370956715778, 'min_child_weight': 0, 'gamma': 0.6757067728677084, 'learning_rate': 0.09721808762121906, 'colsample_bytree': 0.3739730153312268, 'subsample': 0.6035896737032853}. Best is trial 44 with value: 0.8644082386209366.\u001b[0m\n",
      "\u001b[32m[I 2023-05-14 21:15:39,198]\u001b[0m Trial 86 finished with value: 0.8641230995232524 and parameters: {'n_estimators': 439, 'max_depth': 4, 'reg_alpha': 0.6924612292334683, 'reg_lambda': 0.09940421244817105, 'min_child_weight': 3, 'gamma': 0.5510529775299341, 'learning_rate': 0.06552726369354273, 'colsample_bytree': 0.34905545922452574, 'subsample': 0.495274710253329}. Best is trial 44 with value: 0.8644082386209366.\u001b[0m\n",
      "\u001b[32m[I 2023-05-14 21:16:05,147]\u001b[0m Trial 87 finished with value: 0.8601470153064664 and parameters: {'n_estimators': 464, 'max_depth': 4, 'reg_alpha': 0.6506207655623816, 'reg_lambda': 0.23630047869435236, 'min_child_weight': 5, 'gamma': 0.6102614173988794, 'learning_rate': 0.1437686167578977, 'colsample_bytree': 0.416227551000721, 'subsample': 0.5950180704814385}. Best is trial 44 with value: 0.8644082386209366.\u001b[0m\n",
      "\u001b[32m[I 2023-05-14 21:16:41,680]\u001b[0m Trial 88 finished with value: 0.8639579868582576 and parameters: {'n_estimators': 452, 'max_depth': 6, 'reg_alpha': 0.7405703862462673, 'reg_lambda': 0.026590873954602245, 'min_child_weight': 6, 'gamma': 0.4644403075046092, 'learning_rate': 0.028851428405330764, 'colsample_bytree': 0.39949733371638885, 'subsample': 0.5220035009682383}. Best is trial 44 with value: 0.8644082386209366.\u001b[0m\n",
      "\u001b[32m[I 2023-05-14 21:17:05,995]\u001b[0m Trial 89 finished with value: 0.8578831663914054 and parameters: {'n_estimators': 486, 'max_depth': 4, 'reg_alpha': 0.7109165456800635, 'reg_lambda': 0.00040954714334449915, 'min_child_weight': 2, 'gamma': 0.24642585514594423, 'learning_rate': 0.18377165435770337, 'colsample_bytree': 0.31676306142621763, 'subsample': 0.5725535372345741}. Best is trial 44 with value: 0.8644082386209366.\u001b[0m\n",
      "\u001b[32m[I 2023-05-14 21:17:29,504]\u001b[0m Trial 90 finished with value: 0.8630608237806803 and parameters: {'n_estimators': 469, 'max_depth': 4, 'reg_alpha': 0.7735336562948836, 'reg_lambda': 0.1933944514792179, 'min_child_weight': 3, 'gamma': 0.5285448233775575, 'learning_rate': 0.0896791923441714, 'colsample_bytree': 0.33626656590511805, 'subsample': 0.5049191684708861}. Best is trial 44 with value: 0.8644082386209366.\u001b[0m\n",
      "\u001b[32m[I 2023-05-14 21:18:02,675]\u001b[0m Trial 91 finished with value: 0.8643943036994305 and parameters: {'n_estimators': 499, 'max_depth': 5, 'reg_alpha': 0.8019342044069623, 'reg_lambda': 0.08699496130326664, 'min_child_weight': 4, 'gamma': 0.4945619656973017, 'learning_rate': 0.03675337255802298, 'colsample_bytree': 0.3678216120587041, 'subsample': 0.5496660118659203}. Best is trial 44 with value: 0.8644082386209366.\u001b[0m\n",
      "\u001b[32m[I 2023-05-14 21:18:16,188]\u001b[0m Trial 92 finished with value: 0.8616869319223858 and parameters: {'n_estimators': 206, 'max_depth': 5, 'reg_alpha': 0.8014277545987842, 'reg_lambda': 0.08460501187801604, 'min_child_weight': 4, 'gamma': 0.5676236180377011, 'learning_rate': 0.02602975465924129, 'colsample_bytree': 0.376378199524535, 'subsample': 0.5548533221502308}. Best is trial 44 with value: 0.8644082386209366.\u001b[0m\n",
      "\u001b[32m[I 2023-05-14 21:18:45,378]\u001b[0m Trial 93 finished with value: 0.8631281596923227 and parameters: {'n_estimators': 481, 'max_depth': 5, 'reg_alpha': 0.8374764415616199, 'reg_lambda': 0.1268971169655378, 'min_child_weight': 5, 'gamma': 0.5865005709511382, 'learning_rate': 0.06507428610570232, 'colsample_bytree': 0.3517035296141165, 'subsample': 0.5866713711378234}. Best is trial 44 with value: 0.8644082386209366.\u001b[0m\n",
      "\u001b[32m[I 2023-05-14 21:19:12,244]\u001b[0m Trial 94 finished with value: 0.861943562335696 and parameters: {'n_estimators': 410, 'max_depth': 5, 'reg_alpha': 0.7604418063208833, 'reg_lambda': 0.04116678884931673, 'min_child_weight': 6, 'gamma': 0.40618643764729556, 'learning_rate': 0.012571534619924312, 'colsample_bytree': 0.388948294652141, 'subsample': 0.5319286867088746}. Best is trial 44 with value: 0.8644082386209366.\u001b[0m\n",
      "\u001b[32m[I 2023-05-14 21:19:37,752]\u001b[0m Trial 95 finished with value: 0.8614960154659714 and parameters: {'n_estimators': 440, 'max_depth': 4, 'reg_alpha': 0.7298255579139995, 'reg_lambda': 0.10592450588970465, 'min_child_weight': 2, 'gamma': 0.6394297587934784, 'learning_rate': 0.1166112538104555, 'colsample_bytree': 0.43089404748122, 'subsample': 0.5632207639219003}. Best is trial 44 with value: 0.8644082386209366.\u001b[0m\n",
      "\u001b[32m[I 2023-05-14 21:20:08,701]\u001b[0m Trial 96 finished with value: 0.8626808246413086 and parameters: {'n_estimators': 467, 'max_depth': 6, 'reg_alpha': 0.6791371477122059, 'reg_lambda': 0.14473641868283765, 'min_child_weight': 3, 'gamma': 0.13790177147633442, 'learning_rate': 0.06002125277031919, 'colsample_bytree': 0.31481676380924445, 'subsample': 0.8789955205731366}. Best is trial 44 with value: 0.8644082386209366.\u001b[0m\n",
      "\u001b[32m[I 2023-05-14 21:20:45,472]\u001b[0m Trial 97 finished with value: 0.858020594621378 and parameters: {'n_estimators': 421, 'max_depth': 7, 'reg_alpha': 0.8056597017920342, 'reg_lambda': 0.04884404554651522, 'min_child_weight': 4, 'gamma': 0.5553746150281991, 'learning_rate': 0.0873922613675723, 'colsample_bytree': 0.36802769275793984, 'subsample': 0.606180902532715}. Best is trial 44 with value: 0.8644082386209366.\u001b[0m\n",
      "\u001b[32m[I 2023-05-14 21:21:11,276]\u001b[0m Trial 98 finished with value: 0.8640795595517418 and parameters: {'n_estimators': 454, 'max_depth': 4, 'reg_alpha': 0.7076257063648871, 'reg_lambda': 0.08735183998066623, 'min_child_weight': 1, 'gamma': 0.4780613939354501, 'learning_rate': 0.03137494703373252, 'colsample_bytree': 0.4096062727788757, 'subsample': 0.5782839513950047}. Best is trial 44 with value: 0.8644082386209366.\u001b[0m\n",
      "\u001b[32m[I 2023-05-14 21:21:41,191]\u001b[0m Trial 99 finished with value: 0.8553793730074288 and parameters: {'n_estimators': 490, 'max_depth': 5, 'reg_alpha': 0.7851108278982376, 'reg_lambda': 0.15738694986644744, 'min_child_weight': 3, 'gamma': 0.4264078777225404, 'learning_rate': 0.14994244654259764, 'colsample_bytree': 0.33098172343530485, 'subsample': 0.5147967342557743}. Best is trial 44 with value: 0.8644082386209366.\u001b[0m\n"
     ]
    },
    {
     "name": "stdout",
     "output_type": "stream",
     "text": [
      "\u001b[32m[I 2023-05-14 21:22:25,049]\u001b[0m Trial 100 finished with value: 0.8600354159462535 and parameters: {'n_estimators': 401, 'max_depth': 9, 'reg_alpha': 0.6149710620265055, 'reg_lambda': 0.07111696558173763, 'min_child_weight': 3, 'gamma': 0.6124340841215845, 'learning_rate': 0.048805228513699464, 'colsample_bytree': 0.34480836507460155, 'subsample': 0.5499372744492211}. Best is trial 44 with value: 0.8644082386209366.\u001b[0m\n",
      "\u001b[32m[I 2023-05-14 21:22:55,941]\u001b[0m Trial 101 finished with value: 0.8637284184022003 and parameters: {'n_estimators': 498, 'max_depth': 5, 'reg_alpha': 0.8821468537982119, 'reg_lambda': 0.025818394628510544, 'min_child_weight': 4, 'gamma': 0.4936972529130179, 'learning_rate': 0.05409544356371171, 'colsample_bytree': 0.3559306902438353, 'subsample': 0.5468332161886242}. Best is trial 44 with value: 0.8644082386209366.\u001b[0m\n",
      "\u001b[32m[I 2023-05-14 21:23:26,400]\u001b[0m Trial 102 finished with value: 0.864480884789749 and parameters: {'n_estimators': 479, 'max_depth': 5, 'reg_alpha': 0.8581314594714697, 'reg_lambda': 0.10723263801943952, 'min_child_weight': 4, 'gamma': 0.5161915340870936, 'learning_rate': 0.03616554968615554, 'colsample_bytree': 0.3676487622940014, 'subsample': 0.5375159413645029}. Best is trial 102 with value: 0.864480884789749.\u001b[0m\n",
      "\u001b[32m[I 2023-05-14 21:23:56,058]\u001b[0m Trial 103 finished with value: 0.8594283553459652 and parameters: {'n_estimators': 478, 'max_depth': 5, 'reg_alpha': 0.8184121887222021, 'reg_lambda': 0.11546579666559434, 'min_child_weight': 4, 'gamma': 0.5327958517055122, 'learning_rate': 0.10643295440803853, 'colsample_bytree': 0.3760853102730592, 'subsample': 0.5244143310252354}. Best is trial 102 with value: 0.864480884789749.\u001b[0m\n",
      "\u001b[32m[I 2023-05-14 21:24:04,512]\u001b[0m Trial 104 finished with value: 0.8633375271799653 and parameters: {'n_estimators': 152, 'max_depth': 4, 'reg_alpha': 0.7460498566043154, 'reg_lambda': 0.09766464294901267, 'min_child_weight': 4, 'gamma': 0.4495702118244417, 'learning_rate': 0.0758226141310071, 'colsample_bytree': 0.4000763989676771, 'subsample': 0.5643620290048488}. Best is trial 102 with value: 0.864480884789749.\u001b[0m\n",
      "\u001b[32m[I 2023-05-14 21:24:32,239]\u001b[0m Trial 105 finished with value: 0.8641511016863397 and parameters: {'n_estimators': 436, 'max_depth': 5, 'reg_alpha': 0.852774708748637, 'reg_lambda': 0.13420003857844792, 'min_child_weight': 3, 'gamma': 0.5757723510738787, 'learning_rate': 0.027627135667475308, 'colsample_bytree': 0.3666584150418582, 'subsample': 0.5363288267591917}. Best is trial 102 with value: 0.864480884789749.\u001b[0m\n",
      "\u001b[32m[I 2023-05-14 21:25:01,600]\u001b[0m Trial 106 finished with value: 0.8612897966029586 and parameters: {'n_estimators': 429, 'max_depth': 6, 'reg_alpha': 0.9419461639487107, 'reg_lambda': 0.06459066684718177, 'min_child_weight': 4, 'gamma': 0.5736335991920285, 'learning_rate': 0.011283699828961904, 'colsample_bytree': 0.31101282307943073, 'subsample': 0.4896610028580286}. Best is trial 102 with value: 0.864480884789749.\u001b[0m\n",
      "\u001b[32m[I 2023-05-14 21:25:26,187]\u001b[0m Trial 107 finished with value: 0.8639491969838154 and parameters: {'n_estimators': 470, 'max_depth': 4, 'reg_alpha': 0.8423406852520978, 'reg_lambda': 0.12539383123436432, 'min_child_weight': 5, 'gamma': 0.5088048118821498, 'learning_rate': 0.029287526858326463, 'colsample_bytree': 0.3665770454205497, 'subsample': 0.5324035925364766}. Best is trial 102 with value: 0.864480884789749.\u001b[0m\n",
      "\u001b[32m[I 2023-05-14 21:25:33,380]\u001b[0m Trial 108 finished with value: 0.862441650845291 and parameters: {'n_estimators': 107, 'max_depth': 5, 'reg_alpha': 0.7884260794775699, 'reg_lambda': 0.054750495183983935, 'min_child_weight': 5, 'gamma': 0.5974047164618299, 'learning_rate': 0.06310945241437095, 'colsample_bytree': 0.38900614989929, 'subsample': 0.5022505780025637}. Best is trial 102 with value: 0.864480884789749.\u001b[0m\n",
      "\u001b[32m[I 2023-05-14 21:25:56,237]\u001b[0m Trial 109 finished with value: 0.8631625217906513 and parameters: {'n_estimators': 454, 'max_depth': 4, 'reg_alpha': 0.8254019893249407, 'reg_lambda': 0.17972659705636096, 'min_child_weight': 3, 'gamma': 0.5345007183554671, 'learning_rate': 0.09790168768916295, 'colsample_bytree': 0.3492545070399582, 'subsample': 0.5401788436569711}. Best is trial 102 with value: 0.864480884789749.\u001b[0m\n",
      "\u001b[32m[I 2023-05-14 21:26:28,367]\u001b[0m Trial 110 finished with value: 0.8533642429603855 and parameters: {'n_estimators': 437, 'max_depth': 6, 'reg_alpha': 0.767692682387356, 'reg_lambda': 0.13903943007363648, 'min_child_weight': 1, 'gamma': 0.18014749406651415, 'learning_rate': 0.13749698450816078, 'colsample_bytree': 0.3256699293063294, 'subsample': 0.5856903291713009}. Best is trial 102 with value: 0.864480884789749.\u001b[0m\n",
      "\u001b[32m[I 2023-05-14 21:27:04,411]\u001b[0m Trial 111 finished with value: 0.8642049397857325 and parameters: {'n_estimators': 463, 'max_depth': 5, 'reg_alpha': 0.7304291961254692, 'reg_lambda': 0.1563466556031828, 'min_child_weight': 3, 'gamma': 0.634899012793289, 'learning_rate': 0.03091981405587632, 'colsample_bytree': 0.36749556173410763, 'subsample': 0.5746227605001265}. Best is trial 102 with value: 0.864480884789749.\u001b[0m\n",
      "\u001b[32m[I 2023-05-14 21:27:32,299]\u001b[0m Trial 112 finished with value: 0.8644010239692683 and parameters: {'n_estimators': 488, 'max_depth': 5, 'reg_alpha': 0.7187426571301805, 'reg_lambda': 0.1572341025737042, 'min_child_weight': 3, 'gamma': 0.6303688156056547, 'learning_rate': 0.030650579801329594, 'colsample_bytree': 0.36090584209319476, 'subsample': 0.5162172426600593}. Best is trial 102 with value: 0.864480884789749.\u001b[0m\n",
      "\u001b[32m[I 2023-05-14 21:27:57,802]\u001b[0m Trial 113 finished with value: 0.8614980439790092 and parameters: {'n_estimators': 478, 'max_depth': 5, 'reg_alpha': 0.7334202137837709, 'reg_lambda': 0.15812686538207715, 'min_child_weight': 2, 'gamma': 0.6449651322292659, 'learning_rate': 0.08060231831973708, 'colsample_bytree': 0.33713586451912003, 'subsample': 0.5129535292036576}. Best is trial 102 with value: 0.864480884789749.\u001b[0m\n",
      "\u001b[32m[I 2023-05-14 21:28:25,873]\u001b[0m Trial 114 finished with value: 0.863447464100838 and parameters: {'n_estimators': 487, 'max_depth': 5, 'reg_alpha': 0.6879025181847306, 'reg_lambda': 0.08930613227068357, 'min_child_weight': 3, 'gamma': 0.6303936095329412, 'learning_rate': 0.054290300445299144, 'colsample_bytree': 0.42048565735732146, 'subsample': 0.5799173154324405}. Best is trial 102 with value: 0.864480884789749.\u001b[0m\n",
      "\u001b[32m[I 2023-05-14 21:28:49,673]\u001b[0m Trial 115 finished with value: 0.8579704546494733 and parameters: {'n_estimators': 463, 'max_depth': 5, 'reg_alpha': 0.6558554319179654, 'reg_lambda': 0.01893831095840573, 'min_child_weight': 3, 'gamma': 0.6562906857332064, 'learning_rate': 0.11504193084555431, 'colsample_bytree': 0.4036540940545868, 'subsample': 0.4714253810529059}. Best is trial 102 with value: 0.864480884789749.\u001b[0m\n",
      "\u001b[32m[I 2023-05-14 21:29:15,296]\u001b[0m Trial 116 finished with value: 0.8642175691284393 and parameters: {'n_estimators': 500, 'max_depth': 5, 'reg_alpha': 0.7088899171872515, 'reg_lambda': 0.11057807855356022, 'min_child_weight': 4, 'gamma': 0.6071544861391612, 'learning_rate': 0.03161936692270386, 'colsample_bytree': 0.3557076708115917, 'subsample': 0.6007864770892316}. Best is trial 102 with value: 0.864480884789749.\u001b[0m\n",
      "\u001b[32m[I 2023-05-14 21:29:38,447]\u001b[0m Trial 117 finished with value: 0.8616287456818961 and parameters: {'n_estimators': 491, 'max_depth': 4, 'reg_alpha': 0.7299450501981988, 'reg_lambda': 0.03922203938911786, 'min_child_weight': 4, 'gamma': 0.6052183402978448, 'learning_rate': 0.013542179954898748, 'colsample_bytree': 0.35421241573914014, 'subsample': 0.5555354293037954}. Best is trial 102 with value: 0.864480884789749.\u001b[0m\n",
      "\u001b[32m[I 2023-05-14 21:30:02,070]\u001b[0m Trial 118 finished with value: 0.8646030207984238 and parameters: {'n_estimators': 482, 'max_depth': 4, 'reg_alpha': 0.7071434688845587, 'reg_lambda': 0.10325726465952341, 'min_child_weight': 4, 'gamma': 0.09090695906557875, 'learning_rate': 0.055373986515892266, 'colsample_bytree': 0.3259699518163856, 'subsample': 0.8570329591974234}. Best is trial 118 with value: 0.8646030207984238.\u001b[0m\n",
      "\u001b[32m[I 2023-05-14 21:30:26,015]\u001b[0m Trial 119 finished with value: 0.8627845570218516 and parameters: {'n_estimators': 500, 'max_depth': 4, 'reg_alpha': 0.7136163364692297, 'reg_lambda': 0.07779370864329013, 'min_child_weight': 4, 'gamma': 0.02920517593473259, 'learning_rate': 0.09425587833553625, 'colsample_bytree': 0.31179111197690673, 'subsample': 0.8890073963277463}. Best is trial 118 with value: 0.8646030207984238.\u001b[0m\n"
     ]
    }
   ],
   "source": [
    "study2 = optuna.create_study(direction='maximize', sampler=TPESampler())\n",
    "study2.optimize(objective, n_trials=120, show_progress_bar=True)"
   ]
  },
  {
   "cell_type": "code",
   "execution_count": null,
   "id": "ae09a4da",
   "metadata": {},
   "outputs": [],
   "source": []
  },
  {
   "cell_type": "code",
   "execution_count": 83,
   "id": "6db56842",
   "metadata": {},
   "outputs": [
    {
     "data": {
      "text/plain": [
       "FrozenTrial(number=118, state=TrialState.COMPLETE, values=[0.8646030207984238], datetime_start=datetime.datetime(2023, 5, 14, 21, 29, 38, 455205), datetime_complete=datetime.datetime(2023, 5, 14, 21, 30, 2, 70172), params={'n_estimators': 482, 'max_depth': 4, 'reg_alpha': 0.7071434688845587, 'reg_lambda': 0.10325726465952341, 'min_child_weight': 4, 'gamma': 0.09090695906557875, 'learning_rate': 0.055373986515892266, 'colsample_bytree': 0.3259699518163856, 'subsample': 0.8570329591974234}, user_attrs={}, system_attrs={}, intermediate_values={}, distributions={'n_estimators': IntDistribution(high=500, log=False, low=50, step=1), 'max_depth': IntDistribution(high=10, log=False, low=3, step=1), 'reg_alpha': FloatDistribution(high=1.0, log=False, low=1e-08, step=None), 'reg_lambda': FloatDistribution(high=1.0, log=False, low=1e-08, step=None), 'min_child_weight': IntDistribution(high=8, log=False, low=0, step=1), 'gamma': FloatDistribution(high=1.0, log=False, low=1e-08, step=None), 'learning_rate': FloatDistribution(high=1.0, log=False, low=0.01, step=None), 'colsample_bytree': FloatDistribution(high=0.9, log=False, low=0.3, step=None), 'subsample': FloatDistribution(high=0.9, log=False, low=0.3, step=None)}, trial_id=118, value=None)"
      ]
     },
     "execution_count": 83,
     "metadata": {},
     "output_type": "execute_result"
    }
   ],
   "source": [
    "study2.best_trial"
   ]
  },
  {
   "cell_type": "code",
   "execution_count": 84,
   "id": "1c2f76ce",
   "metadata": {},
   "outputs": [
    {
     "data": {
      "text/plain": [
       "0.8646030207984238"
      ]
     },
     "execution_count": 84,
     "metadata": {},
     "output_type": "execute_result"
    }
   ],
   "source": [
    "study2.best_value"
   ]
  },
  {
   "cell_type": "code",
   "execution_count": 85,
   "id": "4e52fe85",
   "metadata": {},
   "outputs": [
    {
     "data": {
      "text/plain": [
       "{'n_estimators': 482,\n",
       " 'max_depth': 4,\n",
       " 'reg_alpha': 0.7071434688845587,\n",
       " 'reg_lambda': 0.10325726465952341,\n",
       " 'min_child_weight': 4,\n",
       " 'gamma': 0.09090695906557875,\n",
       " 'learning_rate': 0.055373986515892266,\n",
       " 'colsample_bytree': 0.3259699518163856,\n",
       " 'subsample': 0.8570329591974234}"
      ]
     },
     "execution_count": 85,
     "metadata": {},
     "output_type": "execute_result"
    }
   ],
   "source": [
    "study2.best_params"
   ]
  },
  {
   "cell_type": "code",
   "execution_count": 86,
   "id": "c52e8961",
   "metadata": {},
   "outputs": [],
   "source": [
    "param_seas = study1.best_params"
   ]
  },
  {
   "cell_type": "code",
   "execution_count": null,
   "id": "66de6fd7",
   "metadata": {},
   "outputs": [],
   "source": []
  },
  {
   "cell_type": "code",
   "execution_count": 87,
   "id": "a2a1ab7a",
   "metadata": {},
   "outputs": [],
   "source": [
    "X_train_H, X_test_H, y_train_H, y_test_H = train_test_split(data_h1, label2, test_size=0.2, random_state=101)"
   ]
  },
  {
   "cell_type": "code",
   "execution_count": 88,
   "id": "21806413",
   "metadata": {},
   "outputs": [],
   "source": [
    "h1n1_model = XGBClassifier(**param_h1,missing= np.nan)"
   ]
  },
  {
   "cell_type": "code",
   "execution_count": 89,
   "id": "5d5eac67",
   "metadata": {},
   "outputs": [
    {
     "data": {
      "text/plain": [
       "XGBClassifier(base_score=None, booster=None, callbacks=None,\n",
       "              colsample_bylevel=None, colsample_bynode=None,\n",
       "              colsample_bytree=0.3643474858944649, early_stopping_rounds=None,\n",
       "              enable_categorical=False, eval_metric=None, feature_types=None,\n",
       "              gamma=0.22429294648503934, gpu_id=None, grow_policy=None,\n",
       "              importance_type=None, interaction_constraints=None,\n",
       "              learning_rate=0.030618678740731226, max_bin=None,\n",
       "              max_cat_threshold=None, max_cat_to_onehot=None,\n",
       "              max_delta_step=None, max_depth=6, max_leaves=None,\n",
       "              min_child_weight=6, missing=nan, monotone_constraints=None,\n",
       "              n_estimators=446, n_jobs=None, num_parallel_tree=None,\n",
       "              predictor=None, random_state=None, ...)"
      ]
     },
     "execution_count": 89,
     "metadata": {},
     "output_type": "execute_result"
    }
   ],
   "source": [
    "h1n1_model.fit(X_train_H, y_train_H)"
   ]
  },
  {
   "cell_type": "code",
   "execution_count": 90,
   "id": "3c27a40b",
   "metadata": {},
   "outputs": [],
   "source": [
    "h1n1_predict = h1n1_model.predict(X_test_H)"
   ]
  },
  {
   "cell_type": "code",
   "execution_count": 91,
   "id": "d8083473",
   "metadata": {},
   "outputs": [],
   "source": [
    "from sklearn.metrics import classification_report"
   ]
  },
  {
   "cell_type": "code",
   "execution_count": 93,
   "id": "c44f8f75",
   "metadata": {},
   "outputs": [
    {
     "name": "stdout",
     "output_type": "stream",
     "text": [
      "              precision    recall  f1-score   support\n",
      "\n",
      "           0       0.79      0.83      0.81      2823\n",
      "           1       0.79      0.75      0.77      2519\n",
      "\n",
      "    accuracy                           0.79      5342\n",
      "   macro avg       0.79      0.79      0.79      5342\n",
      "weighted avg       0.79      0.79      0.79      5342\n",
      "\n"
     ]
    }
   ],
   "source": [
    "print(classification_report(y_test_H, h1n1_predict))"
   ]
  },
  {
   "cell_type": "code",
   "execution_count": 102,
   "id": "7ea454bf",
   "metadata": {},
   "outputs": [
    {
     "name": "stdout",
     "output_type": "stream",
     "text": [
      "ROC AUC score: 0.7886030039921886\n"
     ]
    }
   ],
   "source": [
    "roc_auc = roc_auc_score(y_test_H, h1n1_predict)\n",
    "print(\"ROC AUC score:\", roc_auc)"
   ]
  },
  {
   "cell_type": "code",
   "execution_count": null,
   "id": "c03d0b95",
   "metadata": {},
   "outputs": [],
   "source": []
  },
  {
   "cell_type": "code",
   "execution_count": 94,
   "id": "639d3125",
   "metadata": {},
   "outputs": [],
   "source": [
    "X_train_S, X_test_S, y_train_S, y_test_S = train_test_split(data_seas, label2, test_size=0.2, random_state=101)"
   ]
  },
  {
   "cell_type": "code",
   "execution_count": 95,
   "id": "532c4ff2",
   "metadata": {},
   "outputs": [],
   "source": [
    "seas_model = XGBClassifier(**param_seas,missing= np.nan)"
   ]
  },
  {
   "cell_type": "code",
   "execution_count": 96,
   "id": "15cfe8de",
   "metadata": {},
   "outputs": [
    {
     "data": {
      "text/plain": [
       "XGBClassifier(base_score=None, booster=None, callbacks=None,\n",
       "              colsample_bylevel=None, colsample_bynode=None,\n",
       "              colsample_bytree=0.3643474858944649, early_stopping_rounds=None,\n",
       "              enable_categorical=False, eval_metric=None, feature_types=None,\n",
       "              gamma=0.22429294648503934, gpu_id=None, grow_policy=None,\n",
       "              importance_type=None, interaction_constraints=None,\n",
       "              learning_rate=0.030618678740731226, max_bin=None,\n",
       "              max_cat_threshold=None, max_cat_to_onehot=None,\n",
       "              max_delta_step=None, max_depth=6, max_leaves=None,\n",
       "              min_child_weight=6, missing=nan, monotone_constraints=None,\n",
       "              n_estimators=446, n_jobs=None, num_parallel_tree=None,\n",
       "              predictor=None, random_state=None, ...)"
      ]
     },
     "execution_count": 96,
     "metadata": {},
     "output_type": "execute_result"
    }
   ],
   "source": [
    "seas_model.fit(X_train_S, y_train_S)"
   ]
  },
  {
   "cell_type": "code",
   "execution_count": 97,
   "id": "c6ededed",
   "metadata": {},
   "outputs": [],
   "source": [
    "seas_predict = seas_model.predict(X_test_S)"
   ]
  },
  {
   "cell_type": "code",
   "execution_count": 98,
   "id": "49cdb0c2",
   "metadata": {},
   "outputs": [
    {
     "name": "stdout",
     "output_type": "stream",
     "text": [
      "              precision    recall  f1-score   support\n",
      "\n",
      "           0       0.79      0.82      0.80      2823\n",
      "           1       0.79      0.75      0.77      2519\n",
      "\n",
      "    accuracy                           0.79      5342\n",
      "   macro avg       0.79      0.78      0.79      5342\n",
      "weighted avg       0.79      0.79      0.79      5342\n",
      "\n"
     ]
    }
   ],
   "source": [
    "print(classification_report(y_test_S, seas_predict))"
   ]
  },
  {
   "cell_type": "code",
   "execution_count": 100,
   "id": "3c6e4057",
   "metadata": {},
   "outputs": [
    {
     "name": "stdout",
     "output_type": "stream",
     "text": [
      "ROC AUC score: 0.7845995654422071\n"
     ]
    }
   ],
   "source": [
    "from sklearn.metrics import roc_auc_score\n",
    "\n",
    "roc_auc = roc_auc_score(y_test_S, seas_predict)\n",
    "print(\"ROC AUC score:\", roc_auc)"
   ]
  },
  {
   "cell_type": "code",
   "execution_count": null,
   "id": "fcea08bc",
   "metadata": {},
   "outputs": [],
   "source": []
  },
  {
   "cell_type": "code",
   "execution_count": null,
   "id": "f47fc28b",
   "metadata": {},
   "outputs": [],
   "source": []
  },
  {
   "cell_type": "code",
   "execution_count": null,
   "id": "c7322136",
   "metadata": {},
   "outputs": [],
   "source": []
  },
  {
   "cell_type": "code",
   "execution_count": 140,
   "id": "fefea58a",
   "metadata": {},
   "outputs": [],
   "source": [
    "test = pd.read_csv('test_set_features.csv')"
   ]
  },
  {
   "cell_type": "code",
   "execution_count": 141,
   "id": "69efafc3",
   "metadata": {},
   "outputs": [
    {
     "data": {
      "text/plain": [
       "(26708, 36)"
      ]
     },
     "execution_count": 141,
     "metadata": {},
     "output_type": "execute_result"
    }
   ],
   "source": [
    "test.shape"
   ]
  },
  {
   "cell_type": "code",
   "execution_count": null,
   "id": "18f7c7b5",
   "metadata": {},
   "outputs": [],
   "source": []
  },
  {
   "cell_type": "code",
   "execution_count": 142,
   "id": "b7d12f55",
   "metadata": {},
   "outputs": [],
   "source": [
    "for i, row in test[test['employment_occupation'].isna()].iterrows():\n",
    "    conditions = (test[\"employment_status\"]==\"Unemployed\")\n",
    "    if conditions.any():\n",
    "        test.loc[i, 'employment_occupation'] = 'unemployed_occupation'\n",
    "\n",
    "for i, row in test[test['employment_industry'].isna()].iterrows():\n",
    "    conditions = (test[\"employment_status\"]==\"Unemployed\")\n",
    "    if conditions.any():\n",
    "        test.loc[i, 'employment_industry'] = 'unemployed_in_industry'\n",
    "\n",
    "for i, row in test[test['employment_industry'].isna()].iterrows():\n",
    "    conditions = (test[\"employment_status\"]==\"Not in Labor Force\")\n",
    "    if conditions.any():\n",
    "        test.loc[i, 'employment_industry'] = 'Not_in_laborforce'\n",
    "\n",
    "for i, row in test[test['employment_occupation'].isna()].iterrows():\n",
    "    conditions = (test[\"employment_status\"]==\"Not in Labor Force\")\n",
    "    if conditions.any():\n",
    "        test.loc[i, 'employment_occupation'] = 'Not_in_laborforce'\n",
    " \n",
    "for i, row in test[test['employment_industry'].isna()].iterrows():\n",
    "    conditions = (test[\"employment_status\"]==\"Employed\")\n",
    "    if conditions.any():\n",
    "        test.loc[i, 'employment_industry'] = 'other_industry'\n",
    " \n",
    "for i, row in test[test['employment_occupation'].isna()].iterrows():\n",
    "    conditions = (test[\"employment_status\"]==\"Employed\")\n",
    "    if conditions.any():\n",
    "        test.loc[i, 'employment_occupation'] = 'other_occupation'\n",
    "        \n",
    "income_poverty_nan = 'refused_or_unknown'\n",
    "marital_status_nan = 'refused_or_other_category'\n",
    "employment_status_nan = 'refused_or_other_category'\n",
    "rent_or_own_nan = 'other_refused'\n",
    "education_nan = 'refused_or_unknown'\n",
    "\n",
    "\n",
    "test['income_poverty'].fillna(income_poverty_nan, inplace=True)\n",
    "test['marital_status'].fillna(marital_status_nan, inplace=True)\n",
    "test['employment_status'].fillna(employment_status_nan, inplace=True)\n",
    "test['rent_or_own'].fillna(rent_or_own_nan, inplace=True)\n",
    "test['education'].fillna(education_nan, inplace=True)\n"
   ]
  },
  {
   "cell_type": "code",
   "execution_count": 143,
   "id": "46e129ff",
   "metadata": {},
   "outputs": [],
   "source": [
    "le = LabelEncoder()\n",
    "\n",
    "for features in ordinal_columns:\n",
    "    test[features] = le.fit_transform(test[features])"
   ]
  },
  {
   "cell_type": "code",
   "execution_count": 144,
   "id": "e8f4c81a",
   "metadata": {},
   "outputs": [],
   "source": [
    "test = pd.get_dummies(test, columns=category_columns, drop_first=True)"
   ]
  },
  {
   "cell_type": "code",
   "execution_count": 145,
   "id": "d03ad0f6",
   "metadata": {},
   "outputs": [],
   "source": [
    "numeric_columns = test.select_dtypes('number').columns"
   ]
  },
  {
   "cell_type": "code",
   "execution_count": 146,
   "id": "84ed2a49",
   "metadata": {},
   "outputs": [],
   "source": [
    "test.drop('respondent_id', axis=1, inplace=True)"
   ]
  },
  {
   "cell_type": "code",
   "execution_count": 147,
   "id": "9a612985",
   "metadata": {},
   "outputs": [
    {
     "data": {
      "text/plain": [
       "h1n1_concern                       True\n",
       "h1n1_knowledge                     True\n",
       "behavioral_antiviral_meds          True\n",
       "behavioral_avoidance               True\n",
       "behavioral_face_mask               True\n",
       "                                  ...  \n",
       "employment_occupation_vlluhbov    False\n",
       "employment_occupation_xgwztkwe    False\n",
       "employment_occupation_xqwwgdyp    False\n",
       "employment_occupation_xtkaffoo    False\n",
       "employment_occupation_xzmlyyjv    False\n",
       "Length: 90, dtype: bool"
      ]
     },
     "execution_count": 147,
     "metadata": {},
     "output_type": "execute_result"
    }
   ],
   "source": [
    "test.isna().sum() != 0"
   ]
  },
  {
   "cell_type": "code",
   "execution_count": null,
   "id": "273cd0f0",
   "metadata": {},
   "outputs": [],
   "source": []
  },
  {
   "cell_type": "code",
   "execution_count": 148,
   "id": "de7966d9",
   "metadata": {},
   "outputs": [],
   "source": [
    "test_h1 = test[['h1n1_concern', 'h1n1_knowledge', 'behavioral_antiviral_meds', 'behavioral_avoidance', \n",
    "                'behavioral_face_mask', 'behavioral_wash_hands', 'behavioral_outside_home', 'doctor_recc_h1n1',\n",
    "                'doctor_recc_seasonal', 'child_under_6_months', 'health_worker', 'health_insurance', \n",
    "                'opinion_h1n1_vacc_effective', 'opinion_h1n1_risk', 'opinion_h1n1_sick_from_vacc',\n",
    "                'opinion_seas_vacc_effective', 'opinion_seas_risk', 'opinion_seas_sick_from_vacc', \n",
    "                'age_group', 'education', 'income_poverty', 'household_adults', 'race_Hispanic', \n",
    "                'race_Other or Multiple', 'race_White', 'sex_Male', 'marital_status_Not Married',\n",
    "                'marital_status_refused_or_other_category', 'hhs_geo_region_dqpwygqj', 'hhs_geo_region_fpwskwrf', \n",
    "                'hhs_geo_region_lzgpxyit', 'hhs_geo_region_oxchjgsf', 'hhs_geo_region_qufhixun', \n",
    "                'census_msa_MSA, Principle City', 'census_msa_Non-MSA', 'employment_industry_atmlpfrs', \n",
    "                'employment_industry_cfqqtusy', 'employment_industry_dotnnunm', 'employment_industry_fcxhlnwr', \n",
    "                'employment_industry_haxffmxo', 'employment_industry_ldnlellj', 'employment_industry_mcubkhph',\n",
    "                'employment_industry_mfikgejo', 'employment_industry_msuufmds', 'employment_industry_nduyfdeo', \n",
    "                'employment_industry_phxvnwax', 'employment_industry_pxcmvdjn', 'employment_industry_qnlwzans',\n",
    "                'employment_industry_rucpziij', 'employment_industry_saaquncn', \n",
    "                'employment_industry_unemployed_in_industry', 'employment_industry_vjjrobsf',\n",
    "                'employment_industry_wlfvacwt', 'employment_industry_wxleyezf', 'employment_industry_xicduogh', \n",
    "                'employment_industry_xqicxuve', 'employment_occupation_ccgxvspp', 'employment_occupation_cmhcxjea', \n",
    "                'employment_occupation_dcjcmpih', 'employment_occupation_dlvbwzss', 'employment_occupation_haliazsg',\n",
    "                'employment_occupation_hfxkjkmi', 'employment_occupation_hodpvpew', 'employment_occupation_kldqjyjy',\n",
    "                'employment_occupation_oijqvulv', 'employment_occupation_pvmttkik', 'employment_occupation_qxajmpny',\n",
    "                'employment_occupation_rcertsgn', 'employment_occupation_tfqavkke', 'employment_occupation_ukymxvdu', \n",
    "                'employment_occupation_unemployed_occupation', 'employment_occupation_uqqtjvyb',\n",
    "                'employment_occupation_vlluhbov', 'employment_occupation_xgwztkwe', 'employment_occupation_xqwwgdyp',\n",
    "                'employment_occupation_xtkaffoo', 'employment_occupation_xzmlyyjv']]"
   ]
  },
  {
   "cell_type": "code",
   "execution_count": null,
   "id": "0a703f09",
   "metadata": {},
   "outputs": [],
   "source": []
  },
  {
   "cell_type": "code",
   "execution_count": 149,
   "id": "70ceaed8",
   "metadata": {},
   "outputs": [],
   "source": [
    "test_seas = test[['h1n1_knowledge', 'behavioral_antiviral_meds', 'behavioral_face_mask', 'behavioral_wash_hands',\n",
    "                  'behavioral_touch_face', 'doctor_recc_seasonal', 'chronic_med_condition', 'health_worker', \n",
    "                  'health_insurance', 'opinion_h1n1_vacc_effective', 'opinion_h1n1_risk', \n",
    "                  'opinion_h1n1_sick_from_vacc', 'opinion_seas_vacc_effective', 'opinion_seas_risk',\n",
    "                  'opinion_seas_sick_from_vacc', 'age_group', 'education', 'income_poverty', 'employment_status', \n",
    "                  'race_Hispanic', 'marital_status_Not Married', 'marital_status_refused_or_other_category', \n",
    "                  'rent_or_own_Rent', 'rent_or_own_other_refused', 'hhs_geo_region_dqpwygqj', \n",
    "                  'hhs_geo_region_fpwskwrf', 'hhs_geo_region_mlyzmhmf', 'census_msa_Non-MSA', \n",
    "                  'employment_industry_atmlpfrs', 'employment_industry_cfqqtusy', 'employment_industry_haxffmxo',\n",
    "                  'employment_industry_ldnlellj', 'employment_industry_mcubkhph', 'employment_industry_mfikgejo', \n",
    "                  'employment_industry_msuufmds', 'employment_industry_nduyfdeo', 'employment_industry_phxvnwax',\n",
    "                  'employment_industry_qnlwzans', 'employment_industry_rucpziij', 'employment_industry_saaquncn', \n",
    "                  'employment_industry_vjjrobsf', 'employment_industry_wlfvacwt', 'employment_industry_wxleyezf',\n",
    "                  'employment_industry_xicduogh', 'employment_occupation_ccgxvspp', 'employment_occupation_cmhcxjea', \n",
    "                  'employment_occupation_dcjcmpih', 'employment_occupation_dlvbwzss', \n",
    "                  'employment_occupation_emcorrxb','employment_occupation_haliazsg', \n",
    "                  'employment_occupation_hfxkjkmi', 'employment_occupation_hodpvpew',\n",
    "                  'employment_occupation_oijqvulv', 'employment_occupation_pvmttkik',\n",
    "                  'employment_occupation_tfqavkke', 'employment_occupation_unemployed_occupation',\n",
    "                  'employment_occupation_uqqtjvyb','employment_occupation_vlluhbov', \n",
    "                  'employment_occupation_xgwztkwe', 'employment_occupation_xqwwgdyp',\n",
    "                  'employment_occupation_xzmlyyjv']]"
   ]
  },
  {
   "cell_type": "code",
   "execution_count": null,
   "id": "b28881f3",
   "metadata": {},
   "outputs": [],
   "source": []
  },
  {
   "cell_type": "code",
   "execution_count": 160,
   "id": "32199e77",
   "metadata": {},
   "outputs": [],
   "source": [
    "h1n1_probability = h1n1_model.predict_proba(test_h1)"
   ]
  },
  {
   "cell_type": "code",
   "execution_count": 161,
   "id": "7705df31",
   "metadata": {},
   "outputs": [],
   "source": [
    "h1n1_probability = h1n1_probability[:,1].reshape(-1,1)"
   ]
  },
  {
   "cell_type": "code",
   "execution_count": 162,
   "id": "fc4b487f",
   "metadata": {},
   "outputs": [],
   "source": [
    "seasonal_probability = seas_model.predict_proba(test_seas)"
   ]
  },
  {
   "cell_type": "code",
   "execution_count": 163,
   "id": "2563b933",
   "metadata": {},
   "outputs": [],
   "source": [
    "seasonal_probability = seasonal_probability[:,1].reshape(-1,1)"
   ]
  },
  {
   "cell_type": "code",
   "execution_count": 164,
   "id": "c1779705",
   "metadata": {},
   "outputs": [
    {
     "data": {
      "text/plain": [
       "(26708, 77)"
      ]
     },
     "execution_count": 164,
     "metadata": {},
     "output_type": "execute_result"
    }
   ],
   "source": [
    "test_h1.shape"
   ]
  },
  {
   "cell_type": "code",
   "execution_count": 165,
   "id": "580c09d9",
   "metadata": {},
   "outputs": [
    {
     "data": {
      "text/plain": [
       "(26708, 1)"
      ]
     },
     "execution_count": 165,
     "metadata": {},
     "output_type": "execute_result"
    }
   ],
   "source": [
    "h1n1_probability.shape"
   ]
  },
  {
   "cell_type": "code",
   "execution_count": 166,
   "id": "2a5e8979",
   "metadata": {},
   "outputs": [],
   "source": [
    "test_id = pd.read_csv(\"test_set_features.csv\")"
   ]
  },
  {
   "cell_type": "code",
   "execution_count": null,
   "id": "8948e28c",
   "metadata": {},
   "outputs": [],
   "source": []
  },
  {
   "cell_type": "code",
   "execution_count": null,
   "id": "d9fa7ccd",
   "metadata": {},
   "outputs": [],
   "source": []
  },
  {
   "cell_type": "code",
   "execution_count": 167,
   "id": "2733ebac",
   "metadata": {},
   "outputs": [],
   "source": [
    "new_df = test_id.drop(['h1n1_knowledge',\n",
    "       'behavioral_antiviral_meds', 'behavioral_avoidance',\n",
    "       'behavioral_face_mask', 'behavioral_wash_hands',\n",
    "       'behavioral_large_gatherings', 'behavioral_outside_home',\n",
    "       'behavioral_touch_face', 'doctor_recc_h1n1', 'doctor_recc_seasonal',\n",
    "       'chronic_med_condition', 'child_under_6_months', 'health_worker',\n",
    "       'health_insurance', 'opinion_h1n1_vacc_effective', 'opinion_h1n1_risk',\n",
    "       'opinion_h1n1_sick_from_vacc', 'opinion_seas_vacc_effective',\n",
    "       'opinion_seas_risk', 'opinion_seas_sick_from_vacc', 'age_group',\n",
    "       'education', 'race', 'sex', 'income_poverty', 'marital_status',\n",
    "       'rent_or_own', 'employment_status', 'hhs_geo_region', 'census_msa',\n",
    "       'household_adults', 'household_children', 'employment_industry',\n",
    "       'employment_occupation'], axis=1)"
   ]
  },
  {
   "cell_type": "code",
   "execution_count": 168,
   "id": "0ae68ee7",
   "metadata": {},
   "outputs": [],
   "source": [
    "new_df[\"h1n1_vaccine\"] = h1n1_probability\n",
    "new_df[\"seasonal_vaccine\"] = seasonal_probability"
   ]
  },
  {
   "cell_type": "code",
   "execution_count": 170,
   "id": "8a85286f",
   "metadata": {},
   "outputs": [
    {
     "data": {
      "text/html": [
       "<div>\n",
       "<style scoped>\n",
       "    .dataframe tbody tr th:only-of-type {\n",
       "        vertical-align: middle;\n",
       "    }\n",
       "\n",
       "    .dataframe tbody tr th {\n",
       "        vertical-align: top;\n",
       "    }\n",
       "\n",
       "    .dataframe thead th {\n",
       "        text-align: right;\n",
       "    }\n",
       "</style>\n",
       "<table border=\"1\" class=\"dataframe\">\n",
       "  <thead>\n",
       "    <tr style=\"text-align: right;\">\n",
       "      <th></th>\n",
       "      <th>respondent_id</th>\n",
       "      <th>h1n1_concern</th>\n",
       "      <th>h1n1_vaccine</th>\n",
       "      <th>seasonal_vaccine</th>\n",
       "    </tr>\n",
       "  </thead>\n",
       "  <tbody>\n",
       "    <tr>\n",
       "      <th>0</th>\n",
       "      <td>26707</td>\n",
       "      <td>2.0</td>\n",
       "      <td>0.255379</td>\n",
       "      <td>0.226594</td>\n",
       "    </tr>\n",
       "    <tr>\n",
       "      <th>1</th>\n",
       "      <td>26708</td>\n",
       "      <td>1.0</td>\n",
       "      <td>0.045004</td>\n",
       "      <td>0.032329</td>\n",
       "    </tr>\n",
       "    <tr>\n",
       "      <th>2</th>\n",
       "      <td>26709</td>\n",
       "      <td>2.0</td>\n",
       "      <td>0.737085</td>\n",
       "      <td>0.698856</td>\n",
       "    </tr>\n",
       "    <tr>\n",
       "      <th>3</th>\n",
       "      <td>26710</td>\n",
       "      <td>1.0</td>\n",
       "      <td>0.904164</td>\n",
       "      <td>0.919984</td>\n",
       "    </tr>\n",
       "    <tr>\n",
       "      <th>4</th>\n",
       "      <td>26711</td>\n",
       "      <td>3.0</td>\n",
       "      <td>0.531511</td>\n",
       "      <td>0.610624</td>\n",
       "    </tr>\n",
       "    <tr>\n",
       "      <th>...</th>\n",
       "      <td>...</td>\n",
       "      <td>...</td>\n",
       "      <td>...</td>\n",
       "      <td>...</td>\n",
       "    </tr>\n",
       "    <tr>\n",
       "      <th>26703</th>\n",
       "      <td>53410</td>\n",
       "      <td>1.0</td>\n",
       "      <td>0.524563</td>\n",
       "      <td>0.586107</td>\n",
       "    </tr>\n",
       "    <tr>\n",
       "      <th>26704</th>\n",
       "      <td>53411</td>\n",
       "      <td>3.0</td>\n",
       "      <td>0.336628</td>\n",
       "      <td>0.280669</td>\n",
       "    </tr>\n",
       "    <tr>\n",
       "      <th>26705</th>\n",
       "      <td>53412</td>\n",
       "      <td>0.0</td>\n",
       "      <td>0.209632</td>\n",
       "      <td>0.150678</td>\n",
       "    </tr>\n",
       "    <tr>\n",
       "      <th>26706</th>\n",
       "      <td>53413</td>\n",
       "      <td>3.0</td>\n",
       "      <td>0.310531</td>\n",
       "      <td>0.278766</td>\n",
       "    </tr>\n",
       "    <tr>\n",
       "      <th>26707</th>\n",
       "      <td>53414</td>\n",
       "      <td>2.0</td>\n",
       "      <td>0.672877</td>\n",
       "      <td>0.682630</td>\n",
       "    </tr>\n",
       "  </tbody>\n",
       "</table>\n",
       "<p>26708 rows × 4 columns</p>\n",
       "</div>"
      ],
      "text/plain": [
       "       respondent_id  h1n1_concern  h1n1_vaccine  seasonal_vaccine\n",
       "0              26707           2.0      0.255379          0.226594\n",
       "1              26708           1.0      0.045004          0.032329\n",
       "2              26709           2.0      0.737085          0.698856\n",
       "3              26710           1.0      0.904164          0.919984\n",
       "4              26711           3.0      0.531511          0.610624\n",
       "...              ...           ...           ...               ...\n",
       "26703          53410           1.0      0.524563          0.586107\n",
       "26704          53411           3.0      0.336628          0.280669\n",
       "26705          53412           0.0      0.209632          0.150678\n",
       "26706          53413           3.0      0.310531          0.278766\n",
       "26707          53414           2.0      0.672877          0.682630\n",
       "\n",
       "[26708 rows x 4 columns]"
      ]
     },
     "execution_count": 170,
     "metadata": {},
     "output_type": "execute_result"
    }
   ],
   "source": [
    "new_df"
   ]
  },
  {
   "cell_type": "code",
   "execution_count": 171,
   "id": "796b85f7",
   "metadata": {},
   "outputs": [
    {
     "data": {
      "text/html": [
       "<div>\n",
       "<style scoped>\n",
       "    .dataframe tbody tr th:only-of-type {\n",
       "        vertical-align: middle;\n",
       "    }\n",
       "\n",
       "    .dataframe tbody tr th {\n",
       "        vertical-align: top;\n",
       "    }\n",
       "\n",
       "    .dataframe thead th {\n",
       "        text-align: right;\n",
       "    }\n",
       "</style>\n",
       "<table border=\"1\" class=\"dataframe\">\n",
       "  <thead>\n",
       "    <tr style=\"text-align: right;\">\n",
       "      <th></th>\n",
       "      <th>respondent_id</th>\n",
       "      <th>h1n1_vaccine</th>\n",
       "      <th>seasonal_vaccine</th>\n",
       "    </tr>\n",
       "  </thead>\n",
       "  <tbody>\n",
       "    <tr>\n",
       "      <th>0</th>\n",
       "      <td>26707</td>\n",
       "      <td>0.255379</td>\n",
       "      <td>0.226594</td>\n",
       "    </tr>\n",
       "    <tr>\n",
       "      <th>1</th>\n",
       "      <td>26708</td>\n",
       "      <td>0.045004</td>\n",
       "      <td>0.032329</td>\n",
       "    </tr>\n",
       "    <tr>\n",
       "      <th>2</th>\n",
       "      <td>26709</td>\n",
       "      <td>0.737085</td>\n",
       "      <td>0.698856</td>\n",
       "    </tr>\n",
       "    <tr>\n",
       "      <th>3</th>\n",
       "      <td>26710</td>\n",
       "      <td>0.904164</td>\n",
       "      <td>0.919984</td>\n",
       "    </tr>\n",
       "    <tr>\n",
       "      <th>4</th>\n",
       "      <td>26711</td>\n",
       "      <td>0.531511</td>\n",
       "      <td>0.610624</td>\n",
       "    </tr>\n",
       "  </tbody>\n",
       "</table>\n",
       "</div>"
      ],
      "text/plain": [
       "   respondent_id  h1n1_vaccine  seasonal_vaccine\n",
       "0          26707      0.255379          0.226594\n",
       "1          26708      0.045004          0.032329\n",
       "2          26709      0.737085          0.698856\n",
       "3          26710      0.904164          0.919984\n",
       "4          26711      0.531511          0.610624"
      ]
     },
     "execution_count": 171,
     "metadata": {},
     "output_type": "execute_result"
    }
   ],
   "source": [
    "new_df.drop(\"h1n1_concern\",axis=1,inplace=True)\n",
    "\n",
    "new_df.head()"
   ]
  },
  {
   "cell_type": "code",
   "execution_count": 172,
   "id": "0b7591e3",
   "metadata": {},
   "outputs": [],
   "source": [
    "new_df.set_index(\"respondent_id\",inplace=True)"
   ]
  },
  {
   "cell_type": "code",
   "execution_count": 173,
   "id": "0380c1e3",
   "metadata": {},
   "outputs": [],
   "source": [
    "new_df.to_csv(\"Submission_SFS.csv\")"
   ]
  },
  {
   "cell_type": "code",
   "execution_count": null,
   "id": "fe05043f",
   "metadata": {},
   "outputs": [],
   "source": []
  },
  {
   "cell_type": "code",
   "execution_count": null,
   "id": "00b00725",
   "metadata": {},
   "outputs": [],
   "source": []
  },
  {
   "cell_type": "code",
   "execution_count": 174,
   "id": "25a0c4e7",
   "metadata": {},
   "outputs": [],
   "source": [
    "from joblib import dump"
   ]
  },
  {
   "cell_type": "code",
   "execution_count": 176,
   "id": "80f0d9ae",
   "metadata": {},
   "outputs": [
    {
     "data": {
      "text/plain": [
       "['H1N1_SFS.joblib']"
      ]
     },
     "execution_count": 176,
     "metadata": {},
     "output_type": "execute_result"
    }
   ],
   "source": [
    "dump(h1n1_model, 'H1N1_SFS.joblib')"
   ]
  },
  {
   "cell_type": "code",
   "execution_count": 177,
   "id": "fa69fc06",
   "metadata": {},
   "outputs": [
    {
     "data": {
      "text/plain": [
       "['Seasonal_SFS.joblib']"
      ]
     },
     "execution_count": 177,
     "metadata": {},
     "output_type": "execute_result"
    }
   ],
   "source": [
    "dump(seas_model, 'Seasonal_SFS.joblib')"
   ]
  },
  {
   "cell_type": "code",
   "execution_count": null,
   "id": "57d50935",
   "metadata": {},
   "outputs": [],
   "source": []
  }
 ],
 "metadata": {
  "kernelspec": {
   "display_name": "Python 3 (ipykernel)",
   "language": "python",
   "name": "python3"
  },
  "language_info": {
   "codemirror_mode": {
    "name": "ipython",
    "version": 3
   },
   "file_extension": ".py",
   "mimetype": "text/x-python",
   "name": "python",
   "nbconvert_exporter": "python",
   "pygments_lexer": "ipython3",
   "version": "3.9.13"
  }
 },
 "nbformat": 4,
 "nbformat_minor": 5
}
