{
 "cells": [
  {
   "cell_type": "code",
   "execution_count": 1,
   "id": "4e2a8611",
   "metadata": {},
   "outputs": [],
   "source": [
    "import numpy as np\n",
    "import pandas as pd\n",
    "import matplotlib.pyplot as plt\n",
    "import seaborn as sns\n",
    "%matplotlib inline"
   ]
  },
  {
   "cell_type": "code",
   "execution_count": 2,
   "id": "68fe3775",
   "metadata": {},
   "outputs": [],
   "source": [
    "training_data = pd.read_csv('training_set_features.csv')\n",
    "labels = pd.read_csv('training_set_labels.csv')"
   ]
  },
  {
   "cell_type": "code",
   "execution_count": null,
   "id": "ad999857",
   "metadata": {},
   "outputs": [],
   "source": []
  },
  {
   "cell_type": "code",
   "execution_count": null,
   "id": "77ca3fb0",
   "metadata": {},
   "outputs": [],
   "source": []
  },
  {
   "cell_type": "code",
   "execution_count": 3,
   "id": "ba54b853",
   "metadata": {},
   "outputs": [],
   "source": [
    "numeric_columns = training_data.select_dtypes('number').columns"
   ]
  },
  {
   "cell_type": "code",
   "execution_count": 4,
   "id": "7d86cec8",
   "metadata": {},
   "outputs": [],
   "source": [
    "category_columns = ['race', 'sex', \n",
    "       'marital_status', 'rent_or_own',  'hhs_geo_region',\n",
    "       'census_msa', 'employment_industry', 'employment_occupation']"
   ]
  },
  {
   "cell_type": "code",
   "execution_count": 5,
   "id": "de764f21",
   "metadata": {},
   "outputs": [],
   "source": [
    "ordinal_columns = ['age_group', 'education',  'income_poverty',\n",
    "        'employment_status']"
   ]
  },
  {
   "cell_type": "code",
   "execution_count": null,
   "id": "06034e1b",
   "metadata": {},
   "outputs": [],
   "source": []
  },
  {
   "cell_type": "code",
   "execution_count": 6,
   "id": "7b94d9e3",
   "metadata": {},
   "outputs": [],
   "source": [
    "# IMPUTING THE MISSING VALUES"
   ]
  },
  {
   "cell_type": "code",
   "execution_count": 7,
   "id": "b97ec3e4",
   "metadata": {},
   "outputs": [],
   "source": [
    "for i, row in training_data[training_data['employment_occupation'].isna()].iterrows():\n",
    "    conditions = (training_data[\"employment_status\"]==\"Unemployed\")\n",
    "    if conditions.any():\n",
    "        training_data.loc[i, 'employment_occupation'] = 'unemployed_occupation'\n"
   ]
  },
  {
   "cell_type": "code",
   "execution_count": 8,
   "id": "3c3481a7",
   "metadata": {},
   "outputs": [],
   "source": [
    "for i, row in training_data[training_data['employment_industry'].isna()].iterrows():\n",
    "    conditions = (training_data[\"employment_status\"]==\"Unemployed\")\n",
    "    if conditions.any():\n",
    "        training_data.loc[i, 'employment_industry'] = 'unemployed_in_industry'\n",
    "        "
   ]
  },
  {
   "cell_type": "code",
   "execution_count": 9,
   "id": "54f8e915",
   "metadata": {},
   "outputs": [],
   "source": [
    "for i, row in training_data[training_data['employment_industry'].isna()].iterrows():\n",
    "    conditions = (training_data[\"employment_status\"]==\"Not in Labor Force\")\n",
    "    if conditions.any():\n",
    "       training_data.loc[i, 'employment_industry'] = 'Not_in_laborforce'\n"
   ]
  },
  {
   "cell_type": "code",
   "execution_count": 10,
   "id": "c2724b63",
   "metadata": {},
   "outputs": [],
   "source": [
    "for i, row in training_data[training_data['employment_occupation'].isna()].iterrows():\n",
    "    conditions = (training_data[\"employment_status\"]==\"Not in Labor Force\")\n",
    "    if conditions.any():\n",
    "        training_data.loc[i, 'employment_occupation'] = 'Not_in_laborforce'\n",
    "        "
   ]
  },
  {
   "cell_type": "code",
   "execution_count": 11,
   "id": "832d05cb",
   "metadata": {},
   "outputs": [],
   "source": [
    "for i, row in training_data[training_data['employment_industry'].isna()].iterrows():\n",
    "    conditions = (training_data[\"employment_status\"]==\"Employed\")\n",
    "    if conditions.any():\n",
    "        training_data.loc[i, 'employment_industry'] = 'other_industry'\n",
    "        "
   ]
  },
  {
   "cell_type": "code",
   "execution_count": 12,
   "id": "0a6cb57c",
   "metadata": {},
   "outputs": [],
   "source": [
    "for i, row in training_data[training_data['employment_occupation'].isna()].iterrows():\n",
    "    conditions = (training_data[\"employment_status\"]==\"Employed\")\n",
    "    if conditions.any():\n",
    "        training_data.loc[i, 'employment_occupation'] = 'other_occupation'\n",
    "        "
   ]
  },
  {
   "cell_type": "code",
   "execution_count": null,
   "id": "302b5940",
   "metadata": {},
   "outputs": [],
   "source": []
  },
  {
   "cell_type": "code",
   "execution_count": 13,
   "id": "4ec06ef4",
   "metadata": {},
   "outputs": [],
   "source": [
    "income_poverty_nan = 'refused_or_unknown'\n",
    "marital_status_nan = 'refused_or_other_category'\n",
    "employment_status_nan = 'refused_or_other_category'\n",
    "rent_or_own_nan = 'other_refused'\n",
    "education_nan = 'refused_or_unknown'\n",
    "\n",
    "\n",
    "training_data['income_poverty'].fillna(income_poverty_nan, inplace=True)\n",
    "training_data['marital_status'].fillna(marital_status_nan, inplace=True)\n",
    "training_data['employment_status'].fillna(employment_status_nan, inplace=True)\n",
    "training_data['rent_or_own'].fillna(rent_or_own_nan, inplace=True)\n",
    "training_data['education'].fillna(education_nan, inplace=True)"
   ]
  },
  {
   "cell_type": "code",
   "execution_count": null,
   "id": "2a88b4b3",
   "metadata": {},
   "outputs": [],
   "source": []
  },
  {
   "cell_type": "code",
   "execution_count": 14,
   "id": "9ab6404e",
   "metadata": {},
   "outputs": [],
   "source": [
    "def missing_count(training_data): # Creating a function which returns the values which is above zero\n",
    "    \n",
    "    count_nan = training_data.isnull().sum()\n",
    "    count_nan = count_nan[count_nan > 0].sort_values()    # To sort down the values\n",
    "    \n",
    "    return count_nan"
   ]
  },
  {
   "cell_type": "code",
   "execution_count": 15,
   "id": "95bfd082",
   "metadata": {},
   "outputs": [],
   "source": [
    "missing_counts_as_nan = missing_count(training_data)"
   ]
  },
  {
   "cell_type": "code",
   "execution_count": 16,
   "id": "ba7803af",
   "metadata": {},
   "outputs": [
    {
     "data": {
      "text/plain": [
       "behavioral_face_mask              19\n",
       "behavioral_wash_hands             42\n",
       "behavioral_antiviral_meds         71\n",
       "behavioral_outside_home           82\n",
       "behavioral_large_gatherings       87\n",
       "h1n1_concern                      92\n",
       "h1n1_knowledge                   116\n",
       "behavioral_touch_face            128\n",
       "behavioral_avoidance             208\n",
       "household_adults                 249\n",
       "household_children               249\n",
       "opinion_h1n1_risk                388\n",
       "opinion_h1n1_vacc_effective      391\n",
       "opinion_h1n1_sick_from_vacc      395\n",
       "opinion_seas_vacc_effective      462\n",
       "opinion_seas_risk                514\n",
       "opinion_seas_sick_from_vacc      537\n",
       "health_worker                    804\n",
       "child_under_6_months             820\n",
       "chronic_med_condition            971\n",
       "doctor_recc_h1n1                2160\n",
       "doctor_recc_seasonal            2160\n",
       "health_insurance               12274\n",
       "dtype: int64"
      ]
     },
     "execution_count": 16,
     "metadata": {},
     "output_type": "execute_result"
    }
   ],
   "source": [
    "missing_counts_as_nan"
   ]
  },
  {
   "cell_type": "code",
   "execution_count": null,
   "id": "d53f20c1",
   "metadata": {},
   "outputs": [],
   "source": []
  },
  {
   "cell_type": "code",
   "execution_count": 17,
   "id": "c09916ff",
   "metadata": {},
   "outputs": [],
   "source": [
    "# GOOD TO GO - Now start encoding the columns"
   ]
  },
  {
   "cell_type": "code",
   "execution_count": null,
   "id": "4597d6b8",
   "metadata": {},
   "outputs": [],
   "source": []
  },
  {
   "cell_type": "code",
   "execution_count": 18,
   "id": "54add351",
   "metadata": {},
   "outputs": [
    {
     "data": {
      "text/html": [
       "<div>\n",
       "<style scoped>\n",
       "    .dataframe tbody tr th:only-of-type {\n",
       "        vertical-align: middle;\n",
       "    }\n",
       "\n",
       "    .dataframe tbody tr th {\n",
       "        vertical-align: top;\n",
       "    }\n",
       "\n",
       "    .dataframe thead th {\n",
       "        text-align: right;\n",
       "    }\n",
       "</style>\n",
       "<table border=\"1\" class=\"dataframe\">\n",
       "  <thead>\n",
       "    <tr style=\"text-align: right;\">\n",
       "      <th></th>\n",
       "      <th>age_group</th>\n",
       "      <th>education</th>\n",
       "      <th>income_poverty</th>\n",
       "      <th>employment_status</th>\n",
       "    </tr>\n",
       "  </thead>\n",
       "  <tbody>\n",
       "    <tr>\n",
       "      <th>0</th>\n",
       "      <td>55 - 64 Years</td>\n",
       "      <td>&lt; 12 Years</td>\n",
       "      <td>Below Poverty</td>\n",
       "      <td>Not in Labor Force</td>\n",
       "    </tr>\n",
       "    <tr>\n",
       "      <th>1</th>\n",
       "      <td>35 - 44 Years</td>\n",
       "      <td>12 Years</td>\n",
       "      <td>Below Poverty</td>\n",
       "      <td>Employed</td>\n",
       "    </tr>\n",
       "    <tr>\n",
       "      <th>2</th>\n",
       "      <td>18 - 34 Years</td>\n",
       "      <td>College Graduate</td>\n",
       "      <td>&lt;= $75,000, Above Poverty</td>\n",
       "      <td>Employed</td>\n",
       "    </tr>\n",
       "    <tr>\n",
       "      <th>3</th>\n",
       "      <td>65+ Years</td>\n",
       "      <td>12 Years</td>\n",
       "      <td>Below Poverty</td>\n",
       "      <td>Not in Labor Force</td>\n",
       "    </tr>\n",
       "    <tr>\n",
       "      <th>4</th>\n",
       "      <td>45 - 54 Years</td>\n",
       "      <td>Some College</td>\n",
       "      <td>&lt;= $75,000, Above Poverty</td>\n",
       "      <td>Employed</td>\n",
       "    </tr>\n",
       "    <tr>\n",
       "      <th>...</th>\n",
       "      <td>...</td>\n",
       "      <td>...</td>\n",
       "      <td>...</td>\n",
       "      <td>...</td>\n",
       "    </tr>\n",
       "    <tr>\n",
       "      <th>26702</th>\n",
       "      <td>65+ Years</td>\n",
       "      <td>Some College</td>\n",
       "      <td>&lt;= $75,000, Above Poverty</td>\n",
       "      <td>Not in Labor Force</td>\n",
       "    </tr>\n",
       "    <tr>\n",
       "      <th>26703</th>\n",
       "      <td>18 - 34 Years</td>\n",
       "      <td>College Graduate</td>\n",
       "      <td>&lt;= $75,000, Above Poverty</td>\n",
       "      <td>Employed</td>\n",
       "    </tr>\n",
       "    <tr>\n",
       "      <th>26704</th>\n",
       "      <td>55 - 64 Years</td>\n",
       "      <td>Some College</td>\n",
       "      <td>refused_or_unknown</td>\n",
       "      <td>refused_or_other_category</td>\n",
       "    </tr>\n",
       "    <tr>\n",
       "      <th>26705</th>\n",
       "      <td>18 - 34 Years</td>\n",
       "      <td>Some College</td>\n",
       "      <td>&lt;= $75,000, Above Poverty</td>\n",
       "      <td>Employed</td>\n",
       "    </tr>\n",
       "    <tr>\n",
       "      <th>26706</th>\n",
       "      <td>65+ Years</td>\n",
       "      <td>Some College</td>\n",
       "      <td>&lt;= $75,000, Above Poverty</td>\n",
       "      <td>Not in Labor Force</td>\n",
       "    </tr>\n",
       "  </tbody>\n",
       "</table>\n",
       "<p>26707 rows × 4 columns</p>\n",
       "</div>"
      ],
      "text/plain": [
       "           age_group         education             income_poverty  \\\n",
       "0      55 - 64 Years        < 12 Years              Below Poverty   \n",
       "1      35 - 44 Years          12 Years              Below Poverty   \n",
       "2      18 - 34 Years  College Graduate  <= $75,000, Above Poverty   \n",
       "3          65+ Years          12 Years              Below Poverty   \n",
       "4      45 - 54 Years      Some College  <= $75,000, Above Poverty   \n",
       "...              ...               ...                        ...   \n",
       "26702      65+ Years      Some College  <= $75,000, Above Poverty   \n",
       "26703  18 - 34 Years  College Graduate  <= $75,000, Above Poverty   \n",
       "26704  55 - 64 Years      Some College         refused_or_unknown   \n",
       "26705  18 - 34 Years      Some College  <= $75,000, Above Poverty   \n",
       "26706      65+ Years      Some College  <= $75,000, Above Poverty   \n",
       "\n",
       "               employment_status  \n",
       "0             Not in Labor Force  \n",
       "1                       Employed  \n",
       "2                       Employed  \n",
       "3             Not in Labor Force  \n",
       "4                       Employed  \n",
       "...                          ...  \n",
       "26702         Not in Labor Force  \n",
       "26703                   Employed  \n",
       "26704  refused_or_other_category  \n",
       "26705                   Employed  \n",
       "26706         Not in Labor Force  \n",
       "\n",
       "[26707 rows x 4 columns]"
      ]
     },
     "execution_count": 18,
     "metadata": {},
     "output_type": "execute_result"
    }
   ],
   "source": [
    "training_data[ordinal_columns]"
   ]
  },
  {
   "cell_type": "code",
   "execution_count": 19,
   "id": "aa57da3b",
   "metadata": {},
   "outputs": [],
   "source": [
    "training_data['overall_behaviour_of_respondent'] = training_data['behavioral_antiviral_meds'] + \\\n",
    "training_data['behavioral_avoidance'] + training_data['behavioral_face_mask'] + \\\n",
    "training_data['behavioral_wash_hands'] + training_data['behavioral_large_gatherings'] + \\\n",
    "training_data['behavioral_outside_home'] + training_data['behavioral_touch_face']"
   ]
  },
  {
   "cell_type": "code",
   "execution_count": null,
   "id": "8e07c970",
   "metadata": {},
   "outputs": [],
   "source": []
  },
  {
   "cell_type": "code",
   "execution_count": null,
   "id": "feeb042d",
   "metadata": {},
   "outputs": [],
   "source": []
  },
  {
   "cell_type": "code",
   "execution_count": 20,
   "id": "eed81a1c",
   "metadata": {},
   "outputs": [],
   "source": [
    "from sklearn.preprocessing import LabelEncoder\n",
    "\n",
    "le = LabelEncoder()\n",
    "\n",
    "for features in ordinal_columns:\n",
    "    training_data[features] = le.fit_transform(training_data[features])"
   ]
  },
  {
   "cell_type": "code",
   "execution_count": null,
   "id": "6933897d",
   "metadata": {},
   "outputs": [],
   "source": []
  },
  {
   "cell_type": "code",
   "execution_count": 21,
   "id": "5e7efb06",
   "metadata": {},
   "outputs": [],
   "source": [
    "training_data = pd.get_dummies(training_data, columns=category_columns, drop_first=True)"
   ]
  },
  {
   "cell_type": "code",
   "execution_count": null,
   "id": "3db8487e",
   "metadata": {},
   "outputs": [],
   "source": []
  },
  {
   "cell_type": "code",
   "execution_count": 22,
   "id": "2c9f6168",
   "metadata": {},
   "outputs": [],
   "source": [
    "training_data.drop(['behavioral_antiviral_meds','behavioral_avoidance','behavioral_face_mask',\\\n",
    "                    'behavioral_wash_hands','behavioral_large_gatherings', 'behavioral_outside_home',\\\n",
    "                    'behavioral_touch_face'], axis=1, inplace=True)"
   ]
  },
  {
   "cell_type": "code",
   "execution_count": null,
   "id": "2f104dd5",
   "metadata": {},
   "outputs": [],
   "source": []
  },
  {
   "cell_type": "code",
   "execution_count": 23,
   "id": "271af494",
   "metadata": {},
   "outputs": [],
   "source": [
    "final_training_data = pd.merge(training_data, labels, on='respondent_id')"
   ]
  },
  {
   "cell_type": "code",
   "execution_count": 24,
   "id": "088a9e24",
   "metadata": {},
   "outputs": [],
   "source": [
    "label1 = final_training_data['h1n1_vaccine']\n",
    "label2 = final_training_data['seasonal_vaccine']"
   ]
  },
  {
   "cell_type": "code",
   "execution_count": null,
   "id": "8606a7f9",
   "metadata": {},
   "outputs": [],
   "source": []
  },
  {
   "cell_type": "code",
   "execution_count": 25,
   "id": "7f6fe904",
   "metadata": {},
   "outputs": [],
   "source": [
    "final_training_data.drop('respondent_id', axis=1, inplace=True)"
   ]
  },
  {
   "cell_type": "code",
   "execution_count": null,
   "id": "4fe7b15a",
   "metadata": {},
   "outputs": [],
   "source": []
  },
  {
   "cell_type": "code",
   "execution_count": 26,
   "id": "316c34ce",
   "metadata": {},
   "outputs": [],
   "source": [
    "data = final_training_data.drop(['h1n1_vaccine','seasonal_vaccine'], axis=1)"
   ]
  },
  {
   "cell_type": "code",
   "execution_count": 27,
   "id": "271d8894",
   "metadata": {},
   "outputs": [
    {
     "data": {
      "text/html": [
       "<div>\n",
       "<style scoped>\n",
       "    .dataframe tbody tr th:only-of-type {\n",
       "        vertical-align: middle;\n",
       "    }\n",
       "\n",
       "    .dataframe tbody tr th {\n",
       "        vertical-align: top;\n",
       "    }\n",
       "\n",
       "    .dataframe thead th {\n",
       "        text-align: right;\n",
       "    }\n",
       "</style>\n",
       "<table border=\"1\" class=\"dataframe\">\n",
       "  <thead>\n",
       "    <tr style=\"text-align: right;\">\n",
       "      <th></th>\n",
       "      <th>h1n1_concern</th>\n",
       "      <th>h1n1_knowledge</th>\n",
       "      <th>doctor_recc_h1n1</th>\n",
       "      <th>doctor_recc_seasonal</th>\n",
       "      <th>chronic_med_condition</th>\n",
       "      <th>child_under_6_months</th>\n",
       "      <th>health_worker</th>\n",
       "      <th>health_insurance</th>\n",
       "      <th>opinion_h1n1_vacc_effective</th>\n",
       "      <th>opinion_h1n1_risk</th>\n",
       "      <th>...</th>\n",
       "      <th>employment_occupation_rcertsgn</th>\n",
       "      <th>employment_occupation_tfqavkke</th>\n",
       "      <th>employment_occupation_ukymxvdu</th>\n",
       "      <th>employment_occupation_unemployed_occupation</th>\n",
       "      <th>employment_occupation_uqqtjvyb</th>\n",
       "      <th>employment_occupation_vlluhbov</th>\n",
       "      <th>employment_occupation_xgwztkwe</th>\n",
       "      <th>employment_occupation_xqwwgdyp</th>\n",
       "      <th>employment_occupation_xtkaffoo</th>\n",
       "      <th>employment_occupation_xzmlyyjv</th>\n",
       "    </tr>\n",
       "  </thead>\n",
       "  <tbody>\n",
       "    <tr>\n",
       "      <th>0</th>\n",
       "      <td>1.0</td>\n",
       "      <td>0.0</td>\n",
       "      <td>0.0</td>\n",
       "      <td>0.0</td>\n",
       "      <td>0.0</td>\n",
       "      <td>0.0</td>\n",
       "      <td>0.0</td>\n",
       "      <td>1.0</td>\n",
       "      <td>3.0</td>\n",
       "      <td>1.0</td>\n",
       "      <td>...</td>\n",
       "      <td>0</td>\n",
       "      <td>0</td>\n",
       "      <td>0</td>\n",
       "      <td>1</td>\n",
       "      <td>0</td>\n",
       "      <td>0</td>\n",
       "      <td>0</td>\n",
       "      <td>0</td>\n",
       "      <td>0</td>\n",
       "      <td>0</td>\n",
       "    </tr>\n",
       "    <tr>\n",
       "      <th>1</th>\n",
       "      <td>3.0</td>\n",
       "      <td>2.0</td>\n",
       "      <td>0.0</td>\n",
       "      <td>0.0</td>\n",
       "      <td>0.0</td>\n",
       "      <td>0.0</td>\n",
       "      <td>0.0</td>\n",
       "      <td>1.0</td>\n",
       "      <td>5.0</td>\n",
       "      <td>4.0</td>\n",
       "      <td>...</td>\n",
       "      <td>0</td>\n",
       "      <td>0</td>\n",
       "      <td>0</td>\n",
       "      <td>0</td>\n",
       "      <td>0</td>\n",
       "      <td>0</td>\n",
       "      <td>1</td>\n",
       "      <td>0</td>\n",
       "      <td>0</td>\n",
       "      <td>0</td>\n",
       "    </tr>\n",
       "    <tr>\n",
       "      <th>2</th>\n",
       "      <td>1.0</td>\n",
       "      <td>1.0</td>\n",
       "      <td>NaN</td>\n",
       "      <td>NaN</td>\n",
       "      <td>1.0</td>\n",
       "      <td>0.0</td>\n",
       "      <td>0.0</td>\n",
       "      <td>NaN</td>\n",
       "      <td>3.0</td>\n",
       "      <td>1.0</td>\n",
       "      <td>...</td>\n",
       "      <td>0</td>\n",
       "      <td>0</td>\n",
       "      <td>0</td>\n",
       "      <td>0</td>\n",
       "      <td>0</td>\n",
       "      <td>0</td>\n",
       "      <td>0</td>\n",
       "      <td>0</td>\n",
       "      <td>1</td>\n",
       "      <td>0</td>\n",
       "    </tr>\n",
       "    <tr>\n",
       "      <th>3</th>\n",
       "      <td>1.0</td>\n",
       "      <td>1.0</td>\n",
       "      <td>0.0</td>\n",
       "      <td>1.0</td>\n",
       "      <td>1.0</td>\n",
       "      <td>0.0</td>\n",
       "      <td>0.0</td>\n",
       "      <td>NaN</td>\n",
       "      <td>3.0</td>\n",
       "      <td>3.0</td>\n",
       "      <td>...</td>\n",
       "      <td>0</td>\n",
       "      <td>0</td>\n",
       "      <td>0</td>\n",
       "      <td>1</td>\n",
       "      <td>0</td>\n",
       "      <td>0</td>\n",
       "      <td>0</td>\n",
       "      <td>0</td>\n",
       "      <td>0</td>\n",
       "      <td>0</td>\n",
       "    </tr>\n",
       "    <tr>\n",
       "      <th>4</th>\n",
       "      <td>2.0</td>\n",
       "      <td>1.0</td>\n",
       "      <td>0.0</td>\n",
       "      <td>0.0</td>\n",
       "      <td>0.0</td>\n",
       "      <td>0.0</td>\n",
       "      <td>0.0</td>\n",
       "      <td>NaN</td>\n",
       "      <td>3.0</td>\n",
       "      <td>3.0</td>\n",
       "      <td>...</td>\n",
       "      <td>0</td>\n",
       "      <td>0</td>\n",
       "      <td>0</td>\n",
       "      <td>0</td>\n",
       "      <td>0</td>\n",
       "      <td>0</td>\n",
       "      <td>0</td>\n",
       "      <td>0</td>\n",
       "      <td>0</td>\n",
       "      <td>0</td>\n",
       "    </tr>\n",
       "  </tbody>\n",
       "</table>\n",
       "<p>5 rows × 84 columns</p>\n",
       "</div>"
      ],
      "text/plain": [
       "   h1n1_concern  h1n1_knowledge  doctor_recc_h1n1  doctor_recc_seasonal  \\\n",
       "0           1.0             0.0               0.0                   0.0   \n",
       "1           3.0             2.0               0.0                   0.0   \n",
       "2           1.0             1.0               NaN                   NaN   \n",
       "3           1.0             1.0               0.0                   1.0   \n",
       "4           2.0             1.0               0.0                   0.0   \n",
       "\n",
       "   chronic_med_condition  child_under_6_months  health_worker  \\\n",
       "0                    0.0                   0.0            0.0   \n",
       "1                    0.0                   0.0            0.0   \n",
       "2                    1.0                   0.0            0.0   \n",
       "3                    1.0                   0.0            0.0   \n",
       "4                    0.0                   0.0            0.0   \n",
       "\n",
       "   health_insurance  opinion_h1n1_vacc_effective  opinion_h1n1_risk  ...  \\\n",
       "0               1.0                          3.0                1.0  ...   \n",
       "1               1.0                          5.0                4.0  ...   \n",
       "2               NaN                          3.0                1.0  ...   \n",
       "3               NaN                          3.0                3.0  ...   \n",
       "4               NaN                          3.0                3.0  ...   \n",
       "\n",
       "   employment_occupation_rcertsgn  employment_occupation_tfqavkke  \\\n",
       "0                               0                               0   \n",
       "1                               0                               0   \n",
       "2                               0                               0   \n",
       "3                               0                               0   \n",
       "4                               0                               0   \n",
       "\n",
       "   employment_occupation_ukymxvdu  \\\n",
       "0                               0   \n",
       "1                               0   \n",
       "2                               0   \n",
       "3                               0   \n",
       "4                               0   \n",
       "\n",
       "   employment_occupation_unemployed_occupation  \\\n",
       "0                                            1   \n",
       "1                                            0   \n",
       "2                                            0   \n",
       "3                                            1   \n",
       "4                                            0   \n",
       "\n",
       "   employment_occupation_uqqtjvyb  employment_occupation_vlluhbov  \\\n",
       "0                               0                               0   \n",
       "1                               0                               0   \n",
       "2                               0                               0   \n",
       "3                               0                               0   \n",
       "4                               0                               0   \n",
       "\n",
       "   employment_occupation_xgwztkwe  employment_occupation_xqwwgdyp  \\\n",
       "0                               0                               0   \n",
       "1                               1                               0   \n",
       "2                               0                               0   \n",
       "3                               0                               0   \n",
       "4                               0                               0   \n",
       "\n",
       "   employment_occupation_xtkaffoo  employment_occupation_xzmlyyjv  \n",
       "0                               0                               0  \n",
       "1                               0                               0  \n",
       "2                               1                               0  \n",
       "3                               0                               0  \n",
       "4                               0                               0  \n",
       "\n",
       "[5 rows x 84 columns]"
      ]
     },
     "execution_count": 27,
     "metadata": {},
     "output_type": "execute_result"
    }
   ],
   "source": [
    "data.head()"
   ]
  },
  {
   "cell_type": "code",
   "execution_count": null,
   "id": "2cc35b96",
   "metadata": {},
   "outputs": [],
   "source": []
  },
  {
   "cell_type": "code",
   "execution_count": 28,
   "id": "1414e65b",
   "metadata": {},
   "outputs": [],
   "source": [
    "from sklearn.metrics import classification_report"
   ]
  },
  {
   "cell_type": "code",
   "execution_count": 29,
   "id": "48848676",
   "metadata": {},
   "outputs": [],
   "source": [
    "import optuna"
   ]
  },
  {
   "cell_type": "code",
   "execution_count": 30,
   "id": "78899bc5",
   "metadata": {},
   "outputs": [],
   "source": [
    "from optuna import visualization"
   ]
  },
  {
   "cell_type": "code",
   "execution_count": 31,
   "id": "b654f5e9",
   "metadata": {},
   "outputs": [],
   "source": [
    "from optuna.samplers import TPESampler"
   ]
  },
  {
   "cell_type": "code",
   "execution_count": 32,
   "id": "ce8a8f82",
   "metadata": {},
   "outputs": [],
   "source": [
    "from xgboost import XGBClassifier\n",
    "from sklearn.model_selection import train_test_split\n",
    "from sklearn.metrics import roc_curve, roc_auc_score"
   ]
  },
  {
   "cell_type": "code",
   "execution_count": 33,
   "id": "989e36e0",
   "metadata": {},
   "outputs": [],
   "source": [
    "X_train, X_test, y_train, y_test = train_test_split(data, label1, test_size=0.2, random_state=101)\n",
    "\n",
    "# Define the objective function\n",
    "def objective(trial):\n",
    "    param = {\n",
    "        'n_estimators': trial.suggest_int('n_estimators', 50, 500),\n",
    "        'max_depth': trial.suggest_int('max_depth', 3, 10),\n",
    "        'reg_alpha': trial.suggest_float('reg_alpha', 1e-8, 1.0),\n",
    "        'reg_lambda': trial.suggest_float('reg_lambda', 1e-8, 1.0),\n",
    "        'min_child_weight': trial.suggest_int('min_child_weight', 0, 6),\n",
    "        'gamma': trial.suggest_float('gamma',1e-8, 1.0),\n",
    "        'learning_rate': trial.suggest_float('learning_rate', 0.01, 1),\n",
    "        'colsample_bytree': trial.suggest_float('colsample_bytree', 0.3, 0.8),\n",
    "        'subsample': trial.suggest_float('subsample', 0.3, 0.8),\n",
    "    }\n",
    "    \n",
    "    xgb = XGBClassifier(**param, missing= np.nan)\n",
    "    #early_stopping_rounds=10,\n",
    "    \n",
    "    from sklearn.model_selection import cross_val_score\n",
    "    scores = cross_val_score(xgb, data, label1, cv=5, scoring='roc_auc')\n",
    "    AUC = np.mean(scores).max() #scores['test-AUC-mean'].max()\n",
    "    return AUC"
   ]
  },
  {
   "cell_type": "code",
   "execution_count": 34,
   "id": "4322f521",
   "metadata": {},
   "outputs": [
    {
     "name": "stderr",
     "output_type": "stream",
     "text": [
      "\u001b[32m[I 2023-05-03 16:14:24,098]\u001b[0m A new study created in memory with name: no-name-0e321597-5ce3-4981-975e-ca3d6d112d5b\u001b[0m\n",
      "/Users/karthikeyan/opt/anaconda3/lib/python3.9/site-packages/optuna/progress_bar.py:56: ExperimentalWarning: Progress bar is experimental (supported from v1.2.0). The interface can change in the future.\n",
      "  self._init_valid()\n"
     ]
    },
    {
     "data": {
      "application/vnd.jupyter.widget-view+json": {
       "model_id": "c4fdc930d52b4c52aa14e2748ca1b2b0",
       "version_major": 2,
       "version_minor": 0
      },
      "text/plain": [
       "  0%|          | 0/120 [00:00<?, ?it/s]"
      ]
     },
     "metadata": {},
     "output_type": "display_data"
    },
    {
     "name": "stdout",
     "output_type": "stream",
     "text": [
      "\u001b[32m[I 2023-05-03 16:15:42,259]\u001b[0m Trial 0 finished with value: 0.7999165119763807 and parameters: {'n_estimators': 300, 'max_depth': 7, 'reg_alpha': 0.8773562666634352, 'reg_lambda': 0.9199621051353177, 'min_child_weight': 5, 'gamma': 0.38684425725798477, 'learning_rate': 0.6575615992927192, 'colsample_bytree': 0.625272088116187, 'subsample': 0.4806230832318828}. Best is trial 0 with value: 0.7999165119763807.\u001b[0m\n",
      "\u001b[32m[I 2023-05-03 16:16:45,127]\u001b[0m Trial 1 finished with value: 0.8184194075741529 and parameters: {'n_estimators': 177, 'max_depth': 9, 'reg_alpha': 0.20219852128470234, 'reg_lambda': 0.7430770841814468, 'min_child_weight': 0, 'gamma': 0.6345682232835909, 'learning_rate': 0.5709660282923344, 'colsample_bytree': 0.4214127587172648, 'subsample': 0.6393435228243873}. Best is trial 1 with value: 0.8184194075741529.\u001b[0m\n",
      "\u001b[32m[I 2023-05-03 16:17:28,224]\u001b[0m Trial 2 finished with value: 0.8530140975457119 and parameters: {'n_estimators': 202, 'max_depth': 6, 'reg_alpha': 0.3679111710707274, 'reg_lambda': 0.3493434020814304, 'min_child_weight': 2, 'gamma': 0.8744512483796877, 'learning_rate': 0.1619471440248525, 'colsample_bytree': 0.775434806181907, 'subsample': 0.37028485182785004}. Best is trial 2 with value: 0.8530140975457119.\u001b[0m\n",
      "\u001b[32m[I 2023-05-03 16:18:03,776]\u001b[0m Trial 3 finished with value: 0.867197988775394 and parameters: {'n_estimators': 138, 'max_depth': 7, 'reg_alpha': 0.5897999177949473, 'reg_lambda': 0.0607580944854412, 'min_child_weight': 5, 'gamma': 0.12789087530592472, 'learning_rate': 0.02011634712753451, 'colsample_bytree': 0.5631668646747996, 'subsample': 0.5350009100713227}. Best is trial 3 with value: 0.867197988775394.\u001b[0m\n",
      "\u001b[32m[I 2023-05-03 16:18:26,099]\u001b[0m Trial 4 finished with value: 0.8589112759172833 and parameters: {'n_estimators': 112, 'max_depth': 6, 'reg_alpha': 0.1755735240963504, 'reg_lambda': 0.4931511877331109, 'min_child_weight': 4, 'gamma': 0.030820073832971914, 'learning_rate': 0.2422885567399873, 'colsample_bytree': 0.46082666385147997, 'subsample': 0.5516679837675913}. Best is trial 3 with value: 0.867197988775394.\u001b[0m\n",
      "\u001b[32m[I 2023-05-03 16:18:53,257]\u001b[0m Trial 5 finished with value: 0.8684782071672881 and parameters: {'n_estimators': 128, 'max_depth': 7, 'reg_alpha': 0.45955844067513046, 'reg_lambda': 0.3546420359237067, 'min_child_weight': 3, 'gamma': 0.6616887273066534, 'learning_rate': 0.07374954617464262, 'colsample_bytree': 0.3241020279384842, 'subsample': 0.46027490652010644}. Best is trial 5 with value: 0.8684782071672881.\u001b[0m\n",
      "\u001b[32m[I 2023-05-03 16:19:21,132]\u001b[0m Trial 6 finished with value: 0.849706525728364 and parameters: {'n_estimators': 232, 'max_depth': 4, 'reg_alpha': 0.9163197026903377, 'reg_lambda': 0.1967345740763311, 'min_child_weight': 5, 'gamma': 0.0008909688038078026, 'learning_rate': 0.3855751409938103, 'colsample_bytree': 0.4527047867080496, 'subsample': 0.46182298215325646}. Best is trial 5 with value: 0.8684782071672881.\u001b[0m\n",
      "\u001b[32m[I 2023-05-03 16:20:21,080]\u001b[0m Trial 7 finished with value: 0.8519978631843257 and parameters: {'n_estimators': 181, 'max_depth': 9, 'reg_alpha': 0.7559372783607193, 'reg_lambda': 0.23969727131379406, 'min_child_weight': 3, 'gamma': 0.8662758377323495, 'learning_rate': 0.17967033431508206, 'colsample_bytree': 0.6187816976374608, 'subsample': 0.7477028508472359}. Best is trial 5 with value: 0.8684782071672881.\u001b[0m\n",
      "\u001b[32m[I 2023-05-03 16:21:07,719]\u001b[0m Trial 8 finished with value: 0.8686139068765548 and parameters: {'n_estimators': 448, 'max_depth': 3, 'reg_alpha': 0.7690605062119791, 'reg_lambda': 0.4686585095622362, 'min_child_weight': 4, 'gamma': 0.7009194438677754, 'learning_rate': 0.026014975048221027, 'colsample_bytree': 0.48758153139952687, 'subsample': 0.71945970672972}. Best is trial 8 with value: 0.8686139068765548.\u001b[0m\n",
      "\u001b[32m[I 2023-05-03 16:21:35,560]\u001b[0m Trial 9 finished with value: 0.8228076545892058 and parameters: {'n_estimators': 136, 'max_depth': 5, 'reg_alpha': 0.1771047399338386, 'reg_lambda': 0.4573425085136851, 'min_child_weight': 1, 'gamma': 0.5971163172023608, 'learning_rate': 0.6366202962677238, 'colsample_bytree': 0.7332080229765823, 'subsample': 0.5833844025726687}. Best is trial 8 with value: 0.8686139068765548.\u001b[0m\n",
      "\u001b[32m[I 2023-05-03 16:22:22,924]\u001b[0m Trial 10 finished with value: 0.8376842938915278 and parameters: {'n_estimators': 492, 'max_depth': 3, 'reg_alpha': 0.6771307034169501, 'reg_lambda': 0.6563208377984027, 'min_child_weight': 6, 'gamma': 0.9972200602648027, 'learning_rate': 0.8832069147669637, 'colsample_bytree': 0.3137359439235414, 'subsample': 0.7956847088079848}. Best is trial 8 with value: 0.8686139068765548.\u001b[0m\n",
      "\u001b[32m[I 2023-05-03 16:23:53,317]\u001b[0m Trial 11 finished with value: 0.8687522113470386 and parameters: {'n_estimators': 337, 'max_depth': 8, 'reg_alpha': 0.43518257293560403, 'reg_lambda': 0.365894691150206, 'min_child_weight': 3, 'gamma': 0.6815887709409205, 'learning_rate': 0.014832020165486235, 'colsample_bytree': 0.33616278458178817, 'subsample': 0.6752094034882338}. Best is trial 11 with value: 0.8687522113470386.\u001b[0m\n",
      "\u001b[32m[I 2023-05-03 16:26:06,422]\u001b[0m Trial 12 finished with value: 0.8349590393849142 and parameters: {'n_estimators': 402, 'max_depth': 10, 'reg_alpha': 0.5040893624043885, 'reg_lambda': 0.6048303424414044, 'min_child_weight': 2, 'gamma': 0.5004995121321965, 'learning_rate': 0.320339290730936, 'colsample_bytree': 0.3815722998222205, 'subsample': 0.6891003226414655}. Best is trial 11 with value: 0.8687522113470386.\u001b[0m\n",
      "\u001b[32m[I 2023-05-03 16:26:42,737]\u001b[0m Trial 13 finished with value: 0.8701916497071338 and parameters: {'n_estimators': 351, 'max_depth': 3, 'reg_alpha': 0.7500579510404543, 'reg_lambda': 0.4072116420134785, 'min_child_weight': 4, 'gamma': 0.7567547400210809, 'learning_rate': 0.07825887926149028, 'colsample_bytree': 0.5019117060272071, 'subsample': 0.6809308811540822}. Best is trial 13 with value: 0.8701916497071338.\u001b[0m\n",
      "\u001b[32m[I 2023-05-03 16:28:06,615]\u001b[0m Trial 14 finished with value: 0.8259597284202187 and parameters: {'n_estimators': 329, 'max_depth': 8, 'reg_alpha': 0.32348748260632326, 'reg_lambda': 0.02466521235857949, 'min_child_weight': 4, 'gamma': 0.7772230984230452, 'learning_rate': 0.3831754818029832, 'colsample_bytree': 0.3876194015316811, 'subsample': 0.6552374599727886}. Best is trial 13 with value: 0.8701916497071338.\u001b[0m\n",
      "\u001b[32m[I 2023-05-03 16:29:06,951]\u001b[0m Trial 15 finished with value: 0.8615293056586169 and parameters: {'n_estimators': 357, 'max_depth': 5, 'reg_alpha': 0.6072910092999056, 'reg_lambda': 0.26481279273469693, 'min_child_weight': 2, 'gamma': 0.47410961415218045, 'learning_rate': 0.1349800289404604, 'colsample_bytree': 0.5073070633257053, 'subsample': 0.6350909579359223}. Best is trial 13 with value: 0.8701916497071338.\u001b[0m\n",
      "\u001b[32m[I 2023-05-03 16:29:19,988]\u001b[0m Trial 16 finished with value: 0.8631111572315605 and parameters: {'n_estimators': 52, 'max_depth': 8, 'reg_alpha': 0.005641790596207119, 'reg_lambda': 0.3756241947699682, 'min_child_weight': 6, 'gamma': 0.7650276711274998, 'learning_rate': 0.2558700621714385, 'colsample_bytree': 0.3574244122751922, 'subsample': 0.7989829239381919}. Best is trial 13 with value: 0.8701916497071338.\u001b[0m\n",
      "\u001b[32m[I 2023-05-03 16:30:04,818]\u001b[0m Trial 17 finished with value: 0.8672127561361853 and parameters: {'n_estimators': 375, 'max_depth': 4, 'reg_alpha': 0.9828022743612381, 'reg_lambda': 0.5782364620423468, 'min_child_weight': 3, 'gamma': 0.9893097489405801, 'learning_rate': 0.015215216150208682, 'colsample_bytree': 0.41202687816113664, 'subsample': 0.6874333339547424}. Best is trial 13 with value: 0.8701916497071338.\u001b[0m\n",
      "\u001b[32m[I 2023-05-03 16:31:26,984]\u001b[0m Trial 18 finished with value: 0.8552928171990543 and parameters: {'n_estimators': 259, 'max_depth': 10, 'reg_alpha': 0.7971706947599946, 'reg_lambda': 0.20211494682402575, 'min_child_weight': 1, 'gamma': 0.5667522460686766, 'learning_rate': 0.12353871754683218, 'colsample_bytree': 0.30911401870444105, 'subsample': 0.6102203052071875}. Best is trial 13 with value: 0.8701916497071338.\u001b[0m\n",
      "\u001b[32m[I 2023-05-03 16:33:22,391]\u001b[0m Trial 19 finished with value: 0.8397064371989635 and parameters: {'n_estimators': 424, 'max_depth': 8, 'reg_alpha': 0.6389815662483541, 'reg_lambda': 0.11072737748107075, 'min_child_weight': 4, 'gamma': 0.7609239949528763, 'learning_rate': 0.23161010439487567, 'colsample_bytree': 0.5342315092190869, 'subsample': 0.7355980065179991}. Best is trial 13 with value: 0.8701916497071338.\u001b[0m\n"
     ]
    },
    {
     "name": "stdout",
     "output_type": "stream",
     "text": [
      "\u001b[32m[I 2023-05-03 16:33:55,141]\u001b[0m Trial 20 finished with value: 0.8701356429654126 and parameters: {'n_estimators': 283, 'max_depth': 4, 'reg_alpha': 0.538390508255052, 'reg_lambda': 0.4036050840157506, 'min_child_weight': 3, 'gamma': 0.31265263610360583, 'learning_rate': 0.10940637643491287, 'colsample_bytree': 0.35894876605202675, 'subsample': 0.6789422487993617}. Best is trial 13 with value: 0.8701916497071338.\u001b[0m\n",
      "\u001b[32m[I 2023-05-03 16:34:26,795]\u001b[0m Trial 21 finished with value: 0.8699515550787987 and parameters: {'n_estimators': 274, 'max_depth': 4, 'reg_alpha': 0.519661173929402, 'reg_lambda': 0.4240930164766173, 'min_child_weight': 3, 'gamma': 0.3045529055564023, 'learning_rate': 0.11061891656514104, 'colsample_bytree': 0.3617960382760117, 'subsample': 0.6765748536039391}. Best is trial 13 with value: 0.8701916497071338.\u001b[0m\n",
      "\u001b[32m[I 2023-05-03 16:35:00,626]\u001b[0m Trial 22 finished with value: 0.8686674422318991 and parameters: {'n_estimators': 283, 'max_depth': 4, 'reg_alpha': 0.5630969255880771, 'reg_lambda': 0.44913169690398574, 'min_child_weight': 3, 'gamma': 0.3005028300084124, 'learning_rate': 0.11819222962392073, 'colsample_bytree': 0.36539037025716137, 'subsample': 0.6055475955926632}. Best is trial 13 with value: 0.8701916497071338.\u001b[0m\n",
      "\u001b[32m[I 2023-05-03 16:35:26,074]\u001b[0m Trial 23 finished with value: 0.8685304270495416 and parameters: {'n_estimators': 251, 'max_depth': 3, 'reg_alpha': 0.7040315664589158, 'reg_lambda': 0.5477000048253398, 'min_child_weight': 2, 'gamma': 0.292866127658929, 'learning_rate': 0.18548670948552112, 'colsample_bytree': 0.4271427653299918, 'subsample': 0.7154623014815094}. Best is trial 13 with value: 0.8701916497071338.\u001b[0m\n",
      "\u001b[32m[I 2023-05-03 16:36:02,480]\u001b[0m Trial 24 finished with value: 0.8699960620984557 and parameters: {'n_estimators': 296, 'max_depth': 4, 'reg_alpha': 0.55085770440928, 'reg_lambda': 0.40440759041263385, 'min_child_weight': 4, 'gamma': 0.24773323352140128, 'learning_rate': 0.10694815648036593, 'colsample_bytree': 0.3825150753270369, 'subsample': 0.6576424068497542}. Best is trial 13 with value: 0.8701916497071338.\u001b[0m\n",
      "\u001b[32m[I 2023-05-03 16:36:49,549]\u001b[0m Trial 25 finished with value: 0.8489240914431748 and parameters: {'n_estimators': 312, 'max_depth': 5, 'reg_alpha': 0.6581410969025461, 'reg_lambda': 0.2997482720712311, 'min_child_weight': 5, 'gamma': 0.20928587438598725, 'learning_rate': 0.32699093642301635, 'colsample_bytree': 0.39973108422473624, 'subsample': 0.7479495190172807}. Best is trial 13 with value: 0.8701916497071338.\u001b[0m\n",
      "\u001b[32m[I 2023-05-03 16:37:28,658]\u001b[0m Trial 26 finished with value: 0.8698892958410871 and parameters: {'n_estimators': 377, 'max_depth': 3, 'reg_alpha': 0.5669428701254086, 'reg_lambda': 0.2844137361207267, 'min_child_weight': 4, 'gamma': 0.40265052349332375, 'learning_rate': 0.08486246714159433, 'colsample_bytree': 0.45806152488437, 'subsample': 0.6437534108680565}. Best is trial 13 with value: 0.8701916497071338.\u001b[0m\n",
      "\u001b[32m[I 2023-05-03 16:38:02,700]\u001b[0m Trial 27 finished with value: 0.8647351120651596 and parameters: {'n_estimators': 232, 'max_depth': 5, 'reg_alpha': 0.7107882531216038, 'reg_lambda': 0.5346896267944803, 'min_child_weight': 4, 'gamma': 0.20941052229785673, 'learning_rate': 0.17479787168232652, 'colsample_bytree': 0.35537181764823494, 'subsample': 0.5991999783694077}. Best is trial 13 with value: 0.8701916497071338.\u001b[0m\n",
      "\u001b[32m[I 2023-05-03 16:38:43,513]\u001b[0m Trial 28 finished with value: 0.8471140524444657 and parameters: {'n_estimators': 351, 'max_depth': 4, 'reg_alpha': 0.821383895676246, 'reg_lambda': 0.41332447291517194, 'min_child_weight': 5, 'gamma': 0.4146566218502199, 'learning_rate': 0.4649896697815518, 'colsample_bytree': 0.3000605528090796, 'subsample': 0.6884500015294873}. Best is trial 13 with value: 0.8701916497071338.\u001b[0m\n",
      "\u001b[32m[I 2023-05-03 16:39:16,799]\u001b[0m Trial 29 finished with value: 0.8665674300758349 and parameters: {'n_estimators': 309, 'max_depth': 3, 'reg_alpha': 0.8935415356458268, 'reg_lambda': 0.8104232842114588, 'min_child_weight': 4, 'gamma': 0.49383617883035863, 'learning_rate': 0.24013764460664938, 'colsample_bytree': 0.4943350931931226, 'subsample': 0.552863966044739}. Best is trial 13 with value: 0.8701916497071338.\u001b[0m\n",
      "\u001b[32m[I 2023-05-03 16:40:15,654]\u001b[0m Trial 30 finished with value: 0.8667455814738885 and parameters: {'n_estimators': 295, 'max_depth': 6, 'reg_alpha': 0.7247446878906323, 'reg_lambda': 0.5100744855944175, 'min_child_weight': 6, 'gamma': 0.5489279333935291, 'learning_rate': 0.09743667433956038, 'colsample_bytree': 0.42332582416941933, 'subsample': 0.6356164871648734}. Best is trial 13 with value: 0.8701916497071338.\u001b[0m\n",
      "\u001b[32m[I 2023-05-03 16:40:49,952]\u001b[0m Trial 31 finished with value: 0.8706455679697486 and parameters: {'n_estimators': 280, 'max_depth': 4, 'reg_alpha': 0.4977583411284388, 'reg_lambda': 0.44274064954998965, 'min_child_weight': 3, 'gamma': 0.32664631016300466, 'learning_rate': 0.07240021814343987, 'colsample_bytree': 0.3736248378371233, 'subsample': 0.6643645383544489}. Best is trial 31 with value: 0.8706455679697486.\u001b[0m\n",
      "\u001b[32m[I 2023-05-03 16:41:19,173]\u001b[0m Trial 32 finished with value: 0.8709596897165038 and parameters: {'n_estimators': 224, 'max_depth': 4, 'reg_alpha': 0.6426478244619545, 'reg_lambda': 0.9863590456251732, 'min_child_weight': 3, 'gamma': 0.4043685505507285, 'learning_rate': 0.06804909792892641, 'colsample_bytree': 0.39521729926524235, 'subsample': 0.6513807945566317}. Best is trial 32 with value: 0.8709596897165038.\u001b[0m\n",
      "\u001b[32m[I 2023-05-03 16:41:54,747]\u001b[0m Trial 33 finished with value: 0.8709203346042977 and parameters: {'n_estimators': 213, 'max_depth': 5, 'reg_alpha': 0.6473990045414721, 'reg_lambda': 0.9972119189234863, 'min_child_weight': 2, 'gamma': 0.35992372282643725, 'learning_rate': 0.06738200777520921, 'colsample_bytree': 0.4367148958285837, 'subsample': 0.6981840688629757}. Best is trial 32 with value: 0.8709596897165038.\u001b[0m\n",
      "\u001b[32m[I 2023-05-03 16:42:28,744]\u001b[0m Trial 34 finished with value: 0.8708022291576745 and parameters: {'n_estimators': 204, 'max_depth': 5, 'reg_alpha': 0.6421351379063089, 'reg_lambda': 0.9887466884685466, 'min_child_weight': 1, 'gamma': 0.38260910981592927, 'learning_rate': 0.05624324665039506, 'colsample_bytree': 0.43687933598698314, 'subsample': 0.7075819143709878}. Best is trial 32 with value: 0.8709596897165038.\u001b[0m\n",
      "\u001b[32m[I 2023-05-03 16:43:06,437]\u001b[0m Trial 35 finished with value: 0.8582781629175982 and parameters: {'n_estimators': 188, 'max_depth': 6, 'reg_alpha': 0.638943849264977, 'reg_lambda': 0.9092914049602419, 'min_child_weight': 0, 'gamma': 0.368328095155343, 'learning_rate': 0.20828344863338316, 'colsample_bytree': 0.42991056170418934, 'subsample': 0.7273184648521622}. Best is trial 32 with value: 0.8709596897165038.\u001b[0m\n",
      "\u001b[32m[I 2023-05-03 16:43:41,837]\u001b[0m Trial 36 finished with value: 0.8704890007461208 and parameters: {'n_estimators': 210, 'max_depth': 5, 'reg_alpha': 0.6292370456029411, 'reg_lambda': 0.9868992385674152, 'min_child_weight': 1, 'gamma': 0.3627743785170252, 'learning_rate': 0.05947537569250363, 'colsample_bytree': 0.44635706748880377, 'subsample': 0.7736759524102772}. Best is trial 32 with value: 0.8709596897165038.\u001b[0m\n",
      "\u001b[32m[I 2023-05-03 16:44:14,694]\u001b[0m Trial 37 finished with value: 0.8635238069453788 and parameters: {'n_estimators': 163, 'max_depth': 6, 'reg_alpha': 0.4605140387970212, 'reg_lambda': 0.9825644125201611, 'min_child_weight': 0, 'gamma': 0.44515182871217185, 'learning_rate': 0.1660693260123552, 'colsample_bytree': 0.41015493267967074, 'subsample': 0.711073784068555}. Best is trial 32 with value: 0.8709596897165038.\u001b[0m\n",
      "\u001b[32m[I 2023-05-03 16:44:49,852]\u001b[0m Trial 38 finished with value: 0.8709329194877921 and parameters: {'n_estimators': 218, 'max_depth': 5, 'reg_alpha': 0.6491755492080142, 'reg_lambda': 0.886227280679013, 'min_child_weight': 1, 'gamma': 0.3699075938459793, 'learning_rate': 0.044447097161766716, 'colsample_bytree': 0.46401253744604865, 'subsample': 0.7512492436973804}. Best is trial 32 with value: 0.8709596897165038.\u001b[0m\n",
      "\u001b[32m[I 2023-05-03 16:45:04,325]\u001b[0m Trial 39 finished with value: 0.8592819243006462 and parameters: {'n_estimators': 89, 'max_depth': 5, 'reg_alpha': 0.8314818487970055, 'reg_lambda': 0.8962726587310059, 'min_child_weight': 1, 'gamma': 0.38032487752674843, 'learning_rate': 0.016433995545605862, 'colsample_bytree': 0.4599463185728522, 'subsample': 0.757227028852941}. Best is trial 32 with value: 0.8709596897165038.\u001b[0m\n"
     ]
    },
    {
     "name": "stdout",
     "output_type": "stream",
     "text": [
      "\u001b[32m[I 2023-05-03 16:45:44,211]\u001b[0m Trial 40 finished with value: 0.8620347271162323 and parameters: {'n_estimators': 160, 'max_depth': 7, 'reg_alpha': 0.5872911875583402, 'reg_lambda': 0.8541894028049335, 'min_child_weight': 1, 'gamma': 0.4442331298390318, 'learning_rate': 0.15457399943110803, 'colsample_bytree': 0.4750127240750106, 'subsample': 0.7735140759239616}. Best is trial 32 with value: 0.8709596897165038.\u001b[0m\n",
      "\u001b[32m[I 2023-05-03 16:46:17,934]\u001b[0m Trial 41 finished with value: 0.8704894331721829 and parameters: {'n_estimators': 214, 'max_depth': 5, 'reg_alpha': 0.6231685033869574, 'reg_lambda': 0.9989886007614988, 'min_child_weight': 2, 'gamma': 0.3502785546623632, 'learning_rate': 0.05635109441829698, 'colsample_bytree': 0.4371009103708372, 'subsample': 0.7283889515330051}. Best is trial 32 with value: 0.8709596897165038.\u001b[0m\n",
      "\u001b[32m[I 2023-05-03 16:46:54,305]\u001b[0m Trial 42 finished with value: 0.871017031791812 and parameters: {'n_estimators': 235, 'max_depth': 5, 'reg_alpha': 0.6980100123980495, 'reg_lambda': 0.9576709083033752, 'min_child_weight': 2, 'gamma': 0.4150181570612956, 'learning_rate': 0.05416155915604285, 'colsample_bytree': 0.3985113058862365, 'subsample': 0.7033954207328182}. Best is trial 42 with value: 0.871017031791812.\u001b[0m\n",
      "\u001b[32m[I 2023-05-03 16:47:40,630]\u001b[0m Trial 43 finished with value: 0.8641720690165693 and parameters: {'n_estimators': 240, 'max_depth': 6, 'reg_alpha': 0.676768567004715, 'reg_lambda': 0.9468940514814335, 'min_child_weight': 2, 'gamma': 0.40982538435883403, 'learning_rate': 0.010504634212283377, 'colsample_bytree': 0.40260525427671345, 'subsample': 0.7143830304276273}. Best is trial 42 with value: 0.871017031791812.\u001b[0m\n",
      "\u001b[32m[I 2023-05-03 16:48:14,929]\u001b[0m Trial 44 finished with value: 0.8711617263914759 and parameters: {'n_estimators': 215, 'max_depth': 5, 'reg_alpha': 0.6974326926273544, 'reg_lambda': 0.9338999832186095, 'min_child_weight': 1, 'gamma': 0.5163197813261551, 'learning_rate': 0.058583503817029994, 'colsample_bytree': 0.46365193019630374, 'subsample': 0.7010201204498475}. Best is trial 44 with value: 0.8711617263914759.\u001b[0m\n",
      "\u001b[32m[I 2023-05-03 16:48:46,001]\u001b[0m Trial 45 finished with value: 0.8657849901070236 and parameters: {'n_estimators': 167, 'max_depth': 6, 'reg_alpha': 0.7364487039113142, 'reg_lambda': 0.9332890542135003, 'min_child_weight': 2, 'gamma': 0.5258014122185191, 'learning_rate': 0.15240301561180353, 'colsample_bytree': 0.465135080524289, 'subsample': 0.7602621493853977}. Best is trial 44 with value: 0.8711617263914759.\u001b[0m\n",
      "\u001b[32m[I 2023-05-03 16:49:21,371]\u001b[0m Trial 46 finished with value: 0.861601027855421 and parameters: {'n_estimators': 235, 'max_depth': 5, 'reg_alpha': 0.7733740026416713, 'reg_lambda': 0.852448000527646, 'min_child_weight': 0, 'gamma': 0.6204508834774544, 'learning_rate': 0.2012211830849237, 'colsample_bytree': 0.48272131138246893, 'subsample': 0.7050338563236637}. Best is trial 44 with value: 0.8711617263914759.\u001b[0m\n",
      "\u001b[32m[I 2023-05-03 16:50:08,804]\u001b[0m Trial 47 finished with value: 0.8709374619483693 and parameters: {'n_estimators': 189, 'max_depth': 7, 'reg_alpha': 0.6903960489022603, 'reg_lambda': 0.7531673051920058, 'min_child_weight': 2, 'gamma': 0.46452645719663166, 'learning_rate': 0.0477234739005247, 'colsample_bytree': 0.5181187267904723, 'subsample': 0.7415021178260043}. Best is trial 44 with value: 0.8711617263914759.\u001b[0m\n",
      "\u001b[32m[I 2023-05-03 16:50:38,336]\u001b[0m Trial 48 finished with value: 0.8699924569024725 and parameters: {'n_estimators': 109, 'max_depth': 7, 'reg_alpha': 0.7120884537839058, 'reg_lambda': 0.7689220520279093, 'min_child_weight': 1, 'gamma': 0.45035186428873686, 'learning_rate': 0.044712907358433876, 'colsample_bytree': 0.5222998225501477, 'subsample': 0.7400526836449458}. Best is trial 44 with value: 0.8711617263914759.\u001b[0m\n",
      "\u001b[32m[I 2023-05-03 16:51:27,423]\u001b[0m Trial 49 finished with value: 0.8482004135386061 and parameters: {'n_estimators': 187, 'max_depth': 7, 'reg_alpha': 0.685513799757015, 'reg_lambda': 0.7118295951273841, 'min_child_weight': 1, 'gamma': 0.4964277974021586, 'learning_rate': 0.2765048565308446, 'colsample_bytree': 0.5669929646731418, 'subsample': 0.7826003283422749}. Best is trial 44 with value: 0.8711617263914759.\u001b[0m\n",
      "\u001b[32m[I 2023-05-03 16:51:55,538]\u001b[0m Trial 50 finished with value: 0.8657086447493066 and parameters: {'n_estimators': 140, 'max_depth': 6, 'reg_alpha': 0.8420532877650186, 'reg_lambda': 0.8726236899699686, 'min_child_weight': 2, 'gamma': 0.5765056787433691, 'learning_rate': 0.16338740397851081, 'colsample_bytree': 0.4717272563952623, 'subsample': 0.7559154517410719}. Best is trial 44 with value: 0.8711617263914759.\u001b[0m\n",
      "\u001b[32m[I 2023-05-03 16:52:29,904]\u001b[0m Trial 51 finished with value: 0.8707634414685463 and parameters: {'n_estimators': 223, 'max_depth': 5, 'reg_alpha': 0.6046859520080575, 'reg_lambda': 0.94160688028823, 'min_child_weight': 2, 'gamma': 0.5200931912937259, 'learning_rate': 0.05601816245208341, 'colsample_bytree': 0.45004778513816607, 'subsample': 0.7005357530473589}. Best is trial 44 with value: 0.8711617263914759.\u001b[0m\n",
      "\u001b[32m[I 2023-05-03 16:53:02,353]\u001b[0m Trial 52 finished with value: 0.8670093156792573 and parameters: {'n_estimators': 188, 'max_depth': 6, 'reg_alpha': 0.6801202842725879, 'reg_lambda': 0.902294862505696, 'min_child_weight': 2, 'gamma': 0.4643938222175974, 'learning_rate': 0.13250991591854694, 'colsample_bytree': 0.39609574804069375, 'subsample': 0.7331435194007392}. Best is trial 44 with value: 0.8711617263914759.\u001b[0m\n",
      "\u001b[32m[I 2023-05-03 16:53:41,267]\u001b[0m Trial 53 finished with value: 0.8699771194940211 and parameters: {'n_estimators': 256, 'max_depth': 5, 'reg_alpha': 0.7674409078520112, 'reg_lambda': 0.9473414093290957, 'min_child_weight': 2, 'gamma': 0.5524833200869429, 'learning_rate': 0.08430122151134317, 'colsample_bytree': 0.5004007879887129, 'subsample': 0.6943476150719352}. Best is trial 44 with value: 0.8711617263914759.\u001b[0m\n",
      "\u001b[32m[I 2023-05-03 16:53:58,895]\u001b[0m Trial 54 finished with value: 0.8616040111178813 and parameters: {'n_estimators': 147, 'max_depth': 4, 'reg_alpha': 0.5949981172952662, 'reg_lambda': 0.8231146371194774, 'min_child_weight': 1, 'gamma': 0.4202383453954309, 'learning_rate': 0.02092481422076317, 'colsample_bytree': 0.4137929474611147, 'subsample': 0.6604095883807055}. Best is trial 44 with value: 0.8711617263914759.\u001b[0m\n",
      "\u001b[32m[I 2023-05-03 16:55:04,489]\u001b[0m Trial 55 finished with value: 0.8592201290721595 and parameters: {'n_estimators': 199, 'max_depth': 9, 'reg_alpha': 0.7419680691358009, 'reg_lambda': 0.881428575665963, 'min_child_weight': 0, 'gamma': 0.4800197155768239, 'learning_rate': 0.1392079750743515, 'colsample_bytree': 0.32767574135532873, 'subsample': 0.7377442809713779}. Best is trial 44 with value: 0.8711617263914759.\u001b[0m\n",
      "\u001b[32m[I 2023-05-03 16:55:58,448]\u001b[0m Trial 56 finished with value: 0.8685529840372483 and parameters: {'n_estimators': 221, 'max_depth': 7, 'reg_alpha': 0.6671479250578694, 'reg_lambda': 0.9515438254217847, 'min_child_weight': 3, 'gamma': 0.3351550474587924, 'learning_rate': 0.0722646270182932, 'colsample_bytree': 0.517467677247409, 'subsample': 0.7786499102087391}. Best is trial 44 with value: 0.8711617263914759.\u001b[0m\n",
      "\u001b[32m[I 2023-05-03 16:56:33,863]\u001b[0m Trial 57 finished with value: 0.8699025888477925 and parameters: {'n_estimators': 263, 'max_depth': 4, 'reg_alpha': 0.7121828699340489, 'reg_lambda': 0.9178511839919616, 'min_child_weight': 2, 'gamma': 0.4244222976005872, 'learning_rate': 0.03503888943668491, 'colsample_bytree': 0.48123055375181445, 'subsample': 0.6720242974352986}. Best is trial 44 with value: 0.8711617263914759.\u001b[0m\n",
      "\u001b[32m[I 2023-05-03 16:57:20,982]\u001b[0m Trial 58 finished with value: 0.8683065273871812 and parameters: {'n_estimators': 241, 'max_depth': 6, 'reg_alpha': 0.7813295172945821, 'reg_lambda': 0.8272394066652893, 'min_child_weight': 3, 'gamma': 0.6004802007811099, 'learning_rate': 0.09999000984136479, 'colsample_bytree': 0.4464290040412012, 'subsample': 0.7238791302933607}. Best is trial 44 with value: 0.8711617263914759.\u001b[0m\n",
      "\u001b[32m[I 2023-05-03 16:57:57,971]\u001b[0m Trial 59 finished with value: 0.8559449148831634 and parameters: {'n_estimators': 118, 'max_depth': 8, 'reg_alpha': 0.5981452301978633, 'reg_lambda': 0.87766350397985, 'min_child_weight': 1, 'gamma': 0.3854237291250524, 'learning_rate': 0.18896093981641943, 'colsample_bytree': 0.5468311696714571, 'subsample': 0.6282263221042531}. Best is trial 44 with value: 0.8711617263914759.\u001b[0m\n"
     ]
    },
    {
     "name": "stdout",
     "output_type": "stream",
     "text": [
      "\u001b[32m[I 2023-05-03 16:58:25,252]\u001b[0m Trial 60 finished with value: 0.8699453756936878 and parameters: {'n_estimators': 172, 'max_depth': 5, 'reg_alpha': 0.6582072593162538, 'reg_lambda': 0.9670554636156001, 'min_child_weight': 2, 'gamma': 0.5201545295596272, 'learning_rate': 0.1282531740285005, 'colsample_bytree': 0.3917229632805869, 'subsample': 0.793261681104817}. Best is trial 44 with value: 0.8711617263914759.\u001b[0m\n",
      "\u001b[32m[I 2023-05-03 16:58:58,259]\u001b[0m Trial 61 finished with value: 0.8705971252130643 and parameters: {'n_estimators': 204, 'max_depth': 5, 'reg_alpha': 0.6425684493403797, 'reg_lambda': 0.9961775754947367, 'min_child_weight': 1, 'gamma': 0.3955836356393927, 'learning_rate': 0.06079830428510223, 'colsample_bytree': 0.43089569172300096, 'subsample': 0.6991485777239542}. Best is trial 44 with value: 0.8711617263914759.\u001b[0m\n",
      "\u001b[32m[I 2023-05-03 16:59:24,597]\u001b[0m Trial 62 finished with value: 0.8688895616470393 and parameters: {'n_estimators': 199, 'max_depth': 4, 'reg_alpha': 0.7512993646078046, 'reg_lambda': 0.9274022134883827, 'min_child_weight': 1, 'gamma': 0.35294355527017945, 'learning_rate': 0.039969092038804, 'colsample_bytree': 0.414981046237062, 'subsample': 0.7127047054665613}. Best is trial 44 with value: 0.8711617263914759.\u001b[0m\n",
      "\u001b[32m[I 2023-05-03 17:00:07,990]\u001b[0m Trial 63 finished with value: 0.8699828993801777 and parameters: {'n_estimators': 226, 'max_depth': 5, 'reg_alpha': 0.5712371972166155, 'reg_lambda': 0.95821548502925, 'min_child_weight': 1, 'gamma': 0.4644115972544826, 'learning_rate': 0.08899392581757379, 'colsample_bytree': 0.43815861688387553, 'subsample': 0.6495299939290159}. Best is trial 44 with value: 0.8711617263914759.\u001b[0m\n",
      "\u001b[32m[I 2023-05-03 17:00:50,430]\u001b[0m Trial 64 finished with value: 0.8702652004452822 and parameters: {'n_estimators': 249, 'max_depth': 4, 'reg_alpha': 0.6888895894139495, 'reg_lambda': 0.9751301033317024, 'min_child_weight': 0, 'gamma': 0.28235826621359716, 'learning_rate': 0.0429856424368707, 'colsample_bytree': 0.49055177517161686, 'subsample': 0.6831254380184602}. Best is trial 44 with value: 0.8711617263914759.\u001b[0m\n",
      "\u001b[32m[I 2023-05-03 17:01:45,851]\u001b[0m Trial 65 finished with value: 0.8640875441045415 and parameters: {'n_estimators': 211, 'max_depth': 7, 'reg_alpha': 0.6261270070883863, 'reg_lambda': 0.912482223486348, 'min_child_weight': 2, 'gamma': 0.38100281122911567, 'learning_rate': 0.11376216695350459, 'colsample_bytree': 0.46036418146669467, 'subsample': 0.7458789629731963}. Best is trial 44 with value: 0.8711617263914759.\u001b[0m\n",
      "\u001b[32m[I 2023-05-03 17:02:09,534]\u001b[0m Trial 66 finished with value: 0.8579243998742768 and parameters: {'n_estimators': 152, 'max_depth': 5, 'reg_alpha': 0.5360438367261927, 'reg_lambda': 0.9665885261663709, 'min_child_weight': 1, 'gamma': 0.3295334515116563, 'learning_rate': 0.010525942715933947, 'colsample_bytree': 0.343015128358758, 'subsample': 0.700178642476133}. Best is trial 44 with value: 0.8711617263914759.\u001b[0m\n",
      "\u001b[32m[I 2023-05-03 17:02:49,406]\u001b[0m Trial 67 finished with value: 0.8701138332070675 and parameters: {'n_estimators': 264, 'max_depth': 5, 'reg_alpha': 0.806628369941339, 'reg_lambda': 0.9984611352916198, 'min_child_weight': 3, 'gamma': 0.43512092032470623, 'learning_rate': 0.08841013277466314, 'colsample_bytree': 0.3837321073556448, 'subsample': 0.6735283938917319}. Best is trial 44 with value: 0.8711617263914759.\u001b[0m\n",
      "\u001b[32m[I 2023-05-03 17:03:25,314]\u001b[0m Trial 68 finished with value: 0.8673914315594902 and parameters: {'n_estimators': 186, 'max_depth': 6, 'reg_alpha': 0.7228084785101743, 'reg_lambda': 0.9140550461160245, 'min_child_weight': 2, 'gamma': 0.26251218256806597, 'learning_rate': 0.13261160503372588, 'colsample_bytree': 0.42193766040610914, 'subsample': 0.718045478280454}. Best is trial 44 with value: 0.8711617263914759.\u001b[0m\n",
      "\u001b[32m[I 2023-05-03 17:03:50,199]\u001b[0m Trial 69 finished with value: 0.8700913347389833 and parameters: {'n_estimators': 197, 'max_depth': 4, 'reg_alpha': 0.6640566732374276, 'reg_lambda': 0.7822038079113245, 'min_child_weight': 1, 'gamma': 0.4751900931110413, 'learning_rate': 0.05189379245463711, 'colsample_bytree': 0.40078806267027584, 'subsample': 0.7635566128621111}. Best is trial 44 with value: 0.8711617263914759.\u001b[0m\n",
      "\u001b[32m[I 2023-05-03 17:04:08,103]\u001b[0m Trial 70 finished with value: 0.8685925832553261 and parameters: {'n_estimators': 177, 'max_depth': 3, 'reg_alpha': 0.6436352106421092, 'reg_lambda': 0.8553763654025547, 'min_child_weight': 0, 'gamma': 0.4065570363954797, 'learning_rate': 0.21400303844992052, 'colsample_bytree': 0.3757846929072096, 'subsample': 0.7476919757095675}. Best is trial 44 with value: 0.8711617263914759.\u001b[0m\n",
      "\u001b[32m[I 2023-05-03 17:04:47,639]\u001b[0m Trial 71 finished with value: 0.8708508089666382 and parameters: {'n_estimators': 225, 'max_depth': 5, 'reg_alpha': 0.6045383745797441, 'reg_lambda': 0.934611241247831, 'min_child_weight': 2, 'gamma': 0.5219823212917164, 'learning_rate': 0.0569490535911725, 'colsample_bytree': 0.4474569947904027, 'subsample': 0.7010825853808188}. Best is trial 44 with value: 0.8711617263914759.\u001b[0m\n",
      "\u001b[32m[I 2023-05-03 17:05:24,188]\u001b[0m Trial 72 finished with value: 0.8700533475678526 and parameters: {'n_estimators': 227, 'max_depth': 5, 'reg_alpha': 0.6073724242612448, 'reg_lambda': 0.9411072645788275, 'min_child_weight': 2, 'gamma': 0.4955706165784983, 'learning_rate': 0.08358326959867007, 'colsample_bytree': 0.4364205889293538, 'subsample': 0.6857018867259144}. Best is trial 44 with value: 0.8711617263914759.\u001b[0m\n",
      "\u001b[32m[I 2023-05-03 17:06:03,464]\u001b[0m Trial 73 finished with value: 0.868100652234941 and parameters: {'n_estimators': 247, 'max_depth': 5, 'reg_alpha': 0.6969328364214104, 'reg_lambda': 0.8923218074238034, 'min_child_weight': 3, 'gamma': 0.36006859699164967, 'learning_rate': 0.11034345571418716, 'colsample_bytree': 0.46696698444131574, 'subsample': 0.7289937513104976}. Best is trial 44 with value: 0.8711617263914759.\u001b[0m\n",
      "\u001b[32m[I 2023-05-03 17:06:37,968]\u001b[0m Trial 74 finished with value: 0.8674850475765362 and parameters: {'n_estimators': 272, 'max_depth': 4, 'reg_alpha': 0.6254970759084143, 'reg_lambda': 0.9581238118925651, 'min_child_weight': 2, 'gamma': 0.45324910393567047, 'learning_rate': 0.17017253234168733, 'colsample_bytree': 0.4522054616905297, 'subsample': 0.6663093630930713}. Best is trial 44 with value: 0.8711617263914759.\u001b[0m\n",
      "\u001b[32m[I 2023-05-03 17:07:23,795]\u001b[0m Trial 75 finished with value: 0.8711990513176435 and parameters: {'n_estimators': 214, 'max_depth': 6, 'reg_alpha': 0.583518043959685, 'reg_lambda': 0.922142993239961, 'min_child_weight': 1, 'gamma': 0.5363281195184677, 'learning_rate': 0.03544811411816012, 'colsample_bytree': 0.48172551761215643, 'subsample': 0.7069387797582648}. Best is trial 75 with value: 0.8711990513176435.\u001b[0m\n",
      "\u001b[32m[I 2023-05-03 17:08:11,053]\u001b[0m Trial 76 finished with value: 0.8710523275492058 and parameters: {'n_estimators': 216, 'max_depth': 6, 'reg_alpha': 0.5730405011586927, 'reg_lambda': 0.8401335626675407, 'min_child_weight': 3, 'gamma': 0.5322571825249576, 'learning_rate': 0.03309915356429301, 'colsample_bytree': 0.4884684436334781, 'subsample': 0.688958032049523}. Best is trial 75 with value: 0.8711990513176435.\u001b[0m\n",
      "\u001b[32m[I 2023-05-03 17:09:07,796]\u001b[0m Trial 77 finished with value: 0.8703057687006968 and parameters: {'n_estimators': 210, 'max_depth': 6, 'reg_alpha': 0.5561331946488426, 'reg_lambda': 0.863678532252246, 'min_child_weight': 3, 'gamma': 0.6456251623797181, 'learning_rate': 0.02620285287177517, 'colsample_bytree': 0.5084032454574394, 'subsample': 0.651958285706032}. Best is trial 75 with value: 0.8711990513176435.\u001b[0m\n",
      "\u001b[32m[I 2023-05-03 17:11:06,581]\u001b[0m Trial 78 finished with value: 0.8610165138822694 and parameters: {'n_estimators': 493, 'max_depth': 7, 'reg_alpha': 0.5792447582999866, 'reg_lambda': 0.8415410616953094, 'min_child_weight': 3, 'gamma': 0.5852263440614162, 'learning_rate': 0.07960375916178296, 'colsample_bytree': 0.47501923658206974, 'subsample': 0.6874403076005942}. Best is trial 75 with value: 0.8711990513176435.\u001b[0m\n",
      "\u001b[32m[I 2023-05-03 17:11:56,494]\u001b[0m Trial 79 finished with value: 0.866195213626949 and parameters: {'n_estimators': 241, 'max_depth': 6, 'reg_alpha': 0.5148406258957908, 'reg_lambda': 0.8092044223454071, 'min_child_weight': 3, 'gamma': 0.5397544997311094, 'learning_rate': 0.10533516652288961, 'colsample_bytree': 0.4856827716352592, 'subsample': 0.722984791399826}. Best is trial 75 with value: 0.8711990513176435.\u001b[0m\n"
     ]
    },
    {
     "name": "stdout",
     "output_type": "stream",
     "text": [
      "\u001b[32m[I 2023-05-03 17:12:33,700]\u001b[0m Trial 80 finished with value: 0.8642811721581396 and parameters: {'n_estimators': 173, 'max_depth': 6, 'reg_alpha': 0.7398213607223499, 'reg_lambda': 0.8839149997665586, 'min_child_weight': 4, 'gamma': 0.4349837612358972, 'learning_rate': 0.012117166237458475, 'colsample_bytree': 0.4914296059058498, 'subsample': 0.7402175961940437}. Best is trial 75 with value: 0.8711990513176435.\u001b[0m\n",
      "\u001b[32m[I 2023-05-03 17:13:28,566]\u001b[0m Trial 81 finished with value: 0.8709279948692128 and parameters: {'n_estimators': 217, 'max_depth': 7, 'reg_alpha': 0.5789690236063808, 'reg_lambda': 0.921707960817372, 'min_child_weight': 2, 'gamma': 0.5116136933463306, 'learning_rate': 0.038683013386787646, 'colsample_bytree': 0.4558803484428513, 'subsample': 0.7083520607136279}. Best is trial 75 with value: 0.8711990513176435.\u001b[0m\n",
      "\u001b[32m[I 2023-05-03 17:14:29,469]\u001b[0m Trial 82 finished with value: 0.8712632761172066 and parameters: {'n_estimators': 218, 'max_depth': 7, 'reg_alpha': 0.5478007582642769, 'reg_lambda': 0.9023468587419142, 'min_child_weight': 1, 'gamma': 0.5607269872494481, 'learning_rate': 0.03237943374142907, 'colsample_bytree': 0.4999813496506069, 'subsample': 0.7155656419597266}. Best is trial 82 with value: 0.8712632761172066.\u001b[0m\n",
      "\u001b[32m[I 2023-05-03 17:15:38,232]\u001b[0m Trial 83 finished with value: 0.8708167181481012 and parameters: {'n_estimators': 236, 'max_depth': 7, 'reg_alpha': 0.5445422397854766, 'reg_lambda': 0.9010033668871045, 'min_child_weight': 1, 'gamma': 0.4955820269738183, 'learning_rate': 0.03955515067053263, 'colsample_bytree': 0.5049761529953684, 'subsample': 0.7138524061037886}. Best is trial 82 with value: 0.8712632761172066.\u001b[0m\n",
      "\u001b[32m[I 2023-05-03 17:16:39,475]\u001b[0m Trial 84 finished with value: 0.8570222053600863 and parameters: {'n_estimators': 193, 'max_depth': 8, 'reg_alpha': 0.49031083123275765, 'reg_lambda': 0.8332078861701653, 'min_child_weight': 1, 'gamma': 0.5784214999605519, 'learning_rate': 0.14615112033326783, 'colsample_bytree': 0.5218544254242709, 'subsample': 0.6719224352461403}. Best is trial 82 with value: 0.8712632761172066.\u001b[0m\n",
      "\u001b[32m[I 2023-05-03 17:17:35,281]\u001b[0m Trial 85 finished with value: 0.8705602852154296 and parameters: {'n_estimators': 212, 'max_depth': 7, 'reg_alpha': 0.5627655790893976, 'reg_lambda': 0.8687472578834643, 'min_child_weight': 1, 'gamma': 0.5548491563744341, 'learning_rate': 0.03442306394695011, 'colsample_bytree': 0.47010692495779083, 'subsample': 0.7535540927888232}. Best is trial 82 with value: 0.8712632761172066.\u001b[0m\n",
      "\u001b[32m[I 2023-05-03 17:18:29,994]\u001b[0m Trial 86 finished with value: 0.8679200496803132 and parameters: {'n_estimators': 218, 'max_depth': 7, 'reg_alpha': 0.5246393747974727, 'reg_lambda': 0.921651627131418, 'min_child_weight': 1, 'gamma': 0.6107288964575113, 'learning_rate': 0.0722917919811742, 'colsample_bytree': 0.49673624457018933, 'subsample': 0.7674808907653694}. Best is trial 82 with value: 0.8712632761172066.\u001b[0m\n",
      "\u001b[32m[I 2023-05-03 17:20:07,057]\u001b[0m Trial 87 finished with value: 0.8564485623013173 and parameters: {'n_estimators': 291, 'max_depth': 8, 'reg_alpha': 0.5810618947169924, 'reg_lambda': 0.79199259987642, 'min_child_weight': 0, 'gamma': 0.5108497063826377, 'learning_rate': 0.11315951445716124, 'colsample_bytree': 0.47801226368350375, 'subsample': 0.7383885935641653}. Best is trial 82 with value: 0.8712632761172066.\u001b[0m\n",
      "\u001b[32m[I 2023-05-03 17:21:14,332]\u001b[0m Trial 88 finished with value: 0.8712978453542073 and parameters: {'n_estimators': 254, 'max_depth': 7, 'reg_alpha': 0.6880848993680609, 'reg_lambda': 0.8389531954992305, 'min_child_weight': 2, 'gamma': 0.5371949694878599, 'learning_rate': 0.03069730987296773, 'colsample_bytree': 0.45946717137309584, 'subsample': 0.6892257506988365}. Best is trial 88 with value: 0.8712978453542073.\u001b[0m\n",
      "\u001b[32m[I 2023-05-03 17:22:13,605]\u001b[0m Trial 89 finished with value: 0.8663107001083719 and parameters: {'n_estimators': 273, 'max_depth': 6, 'reg_alpha': 0.6962891633238613, 'reg_lambda': 0.7590993750315648, 'min_child_weight': 1, 'gamma': 0.5401832572245157, 'learning_rate': 0.09133226917180882, 'colsample_bytree': 0.53903009011015, 'subsample': 0.6916392742831939}. Best is trial 88 with value: 0.8712978453542073.\u001b[0m\n",
      "\u001b[32m[I 2023-05-03 17:23:19,990]\u001b[0m Trial 90 finished with value: 0.8670131513969244 and parameters: {'n_estimators': 251, 'max_depth': 7, 'reg_alpha': 0.683521679990489, 'reg_lambda': 0.8055121918542297, 'min_child_weight': 3, 'gamma': 0.6282135003815034, 'learning_rate': 0.010658623441521489, 'colsample_bytree': 0.5093007296306794, 'subsample': 0.6588885296922851}. Best is trial 88 with value: 0.8712978453542073.\u001b[0m\n",
      "\u001b[32m[I 2023-05-03 17:24:17,945]\u001b[0m Trial 91 finished with value: 0.8711809606778692 and parameters: {'n_estimators': 235, 'max_depth': 7, 'reg_alpha': 0.6648758874715675, 'reg_lambda': 0.848621451241012, 'min_child_weight': 2, 'gamma': 0.566556761994097, 'learning_rate': 0.03296818606288928, 'colsample_bytree': 0.458778375843983, 'subsample': 0.7086041378491772}. Best is trial 88 with value: 0.8712978453542073.\u001b[0m\n",
      "\u001b[32m[I 2023-05-03 17:26:07,264]\u001b[0m Trial 92 finished with value: 0.8639064889701074 and parameters: {'n_estimators': 463, 'max_depth': 7, 'reg_alpha': 0.6643954384017765, 'reg_lambda': 0.8436862042420085, 'min_child_weight': 2, 'gamma': 0.5638394659878944, 'learning_rate': 0.06383196410529111, 'colsample_bytree': 0.46464765383375073, 'subsample': 0.7200753677164741}. Best is trial 88 with value: 0.8712978453542073.\u001b[0m\n",
      "\u001b[32m[I 2023-05-03 17:27:19,898]\u001b[0m Trial 93 finished with value: 0.8696740469879932 and parameters: {'n_estimators': 261, 'max_depth': 8, 'reg_alpha': 0.7181211093962161, 'reg_lambda': 0.8796972008971816, 'min_child_weight': 2, 'gamma': 0.4794419599946682, 'learning_rate': 0.03926065558300515, 'colsample_bytree': 0.48278716490719664, 'subsample': 0.6819878688290067}. Best is trial 88 with value: 0.8712978453542073.\u001b[0m\n",
      "\u001b[32m[I 2023-05-03 17:28:13,794]\u001b[0m Trial 94 finished with value: 0.8615792894830598 and parameters: {'n_estimators': 232, 'max_depth': 7, 'reg_alpha': 0.6193355851889069, 'reg_lambda': 0.826615508886867, 'min_child_weight': 1, 'gamma': 0.6055288653722242, 'learning_rate': 0.13325368197704562, 'colsample_bytree': 0.4241486007638584, 'subsample': 0.7263673178152843}. Best is trial 88 with value: 0.8712978453542073.\u001b[0m\n",
      "\u001b[32m[I 2023-05-03 17:29:05,484]\u001b[0m Trial 95 finished with value: 0.8697849693974179 and parameters: {'n_estimators': 245, 'max_depth': 6, 'reg_alpha': 0.6496150529932982, 'reg_lambda': 0.8951440263843362, 'min_child_weight': 3, 'gamma': 0.5849682961368128, 'learning_rate': 0.06935001854765664, 'colsample_bytree': 0.49836107760956505, 'subsample': 0.6956296306188902}. Best is trial 88 with value: 0.8712978453542073.\u001b[0m\n",
      "\u001b[32m[I 2023-05-03 17:30:41,504]\u001b[0m Trial 96 finished with value: 0.8702174883448359 and parameters: {'n_estimators': 311, 'max_depth': 8, 'reg_alpha': 0.7035084793452602, 'reg_lambda': 0.7338151527850586, 'min_child_weight': 2, 'gamma': 0.5364508415856875, 'learning_rate': 0.029847000091021373, 'colsample_bytree': 0.5183477029525745, 'subsample': 0.7074663895008118}. Best is trial 88 with value: 0.8712978453542073.\u001b[0m\n",
      "\u001b[32m[I 2023-05-03 17:31:29,984]\u001b[0m Trial 97 finished with value: 0.8665868474271685 and parameters: {'n_estimators': 204, 'max_depth': 7, 'reg_alpha': 0.6755729530268634, 'reg_lambda': 0.8503576740704017, 'min_child_weight': 1, 'gamma': 0.4710589715331397, 'learning_rate': 0.09615763844791919, 'colsample_bytree': 0.4582719571032635, 'subsample': 0.750661113798228}. Best is trial 88 with value: 0.8712978453542073.\u001b[0m\n",
      "\u001b[32m[I 2023-05-03 17:32:04,230]\u001b[0m Trial 98 finished with value: 0.8654981856918915 and parameters: {'n_estimators': 178, 'max_depth': 6, 'reg_alpha': 0.6120093957555638, 'reg_lambda': 0.9669177390032926, 'min_child_weight': 2, 'gamma': 0.5557772728195445, 'learning_rate': 0.14718053706405787, 'colsample_bytree': 0.40762044635710026, 'subsample': 0.7321796309621018}. Best is trial 88 with value: 0.8712978453542073.\u001b[0m\n",
      "\u001b[32m[I 2023-05-03 17:32:58,898]\u001b[0m Trial 99 finished with value: 0.8693150906993476 and parameters: {'n_estimators': 233, 'max_depth': 7, 'reg_alpha': 0.7244343157188654, 'reg_lambda': 0.8002114874805244, 'min_child_weight': 3, 'gamma': 0.45286129958337973, 'learning_rate': 0.06152350832982629, 'colsample_bytree': 0.442305542245919, 'subsample': 0.677294325616766}. Best is trial 88 with value: 0.8712978453542073.\u001b[0m\n"
     ]
    },
    {
     "name": "stdout",
     "output_type": "stream",
     "text": [
      "\u001b[32m[I 2023-05-03 17:33:58,064]\u001b[0m Trial 100 finished with value: 0.8668513343785978 and parameters: {'n_estimators': 258, 'max_depth': 6, 'reg_alpha': 0.7638320516202208, 'reg_lambda': 0.8982628481140137, 'min_child_weight': 2, 'gamma': 0.42600967298612463, 'learning_rate': 0.011222389036540142, 'colsample_bytree': 0.5301907290128299, 'subsample': 0.6312609184982771}. Best is trial 88 with value: 0.8712978453542073.\u001b[0m\n",
      "\u001b[32m[I 2023-05-03 17:34:53,439]\u001b[0m Trial 101 finished with value: 0.8707725880946091 and parameters: {'n_estimators': 220, 'max_depth': 7, 'reg_alpha': 0.5874387256695203, 'reg_lambda': 0.9297496652149365, 'min_child_weight': 2, 'gamma': 0.5099685336289942, 'learning_rate': 0.04350778067994518, 'colsample_bytree': 0.45525918919444147, 'subsample': 0.7110983777988569}. Best is trial 88 with value: 0.8712978453542073.\u001b[0m\n",
      "\u001b[32m[I 2023-05-03 17:35:45,084]\u001b[0m Trial 102 finished with value: 0.8705299999760066 and parameters: {'n_estimators': 193, 'max_depth': 7, 'reg_alpha': 0.6401195738914388, 'reg_lambda': 0.87087393039068, 'min_child_weight': 2, 'gamma': 0.5018511904585835, 'learning_rate': 0.031386471679148036, 'colsample_bytree': 0.47043893981798, 'subsample': 0.7224266923979518}. Best is trial 88 with value: 0.8712978453542073.\u001b[0m\n",
      "\u001b[32m[I 2023-05-03 17:36:30,088]\u001b[0m Trial 103 finished with value: 0.8684574864211105 and parameters: {'n_estimators': 158, 'max_depth': 7, 'reg_alpha': 0.5543215639309247, 'reg_lambda': 0.9174522406628386, 'min_child_weight': 1, 'gamma': 0.5303172859458796, 'learning_rate': 0.08094543199265745, 'colsample_bytree': 0.48403889795388005, 'subsample': 0.7074211117335824}. Best is trial 88 with value: 0.8712978453542073.\u001b[0m\n",
      "\u001b[32m[I 2023-05-03 17:37:20,973]\u001b[0m Trial 104 finished with value: 0.8641369363149535 and parameters: {'n_estimators': 203, 'max_depth': 7, 'reg_alpha': 0.5828289419497732, 'reg_lambda': 0.9558603192995613, 'min_child_weight': 2, 'gamma': 0.590037690445777, 'learning_rate': 0.12360768645667392, 'colsample_bytree': 0.41897091639579914, 'subsample': 0.6882680097676735}. Best is trial 88 with value: 0.8712978453542073.\u001b[0m\n",
      "\u001b[32m[I 2023-05-03 17:38:31,669]\u001b[0m Trial 105 finished with value: 0.8692140524099738 and parameters: {'n_estimators': 217, 'max_depth': 8, 'reg_alpha': 0.6164188113228, 'reg_lambda': 0.9776652126544123, 'min_child_weight': 1, 'gamma': 0.5709229007738329, 'learning_rate': 0.045121223828958404, 'colsample_bytree': 0.4490943618338762, 'subsample': 0.6625719532358267}. Best is trial 88 with value: 0.8712978453542073.\u001b[0m\n",
      "\u001b[32m[I 2023-05-03 17:39:27,801]\u001b[0m Trial 106 finished with value: 0.8660869157081443 and parameters: {'n_estimators': 269, 'max_depth': 6, 'reg_alpha': 0.6575507084106375, 'reg_lambda': 0.9379156970794266, 'min_child_weight': 3, 'gamma': 0.4892202039447993, 'learning_rate': 0.10169049551584358, 'colsample_bytree': 0.4913026634345413, 'subsample': 0.6964723265019463}. Best is trial 88 with value: 0.8712978453542073.\u001b[0m\n",
      "\u001b[32m[I 2023-05-03 17:40:45,169]\u001b[0m Trial 107 finished with value: 0.8709925994405665 and parameters: {'n_estimators': 284, 'max_depth': 7, 'reg_alpha': 0.6770324255192102, 'reg_lambda': 0.8206879938903852, 'min_child_weight': 2, 'gamma': 0.4073886324940495, 'learning_rate': 0.03107908834618108, 'colsample_bytree': 0.46612251724597703, 'subsample': 0.7370468262394011}. Best is trial 88 with value: 0.8712978453542073.\u001b[0m\n",
      "\u001b[32m[I 2023-05-03 17:41:44,505]\u001b[0m Trial 108 finished with value: 0.8688793001708366 and parameters: {'n_estimators': 300, 'max_depth': 6, 'reg_alpha': 0.6956714000201357, 'reg_lambda': 0.8149345307670921, 'min_child_weight': 1, 'gamma': 0.45595528080163417, 'learning_rate': 0.06250305900001052, 'colsample_bytree': 0.427957944741775, 'subsample': 0.7414039049052696}. Best is trial 88 with value: 0.8712978453542073.\u001b[0m\n",
      "\u001b[32m[I 2023-05-03 17:43:02,179]\u001b[0m Trial 109 finished with value: 0.8707352987905784 and parameters: {'n_estimators': 286, 'max_depth': 7, 'reg_alpha': 0.6669498439350943, 'reg_lambda': 0.8602032607839418, 'min_child_weight': 2, 'gamma': 0.4174927733904411, 'learning_rate': 0.029272743829342557, 'colsample_bytree': 0.4732214049860168, 'subsample': 0.7624163412359994}. Best is trial 88 with value: 0.8712978453542073.\u001b[0m\n",
      "\u001b[32m[I 2023-05-03 17:44:16,785]\u001b[0m Trial 110 finished with value: 0.8666158012972638 and parameters: {'n_estimators': 252, 'max_depth': 8, 'reg_alpha': 0.6300033447562449, 'reg_lambda': 0.8351690646963961, 'min_child_weight': 4, 'gamma': 0.3987343700773973, 'learning_rate': 0.08205640642784222, 'colsample_bytree': 0.5073465023887637, 'subsample': 0.7319247079011446}. Best is trial 88 with value: 0.8712978453542073.\u001b[0m\n",
      "\u001b[32m[I 2023-05-03 17:45:34,263]\u001b[0m Trial 111 finished with value: 0.8685034110497345 and parameters: {'n_estimators': 322, 'max_depth': 7, 'reg_alpha': 0.6019829400380047, 'reg_lambda': 0.9090557603007348, 'min_child_weight': 2, 'gamma': 0.5144993596920701, 'learning_rate': 0.05193404761348066, 'colsample_bytree': 0.4622242625208029, 'subsample': 0.705072633356119}. Best is trial 88 with value: 0.8712978453542073.\u001b[0m\n",
      "\u001b[32m[I 2023-05-03 17:46:30,505]\u001b[0m Trial 112 finished with value: 0.8705593426084095 and parameters: {'n_estimators': 233, 'max_depth': 7, 'reg_alpha': 0.646977335726302, 'reg_lambda': 0.8850585645925535, 'min_child_weight': 2, 'gamma': 0.47929844246839415, 'learning_rate': 0.032775874952422374, 'colsample_bytree': 0.444161478942091, 'subsample': 0.7191229408567735}. Best is trial 88 with value: 0.8712978453542073.\u001b[0m\n",
      "\u001b[32m[I 2023-05-03 17:47:26,223]\u001b[0m Trial 113 finished with value: 0.8705563840091914 and parameters: {'n_estimators': 226, 'max_depth': 7, 'reg_alpha': 0.5723267202847317, 'reg_lambda': 0.7764796153897136, 'min_child_weight': 2, 'gamma': 0.5547420970108807, 'learning_rate': 0.026127614280878498, 'colsample_bytree': 0.45452427175868193, 'subsample': 0.7491059124212902}. Best is trial 88 with value: 0.8712978453542073.\u001b[0m\n",
      "\u001b[32m[I 2023-05-03 17:48:49,192]\u001b[0m Trial 114 finished with value: 0.8645566330315357 and parameters: {'n_estimators': 186, 'max_depth': 10, 'reg_alpha': 0.7519232311814126, 'reg_lambda': 0.9748974415261444, 'min_child_weight': 1, 'gamma': 0.4390150479722489, 'learning_rate': 0.07209991436576427, 'colsample_bytree': 0.48353500279613604, 'subsample': 0.6789134426569288}. Best is trial 88 with value: 0.8712978453542073.\u001b[0m\n",
      "\u001b[32m[I 2023-05-03 17:49:49,981]\u001b[0m Trial 115 finished with value: 0.8656124415427799 and parameters: {'n_estimators': 237, 'max_depth': 7, 'reg_alpha': 0.6798655429426775, 'reg_lambda': 0.9280216334107864, 'min_child_weight': 3, 'gamma': 0.5366987073445028, 'learning_rate': 0.10123920267990803, 'colsample_bytree': 0.43465278016981057, 'subsample': 0.6942409726970582}. Best is trial 88 with value: 0.8712978453542073.\u001b[0m\n",
      "\u001b[32m[I 2023-05-03 17:50:50,532]\u001b[0m Trial 116 finished with value: 0.8651666039197412 and parameters: {'n_estimators': 281, 'max_depth': 6, 'reg_alpha': 0.7303445761951912, 'reg_lambda': 0.859194369029698, 'min_child_weight': 2, 'gamma': 0.38032454481369765, 'learning_rate': 0.010738493015070474, 'colsample_bytree': 0.3893175798876635, 'subsample': 0.7121127328932403}. Best is trial 88 with value: 0.8712978453542073.\u001b[0m\n",
      "\u001b[32m[I 2023-05-03 17:51:46,073]\u001b[0m Trial 117 finished with value: 0.8702091287987722 and parameters: {'n_estimators': 210, 'max_depth': 7, 'reg_alpha': 0.5336669949513755, 'reg_lambda': 0.7910909262724859, 'min_child_weight': 5, 'gamma': 0.4973962021089264, 'learning_rate': 0.05206639190083891, 'colsample_bytree': 0.4967244232326553, 'subsample': 0.7325407523256232}. Best is trial 88 with value: 0.8712978453542073.\u001b[0m\n",
      "\u001b[32m[I 2023-05-03 17:52:26,933]\u001b[0m Trial 118 finished with value: 0.8681986393306408 and parameters: {'n_estimators': 242, 'max_depth': 5, 'reg_alpha': 0.7026857464597679, 'reg_lambda': 0.9473064697284955, 'min_child_weight': 1, 'gamma': 0.46322499044230614, 'learning_rate': 0.11165229437641463, 'colsample_bytree': 0.409570757466161, 'subsample': 0.6461420481002242}. Best is trial 88 with value: 0.8712978453542073.\u001b[0m\n",
      "\u001b[32m[I 2023-05-03 17:52:48,016]\u001b[0m Trial 119 finished with value: 0.8692483754244551 and parameters: {'n_estimators': 197, 'max_depth': 3, 'reg_alpha': 0.6336361323152471, 'reg_lambda': 0.826531206548427, 'min_child_weight': 0, 'gamma': 0.40908044288747136, 'learning_rate': 0.15953837066640805, 'colsample_bytree': 0.47468489331341546, 'subsample': 0.7711486226240963}. Best is trial 88 with value: 0.8712978453542073.\u001b[0m\n"
     ]
    }
   ],
   "source": [
    "study1 = optuna.create_study(direction='maximize', sampler=TPESampler())\n",
    "study1.optimize(objective, n_trials=120, show_progress_bar=True)"
   ]
  },
  {
   "cell_type": "code",
   "execution_count": 35,
   "id": "d20bf5c2",
   "metadata": {},
   "outputs": [
    {
     "data": {
      "text/plain": [
       "FrozenTrial(number=88, state=TrialState.COMPLETE, values=[0.8712978453542073], datetime_start=datetime.datetime(2023, 5, 3, 17, 20, 7, 90638), datetime_complete=datetime.datetime(2023, 5, 3, 17, 21, 14, 331920), params={'n_estimators': 254, 'max_depth': 7, 'reg_alpha': 0.6880848993680609, 'reg_lambda': 0.8389531954992305, 'min_child_weight': 2, 'gamma': 0.5371949694878599, 'learning_rate': 0.03069730987296773, 'colsample_bytree': 0.45946717137309584, 'subsample': 0.6892257506988365}, user_attrs={}, system_attrs={}, intermediate_values={}, distributions={'n_estimators': IntDistribution(high=500, log=False, low=50, step=1), 'max_depth': IntDistribution(high=10, log=False, low=3, step=1), 'reg_alpha': FloatDistribution(high=1.0, log=False, low=1e-08, step=None), 'reg_lambda': FloatDistribution(high=1.0, log=False, low=1e-08, step=None), 'min_child_weight': IntDistribution(high=6, log=False, low=0, step=1), 'gamma': FloatDistribution(high=1.0, log=False, low=1e-08, step=None), 'learning_rate': FloatDistribution(high=1.0, log=False, low=0.01, step=None), 'colsample_bytree': FloatDistribution(high=0.8, log=False, low=0.3, step=None), 'subsample': FloatDistribution(high=0.8, log=False, low=0.3, step=None)}, trial_id=88, value=None)"
      ]
     },
     "execution_count": 35,
     "metadata": {},
     "output_type": "execute_result"
    }
   ],
   "source": [
    "study1.best_trial"
   ]
  },
  {
   "cell_type": "code",
   "execution_count": 36,
   "id": "c57d17b2",
   "metadata": {},
   "outputs": [],
   "source": [
    "# 43 - best trial"
   ]
  },
  {
   "cell_type": "code",
   "execution_count": 37,
   "id": "2e873a7a",
   "metadata": {},
   "outputs": [],
   "source": [
    "param_h1n1 = study1.best_params"
   ]
  },
  {
   "cell_type": "code",
   "execution_count": 38,
   "id": "4156a56d",
   "metadata": {},
   "outputs": [
    {
     "data": {
      "text/plain": [
       "{'n_estimators': 254,\n",
       " 'max_depth': 7,\n",
       " 'reg_alpha': 0.6880848993680609,\n",
       " 'reg_lambda': 0.8389531954992305,\n",
       " 'min_child_weight': 2,\n",
       " 'gamma': 0.5371949694878599,\n",
       " 'learning_rate': 0.03069730987296773,\n",
       " 'colsample_bytree': 0.45946717137309584,\n",
       " 'subsample': 0.6892257506988365}"
      ]
     },
     "execution_count": 38,
     "metadata": {},
     "output_type": "execute_result"
    }
   ],
   "source": [
    "param_h1n1"
   ]
  },
  {
   "cell_type": "code",
   "execution_count": 39,
   "id": "a9973207",
   "metadata": {},
   "outputs": [
    {
     "data": {
      "text/plain": [
       "<optuna.pruners._median.MedianPruner at 0x7f8d69d06250>"
      ]
     },
     "execution_count": 39,
     "metadata": {},
     "output_type": "execute_result"
    }
   ],
   "source": [
    "study1.pruner"
   ]
  },
  {
   "cell_type": "code",
   "execution_count": 40,
   "id": "9a0c7f72",
   "metadata": {},
   "outputs": [],
   "source": [
    "X_train_h1, X_test_h1, y_train_h1, y_test_h1 = train_test_split(data, label1, test_size=0.2, random_state=101)"
   ]
  },
  {
   "cell_type": "code",
   "execution_count": 41,
   "id": "952112dd",
   "metadata": {},
   "outputs": [],
   "source": [
    "h1n1_model = XGBClassifier(**param_h1n1,missing= np.nan)"
   ]
  },
  {
   "cell_type": "code",
   "execution_count": 42,
   "id": "63b63f7d",
   "metadata": {},
   "outputs": [
    {
     "data": {
      "text/plain": [
       "XGBClassifier(base_score=None, booster=None, callbacks=None,\n",
       "              colsample_bylevel=None, colsample_bynode=None,\n",
       "              colsample_bytree=0.45946717137309584, early_stopping_rounds=None,\n",
       "              enable_categorical=False, eval_metric=None, feature_types=None,\n",
       "              gamma=0.5371949694878599, gpu_id=None, grow_policy=None,\n",
       "              importance_type=None, interaction_constraints=None,\n",
       "              learning_rate=0.03069730987296773, max_bin=None,\n",
       "              max_cat_threshold=None, max_cat_to_onehot=None,\n",
       "              max_delta_step=None, max_depth=7, max_leaves=None,\n",
       "              min_child_weight=2, missing=nan, monotone_constraints=None,\n",
       "              n_estimators=254, n_jobs=None, num_parallel_tree=None,\n",
       "              predictor=None, random_state=None, ...)"
      ]
     },
     "execution_count": 42,
     "metadata": {},
     "output_type": "execute_result"
    }
   ],
   "source": [
    "h1n1_model.fit(X_train_h1, y_train_h1)"
   ]
  },
  {
   "cell_type": "code",
   "execution_count": null,
   "id": "260b5c3f",
   "metadata": {},
   "outputs": [],
   "source": []
  },
  {
   "cell_type": "code",
   "execution_count": null,
   "id": "0f2458f0",
   "metadata": {},
   "outputs": [],
   "source": []
  },
  {
   "cell_type": "code",
   "execution_count": null,
   "id": "106f3ed5",
   "metadata": {},
   "outputs": [],
   "source": []
  },
  {
   "cell_type": "code",
   "execution_count": 43,
   "id": "76e8bea0",
   "metadata": {},
   "outputs": [],
   "source": [
    "h1n1_predict = h1n1_model.predict(X_test_h1)"
   ]
  },
  {
   "cell_type": "code",
   "execution_count": 44,
   "id": "4ff72da2",
   "metadata": {},
   "outputs": [
    {
     "name": "stdout",
     "output_type": "stream",
     "text": [
      "              precision    recall  f1-score   support\n",
      "\n",
      "           0       0.87      0.96      0.91      4199\n",
      "           1       0.76      0.49      0.60      1143\n",
      "\n",
      "    accuracy                           0.86      5342\n",
      "   macro avg       0.81      0.72      0.75      5342\n",
      "weighted avg       0.85      0.86      0.85      5342\n",
      "\n"
     ]
    }
   ],
   "source": [
    "print(classification_report(y_test_h1, h1n1_predict))"
   ]
  },
  {
   "cell_type": "code",
   "execution_count": 45,
   "id": "e63e1fb6",
   "metadata": {},
   "outputs": [
    {
     "name": "stderr",
     "output_type": "stream",
     "text": [
      "/Users/karthikeyan/opt/anaconda3/lib/python3.9/site-packages/sklearn/utils/deprecation.py:87: FutureWarning: Function plot_roc_curve is deprecated; Function :func:`plot_roc_curve` is deprecated in 1.0 and will be removed in 1.2. Use one of the class methods: :meth:`sklearn.metric.RocCurveDisplay.from_predictions` or :meth:`sklearn.metric.RocCurveDisplay.from_estimator`.\n",
      "  warnings.warn(msg, category=FutureWarning)\n"
     ]
    },
    {
     "data": {
      "text/plain": [
       "<sklearn.metrics._plot.roc_curve.RocCurveDisplay at 0x7f8d69d06760>"
      ]
     },
     "execution_count": 45,
     "metadata": {},
     "output_type": "execute_result"
    },
    {
     "data": {
      "image/png": "[encoded data removed]",
      "text/plain": [
       "<Figure size 640x480 with 1 Axes>"
      ]
     },
     "metadata": {},
     "output_type": "display_data"
    }
   ],
   "source": [
    "from sklearn.metrics import plot_roc_curve\n",
    "\n",
    "plot_roc_curve(h1n1_model, X_test_h1, y_test_h1)"
   ]
  },
  {
   "cell_type": "code",
   "execution_count": null,
   "id": "905f92cd",
   "metadata": {},
   "outputs": [],
   "source": []
  },
  {
   "cell_type": "code",
   "execution_count": 46,
   "id": "03e8f4e0",
   "metadata": {},
   "outputs": [
    {
     "data": {
      "text/plain": [
       "(26707,)"
      ]
     },
     "execution_count": 46,
     "metadata": {},
     "output_type": "execute_result"
    }
   ],
   "source": [
    "label1.shape"
   ]
  },
  {
   "cell_type": "code",
   "execution_count": 47,
   "id": "5d135088",
   "metadata": {},
   "outputs": [
    {
     "data": {
      "text/plain": [
       "(21365, 84)"
      ]
     },
     "execution_count": 47,
     "metadata": {},
     "output_type": "execute_result"
    }
   ],
   "source": [
    "X_train.shape"
   ]
  },
  {
   "cell_type": "code",
   "execution_count": null,
   "id": "622773a7",
   "metadata": {},
   "outputs": [],
   "source": []
  },
  {
   "cell_type": "code",
   "execution_count": 48,
   "id": "e0aea0f8",
   "metadata": {},
   "outputs": [],
   "source": [
    "X_train, X_test, y_train, y_test = train_test_split(data, label2, test_size=0.2, random_state=101)\n",
    "\n",
    "# Define the objective function\n",
    "def objective(trial):\n",
    "    param = {\n",
    "        'n_estimators': trial.suggest_int('n_estimators', 50, 500),\n",
    "        'max_depth': trial.suggest_int('max_depth', 3, 10),\n",
    "        'reg_alpha': trial.suggest_float('reg_alpha', 1e-8, 1.0),\n",
    "        'reg_lambda': trial.suggest_float('reg_lambda', 1e-8, 1.0),\n",
    "        'min_child_weight': trial.suggest_int('min_child_weight', 0, 6),\n",
    "        'gamma': trial.suggest_float('gamma',1e-8, 1.0),\n",
    "        'learning_rate': trial.suggest_float('learning_rate', 0.01, 1),\n",
    "        'colsample_bytree': trial.suggest_float('colsample_bytree', 0.3, 0.8),\n",
    "        'subsample': trial.suggest_float('subsample', 0.3, 0.8),\n",
    "        #'scale_pos_weight': trial.suggest_float('scale_pos_weight', 0, 10)\n",
    "      #'custom_metric' : ['AUC'],\n",
    "    }\n",
    "    \n",
    "    xgb = XGBClassifier(**param, missing= np.nan)\n",
    "    \n",
    "    from sklearn.model_selection import cross_val_score\n",
    "    scores = cross_val_score(xgb, data, label2, cv=5, scoring='roc_auc')\n",
    "    AUC = np.mean(scores).max()\n",
    "    return AUC"
   ]
  },
  {
   "cell_type": "code",
   "execution_count": 49,
   "id": "ee03b151",
   "metadata": {
    "scrolled": true
   },
   "outputs": [
    {
     "name": "stderr",
     "output_type": "stream",
     "text": [
      "\u001b[32m[I 2023-05-03 17:53:02,032]\u001b[0m A new study created in memory with name: no-name-c73f1321-1da8-4a7c-a278-fa30ce91156a\u001b[0m\n",
      "/Users/karthikeyan/opt/anaconda3/lib/python3.9/site-packages/optuna/progress_bar.py:56: ExperimentalWarning: Progress bar is experimental (supported from v1.2.0). The interface can change in the future.\n",
      "  self._init_valid()\n"
     ]
    },
    {
     "data": {
      "application/vnd.jupyter.widget-view+json": {
       "model_id": "f0a53c8ea2d444b7b95b76047633b39a",
       "version_major": 2,
       "version_minor": 0
      },
      "text/plain": [
       "  0%|          | 0/120 [00:00<?, ?it/s]"
      ]
     },
     "metadata": {},
     "output_type": "display_data"
    },
    {
     "name": "stdout",
     "output_type": "stream",
     "text": [
      "\u001b[32m[I 2023-05-03 17:53:37,206]\u001b[0m Trial 0 finished with value: 0.8617868042913486 and parameters: {'n_estimators': 429, 'max_depth': 4, 'reg_alpha': 0.23069882551241497, 'reg_lambda': 0.23760758178680516, 'min_child_weight': 5, 'gamma': 0.5227786334247114, 'learning_rate': 0.12954380330879206, 'colsample_bytree': 0.40309819885303083, 'subsample': 0.7054760551315302}. Best is trial 0 with value: 0.8617868042913486.\u001b[0m\n",
      "\u001b[32m[I 2023-05-03 17:54:04,451]\u001b[0m Trial 1 finished with value: 0.8197874126991916 and parameters: {'n_estimators': 133, 'max_depth': 10, 'reg_alpha': 0.52402843701393, 'reg_lambda': 0.6350943618540265, 'min_child_weight': 2, 'gamma': 0.9226870192667204, 'learning_rate': 0.5987511841592607, 'colsample_bytree': 0.5152622643023447, 'subsample': 0.7896450797763668}. Best is trial 0 with value: 0.8617868042913486.\u001b[0m\n",
      "\u001b[32m[I 2023-05-03 17:55:23,981]\u001b[0m Trial 2 finished with value: 0.8621289187977 and parameters: {'n_estimators': 493, 'max_depth': 9, 'reg_alpha': 0.1312924091805621, 'reg_lambda': 0.35991639757969873, 'min_child_weight': 3, 'gamma': 0.06311357112994112, 'learning_rate': 0.02469426060751327, 'colsample_bytree': 0.6643202378834547, 'subsample': 0.3549765996847515}. Best is trial 2 with value: 0.8621289187977.\u001b[0m\n",
      "\u001b[32m[I 2023-05-03 17:55:32,887]\u001b[0m Trial 3 finished with value: 0.8612044480671808 and parameters: {'n_estimators': 103, 'max_depth': 4, 'reg_alpha': 0.36289027326715295, 'reg_lambda': 0.9577785648124031, 'min_child_weight': 4, 'gamma': 0.8483204301334664, 'learning_rate': 0.1749712145162252, 'colsample_bytree': 0.7994849608240285, 'subsample': 0.3749683756372522}. Best is trial 2 with value: 0.8621289187977.\u001b[0m\n",
      "\u001b[32m[I 2023-05-03 17:56:03,661]\u001b[0m Trial 4 finished with value: 0.8371884868118172 and parameters: {'n_estimators': 316, 'max_depth': 5, 'reg_alpha': 0.45144991775503585, 'reg_lambda': 0.14641431909386357, 'min_child_weight': 2, 'gamma': 0.1819054120846423, 'learning_rate': 0.34100092574794244, 'colsample_bytree': 0.6480820702728531, 'subsample': 0.6731693616805672}. Best is trial 2 with value: 0.8621289187977.\u001b[0m\n",
      "\u001b[32m[I 2023-05-03 17:57:22,131]\u001b[0m Trial 5 finished with value: 0.8049076953360957 and parameters: {'n_estimators': 472, 'max_depth': 8, 'reg_alpha': 0.9348132708096272, 'reg_lambda': 0.5164705422582224, 'min_child_weight': 4, 'gamma': 0.07621360759076998, 'learning_rate': 0.6121106964260481, 'colsample_bytree': 0.7191494693335054, 'subsample': 0.5629911481929875}. Best is trial 2 with value: 0.8621289187977.\u001b[0m\n",
      "\u001b[32m[I 2023-05-03 17:58:15,089]\u001b[0m Trial 6 finished with value: 0.8245103674582419 and parameters: {'n_estimators': 336, 'max_depth': 8, 'reg_alpha': 0.6016283087795508, 'reg_lambda': 0.5092741482620556, 'min_child_weight': 0, 'gamma': 0.8523243030405109, 'learning_rate': 0.45019072425339013, 'colsample_bytree': 0.6320031705885854, 'subsample': 0.6787153689123377}. Best is trial 2 with value: 0.8621289187977.\u001b[0m\n",
      "\u001b[32m[I 2023-05-03 18:00:00,361]\u001b[0m Trial 7 finished with value: 0.8205116171491553 and parameters: {'n_estimators': 488, 'max_depth': 10, 'reg_alpha': 0.566980052869548, 'reg_lambda': 0.028587907943255563, 'min_child_weight': 1, 'gamma': 0.20263637129288276, 'learning_rate': 0.4829545849438723, 'colsample_bytree': 0.7609198696867081, 'subsample': 0.6072908864309905}. Best is trial 2 with value: 0.8621289187977.\u001b[0m\n",
      "\u001b[32m[I 2023-05-03 18:00:18,330]\u001b[0m Trial 8 finished with value: 0.8371509013473112 and parameters: {'n_estimators': 168, 'max_depth': 6, 'reg_alpha': 0.3615618490159754, 'reg_lambda': 0.03901450375962615, 'min_child_weight': 1, 'gamma': 0.2980404211094932, 'learning_rate': 0.36990595606737997, 'colsample_bytree': 0.6105627099719535, 'subsample': 0.7908142985641502}. Best is trial 2 with value: 0.8621289187977.\u001b[0m\n",
      "\u001b[32m[I 2023-05-03 18:01:19,329]\u001b[0m Trial 9 finished with value: 0.818176816812354 and parameters: {'n_estimators': 422, 'max_depth': 9, 'reg_alpha': 0.45003940541932363, 'reg_lambda': 0.5896841263543554, 'min_child_weight': 2, 'gamma': 0.9476373175016517, 'learning_rate': 0.6064433292594632, 'colsample_bytree': 0.5247130785027113, 'subsample': 0.7728277582406089}. Best is trial 2 with value: 0.8621289187977.\u001b[0m\n",
      "\u001b[32m[I 2023-05-03 18:01:33,691]\u001b[0m Trial 10 finished with value: 0.7660525890509825 and parameters: {'n_estimators': 231, 'max_depth': 7, 'reg_alpha': 0.0016564185246524255, 'reg_lambda': 0.31636833683374516, 'min_child_weight': 6, 'gamma': 0.4120086981228466, 'learning_rate': 0.9245297744223147, 'colsample_bytree': 0.3075605552716067, 'subsample': 0.3108961024360917}. Best is trial 2 with value: 0.8621289187977.\u001b[0m\n",
      "\u001b[32m[I 2023-05-03 18:01:51,115]\u001b[0m Trial 11 finished with value: 0.8631101254836414 and parameters: {'n_estimators': 390, 'max_depth': 3, 'reg_alpha': 0.09338143926173816, 'reg_lambda': 0.2871855792063127, 'min_child_weight': 6, 'gamma': 0.577428364553626, 'learning_rate': 0.03097363985043955, 'colsample_bytree': 0.4228589382478646, 'subsample': 0.4614158693565699}. Best is trial 11 with value: 0.8631101254836414.\u001b[0m\n",
      "\u001b[32m[I 2023-05-03 18:02:09,529]\u001b[0m Trial 12 finished with value: 0.8643174837436973 and parameters: {'n_estimators': 372, 'max_depth': 3, 'reg_alpha': 0.010111867948439268, 'reg_lambda': 0.34577044296155734, 'min_child_weight': 6, 'gamma': 0.035664308244427345, 'learning_rate': 0.07175756364973629, 'colsample_bytree': 0.44886485885430244, 'subsample': 0.44717215674279676}. Best is trial 12 with value: 0.8643174837436973.\u001b[0m\n",
      "\u001b[32m[I 2023-05-03 18:02:29,506]\u001b[0m Trial 13 finished with value: 0.8597109182091941 and parameters: {'n_estimators': 361, 'max_depth': 3, 'reg_alpha': 0.002259669716615856, 'reg_lambda': 0.37770464861023695, 'min_child_weight': 6, 'gamma': 0.6158485724480299, 'learning_rate': 0.01797422406323257, 'colsample_bytree': 0.43298839052376853, 'subsample': 0.45913435291729915}. Best is trial 12 with value: 0.8643174837436973.\u001b[0m\n",
      "\u001b[32m[I 2023-05-03 18:02:43,099]\u001b[0m Trial 14 finished with value: 0.8612180864207793 and parameters: {'n_estimators': 260, 'max_depth': 3, 'reg_alpha': 0.1234250821870376, 'reg_lambda': 0.2130375700351978, 'min_child_weight': 5, 'gamma': 0.65497759697421, 'learning_rate': 0.19335159294533866, 'colsample_bytree': 0.45396301622103025, 'subsample': 0.4684922950926948}. Best is trial 12 with value: 0.8643174837436973.\u001b[0m\n",
      "\u001b[32m[I 2023-05-03 18:03:09,993]\u001b[0m Trial 15 finished with value: 0.8608234178043542 and parameters: {'n_estimators': 391, 'max_depth': 5, 'reg_alpha': 0.17750931974299977, 'reg_lambda': 0.4267042122425575, 'min_child_weight': 6, 'gamma': 0.38033820885354164, 'learning_rate': 0.010170696757843219, 'colsample_bytree': 0.34544700462614963, 'subsample': 0.46297884192429556}. Best is trial 12 with value: 0.8643174837436973.\u001b[0m\n",
      "\u001b[32m[I 2023-05-03 18:03:23,850]\u001b[0m Trial 16 finished with value: 0.8589986185984518 and parameters: {'n_estimators': 297, 'max_depth': 3, 'reg_alpha': 0.005337649261504346, 'reg_lambda': 0.24168094677842222, 'min_child_weight': 5, 'gamma': 0.023231583083107396, 'learning_rate': 0.23911432846219038, 'colsample_bytree': 0.4720323241579137, 'subsample': 0.5141339007345086}. Best is trial 12 with value: 0.8643174837436973.\u001b[0m\n",
      "\u001b[32m[I 2023-05-03 18:03:26,789]\u001b[0m Trial 17 finished with value: 0.8597113297466361 and parameters: {'n_estimators': 51, 'max_depth': 4, 'reg_alpha': 0.24033293465292493, 'reg_lambda': 0.1323303729150346, 'min_child_weight': 4, 'gamma': 0.4838085598704048, 'learning_rate': 0.11658646002993883, 'colsample_bytree': 0.39005470000591, 'subsample': 0.4083115874277186}. Best is trial 12 with value: 0.8643174837436973.\u001b[0m\n",
      "\u001b[32m[I 2023-05-03 18:03:44,561]\u001b[0m Trial 18 finished with value: 0.8513655449111652 and parameters: {'n_estimators': 223, 'max_depth': 5, 'reg_alpha': 0.11136791840280379, 'reg_lambda': 0.29581485298067883, 'min_child_weight': 6, 'gamma': 0.27671342272480565, 'learning_rate': 0.25252562412607416, 'colsample_bytree': 0.5707130051496394, 'subsample': 0.5306960677523355}. Best is trial 12 with value: 0.8643174837436973.\u001b[0m\n",
      "\u001b[32m[I 2023-05-03 18:04:14,789]\u001b[0m Trial 19 finished with value: 0.8572560536938896 and parameters: {'n_estimators': 376, 'max_depth': 6, 'reg_alpha': 0.28338294049689405, 'reg_lambda': 0.4090753031911758, 'min_child_weight': 5, 'gamma': 0.6849836834744836, 'learning_rate': 0.09669324884171926, 'colsample_bytree': 0.4982320161932509, 'subsample': 0.4307062441755275}. Best is trial 12 with value: 0.8643174837436973.\u001b[0m\n"
     ]
    },
    {
     "name": "stdout",
     "output_type": "stream",
     "text": [
      "\u001b[32m[I 2023-05-03 18:04:42,763]\u001b[0m Trial 20 finished with value: 0.8471105745961556 and parameters: {'n_estimators': 428, 'max_depth': 4, 'reg_alpha': 0.07089991497114317, 'reg_lambda': 0.12429113518588494, 'min_child_weight': 3, 'gamma': 0.55885118451095, 'learning_rate': 0.2639411793074869, 'colsample_bytree': 0.5597359642695525, 'subsample': 0.4922316361014329}. Best is trial 12 with value: 0.8643174837436973.\u001b[0m\n",
      "\u001b[32m[I 2023-05-03 18:05:31,116]\u001b[0m Trial 21 finished with value: 0.86446551118968 and parameters: {'n_estimators': 499, 'max_depth': 8, 'reg_alpha': 0.13969629823358043, 'reg_lambda': 0.32331848494626375, 'min_child_weight': 3, 'gamma': 0.015766714504431567, 'learning_rate': 0.01884460362652518, 'colsample_bytree': 0.4689092453405598, 'subsample': 0.36551174681246174}. Best is trial 21 with value: 0.86446551118968.\u001b[0m\n",
      "\u001b[32m[I 2023-05-03 18:06:10,139]\u001b[0m Trial 22 finished with value: 0.8512763846551568 and parameters: {'n_estimators': 447, 'max_depth': 7, 'reg_alpha': 0.18425896448543821, 'reg_lambda': 0.28528485879493154, 'min_child_weight': 3, 'gamma': 0.02264569695890306, 'learning_rate': 0.10161665883534736, 'colsample_bytree': 0.4273766206341594, 'subsample': 0.41694110550310964}. Best is trial 21 with value: 0.86446551118968.\u001b[0m\n",
      "\u001b[32m[I 2023-05-03 18:06:46,439]\u001b[0m Trial 23 finished with value: 0.8547104250980588 and parameters: {'n_estimators': 393, 'max_depth': 8, 'reg_alpha': 0.08067334449491931, 'reg_lambda': 0.4062646357937471, 'min_child_weight': 4, 'gamma': 0.13666888110624806, 'learning_rate': 0.07673801415439026, 'colsample_bytree': 0.4764933613598692, 'subsample': 0.37144530385005914}. Best is trial 21 with value: 0.86446551118968.\u001b[0m\n",
      "\u001b[32m[I 2023-05-03 18:06:59,930]\u001b[0m Trial 24 finished with value: 0.8600178686580779 and parameters: {'n_estimators': 342, 'max_depth': 3, 'reg_alpha': 0.10009626857525028, 'reg_lambda': 0.18160024012242224, 'min_child_weight': 5, 'gamma': 0.0045351556477187804, 'learning_rate': 0.1783224670809409, 'colsample_bytree': 0.3821098142979929, 'subsample': 0.3324782583588759}. Best is trial 21 with value: 0.86446551118968.\u001b[0m\n",
      "\u001b[32m[I 2023-05-03 18:07:29,994]\u001b[0m Trial 25 finished with value: 0.8647429341577118 and parameters: {'n_estimators': 458, 'max_depth': 7, 'reg_alpha': 0.16557496758079884, 'reg_lambda': 0.31039351970778684, 'min_child_weight': 6, 'gamma': 0.16844274948699792, 'learning_rate': 0.020080563584300028, 'colsample_bytree': 0.4827645827230222, 'subsample': 0.30538811369453883}. Best is trial 25 with value: 0.8647429341577118.\u001b[0m\n",
      "\u001b[32m[I 2023-05-03 18:08:23,063]\u001b[0m Trial 26 finished with value: 0.8436682873615744 and parameters: {'n_estimators': 459, 'max_depth': 7, 'reg_alpha': 0.19833165301024552, 'reg_lambda': 0.45885726170488383, 'min_child_weight': 4, 'gamma': 0.12268004885135247, 'learning_rate': 0.1367023835851489, 'colsample_bytree': 0.48560528821919485, 'subsample': 0.3103654558573984}. Best is trial 25 with value: 0.8647429341577118.\u001b[0m\n",
      "\u001b[32m[I 2023-05-03 18:14:40,601]\u001b[0m Trial 27 finished with value: 0.849816155309904 and parameters: {'n_estimators': 492, 'max_depth': 9, 'reg_alpha': 0.2971276684891858, 'reg_lambda': 0.348219401311392, 'min_child_weight': 3, 'gamma': 0.10630942153655157, 'learning_rate': 0.06993025982635726, 'colsample_bytree': 0.5403476767861575, 'subsample': 0.3849117430631404}. Best is trial 25 with value: 0.8647429341577118.\u001b[0m\n",
      "\u001b[32m[I 2023-05-03 18:15:54,636]\u001b[0m Trial 28 finished with value: 0.8392645803602429 and parameters: {'n_estimators': 412, 'max_depth': 6, 'reg_alpha': 0.17234424956690964, 'reg_lambda': 0.2173434982133221, 'min_child_weight': 5, 'gamma': 0.19787963033412131, 'learning_rate': 0.19612326831713905, 'colsample_bytree': 0.4449149498228059, 'subsample': 0.3324856489794905}. Best is trial 25 with value: 0.8647429341577118.\u001b[0m\n",
      "\u001b[32m[I 2023-05-03 18:17:04,845]\u001b[0m Trial 29 finished with value: 0.8429455423900963 and parameters: {'n_estimators': 445, 'max_depth': 8, 'reg_alpha': 0.23679877793113296, 'reg_lambda': 0.2829470191156104, 'min_child_weight': 5, 'gamma': 0.009990355837536491, 'learning_rate': 0.12956905729675333, 'colsample_bytree': 0.3936371891139877, 'subsample': 0.3490081963517828}. Best is trial 25 with value: 0.8647429341577118.\u001b[0m\n",
      "\u001b[32m[I 2023-05-03 18:18:45,658]\u001b[0m Trial 30 finished with value: 0.8525068019854046 and parameters: {'n_estimators': 463, 'max_depth': 7, 'reg_alpha': 0.043903259851531345, 'reg_lambda': 0.3471621788960823, 'min_child_weight': 1, 'gamma': 0.0997115483861801, 'learning_rate': 0.07318859550801117, 'colsample_bytree': 0.5121703146044153, 'subsample': 0.30447747103737277}. Best is trial 25 with value: 0.8647429341577118.\u001b[0m\n",
      "\u001b[32m[I 2023-05-03 18:19:02,440]\u001b[0m Trial 31 finished with value: 0.8636892297349537 and parameters: {'n_estimators': 413, 'max_depth': 4, 'reg_alpha': 0.07444124275343919, 'reg_lambda': 0.24943439282084617, 'min_child_weight': 6, 'gamma': 0.24138608916035287, 'learning_rate': 0.020579093483189245, 'colsample_bytree': 0.41938039580757386, 'subsample': 0.3900837559546886}. Best is trial 25 with value: 0.8647429341577118.\u001b[0m\n",
      "\u001b[32m[I 2023-05-03 18:19:25,320]\u001b[0m Trial 32 finished with value: 0.8647216871185197 and parameters: {'n_estimators': 429, 'max_depth': 5, 'reg_alpha': 0.0494758909031793, 'reg_lambda': 0.257238256311351, 'min_child_weight': 6, 'gamma': 0.24224380723835306, 'learning_rate': 0.019286361423024055, 'colsample_bytree': 0.4610126187388575, 'subsample': 0.38980776911819887}. Best is trial 25 with value: 0.8647429341577118.\u001b[0m\n",
      "\u001b[32m[I 2023-05-03 18:19:50,808]\u001b[0m Trial 33 finished with value: 0.8521845093707349 and parameters: {'n_estimators': 500, 'max_depth': 5, 'reg_alpha': 0.13622119656756865, 'reg_lambda': 0.46355446955645396, 'min_child_weight': 6, 'gamma': 0.12165707437683092, 'learning_rate': 0.14006842174627754, 'colsample_bytree': 0.4625030315361828, 'subsample': 0.3563182692942014}. Best is trial 25 with value: 0.8647429341577118.\u001b[0m\n",
      "\u001b[32m[I 2023-05-03 18:20:22,465]\u001b[0m Trial 34 finished with value: 0.8599272476504216 and parameters: {'n_estimators': 454, 'max_depth': 6, 'reg_alpha': 0.04366194762301376, 'reg_lambda': 0.35335771193774307, 'min_child_weight': 2, 'gamma': 0.15700289738666307, 'learning_rate': 0.06298016237730213, 'colsample_bytree': 0.49741521048226545, 'subsample': 0.4082024371682185}. Best is trial 25 with value: 0.8647429341577118.\u001b[0m\n",
      "\u001b[32m[I 2023-05-03 18:20:53,151]\u001b[0m Trial 35 finished with value: 0.8557567191031424 and parameters: {'n_estimators': 362, 'max_depth': 8, 'reg_alpha': 0.1440958160153492, 'reg_lambda': 0.1834747896368189, 'min_child_weight': 3, 'gamma': 0.2326668485561125, 'learning_rate': 0.06926204149644558, 'colsample_bytree': 0.46201103958389134, 'subsample': 0.35840853315564325}. Best is trial 25 with value: 0.8647429341577118.\u001b[0m\n",
      "\u001b[32m[I 2023-05-03 18:21:41,137]\u001b[0m Trial 36 finished with value: 0.8643976149977108 and parameters: {'n_estimators': 476, 'max_depth': 9, 'reg_alpha': 0.2159955500195751, 'reg_lambda': 0.3350749538910129, 'min_child_weight': 6, 'gamma': 0.0658195981732618, 'learning_rate': 0.016812303466440186, 'colsample_bytree': 0.5160017880687391, 'subsample': 0.3885344520564736}. Best is trial 25 with value: 0.8647429341577118.\u001b[0m\n",
      "\u001b[32m[I 2023-05-03 18:22:28,901]\u001b[0m Trial 37 finished with value: 0.8362260138287881 and parameters: {'n_estimators': 481, 'max_depth': 9, 'reg_alpha': 0.23187845371347807, 'reg_lambda': 0.5337798492855774, 'min_child_weight': 5, 'gamma': 0.08181467425286508, 'learning_rate': 0.15053347799741448, 'colsample_bytree': 0.522948729510461, 'subsample': 0.389903854945467}. Best is trial 25 with value: 0.8647429341577118.\u001b[0m\n",
      "\u001b[32m[I 2023-05-03 18:23:18,571]\u001b[0m Trial 38 finished with value: 0.8633434452093842 and parameters: {'n_estimators': 443, 'max_depth': 10, 'reg_alpha': 0.2884670187074923, 'reg_lambda': 0.4063074819953826, 'min_child_weight': 4, 'gamma': 0.07595565632867743, 'learning_rate': 0.021282352175949888, 'colsample_bytree': 0.5774583072127426, 'subsample': 0.3392133110637788}. Best is trial 25 with value: 0.8647429341577118.\u001b[0m\n",
      "\u001b[32m[I 2023-05-03 18:24:20,690]\u001b[0m Trial 39 finished with value: 0.828510140921181 and parameters: {'n_estimators': 474, 'max_depth': 10, 'reg_alpha': 0.15046013548971093, 'reg_lambda': 0.6850416885700702, 'min_child_weight': 0, 'gamma': 0.17530416395489623, 'learning_rate': 0.19737800560242652, 'colsample_bytree': 0.5311835124780366, 'subsample': 0.3714830160713004}. Best is trial 25 with value: 0.8647429341577118.\u001b[0m\n"
     ]
    },
    {
     "name": "stdout",
     "output_type": "stream",
     "text": [
      "\u001b[32m[I 2023-05-03 18:25:07,084]\u001b[0m Trial 40 finished with value: 0.8163042660035117 and parameters: {'n_estimators': 426, 'max_depth': 9, 'reg_alpha': 0.37401442620936165, 'reg_lambda': 0.08397946525399044, 'min_child_weight': 2, 'gamma': 0.07424374341148154, 'learning_rate': 0.2994870051019253, 'colsample_bytree': 0.5146772642569408, 'subsample': 0.4224317223369901}. Best is trial 25 with value: 0.8647429341577118.\u001b[0m\n",
      "\u001b[32m[I 2023-05-03 18:25:51,562]\u001b[0m Trial 41 finished with value: 0.8467468301593263 and parameters: {'n_estimators': 500, 'max_depth': 8, 'reg_alpha': 0.035374742502251866, 'reg_lambda': 0.3307977137345009, 'min_child_weight': 6, 'gamma': 0.05049312654542958, 'learning_rate': 0.109588643852408, 'colsample_bytree': 0.4507310744580495, 'subsample': 0.4319995462196367}. Best is trial 25 with value: 0.8647429341577118.\u001b[0m\n",
      "\u001b[32m[I 2023-05-03 18:26:25,181]\u001b[0m Trial 42 finished with value: 0.8596106218623134 and parameters: {'n_estimators': 472, 'max_depth': 7, 'reg_alpha': 0.1266525489364282, 'reg_lambda': 0.2485493424215244, 'min_child_weight': 6, 'gamma': 0.17366798743144318, 'learning_rate': 0.06016491842315284, 'colsample_bytree': 0.48626115542627474, 'subsample': 0.32872779329335644}. Best is trial 25 with value: 0.8647429341577118.\u001b[0m\n",
      "\u001b[32m[I 2023-05-03 18:26:49,686]\u001b[0m Trial 43 finished with value: 0.8521005152331229 and parameters: {'n_estimators': 403, 'max_depth': 5, 'reg_alpha': 0.05826902461064277, 'reg_lambda': 0.3114473387877449, 'min_child_weight': 6, 'gamma': 0.05475358175923953, 'learning_rate': 0.1587323645566323, 'colsample_bytree': 0.49780021971948957, 'subsample': 0.3912234013573157}. Best is trial 25 with value: 0.8647429341577118.\u001b[0m\n",
      "\u001b[32m[I 2023-05-03 18:27:34,697]\u001b[0m Trial 44 finished with value: 0.8635839733936986 and parameters: {'n_estimators': 434, 'max_depth': 9, 'reg_alpha': 0.19633138791086233, 'reg_lambda': 0.17516658710182526, 'min_child_weight': 5, 'gamma': 0.1406719376688976, 'learning_rate': 0.023482061480322492, 'colsample_bytree': 0.5469457092853276, 'subsample': 0.363745139129692}. Best is trial 25 with value: 0.8647429341577118.\u001b[0m\n",
      "\u001b[32m[I 2023-05-03 18:27:59,455]\u001b[0m Trial 45 finished with value: 0.8522546892017161 and parameters: {'n_estimators': 328, 'max_depth': 8, 'reg_alpha': 0.00047825477267968153, 'reg_lambda': 0.38652494205990984, 'min_child_weight': 6, 'gamma': 0.2198860220324511, 'learning_rate': 0.09879093447629714, 'colsample_bytree': 0.43379451352905807, 'subsample': 0.30727684967342495}. Best is trial 25 with value: 0.8647429341577118.\u001b[0m\n",
      "\u001b[32m[I 2023-05-03 18:28:28,860]\u001b[0m Trial 46 finished with value: 0.8624956081778323 and parameters: {'n_estimators': 365, 'max_depth': 7, 'reg_alpha': 0.10787963939159473, 'reg_lambda': 0.2663949489883771, 'min_child_weight': 5, 'gamma': 0.04717949082218293, 'learning_rate': 0.049816760684276706, 'colsample_bytree': 0.4071054851251885, 'subsample': 0.4449742096120667}. Best is trial 25 with value: 0.8647429341577118.\u001b[0m\n",
      "\u001b[32m[I 2023-05-03 18:29:11,654]\u001b[0m Trial 47 finished with value: 0.8647323614363127 and parameters: {'n_estimators': 470, 'max_depth': 8, 'reg_alpha': 0.15971550148563943, 'reg_lambda': 0.32677059656121715, 'min_child_weight': 6, 'gamma': 0.28864514152610876, 'learning_rate': 0.016830868113536873, 'colsample_bytree': 0.46713868960407495, 'subsample': 0.40398586830453287}. Best is trial 25 with value: 0.8647429341577118.\u001b[0m\n",
      "\u001b[32m[I 2023-05-03 18:29:49,207]\u001b[0m Trial 48 finished with value: 0.7972048762031089 and parameters: {'n_estimators': 478, 'max_depth': 8, 'reg_alpha': 0.20361965549650624, 'reg_lambda': 0.2276667583258687, 'min_child_weight': 6, 'gamma': 0.32853782205958754, 'learning_rate': 0.39379859172198584, 'colsample_bytree': 0.46690439369992, 'subsample': 0.32976815639437146}. Best is trial 25 with value: 0.8647429341577118.\u001b[0m\n",
      "\u001b[32m[I 2023-05-03 18:30:14,646]\u001b[0m Trial 49 finished with value: 0.8624506520252307 and parameters: {'n_estimators': 179, 'max_depth': 10, 'reg_alpha': 0.15476708151012103, 'reg_lambda': 0.32002278889216706, 'min_child_weight': 3, 'gamma': 0.243542455373787, 'learning_rate': 0.022552090155726234, 'colsample_bytree': 0.5913821430448283, 'subsample': 0.39673084659836344}. Best is trial 25 with value: 0.8647429341577118.\u001b[0m\n",
      "\u001b[32m[I 2023-05-03 18:31:00,598]\u001b[0m Trial 50 finished with value: 0.8241063071168118 and parameters: {'n_estimators': 460, 'max_depth': 9, 'reg_alpha': 0.09829524722179042, 'reg_lambda': 0.4603925818013508, 'min_child_weight': 6, 'gamma': 0.2969942015936322, 'learning_rate': 0.21839224883259448, 'colsample_bytree': 0.543300002230524, 'subsample': 0.3721851782606358}. Best is trial 25 with value: 0.8647429341577118.\u001b[0m\n",
      "\u001b[32m[I 2023-05-03 18:36:37,649]\u001b[0m Trial 51 finished with value: 0.863912375480963 and parameters: {'n_estimators': 434, 'max_depth': 8, 'reg_alpha': 0.04000087507917424, 'reg_lambda': 0.36991986657344256, 'min_child_weight': 6, 'gamma': 0.18229011389422087, 'learning_rate': 0.010969737549836068, 'colsample_bytree': 0.4459174668266209, 'subsample': 0.406918414772702}. Best is trial 25 with value: 0.8647429341577118.\u001b[0m\n",
      "\u001b[32m[I 2023-05-03 18:41:56,479]\u001b[0m Trial 52 finished with value: 0.8560424481191917 and parameters: {'n_estimators': 291, 'max_depth': 7, 'reg_alpha': 0.12400988307657429, 'reg_lambda': 0.3106234772334672, 'min_child_weight': 6, 'gamma': 0.11108466565985475, 'learning_rate': 0.10889043801570604, 'colsample_bytree': 0.4895663866681004, 'subsample': 0.4298265738216414}. Best is trial 25 with value: 0.8647429341577118.\u001b[0m\n",
      "\u001b[32m[I 2023-05-03 18:48:09,150]\u001b[0m Trial 53 finished with value: 0.853804807486186 and parameters: {'n_estimators': 474, 'max_depth': 9, 'reg_alpha': 0.07655353032361255, 'reg_lambda': 0.26780279352112335, 'min_child_weight': 5, 'gamma': 0.1499608175617153, 'learning_rate': 0.060879736590200594, 'colsample_bytree': 0.5083805256186029, 'subsample': 0.3502799747442258}. Best is trial 25 with value: 0.8647429341577118.\u001b[0m\n",
      "\u001b[32m[I 2023-05-03 18:48:33,220]\u001b[0m Trial 54 finished with value: 0.8506416653002253 and parameters: {'n_estimators': 403, 'max_depth': 6, 'reg_alpha': 0.15524824086400593, 'reg_lambda': 0.3592425076925101, 'min_child_weight': 6, 'gamma': 0.04543830878501106, 'learning_rate': 0.1462414398169409, 'colsample_bytree': 0.47440559163330004, 'subsample': 0.4468865014145108}. Best is trial 25 with value: 0.8647429341577118.\u001b[0m\n",
      "\u001b[32m[I 2023-05-03 18:49:01,802]\u001b[0m Trial 55 finished with value: 0.8618609920477585 and parameters: {'n_estimators': 384, 'max_depth': 8, 'reg_alpha': 0.03418861829929139, 'reg_lambda': 0.28555611212725, 'min_child_weight': 4, 'gamma': 0.014332475673814349, 'learning_rate': 0.04708823101288255, 'colsample_bytree': 0.41169592618139633, 'subsample': 0.3723934490341245}. Best is trial 25 with value: 0.8647429341577118.\u001b[0m\n",
      "\u001b[32m[I 2023-05-03 18:54:53,315]\u001b[0m Trial 56 finished with value: 0.8615663242071234 and parameters: {'n_estimators': 423, 'max_depth': 4, 'reg_alpha': 0.2179249665380331, 'reg_lambda': 0.21645891999654931, 'min_child_weight': 5, 'gamma': 0.20324330568398397, 'learning_rate': 0.09331922979298034, 'colsample_bytree': 0.43367994416157196, 'subsample': 0.3188169916390692}. Best is trial 25 with value: 0.8647429341577118.\u001b[0m\n",
      "\u001b[32m[I 2023-05-03 19:10:49,115]\u001b[0m Trial 57 finished with value: 0.840672317447433 and parameters: {'n_estimators': 485, 'max_depth': 7, 'reg_alpha': 0.2584257741440091, 'reg_lambda': 0.3842626461090046, 'min_child_weight': 6, 'gamma': 0.09452919868040749, 'learning_rate': 0.17023123017869105, 'colsample_bytree': 0.5291105894702286, 'subsample': 0.47871542528380384}. Best is trial 25 with value: 0.8647429341577118.\u001b[0m\n",
      "\u001b[32m[I 2023-05-03 19:11:16,177]\u001b[0m Trial 58 finished with value: 0.8636058920162416 and parameters: {'n_estimators': 454, 'max_depth': 6, 'reg_alpha': 0.18413012678032878, 'reg_lambda': 0.4312130514831033, 'min_child_weight': 2, 'gamma': 0.3680620447691727, 'learning_rate': 0.010372470623161722, 'colsample_bytree': 0.45557436261479256, 'subsample': 0.40858659765164956}. Best is trial 25 with value: 0.8647429341577118.\u001b[0m\n",
      "\u001b[32m[I 2023-05-03 19:27:24,438]\u001b[0m Trial 59 finished with value: 0.864490896998889 and parameters: {'n_estimators': 345, 'max_depth': 4, 'reg_alpha': 0.09443624585353075, 'reg_lambda': 0.3281580178959646, 'min_child_weight': 6, 'gamma': 0.27025634930939035, 'learning_rate': 0.04797475704074092, 'colsample_bytree': 0.47927646224805737, 'subsample': 0.341285908770319}. Best is trial 25 with value: 0.8647429341577118.\u001b[0m\n"
     ]
    },
    {
     "name": "stdout",
     "output_type": "stream",
     "text": [
      "\u001b[32m[I 2023-05-03 19:27:39,414]\u001b[0m Trial 60 finished with value: 0.8562669141149778 and parameters: {'n_estimators': 347, 'max_depth': 5, 'reg_alpha': 0.32498788536855044, 'reg_lambda': 0.3153750434575339, 'min_child_weight': 5, 'gamma': 0.273284001092613, 'learning_rate': 0.12573309208610414, 'colsample_bytree': 0.4813239863603739, 'subsample': 0.3022150289634474}. Best is trial 25 with value: 0.8647429341577118.\u001b[0m\n",
      "\u001b[32m[I 2023-05-03 19:27:48,741]\u001b[0m Trial 61 finished with value: 0.8636621641802769 and parameters: {'n_estimators': 297, 'max_depth': 3, 'reg_alpha': 0.08655642818035897, 'reg_lambda': 0.3372421878487387, 'min_child_weight': 6, 'gamma': 0.15526856804168962, 'learning_rate': 0.05416314511041649, 'colsample_bytree': 0.5051480624278953, 'subsample': 0.341896994663811}. Best is trial 25 with value: 0.8647429341577118.\u001b[0m\n",
      "\u001b[32m[I 2023-05-03 19:35:17,043]\u001b[0m Trial 62 finished with value: 0.8628816757081017 and parameters: {'n_estimators': 374, 'max_depth': 4, 'reg_alpha': 0.011623883485467699, 'reg_lambda': 0.2563741110594238, 'min_child_weight': 6, 'gamma': 0.25161267481052113, 'learning_rate': 0.08982756834455903, 'colsample_bytree': 0.4776420552488533, 'subsample': 0.3520715304874112}. Best is trial 25 with value: 0.8647429341577118.\u001b[0m\n",
      "\u001b[32m[I 2023-05-03 19:35:27,283]\u001b[0m Trial 63 finished with value: 0.8630694035931791 and parameters: {'n_estimators': 315, 'max_depth': 3, 'reg_alpha': 0.10835320149733915, 'reg_lambda': 0.2799800448890912, 'min_child_weight': 6, 'gamma': 0.003766988393723905, 'learning_rate': 0.03974848984578712, 'colsample_bytree': 0.44167770196563816, 'subsample': 0.38641559066451925}. Best is trial 25 with value: 0.8647429341577118.\u001b[0m\n",
      "\u001b[32m[I 2023-05-03 19:35:37,371]\u001b[0m Trial 64 finished with value: 0.8602723047314017 and parameters: {'n_estimators': 240, 'max_depth': 5, 'reg_alpha': 0.17498377544080126, 'reg_lambda': 0.20459401225212842, 'min_child_weight': 6, 'gamma': 0.12667357652528471, 'learning_rate': 0.11760023660439864, 'colsample_bytree': 0.4598238080586932, 'subsample': 0.32256511645505437}. Best is trial 25 with value: 0.8647429341577118.\u001b[0m\n",
      "\u001b[32m[I 2023-05-03 19:35:52,911]\u001b[0m Trial 65 finished with value: 0.8636453586227582 and parameters: {'n_estimators': 410, 'max_depth': 4, 'reg_alpha': 0.06421555277999796, 'reg_lambda': 0.3677416865705932, 'min_child_weight': 6, 'gamma': 0.20713664658116568, 'learning_rate': 0.08214829529160121, 'colsample_bytree': 0.42002593363656654, 'subsample': 0.3774796170191445}. Best is trial 25 with value: 0.8647429341577118.\u001b[0m\n",
      "\u001b[32m[I 2023-05-03 19:36:29,450]\u001b[0m Trial 66 finished with value: 0.8594689595478517 and parameters: {'n_estimators': 440, 'max_depth': 3, 'reg_alpha': 0.14125041843113356, 'reg_lambda': 0.23809413294542026, 'min_child_weight': 5, 'gamma': 0.33115201757997825, 'learning_rate': 0.17929105357808728, 'colsample_bytree': 0.49194890730800117, 'subsample': 0.344596623942181}. Best is trial 25 with value: 0.8647429341577118.\u001b[0m\n",
      "\u001b[32m[I 2023-05-03 19:37:55,961]\u001b[0m Trial 67 finished with value: 0.8646352793658215 and parameters: {'n_estimators': 464, 'max_depth': 4, 'reg_alpha': 0.2251251055309999, 'reg_lambda': 0.303964323887278, 'min_child_weight': 6, 'gamma': 0.08080518027227991, 'learning_rate': 0.046282874593540295, 'colsample_bytree': 0.5107331929781311, 'subsample': 0.319720986766937}. Best is trial 25 with value: 0.8647429341577118.\u001b[0m\n",
      "\u001b[32m[I 2023-05-03 19:38:18,819]\u001b[0m Trial 68 finished with value: 0.8643346412418227 and parameters: {'n_estimators': 489, 'max_depth': 4, 'reg_alpha': 0.25944959358855757, 'reg_lambda': 0.2915190547357666, 'min_child_weight': 3, 'gamma': 0.08792791243464777, 'learning_rate': 0.04600541667981771, 'colsample_bytree': 0.5137375593771883, 'subsample': 0.31708263735414716}. Best is trial 25 with value: 0.8647429341577118.\u001b[0m\n",
      "\u001b[32m[I 2023-05-03 19:38:39,921]\u001b[0m Trial 69 finished with value: 0.8611813405773358 and parameters: {'n_estimators': 464, 'max_depth': 4, 'reg_alpha': 0.19217860444888996, 'reg_lambda': 0.32729243146949333, 'min_child_weight': 4, 'gamma': 0.18046043919937244, 'learning_rate': 0.010535804692063278, 'colsample_bytree': 0.5320313350290906, 'subsample': 0.3550857153603699}. Best is trial 25 with value: 0.8647429341577118.\u001b[0m\n",
      "\u001b[32m[I 2023-05-03 19:39:04,240]\u001b[0m Trial 70 finished with value: 0.8590559746234907 and parameters: {'n_estimators': 452, 'max_depth': 5, 'reg_alpha': 0.21133114944785333, 'reg_lambda': 0.16135959829829283, 'min_child_weight': 5, 'gamma': 0.267326628279017, 'learning_rate': 0.08456431813305282, 'colsample_bytree': 0.5618012423900811, 'subsample': 0.33143901660897146}. Best is trial 25 with value: 0.8647429341577118.\u001b[0m\n",
      "\u001b[32m[I 2023-05-03 19:39:26,473]\u001b[0m Trial 71 finished with value: 0.8646055815526044 and parameters: {'n_estimators': 499, 'max_depth': 4, 'reg_alpha': 0.2423214543870893, 'reg_lambda': 0.29544088305347227, 'min_child_weight': 3, 'gamma': 0.09366355110677782, 'learning_rate': 0.04258287327268198, 'colsample_bytree': 0.5177310001071437, 'subsample': 0.3162655762673068}. Best is trial 25 with value: 0.8647429341577118.\u001b[0m\n",
      "\u001b[32m[I 2023-05-03 19:39:47,243]\u001b[0m Trial 72 finished with value: 0.8644745446230699 and parameters: {'n_estimators': 491, 'max_depth': 4, 'reg_alpha': 0.24033476033430423, 'reg_lambda': 0.20124329675701919, 'min_child_weight': 3, 'gamma': 0.06802339359756761, 'learning_rate': 0.045907610935456186, 'colsample_bytree': 0.5009199697151882, 'subsample': 0.31243746288760144}. Best is trial 25 with value: 0.8647429341577118.\u001b[0m\n",
      "\u001b[32m[I 2023-05-03 19:40:06,939]\u001b[0m Trial 73 finished with value: 0.8647641865116171 and parameters: {'n_estimators': 499, 'max_depth': 4, 'reg_alpha': 0.2505348696843851, 'reg_lambda': 0.19825165691240515, 'min_child_weight': 3, 'gamma': 0.10243451481081159, 'learning_rate': 0.042160251049991646, 'colsample_bytree': 0.46766001846865296, 'subsample': 0.30221018783422465}. Best is trial 73 with value: 0.8647641865116171.\u001b[0m\n",
      "\u001b[32m[I 2023-05-03 19:40:27,977]\u001b[0m Trial 74 finished with value: 0.8557280136756837 and parameters: {'n_estimators': 489, 'max_depth': 4, 'reg_alpha': 0.26387148069142835, 'reg_lambda': 0.14755896394136403, 'min_child_weight': 3, 'gamma': 0.22319900714034763, 'learning_rate': 0.13233786876815848, 'colsample_bytree': 0.49808755361041424, 'subsample': 0.3018913805862614}. Best is trial 73 with value: 0.8647641865116171.\u001b[0m\n",
      "\u001b[32m[I 2023-05-03 19:40:48,172]\u001b[0m Trial 75 finished with value: 0.864192263903508 and parameters: {'n_estimators': 500, 'max_depth': 4, 'reg_alpha': 0.31113892008011373, 'reg_lambda': 0.19337172779849648, 'min_child_weight': 2, 'gamma': 0.12234446616423694, 'learning_rate': 0.04939452809936282, 'colsample_bytree': 0.47144395154408214, 'subsample': 0.31755066271522425}. Best is trial 73 with value: 0.8647641865116171.\u001b[0m\n",
      "\u001b[32m[I 2023-05-03 19:41:08,941]\u001b[0m Trial 76 finished with value: 0.8615313569174143 and parameters: {'n_estimators': 468, 'max_depth': 4, 'reg_alpha': 0.22880275898953356, 'reg_lambda': 0.10946409296757172, 'min_child_weight': 3, 'gamma': 0.09367662297362239, 'learning_rate': 0.08501166255475259, 'colsample_bytree': 0.5211199260336294, 'subsample': 0.3207982706547714}. Best is trial 73 with value: 0.8647641865116171.\u001b[0m\n",
      "\u001b[32m[I 2023-05-03 19:41:33,959]\u001b[0m Trial 77 finished with value: 0.8649586381405883 and parameters: {'n_estimators': 444, 'max_depth': 5, 'reg_alpha': 0.3332363262337624, 'reg_lambda': 0.22777181203259234, 'min_child_weight': 3, 'gamma': 0.1700507474417818, 'learning_rate': 0.04247059326866, 'colsample_bytree': 0.4969252500444062, 'subsample': 0.3403805396429461}. Best is trial 77 with value: 0.8649586381405883.\u001b[0m\n",
      "\u001b[32m[I 2023-05-03 19:41:59,519]\u001b[0m Trial 78 finished with value: 0.8484525291829337 and parameters: {'n_estimators': 446, 'max_depth': 5, 'reg_alpha': 0.2791933509408487, 'reg_lambda': 0.2440879017195899, 'min_child_weight': 3, 'gamma': 0.16673343802653928, 'learning_rate': 0.15722955064497607, 'colsample_bytree': 0.48493675512700035, 'subsample': 0.33775644368603336}. Best is trial 77 with value: 0.8649586381405883.\u001b[0m\n",
      "\u001b[32m[I 2023-05-03 19:42:19,798]\u001b[0m Trial 79 finished with value: 0.8554453106905587 and parameters: {'n_estimators': 418, 'max_depth': 5, 'reg_alpha': 0.1694670876187507, 'reg_lambda': 0.16502864930328748, 'min_child_weight': 4, 'gamma': 0.18984780776134041, 'learning_rate': 0.11126703897262441, 'colsample_bytree': 0.4535810717528265, 'subsample': 0.3020936887950242}. Best is trial 77 with value: 0.8649586381405883.\u001b[0m\n"
     ]
    },
    {
     "name": "stdout",
     "output_type": "stream",
     "text": [
      "\u001b[32m[I 2023-05-03 19:42:44,951]\u001b[0m Trial 80 finished with value: 0.8608228828441703 and parameters: {'n_estimators': 433, 'max_depth': 5, 'reg_alpha': 0.40917215176587635, 'reg_lambda': 0.22310211170825928, 'min_child_weight': 1, 'gamma': 0.1387866023041437, 'learning_rate': 0.07096424828681536, 'colsample_bytree': 0.5532924650379474, 'subsample': 0.34342147657753236}. Best is trial 77 with value: 0.8649586381405883.\u001b[0m\n",
      "\u001b[32m[I 2023-05-03 19:43:06,002]\u001b[0m Trial 81 finished with value: 0.8637182648325448 and parameters: {'n_estimators': 488, 'max_depth': 4, 'reg_alpha': 0.2342936039006024, 'reg_lambda': 0.18880065659430023, 'min_child_weight': 3, 'gamma': 0.11039724530732473, 'learning_rate': 0.05387026735341028, 'colsample_bytree': 0.5064703711758507, 'subsample': 0.3154357406707991}. Best is trial 77 with value: 0.8649586381405883.\u001b[0m\n",
      "\u001b[32m[I 2023-05-03 19:43:26,024]\u001b[0m Trial 82 finished with value: 0.8647569598833389 and parameters: {'n_estimators': 470, 'max_depth': 4, 'reg_alpha': 0.3309913561570973, 'reg_lambda': 0.26373600480998843, 'min_child_weight': 3, 'gamma': 0.21301369961207173, 'learning_rate': 0.03516700668218295, 'colsample_bytree': 0.46827173676386113, 'subsample': 0.32865714760949893}. Best is trial 77 with value: 0.8649586381405883.\u001b[0m\n",
      "\u001b[32m[I 2023-05-03 19:43:41,979]\u001b[0m Trial 83 finished with value: 0.8637342782954663 and parameters: {'n_estimators': 460, 'max_depth': 3, 'reg_alpha': 0.34081711678474125, 'reg_lambda': 0.2661772067908174, 'min_child_weight': 3, 'gamma': 0.2432948800660007, 'learning_rate': 0.03256734987914985, 'colsample_bytree': 0.46791794643637263, 'subsample': 0.33115764932958025}. Best is trial 77 with value: 0.8649586381405883.\u001b[0m\n",
      "\u001b[32m[I 2023-05-03 19:44:03,865]\u001b[0m Trial 84 finished with value: 0.859698816227174 and parameters: {'n_estimators': 477, 'max_depth': 4, 'reg_alpha': 0.2998381273739371, 'reg_lambda': 0.2890382231414212, 'min_child_weight': 2, 'gamma': 0.19824044472875074, 'learning_rate': 0.10487915423438572, 'colsample_bytree': 0.48516107071095443, 'subsample': 0.3616891788720029}. Best is trial 77 with value: 0.8649586381405883.\u001b[0m\n",
      "\u001b[32m[I 2023-05-03 19:44:23,359]\u001b[0m Trial 85 finished with value: 0.8648861014292079 and parameters: {'n_estimators': 447, 'max_depth': 4, 'reg_alpha': 0.256798478077539, 'reg_lambda': 0.23294232324557096, 'min_child_weight': 4, 'gamma': 0.15672179566796018, 'learning_rate': 0.03591815206078727, 'colsample_bytree': 0.4422854529611775, 'subsample': 0.34010814680513257}. Best is trial 77 with value: 0.8649586381405883.\u001b[0m\n",
      "\u001b[32m[I 2023-05-03 19:44:49,816]\u001b[0m Trial 86 finished with value: 0.8584781281629713 and parameters: {'n_estimators': 451, 'max_depth': 6, 'reg_alpha': 0.2773027477116811, 'reg_lambda': 0.24192511951073045, 'min_child_weight': 4, 'gamma': 0.1538836066748846, 'learning_rate': 0.07791460401020214, 'colsample_bytree': 0.4277715468644601, 'subsample': 0.3623581012658816}. Best is trial 77 with value: 0.8649586381405883.\u001b[0m\n",
      "\u001b[32m[I 2023-05-03 19:44:55,743]\u001b[0m Trial 87 finished with value: 0.8609012625374686 and parameters: {'n_estimators': 118, 'max_depth': 5, 'reg_alpha': 0.33169260363277975, 'reg_lambda': 0.22533274258129915, 'min_child_weight': 3, 'gamma': 0.2236503682682684, 'learning_rate': 0.13517389393433796, 'colsample_bytree': 0.443380504675455, 'subsample': 0.33074598934670885}. Best is trial 77 with value: 0.8649586381405883.\u001b[0m\n",
      "\u001b[32m[I 2023-05-03 19:45:10,985]\u001b[0m Trial 88 finished with value: 0.8639647547532558 and parameters: {'n_estimators': 468, 'max_depth': 3, 'reg_alpha': 0.3682793424389592, 'reg_lambda': 0.2964012528753398, 'min_child_weight': 3, 'gamma': 0.13676334080502883, 'learning_rate': 0.04079734991828428, 'colsample_bytree': 0.46261018886341587, 'subsample': 0.3004778262839116}. Best is trial 77 with value: 0.8649586381405883.\u001b[0m\n",
      "\u001b[32m[I 2023-05-03 19:45:14,462]\u001b[0m Trial 89 finished with value: 0.8586885433449204 and parameters: {'n_estimators': 58, 'max_depth': 6, 'reg_alpha': 0.2853268426620988, 'reg_lambda': 0.26404296221431733, 'min_child_weight': 2, 'gamma': 0.03769502752949659, 'learning_rate': 0.03457802961043425, 'colsample_bytree': 0.4386489399077764, 'subsample': 0.3240018406304359}. Best is trial 77 with value: 0.8649586381405883.\u001b[0m\n",
      "\u001b[32m[I 2023-05-03 19:46:04,756]\u001b[0m Trial 90 finished with value: 0.8608928643776241 and parameters: {'n_estimators': 439, 'max_depth': 5, 'reg_alpha': 0.2533484196639048, 'reg_lambda': 0.13618967324201087, 'min_child_weight': 4, 'gamma': 0.17181043533584966, 'learning_rate': 0.07276102542658912, 'colsample_bytree': 0.5315484197409219, 'subsample': 0.358606770612723}. Best is trial 77 with value: 0.8649586381405883.\u001b[0m\n",
      "\u001b[32m[I 2023-05-03 19:51:20,205]\u001b[0m Trial 91 finished with value: 0.8650067740165411 and parameters: {'n_estimators': 425, 'max_depth': 4, 'reg_alpha': 0.2154776432671085, 'reg_lambda': 0.30755102720286853, 'min_child_weight': 3, 'gamma': 0.21229677614870507, 'learning_rate': 0.035784296314671254, 'colsample_bytree': 0.47988812740492665, 'subsample': 0.34383046218993285}. Best is trial 91 with value: 0.8650067740165411.\u001b[0m\n",
      "\u001b[32m[I 2023-05-03 19:51:35,311]\u001b[0m Trial 92 finished with value: 0.8613143002783342 and parameters: {'n_estimators': 400, 'max_depth': 4, 'reg_alpha': 0.21656629544730352, 'reg_lambda': 0.30505928010003763, 'min_child_weight': 3, 'gamma': 0.21334069387390878, 'learning_rate': 0.013074578324749994, 'colsample_bytree': 0.4533612205055671, 'subsample': 0.33930580733755356}. Best is trial 91 with value: 0.8650067740165411.\u001b[0m\n",
      "\u001b[32m[I 2023-05-03 19:52:23,526]\u001b[0m Trial 93 finished with value: 0.8606636631154497 and parameters: {'n_estimators': 425, 'max_depth': 4, 'reg_alpha': 0.19838356204110408, 'reg_lambda': 0.21735599704205483, 'min_child_weight': 2, 'gamma': 0.18928077250038028, 'learning_rate': 0.09478952915492492, 'colsample_bytree': 0.4937896668334692, 'subsample': 0.3140338867822165}. Best is trial 91 with value: 0.8650067740165411.\u001b[0m\n",
      "\u001b[32m[I 2023-05-03 19:52:45,921]\u001b[0m Trial 94 finished with value: 0.858868910139968 and parameters: {'n_estimators': 482, 'max_depth': 4, 'reg_alpha': 0.3008227874530961, 'reg_lambda': 0.27320517837466407, 'min_child_weight': 3, 'gamma': 0.1613853867820998, 'learning_rate': 0.12028124735686854, 'colsample_bytree': 0.47107771512827057, 'subsample': 0.37493140767064853}. Best is trial 91 with value: 0.8650067740165411.\u001b[0m\n",
      "\u001b[32m[I 2023-05-03 19:53:07,217]\u001b[0m Trial 95 finished with value: 0.8650843292680321 and parameters: {'n_estimators': 464, 'max_depth': 4, 'reg_alpha': 0.16961278408984767, 'reg_lambda': 0.24683304141938198, 'min_child_weight': 3, 'gamma': 0.10975245068384804, 'learning_rate': 0.03271932194953815, 'colsample_bytree': 0.519515570027206, 'subsample': 0.35029738831254004}. Best is trial 95 with value: 0.8650843292680321.\u001b[0m\n",
      "\u001b[32m[I 2023-05-03 19:53:23,219]\u001b[0m Trial 96 finished with value: 0.864119629025377 and parameters: {'n_estimators': 460, 'max_depth': 3, 'reg_alpha': 0.18193326360517315, 'reg_lambda': 0.17123138040292984, 'min_child_weight': 4, 'gamma': 0.13416047967520014, 'learning_rate': 0.06511955806598124, 'colsample_bytree': 0.459003896470988, 'subsample': 0.35093412416135567}. Best is trial 95 with value: 0.8650843292680321.\u001b[0m\n",
      "\u001b[32m[I 2023-05-03 19:53:49,130]\u001b[0m Trial 97 finished with value: 0.8651864738422184 and parameters: {'n_estimators': 448, 'max_depth': 5, 'reg_alpha': 0.15859649207593118, 'reg_lambda': 0.24719820527478464, 'min_child_weight': 3, 'gamma': 0.23505304376993036, 'learning_rate': 0.02377944249212325, 'colsample_bytree': 0.5044614909122618, 'subsample': 0.36440970778177706}. Best is trial 97 with value: 0.8651864738422184.\u001b[0m\n",
      "\u001b[32m[I 2023-05-03 19:54:14,511]\u001b[0m Trial 98 finished with value: 0.8627428909234818 and parameters: {'n_estimators': 445, 'max_depth': 5, 'reg_alpha': 0.12629671588959326, 'reg_lambda': 0.20646403558816942, 'min_child_weight': 3, 'gamma': 0.23610047756174418, 'learning_rate': 0.010489501858071088, 'colsample_bytree': 0.49349943490636256, 'subsample': 0.38158398974946045}. Best is trial 97 with value: 0.8651864738422184.\u001b[0m\n",
      "\u001b[32m[I 2023-05-03 19:54:37,586]\u001b[0m Trial 99 finished with value: 0.8651511723966996 and parameters: {'n_estimators': 417, 'max_depth': 5, 'reg_alpha': 0.15962500387743456, 'reg_lambda': 0.24663652533837632, 'min_child_weight': 3, 'gamma': 0.2881811298309596, 'learning_rate': 0.026055050514277606, 'colsample_bytree': 0.44681539871890497, 'subsample': 0.4002670281609087}. Best is trial 97 with value: 0.8651864738422184.\u001b[0m\n"
     ]
    },
    {
     "name": "stdout",
     "output_type": "stream",
     "text": [
      "\u001b[32m[I 2023-05-03 19:55:02,960]\u001b[0m Trial 100 finished with value: 0.8650110571868727 and parameters: {'n_estimators': 417, 'max_depth': 6, 'reg_alpha': 0.16422122380876875, 'reg_lambda': 0.23936478916808254, 'min_child_weight': 3, 'gamma': 0.29841285827872294, 'learning_rate': 0.030151399152247575, 'colsample_bytree': 0.434259046751504, 'subsample': 0.3687855919392019}. Best is trial 97 with value: 0.8651864738422184.\u001b[0m\n",
      "\u001b[32m[I 2023-05-03 19:55:31,280]\u001b[0m Trial 101 finished with value: 0.8653422195792684 and parameters: {'n_estimators': 412, 'max_depth': 6, 'reg_alpha': 0.1587544079131189, 'reg_lambda': 0.23595441891067534, 'min_child_weight': 3, 'gamma': 0.2560220676776254, 'learning_rate': 0.029708788457163963, 'colsample_bytree': 0.4243447381312552, 'subsample': 0.36746771131488226}. Best is trial 101 with value: 0.8653422195792684.\u001b[0m\n",
      "\u001b[32m[I 2023-05-03 19:55:57,418]\u001b[0m Trial 102 finished with value: 0.8648542120986749 and parameters: {'n_estimators': 418, 'max_depth': 6, 'reg_alpha': 0.1623120625997058, 'reg_lambda': 0.24124167691075044, 'min_child_weight': 3, 'gamma': 0.2638207560043276, 'learning_rate': 0.032272808830323144, 'colsample_bytree': 0.42750239053479355, 'subsample': 0.35137385511193475}. Best is trial 101 with value: 0.8653422195792684.\u001b[0m\n",
      "\u001b[32m[I 2023-05-03 19:56:22,067]\u001b[0m Trial 103 finished with value: 0.8613511844474295 and parameters: {'n_estimators': 397, 'max_depth': 6, 'reg_alpha': 0.15204570313575733, 'reg_lambda': 0.23272753162120025, 'min_child_weight': 3, 'gamma': 0.31387854488115213, 'learning_rate': 0.0663499364515865, 'colsample_bytree': 0.3982410638845728, 'subsample': 0.36364429498103445}. Best is trial 101 with value: 0.8653422195792684.\u001b[0m\n",
      "\u001b[32m[I 2023-05-03 19:56:50,157]\u001b[0m Trial 104 finished with value: 0.864675164699694 and parameters: {'n_estimators': 418, 'max_depth': 6, 'reg_alpha': 0.17298358342132245, 'reg_lambda': 0.18470652724402548, 'min_child_weight': 3, 'gamma': 0.25171498361700934, 'learning_rate': 0.03237495799802353, 'colsample_bytree': 0.4148578770727694, 'subsample': 0.3789921704008685}. Best is trial 101 with value: 0.8653422195792684.\u001b[0m\n",
      "\u001b[32m[I 2023-05-03 19:57:13,724]\u001b[0m Trial 105 finished with value: 0.8569145440482913 and parameters: {'n_estimators': 386, 'max_depth': 6, 'reg_alpha': 0.11898267827999148, 'reg_lambda': 0.24296085466744946, 'min_child_weight': 3, 'gamma': 0.2950655761230566, 'learning_rate': 0.09215333071996237, 'colsample_bytree': 0.401681453345183, 'subsample': 0.3472966338098434}. Best is trial 101 with value: 0.8653422195792684.\u001b[0m\n",
      "\u001b[32m[I 2023-05-03 19:57:38,300]\u001b[0m Trial 106 finished with value: 0.865086652301061 and parameters: {'n_estimators': 416, 'max_depth': 5, 'reg_alpha': 0.20086891589477868, 'reg_lambda': 0.19435452439828504, 'min_child_weight': 3, 'gamma': 0.26304730633501316, 'learning_rate': 0.03248224764434505, 'colsample_bytree': 0.42607261764903953, 'subsample': 0.3680336692340267}. Best is trial 101 with value: 0.8653422195792684.\u001b[0m\n",
      "\u001b[32m[I 2023-05-03 19:58:01,482]\u001b[0m Trial 107 finished with value: 0.8624825365147855 and parameters: {'n_estimators': 407, 'max_depth': 5, 'reg_alpha': 0.20027785863554465, 'reg_lambda': 0.19996809218266948, 'min_child_weight': 3, 'gamma': 0.2630133076457097, 'learning_rate': 0.06699634169595046, 'colsample_bytree': 0.42752375709793855, 'subsample': 0.368098045228977}. Best is trial 101 with value: 0.8653422195792684.\u001b[0m\n",
      "\u001b[32m[I 2023-05-03 19:58:22,345]\u001b[0m Trial 108 finished with value: 0.858269701438789 and parameters: {'n_estimators': 382, 'max_depth': 5, 'reg_alpha': 0.14020557696733274, 'reg_lambda': 0.15551689475558284, 'min_child_weight': 2, 'gamma': 0.28913989961581643, 'learning_rate': 0.1114151062152976, 'colsample_bytree': 0.3843348903265198, 'subsample': 0.40079900174905536}. Best is trial 101 with value: 0.8653422195792684.\u001b[0m\n",
      "\u001b[32m[I 2023-05-03 19:58:51,007]\u001b[0m Trial 109 finished with value: 0.8568624550126366 and parameters: {'n_estimators': 416, 'max_depth': 6, 'reg_alpha': 0.21211315134988412, 'reg_lambda': 0.18055091131490628, 'min_child_weight': 3, 'gamma': 0.25877835591020565, 'learning_rate': 0.08935572654174556, 'colsample_bytree': 0.4384788685617025, 'subsample': 0.39533504118438717}. Best is trial 101 with value: 0.8653422195792684.\u001b[0m\n",
      "\u001b[32m[I 2023-05-03 19:59:20,990]\u001b[0m Trial 110 finished with value: 0.8652043191343098 and parameters: {'n_estimators': 428, 'max_depth': 6, 'reg_alpha': 0.18433184388300156, 'reg_lambda': 0.21444532227948299, 'min_child_weight': 3, 'gamma': 0.23169481158350702, 'learning_rate': 0.02861402037574084, 'colsample_bytree': 0.41930945947297965, 'subsample': 0.35283724354853463}. Best is trial 101 with value: 0.8653422195792684.\u001b[0m\n",
      "\u001b[32m[I 2023-05-03 19:59:49,599]\u001b[0m Trial 111 finished with value: 0.8648950500443144 and parameters: {'n_estimators': 433, 'max_depth': 6, 'reg_alpha': 0.1644743979111102, 'reg_lambda': 0.22674465321280304, 'min_child_weight': 3, 'gamma': 0.2273294938830503, 'learning_rate': 0.029104886613516037, 'colsample_bytree': 0.4228700879698729, 'subsample': 0.35631780133437413}. Best is trial 101 with value: 0.8653422195792684.\u001b[0m\n",
      "\u001b[32m[I 2023-05-03 20:00:17,186]\u001b[0m Trial 112 finished with value: 0.8652065576204662 and parameters: {'n_estimators': 428, 'max_depth': 6, 'reg_alpha': 0.16418438267544264, 'reg_lambda': 0.2252752793844547, 'min_child_weight': 3, 'gamma': 0.2784138138649327, 'learning_rate': 0.026696873549674656, 'colsample_bytree': 0.4091964596427032, 'subsample': 0.3543104550015017}. Best is trial 101 with value: 0.8653422195792684.\u001b[0m\n",
      "\u001b[32m[I 2023-05-03 20:00:45,238]\u001b[0m Trial 113 finished with value: 0.8602017009422418 and parameters: {'n_estimators': 432, 'max_depth': 6, 'reg_alpha': 0.17910284576385976, 'reg_lambda': 0.22134167520324557, 'min_child_weight': 3, 'gamma': 0.31664140489444714, 'learning_rate': 0.06474074542417181, 'colsample_bytree': 0.41909720132774675, 'subsample': 0.37057183538254623}. Best is trial 101 with value: 0.8653422195792684.\u001b[0m\n",
      "\u001b[32m[I 2023-05-03 20:01:12,988]\u001b[0m Trial 114 finished with value: 0.8622053644535267 and parameters: {'n_estimators': 426, 'max_depth': 6, 'reg_alpha': 0.13604451052054295, 'reg_lambda': 0.14377591075136284, 'min_child_weight': 3, 'gamma': 0.2213092781874814, 'learning_rate': 0.06052720170965441, 'colsample_bytree': 0.4012739444944524, 'subsample': 0.382653545941351}. Best is trial 101 with value: 0.8653422195792684.\u001b[0m\n",
      "\u001b[32m[I 2023-05-03 20:01:41,843]\u001b[0m Trial 115 finished with value: 0.8629041112099471 and parameters: {'n_estimators': 437, 'max_depth': 6, 'reg_alpha': 0.1935572886286782, 'reg_lambda': 0.2530694881835588, 'min_child_weight': 3, 'gamma': 0.27750549261959323, 'learning_rate': 0.010062246854660565, 'colsample_bytree': 0.37126817872324175, 'subsample': 0.3550147316740749}. Best is trial 101 with value: 0.8653422195792684.\u001b[0m\n",
      "\u001b[32m[I 2023-05-03 20:02:04,062]\u001b[0m Trial 116 finished with value: 0.8608727767798889 and parameters: {'n_estimators': 393, 'max_depth': 5, 'reg_alpha': 0.11506121377384493, 'reg_lambda': 0.1199987080189958, 'min_child_weight': 3, 'gamma': 0.3497142156651452, 'learning_rate': 0.08608776605897364, 'colsample_bytree': 0.40910702084709516, 'subsample': 0.365393654268407}. Best is trial 101 with value: 0.8653422195792684.\u001b[0m\n",
      "\u001b[32m[I 2023-05-03 20:02:32,213]\u001b[0m Trial 117 finished with value: 0.8648491746190382 and parameters: {'n_estimators': 403, 'max_depth': 6, 'reg_alpha': 0.16009669587325356, 'reg_lambda': 0.2113177845693904, 'min_child_weight': 3, 'gamma': 0.30680946170626605, 'learning_rate': 0.03032710135053155, 'colsample_bytree': 0.44569533340257117, 'subsample': 0.3842031822169636}. Best is trial 101 with value: 0.8653422195792684.\u001b[0m\n",
      "\u001b[32m[I 2023-05-03 20:03:03,285]\u001b[0m Trial 118 finished with value: 0.8444482865297653 and parameters: {'n_estimators': 408, 'max_depth': 7, 'reg_alpha': 0.10043147379689447, 'reg_lambda': 0.17086787842517395, 'min_child_weight': 4, 'gamma': 0.23040722595699367, 'learning_rate': 0.14228438528723508, 'colsample_bytree': 0.40628282831816664, 'subsample': 0.395828007745752}. Best is trial 101 with value: 0.8653422195792684.\u001b[0m\n",
      "\u001b[32m[I 2023-05-03 20:03:12,949]\u001b[0m Trial 119 finished with value: 0.8614194840838696 and parameters: {'n_estimators': 176, 'max_depth': 5, 'reg_alpha': 0.21837289094771814, 'reg_lambda': 0.27095474055374336, 'min_child_weight': 3, 'gamma': 0.28558502306435424, 'learning_rate': 0.11086079738102657, 'colsample_bytree': 0.4199510264415037, 'subsample': 0.33871176086084814}. Best is trial 101 with value: 0.8653422195792684.\u001b[0m\n"
     ]
    }
   ],
   "source": [
    "study2 = optuna.create_study(direction='maximize', sampler=TPESampler())\n",
    "study2.optimize(objective, n_trials=120, show_progress_bar=True)"
   ]
  },
  {
   "cell_type": "code",
   "execution_count": 50,
   "id": "574b54c6",
   "metadata": {},
   "outputs": [],
   "source": []
  },
  {
   "cell_type": "code",
   "execution_count": 51,
   "id": "f218a92a",
   "metadata": {},
   "outputs": [],
   "source": [
    "param_seasonal = study2.best_params"
   ]
  },
  {
   "cell_type": "code",
   "execution_count": 52,
   "id": "60fba4b1",
   "metadata": {},
   "outputs": [
    {
     "data": {
      "text/plain": [
       "{'n_estimators': 412,\n",
       " 'max_depth': 6,\n",
       " 'reg_alpha': 0.1587544079131189,\n",
       " 'reg_lambda': 0.23595441891067534,\n",
       " 'min_child_weight': 3,\n",
       " 'gamma': 0.2560220676776254,\n",
       " 'learning_rate': 0.029708788457163963,\n",
       " 'colsample_bytree': 0.4243447381312552,\n",
       " 'subsample': 0.36746771131488226}"
      ]
     },
     "execution_count": 52,
     "metadata": {},
     "output_type": "execute_result"
    }
   ],
   "source": [
    "param_seasonal"
   ]
  },
  {
   "cell_type": "code",
   "execution_count": null,
   "id": "d605035a",
   "metadata": {},
   "outputs": [],
   "source": []
  },
  {
   "cell_type": "code",
   "execution_count": 53,
   "id": "70f59c9e",
   "metadata": {},
   "outputs": [],
   "source": [
    "X_train_seas, X_test_seas, y_train_seas, y_test_seas = train_test_split(data, label2, test_size=0.2, random_state=101)"
   ]
  },
  {
   "cell_type": "code",
   "execution_count": 54,
   "id": "7a1e129f",
   "metadata": {},
   "outputs": [],
   "source": [
    "seasonal_model = XGBClassifier(**param_seasonal, missing= np.nan)"
   ]
  },
  {
   "cell_type": "code",
   "execution_count": 55,
   "id": "b160232d",
   "metadata": {},
   "outputs": [
    {
     "data": {
      "text/plain": [
       "XGBClassifier(base_score=None, booster=None, callbacks=None,\n",
       "              colsample_bylevel=None, colsample_bynode=None,\n",
       "              colsample_bytree=0.4243447381312552, early_stopping_rounds=None,\n",
       "              enable_categorical=False, eval_metric=None, feature_types=None,\n",
       "              gamma=0.2560220676776254, gpu_id=None, grow_policy=None,\n",
       "              importance_type=None, interaction_constraints=None,\n",
       "              learning_rate=0.029708788457163963, max_bin=None,\n",
       "              max_cat_threshold=None, max_cat_to_onehot=None,\n",
       "              max_delta_step=None, max_depth=6, max_leaves=None,\n",
       "              min_child_weight=3, missing=nan, monotone_constraints=None,\n",
       "              n_estimators=412, n_jobs=None, num_parallel_tree=None,\n",
       "              predictor=None, random_state=None, ...)"
      ]
     },
     "execution_count": 55,
     "metadata": {},
     "output_type": "execute_result"
    }
   ],
   "source": [
    "seasonal_model.fit(X_train_seas, y_train_seas)"
   ]
  },
  {
   "cell_type": "code",
   "execution_count": 56,
   "id": "14449b2e",
   "metadata": {},
   "outputs": [],
   "source": [
    "seas_predict = seasonal_model.predict(X_test_seas)"
   ]
  },
  {
   "cell_type": "code",
   "execution_count": 57,
   "id": "126c081e",
   "metadata": {},
   "outputs": [
    {
     "name": "stdout",
     "output_type": "stream",
     "text": [
      "              precision    recall  f1-score   support\n",
      "\n",
      "           0       0.79      0.82      0.80      2823\n",
      "           1       0.79      0.75      0.77      2519\n",
      "\n",
      "    accuracy                           0.79      5342\n",
      "   macro avg       0.79      0.79      0.79      5342\n",
      "weighted avg       0.79      0.79      0.79      5342\n",
      "\n"
     ]
    }
   ],
   "source": [
    "print(classification_report(y_test_seas, seas_predict))"
   ]
  },
  {
   "cell_type": "code",
   "execution_count": 58,
   "id": "5d2a830b",
   "metadata": {},
   "outputs": [
    {
     "name": "stderr",
     "output_type": "stream",
     "text": [
      "/Users/karthikeyan/opt/anaconda3/lib/python3.9/site-packages/sklearn/utils/deprecation.py:87: FutureWarning: Function plot_roc_curve is deprecated; Function :func:`plot_roc_curve` is deprecated in 1.0 and will be removed in 1.2. Use one of the class methods: :meth:`sklearn.metric.RocCurveDisplay.from_predictions` or :meth:`sklearn.metric.RocCurveDisplay.from_estimator`.\n",
      "  warnings.warn(msg, category=FutureWarning)\n"
     ]
    },
    {
     "data": {
      "text/plain": [
       "<sklearn.metrics._plot.roc_curve.RocCurveDisplay at 0x7f8d69d0b040>"
      ]
     },
     "execution_count": 58,
     "metadata": {},
     "output_type": "execute_result"
    },
    {
     "data": {
      "image/png": "[encoded data removed]",
      "text/plain": [
       "<Figure size 640x480 with 1 Axes>"
      ]
     },
     "metadata": {},
     "output_type": "display_data"
    }
   ],
   "source": [
    "\n",
    "\n",
    "plot_roc_curve(seasonal_model, X_test_seas, y_test_seas)"
   ]
  },
  {
   "cell_type": "code",
   "execution_count": 59,
   "id": "dd7eac8f",
   "metadata": {},
   "outputs": [],
   "source": [
    "#roc_auc_score(y_test, np.hstack((h1n1_predict, seas_predict)))"
   ]
  },
  {
   "cell_type": "code",
   "execution_count": 60,
   "id": "7771a563",
   "metadata": {},
   "outputs": [
    {
     "data": {
      "text/plain": [
       "5342"
      ]
     },
     "execution_count": 60,
     "metadata": {},
     "output_type": "execute_result"
    }
   ],
   "source": [
    "len(h1n1_predict)"
   ]
  },
  {
   "cell_type": "code",
   "execution_count": 61,
   "id": "96b7ad58",
   "metadata": {},
   "outputs": [
    {
     "data": {
      "text/plain": [
       "5342"
      ]
     },
     "execution_count": 61,
     "metadata": {},
     "output_type": "execute_result"
    }
   ],
   "source": [
    "len(seas_predict)"
   ]
  },
  {
   "cell_type": "code",
   "execution_count": null,
   "id": "fbb518a0",
   "metadata": {},
   "outputs": [],
   "source": [
    "\n"
   ]
  },
  {
   "cell_type": "code",
   "execution_count": 62,
   "id": "ed8ee9e4",
   "metadata": {},
   "outputs": [],
   "source": [
    "test = pd.read_csv('test_set_features.csv')"
   ]
  },
  {
   "cell_type": "code",
   "execution_count": 63,
   "id": "3c7ce41b",
   "metadata": {},
   "outputs": [
    {
     "data": {
      "text/plain": [
       "36"
      ]
     },
     "execution_count": 63,
     "metadata": {},
     "output_type": "execute_result"
    }
   ],
   "source": [
    "len(test.columns)#h1n1_probability = h1n1_model.predict_proba(test)"
   ]
  },
  {
   "cell_type": "code",
   "execution_count": 64,
   "id": "997056a5",
   "metadata": {},
   "outputs": [],
   "source": [
    "for i, row in test[test['employment_occupation'].isna()].iterrows():\n",
    "    conditions = (test[\"employment_status\"]==\"Unemployed\")\n",
    "    if conditions.any():\n",
    "        test.loc[i, 'employment_occupation'] = 'unemployed_occupation'\n",
    "\n",
    "for i, row in test[test['employment_industry'].isna()].iterrows():\n",
    "    conditions = (test[\"employment_status\"]==\"Unemployed\")\n",
    "    if conditions.any():\n",
    "        test.loc[i, 'employment_industry'] = 'unemployed_in_industry'\n",
    "\n",
    "for i, row in test[test['employment_industry'].isna()].iterrows():\n",
    "    conditions = (test[\"employment_status\"]==\"Not in Labor Force\")\n",
    "    if conditions.any():\n",
    "        test.loc[i, 'employment_industry'] = 'Not_in_laborforce'\n",
    "\n",
    "for i, row in test[test['employment_occupation'].isna()].iterrows():\n",
    "    conditions = (test[\"employment_status\"]==\"Not in Labor Force\")\n",
    "    if conditions.any():\n",
    "        test.loc[i, 'employment_occupation'] = 'Not_in_laborforce'\n",
    " \n",
    "for i, row in test[test['employment_industry'].isna()].iterrows():\n",
    "    conditions = (test[\"employment_status\"]==\"Employed\")\n",
    "    if conditions.any():\n",
    "        test.loc[i, 'employment_industry'] = 'other_industry'\n",
    " \n",
    "for i, row in test[test['employment_occupation'].isna()].iterrows():\n",
    "    conditions = (test[\"employment_status\"]==\"Employed\")\n",
    "    if conditions.any():\n",
    "        test.loc[i, 'employment_occupation'] = 'other_occupation'\n",
    "        \n",
    "income_poverty_nan = 'refused_or_unknown'\n",
    "marital_status_nan = 'refused_or_other_category'\n",
    "employment_status_nan = 'refused_or_other_category'\n",
    "rent_or_own_nan = 'other_refused'\n",
    "education_nan = 'refused_or_unknown'\n",
    "\n",
    "\n",
    "test['income_poverty'].fillna(income_poverty_nan, inplace=True)\n",
    "test['marital_status'].fillna(marital_status_nan, inplace=True)\n",
    "test['employment_status'].fillna(employment_status_nan, inplace=True)\n",
    "test['rent_or_own'].fillna(rent_or_own_nan, inplace=True)\n",
    "test['education'].fillna(education_nan, inplace=True)\n"
   ]
  },
  {
   "cell_type": "code",
   "execution_count": 65,
   "id": "536132ce",
   "metadata": {},
   "outputs": [],
   "source": [
    "test['overall_behaviour_of_respondent'] = test['behavioral_antiviral_meds'] + \\\n",
    "test['behavioral_avoidance'] + test['behavioral_face_mask'] + \\\n",
    "test['behavioral_wash_hands'] + test['behavioral_large_gatherings'] + \\\n",
    "test['behavioral_outside_home'] + test['behavioral_touch_face']"
   ]
  },
  {
   "cell_type": "code",
   "execution_count": null,
   "id": "22582480",
   "metadata": {},
   "outputs": [],
   "source": []
  },
  {
   "cell_type": "code",
   "execution_count": null,
   "id": "424c9e71",
   "metadata": {},
   "outputs": [],
   "source": []
  },
  {
   "cell_type": "code",
   "execution_count": 66,
   "id": "a2db44e5",
   "metadata": {},
   "outputs": [],
   "source": [
    "le = LabelEncoder()\n",
    "\n",
    "for features in ordinal_columns:\n",
    "    test[features] = le.fit_transform(test[features])"
   ]
  },
  {
   "cell_type": "code",
   "execution_count": 67,
   "id": "906d2036",
   "metadata": {},
   "outputs": [],
   "source": [
    "test = pd.get_dummies(test, columns=category_columns, drop_first=True)"
   ]
  },
  {
   "cell_type": "code",
   "execution_count": 68,
   "id": "09dd26bb",
   "metadata": {},
   "outputs": [],
   "source": [
    "numeric_columns = test.select_dtypes('number').columns"
   ]
  },
  {
   "cell_type": "code",
   "execution_count": null,
   "id": "fe3d28ed",
   "metadata": {},
   "outputs": [],
   "source": []
  },
  {
   "cell_type": "code",
   "execution_count": 69,
   "id": "e4a9aab7",
   "metadata": {},
   "outputs": [
    {
     "data": {
      "text/html": [
       "<div>\n",
       "<style scoped>\n",
       "    .dataframe tbody tr th:only-of-type {\n",
       "        vertical-align: middle;\n",
       "    }\n",
       "\n",
       "    .dataframe tbody tr th {\n",
       "        vertical-align: top;\n",
       "    }\n",
       "\n",
       "    .dataframe thead th {\n",
       "        text-align: right;\n",
       "    }\n",
       "</style>\n",
       "<table border=\"1\" class=\"dataframe\">\n",
       "  <thead>\n",
       "    <tr style=\"text-align: right;\">\n",
       "      <th></th>\n",
       "      <th>respondent_id</th>\n",
       "      <th>h1n1_concern</th>\n",
       "      <th>h1n1_knowledge</th>\n",
       "      <th>behavioral_antiviral_meds</th>\n",
       "      <th>behavioral_avoidance</th>\n",
       "      <th>behavioral_face_mask</th>\n",
       "      <th>behavioral_wash_hands</th>\n",
       "      <th>behavioral_large_gatherings</th>\n",
       "      <th>behavioral_outside_home</th>\n",
       "      <th>behavioral_touch_face</th>\n",
       "      <th>...</th>\n",
       "      <th>employment_occupation_rcertsgn</th>\n",
       "      <th>employment_occupation_tfqavkke</th>\n",
       "      <th>employment_occupation_ukymxvdu</th>\n",
       "      <th>employment_occupation_unemployed_occupation</th>\n",
       "      <th>employment_occupation_uqqtjvyb</th>\n",
       "      <th>employment_occupation_vlluhbov</th>\n",
       "      <th>employment_occupation_xgwztkwe</th>\n",
       "      <th>employment_occupation_xqwwgdyp</th>\n",
       "      <th>employment_occupation_xtkaffoo</th>\n",
       "      <th>employment_occupation_xzmlyyjv</th>\n",
       "    </tr>\n",
       "  </thead>\n",
       "  <tbody>\n",
       "    <tr>\n",
       "      <th>0</th>\n",
       "      <td>26707</td>\n",
       "      <td>2.0</td>\n",
       "      <td>2.0</td>\n",
       "      <td>0.0</td>\n",
       "      <td>1.0</td>\n",
       "      <td>0.0</td>\n",
       "      <td>1.0</td>\n",
       "      <td>1.0</td>\n",
       "      <td>0.0</td>\n",
       "      <td>1.0</td>\n",
       "      <td>...</td>\n",
       "      <td>0</td>\n",
       "      <td>0</td>\n",
       "      <td>0</td>\n",
       "      <td>0</td>\n",
       "      <td>0</td>\n",
       "      <td>0</td>\n",
       "      <td>0</td>\n",
       "      <td>0</td>\n",
       "      <td>0</td>\n",
       "      <td>0</td>\n",
       "    </tr>\n",
       "    <tr>\n",
       "      <th>1</th>\n",
       "      <td>26708</td>\n",
       "      <td>1.0</td>\n",
       "      <td>1.0</td>\n",
       "      <td>0.0</td>\n",
       "      <td>0.0</td>\n",
       "      <td>0.0</td>\n",
       "      <td>0.0</td>\n",
       "      <td>0.0</td>\n",
       "      <td>0.0</td>\n",
       "      <td>0.0</td>\n",
       "      <td>...</td>\n",
       "      <td>0</td>\n",
       "      <td>0</td>\n",
       "      <td>0</td>\n",
       "      <td>0</td>\n",
       "      <td>0</td>\n",
       "      <td>0</td>\n",
       "      <td>0</td>\n",
       "      <td>1</td>\n",
       "      <td>0</td>\n",
       "      <td>0</td>\n",
       "    </tr>\n",
       "    <tr>\n",
       "      <th>2</th>\n",
       "      <td>26709</td>\n",
       "      <td>2.0</td>\n",
       "      <td>2.0</td>\n",
       "      <td>0.0</td>\n",
       "      <td>0.0</td>\n",
       "      <td>1.0</td>\n",
       "      <td>1.0</td>\n",
       "      <td>1.0</td>\n",
       "      <td>1.0</td>\n",
       "      <td>1.0</td>\n",
       "      <td>...</td>\n",
       "      <td>0</td>\n",
       "      <td>0</td>\n",
       "      <td>0</td>\n",
       "      <td>0</td>\n",
       "      <td>0</td>\n",
       "      <td>0</td>\n",
       "      <td>0</td>\n",
       "      <td>0</td>\n",
       "      <td>0</td>\n",
       "      <td>0</td>\n",
       "    </tr>\n",
       "    <tr>\n",
       "      <th>3</th>\n",
       "      <td>26710</td>\n",
       "      <td>1.0</td>\n",
       "      <td>1.0</td>\n",
       "      <td>0.0</td>\n",
       "      <td>0.0</td>\n",
       "      <td>0.0</td>\n",
       "      <td>0.0</td>\n",
       "      <td>0.0</td>\n",
       "      <td>0.0</td>\n",
       "      <td>0.0</td>\n",
       "      <td>...</td>\n",
       "      <td>0</td>\n",
       "      <td>0</td>\n",
       "      <td>0</td>\n",
       "      <td>1</td>\n",
       "      <td>0</td>\n",
       "      <td>0</td>\n",
       "      <td>0</td>\n",
       "      <td>0</td>\n",
       "      <td>0</td>\n",
       "      <td>0</td>\n",
       "    </tr>\n",
       "    <tr>\n",
       "      <th>4</th>\n",
       "      <td>26711</td>\n",
       "      <td>3.0</td>\n",
       "      <td>1.0</td>\n",
       "      <td>1.0</td>\n",
       "      <td>1.0</td>\n",
       "      <td>0.0</td>\n",
       "      <td>1.0</td>\n",
       "      <td>1.0</td>\n",
       "      <td>1.0</td>\n",
       "      <td>1.0</td>\n",
       "      <td>...</td>\n",
       "      <td>0</td>\n",
       "      <td>0</td>\n",
       "      <td>0</td>\n",
       "      <td>0</td>\n",
       "      <td>0</td>\n",
       "      <td>0</td>\n",
       "      <td>0</td>\n",
       "      <td>0</td>\n",
       "      <td>0</td>\n",
       "      <td>0</td>\n",
       "    </tr>\n",
       "  </tbody>\n",
       "</table>\n",
       "<p>5 rows × 92 columns</p>\n",
       "</div>"
      ],
      "text/plain": [
       "   respondent_id  h1n1_concern  h1n1_knowledge  behavioral_antiviral_meds  \\\n",
       "0          26707           2.0             2.0                        0.0   \n",
       "1          26708           1.0             1.0                        0.0   \n",
       "2          26709           2.0             2.0                        0.0   \n",
       "3          26710           1.0             1.0                        0.0   \n",
       "4          26711           3.0             1.0                        1.0   \n",
       "\n",
       "   behavioral_avoidance  behavioral_face_mask  behavioral_wash_hands  \\\n",
       "0                   1.0                   0.0                    1.0   \n",
       "1                   0.0                   0.0                    0.0   \n",
       "2                   0.0                   1.0                    1.0   \n",
       "3                   0.0                   0.0                    0.0   \n",
       "4                   1.0                   0.0                    1.0   \n",
       "\n",
       "   behavioral_large_gatherings  behavioral_outside_home  \\\n",
       "0                          1.0                      0.0   \n",
       "1                          0.0                      0.0   \n",
       "2                          1.0                      1.0   \n",
       "3                          0.0                      0.0   \n",
       "4                          1.0                      1.0   \n",
       "\n",
       "   behavioral_touch_face  ...  employment_occupation_rcertsgn  \\\n",
       "0                    1.0  ...                               0   \n",
       "1                    0.0  ...                               0   \n",
       "2                    1.0  ...                               0   \n",
       "3                    0.0  ...                               0   \n",
       "4                    1.0  ...                               0   \n",
       "\n",
       "   employment_occupation_tfqavkke  employment_occupation_ukymxvdu  \\\n",
       "0                               0                               0   \n",
       "1                               0                               0   \n",
       "2                               0                               0   \n",
       "3                               0                               0   \n",
       "4                               0                               0   \n",
       "\n",
       "   employment_occupation_unemployed_occupation  \\\n",
       "0                                            0   \n",
       "1                                            0   \n",
       "2                                            0   \n",
       "3                                            1   \n",
       "4                                            0   \n",
       "\n",
       "   employment_occupation_uqqtjvyb  employment_occupation_vlluhbov  \\\n",
       "0                               0                               0   \n",
       "1                               0                               0   \n",
       "2                               0                               0   \n",
       "3                               0                               0   \n",
       "4                               0                               0   \n",
       "\n",
       "   employment_occupation_xgwztkwe  employment_occupation_xqwwgdyp  \\\n",
       "0                               0                               0   \n",
       "1                               0                               1   \n",
       "2                               0                               0   \n",
       "3                               0                               0   \n",
       "4                               0                               0   \n",
       "\n",
       "   employment_occupation_xtkaffoo  employment_occupation_xzmlyyjv  \n",
       "0                               0                               0  \n",
       "1                               0                               0  \n",
       "2                               0                               0  \n",
       "3                               0                               0  \n",
       "4                               0                               0  \n",
       "\n",
       "[5 rows x 92 columns]"
      ]
     },
     "execution_count": 69,
     "metadata": {},
     "output_type": "execute_result"
    }
   ],
   "source": [
    "test.head()"
   ]
  },
  {
   "cell_type": "code",
   "execution_count": 73,
   "id": "3c19a50c",
   "metadata": {},
   "outputs": [],
   "source": [
    "\n",
    "test.drop(['behavioral_antiviral_meds','behavioral_avoidance','behavioral_face_mask',\\\n",
    "                    'behavioral_wash_hands','behavioral_large_gatherings', 'behavioral_outside_home',\\\n",
    "                    'behavioral_touch_face','respondent_id'], axis=1, inplace=True)"
   ]
  },
  {
   "cell_type": "code",
   "execution_count": null,
   "id": "cccd6090",
   "metadata": {},
   "outputs": [],
   "source": []
  },
  {
   "cell_type": "code",
   "execution_count": 74,
   "id": "5165df77",
   "metadata": {},
   "outputs": [],
   "source": [
    "h1n1_probability = h1n1_model.predict_proba(test)"
   ]
  },
  {
   "cell_type": "code",
   "execution_count": 75,
   "id": "48425206",
   "metadata": {},
   "outputs": [],
   "source": [
    "h1n1_probability = h1n1_probability[:,1].reshape(-1,1)"
   ]
  },
  {
   "cell_type": "code",
   "execution_count": null,
   "id": "aaa43e75",
   "metadata": {},
   "outputs": [],
   "source": []
  },
  {
   "cell_type": "code",
   "execution_count": 76,
   "id": "8b7ba98d",
   "metadata": {},
   "outputs": [],
   "source": [
    "seasonal_probability = seasonal_model.predict_proba(test)"
   ]
  },
  {
   "cell_type": "code",
   "execution_count": 77,
   "id": "0ed9671d",
   "metadata": {},
   "outputs": [],
   "source": [
    "seasonal_probability = seasonal_probability[:,1].reshape(-1,1)"
   ]
  },
  {
   "cell_type": "code",
   "execution_count": null,
   "id": "c5c2818c",
   "metadata": {},
   "outputs": [],
   "source": []
  },
  {
   "cell_type": "code",
   "execution_count": 78,
   "id": "bf1a53d9",
   "metadata": {},
   "outputs": [
    {
     "data": {
      "text/plain": [
       "array([[0.11949857],\n",
       "       [0.0419274 ],\n",
       "       [0.2429618 ],\n",
       "       ...,\n",
       "       [0.15128934],\n",
       "       [0.03185264],\n",
       "       [0.58207715]], dtype=float32)"
      ]
     },
     "execution_count": 78,
     "metadata": {},
     "output_type": "execute_result"
    }
   ],
   "source": [
    "h1n1_probability"
   ]
  },
  {
   "cell_type": "code",
   "execution_count": 79,
   "id": "b0f7d0dd",
   "metadata": {},
   "outputs": [
    {
     "data": {
      "text/plain": [
       "array([[0.21650426],\n",
       "       [0.03609871],\n",
       "       [0.67062676],\n",
       "       ...,\n",
       "       [0.16193426],\n",
       "       [0.33487746],\n",
       "       [0.58642155]], dtype=float32)"
      ]
     },
     "execution_count": 79,
     "metadata": {},
     "output_type": "execute_result"
    }
   ],
   "source": [
    "seasonal_probability"
   ]
  },
  {
   "cell_type": "code",
   "execution_count": null,
   "id": "84353089",
   "metadata": {},
   "outputs": [],
   "source": []
  },
  {
   "cell_type": "code",
   "execution_count": 80,
   "id": "7ee01805",
   "metadata": {},
   "outputs": [],
   "source": [
    "test_id = pd.read_csv(\"test_set_features.csv\")"
   ]
  },
  {
   "cell_type": "code",
   "execution_count": 81,
   "id": "e1f13081",
   "metadata": {},
   "outputs": [
    {
     "data": {
      "text/html": [
       "<div>\n",
       "<style scoped>\n",
       "    .dataframe tbody tr th:only-of-type {\n",
       "        vertical-align: middle;\n",
       "    }\n",
       "\n",
       "    .dataframe tbody tr th {\n",
       "        vertical-align: top;\n",
       "    }\n",
       "\n",
       "    .dataframe thead th {\n",
       "        text-align: right;\n",
       "    }\n",
       "</style>\n",
       "<table border=\"1\" class=\"dataframe\">\n",
       "  <thead>\n",
       "    <tr style=\"text-align: right;\">\n",
       "      <th></th>\n",
       "      <th>respondent_id</th>\n",
       "      <th>h1n1_concern</th>\n",
       "      <th>h1n1_knowledge</th>\n",
       "      <th>behavioral_antiviral_meds</th>\n",
       "      <th>behavioral_avoidance</th>\n",
       "      <th>behavioral_face_mask</th>\n",
       "      <th>behavioral_wash_hands</th>\n",
       "      <th>behavioral_large_gatherings</th>\n",
       "      <th>behavioral_outside_home</th>\n",
       "      <th>behavioral_touch_face</th>\n",
       "      <th>...</th>\n",
       "      <th>income_poverty</th>\n",
       "      <th>marital_status</th>\n",
       "      <th>rent_or_own</th>\n",
       "      <th>employment_status</th>\n",
       "      <th>hhs_geo_region</th>\n",
       "      <th>census_msa</th>\n",
       "      <th>household_adults</th>\n",
       "      <th>household_children</th>\n",
       "      <th>employment_industry</th>\n",
       "      <th>employment_occupation</th>\n",
       "    </tr>\n",
       "  </thead>\n",
       "  <tbody>\n",
       "    <tr>\n",
       "      <th>0</th>\n",
       "      <td>26707</td>\n",
       "      <td>2.0</td>\n",
       "      <td>2.0</td>\n",
       "      <td>0.0</td>\n",
       "      <td>1.0</td>\n",
       "      <td>0.0</td>\n",
       "      <td>1.0</td>\n",
       "      <td>1.0</td>\n",
       "      <td>0.0</td>\n",
       "      <td>1.0</td>\n",
       "      <td>...</td>\n",
       "      <td>&gt; $75,000</td>\n",
       "      <td>Not Married</td>\n",
       "      <td>Rent</td>\n",
       "      <td>Employed</td>\n",
       "      <td>mlyzmhmf</td>\n",
       "      <td>MSA, Not Principle  City</td>\n",
       "      <td>1.0</td>\n",
       "      <td>0.0</td>\n",
       "      <td>atmlpfrs</td>\n",
       "      <td>hfxkjkmi</td>\n",
       "    </tr>\n",
       "    <tr>\n",
       "      <th>1</th>\n",
       "      <td>26708</td>\n",
       "      <td>1.0</td>\n",
       "      <td>1.0</td>\n",
       "      <td>0.0</td>\n",
       "      <td>0.0</td>\n",
       "      <td>0.0</td>\n",
       "      <td>0.0</td>\n",
       "      <td>0.0</td>\n",
       "      <td>0.0</td>\n",
       "      <td>0.0</td>\n",
       "      <td>...</td>\n",
       "      <td>Below Poverty</td>\n",
       "      <td>Not Married</td>\n",
       "      <td>Rent</td>\n",
       "      <td>Employed</td>\n",
       "      <td>bhuqouqj</td>\n",
       "      <td>Non-MSA</td>\n",
       "      <td>3.0</td>\n",
       "      <td>0.0</td>\n",
       "      <td>atmlpfrs</td>\n",
       "      <td>xqwwgdyp</td>\n",
       "    </tr>\n",
       "    <tr>\n",
       "      <th>2</th>\n",
       "      <td>26709</td>\n",
       "      <td>2.0</td>\n",
       "      <td>2.0</td>\n",
       "      <td>0.0</td>\n",
       "      <td>0.0</td>\n",
       "      <td>1.0</td>\n",
       "      <td>1.0</td>\n",
       "      <td>1.0</td>\n",
       "      <td>1.0</td>\n",
       "      <td>1.0</td>\n",
       "      <td>...</td>\n",
       "      <td>&gt; $75,000</td>\n",
       "      <td>Married</td>\n",
       "      <td>Own</td>\n",
       "      <td>Employed</td>\n",
       "      <td>lrircsnp</td>\n",
       "      <td>Non-MSA</td>\n",
       "      <td>1.0</td>\n",
       "      <td>0.0</td>\n",
       "      <td>nduyfdeo</td>\n",
       "      <td>pvmttkik</td>\n",
       "    </tr>\n",
       "    <tr>\n",
       "      <th>3</th>\n",
       "      <td>26710</td>\n",
       "      <td>1.0</td>\n",
       "      <td>1.0</td>\n",
       "      <td>0.0</td>\n",
       "      <td>0.0</td>\n",
       "      <td>0.0</td>\n",
       "      <td>0.0</td>\n",
       "      <td>0.0</td>\n",
       "      <td>0.0</td>\n",
       "      <td>0.0</td>\n",
       "      <td>...</td>\n",
       "      <td>&lt;= $75,000, Above Poverty</td>\n",
       "      <td>Married</td>\n",
       "      <td>Own</td>\n",
       "      <td>Not in Labor Force</td>\n",
       "      <td>lrircsnp</td>\n",
       "      <td>MSA, Not Principle  City</td>\n",
       "      <td>1.0</td>\n",
       "      <td>0.0</td>\n",
       "      <td>NaN</td>\n",
       "      <td>NaN</td>\n",
       "    </tr>\n",
       "    <tr>\n",
       "      <th>4</th>\n",
       "      <td>26711</td>\n",
       "      <td>3.0</td>\n",
       "      <td>1.0</td>\n",
       "      <td>1.0</td>\n",
       "      <td>1.0</td>\n",
       "      <td>0.0</td>\n",
       "      <td>1.0</td>\n",
       "      <td>1.0</td>\n",
       "      <td>1.0</td>\n",
       "      <td>1.0</td>\n",
       "      <td>...</td>\n",
       "      <td>&lt;= $75,000, Above Poverty</td>\n",
       "      <td>Not Married</td>\n",
       "      <td>Own</td>\n",
       "      <td>Employed</td>\n",
       "      <td>lzgpxyit</td>\n",
       "      <td>Non-MSA</td>\n",
       "      <td>0.0</td>\n",
       "      <td>1.0</td>\n",
       "      <td>fcxhlnwr</td>\n",
       "      <td>mxkfnird</td>\n",
       "    </tr>\n",
       "  </tbody>\n",
       "</table>\n",
       "<p>5 rows × 36 columns</p>\n",
       "</div>"
      ],
      "text/plain": [
       "   respondent_id  h1n1_concern  h1n1_knowledge  behavioral_antiviral_meds  \\\n",
       "0          26707           2.0             2.0                        0.0   \n",
       "1          26708           1.0             1.0                        0.0   \n",
       "2          26709           2.0             2.0                        0.0   \n",
       "3          26710           1.0             1.0                        0.0   \n",
       "4          26711           3.0             1.0                        1.0   \n",
       "\n",
       "   behavioral_avoidance  behavioral_face_mask  behavioral_wash_hands  \\\n",
       "0                   1.0                   0.0                    1.0   \n",
       "1                   0.0                   0.0                    0.0   \n",
       "2                   0.0                   1.0                    1.0   \n",
       "3                   0.0                   0.0                    0.0   \n",
       "4                   1.0                   0.0                    1.0   \n",
       "\n",
       "   behavioral_large_gatherings  behavioral_outside_home  \\\n",
       "0                          1.0                      0.0   \n",
       "1                          0.0                      0.0   \n",
       "2                          1.0                      1.0   \n",
       "3                          0.0                      0.0   \n",
       "4                          1.0                      1.0   \n",
       "\n",
       "   behavioral_touch_face  ...             income_poverty  marital_status  \\\n",
       "0                    1.0  ...                  > $75,000     Not Married   \n",
       "1                    0.0  ...              Below Poverty     Not Married   \n",
       "2                    1.0  ...                  > $75,000         Married   \n",
       "3                    0.0  ...  <= $75,000, Above Poverty         Married   \n",
       "4                    1.0  ...  <= $75,000, Above Poverty     Not Married   \n",
       "\n",
       "   rent_or_own   employment_status  hhs_geo_region                census_msa  \\\n",
       "0         Rent            Employed        mlyzmhmf  MSA, Not Principle  City   \n",
       "1         Rent            Employed        bhuqouqj                   Non-MSA   \n",
       "2          Own            Employed        lrircsnp                   Non-MSA   \n",
       "3          Own  Not in Labor Force        lrircsnp  MSA, Not Principle  City   \n",
       "4          Own            Employed        lzgpxyit                   Non-MSA   \n",
       "\n",
       "   household_adults  household_children  employment_industry  \\\n",
       "0               1.0                 0.0             atmlpfrs   \n",
       "1               3.0                 0.0             atmlpfrs   \n",
       "2               1.0                 0.0             nduyfdeo   \n",
       "3               1.0                 0.0                  NaN   \n",
       "4               0.0                 1.0             fcxhlnwr   \n",
       "\n",
       "   employment_occupation  \n",
       "0               hfxkjkmi  \n",
       "1               xqwwgdyp  \n",
       "2               pvmttkik  \n",
       "3                    NaN  \n",
       "4               mxkfnird  \n",
       "\n",
       "[5 rows x 36 columns]"
      ]
     },
     "execution_count": 81,
     "metadata": {},
     "output_type": "execute_result"
    }
   ],
   "source": [
    "test_id.head()"
   ]
  },
  {
   "cell_type": "code",
   "execution_count": 82,
   "id": "4acda12e",
   "metadata": {},
   "outputs": [
    {
     "data": {
      "text/plain": [
       "Index(['respondent_id', 'h1n1_concern', 'h1n1_knowledge',\n",
       "       'behavioral_antiviral_meds', 'behavioral_avoidance',\n",
       "       'behavioral_face_mask', 'behavioral_wash_hands',\n",
       "       'behavioral_large_gatherings', 'behavioral_outside_home',\n",
       "       'behavioral_touch_face', 'doctor_recc_h1n1', 'doctor_recc_seasonal',\n",
       "       'chronic_med_condition', 'child_under_6_months', 'health_worker',\n",
       "       'health_insurance', 'opinion_h1n1_vacc_effective', 'opinion_h1n1_risk',\n",
       "       'opinion_h1n1_sick_from_vacc', 'opinion_seas_vacc_effective',\n",
       "       'opinion_seas_risk', 'opinion_seas_sick_from_vacc', 'age_group',\n",
       "       'education', 'race', 'sex', 'income_poverty', 'marital_status',\n",
       "       'rent_or_own', 'employment_status', 'hhs_geo_region', 'census_msa',\n",
       "       'household_adults', 'household_children', 'employment_industry',\n",
       "       'employment_occupation'],\n",
       "      dtype='object')"
      ]
     },
     "execution_count": 82,
     "metadata": {},
     "output_type": "execute_result"
    }
   ],
   "source": [
    "test_id.columns"
   ]
  },
  {
   "cell_type": "code",
   "execution_count": 83,
   "id": "a629c592",
   "metadata": {
    "scrolled": true
   },
   "outputs": [],
   "source": [
    "new_df = test_id.drop(['h1n1_knowledge',\n",
    "       'behavioral_antiviral_meds', 'behavioral_avoidance',\n",
    "       'behavioral_face_mask', 'behavioral_wash_hands',\n",
    "       'behavioral_large_gatherings', 'behavioral_outside_home',\n",
    "       'behavioral_touch_face', 'doctor_recc_h1n1', 'doctor_recc_seasonal',\n",
    "       'chronic_med_condition', 'child_under_6_months', 'health_worker',\n",
    "       'health_insurance', 'opinion_h1n1_vacc_effective', 'opinion_h1n1_risk',\n",
    "       'opinion_h1n1_sick_from_vacc', 'opinion_seas_vacc_effective',\n",
    "       'opinion_seas_risk', 'opinion_seas_sick_from_vacc', 'age_group',\n",
    "       'education', 'race', 'sex', 'income_poverty', 'marital_status',\n",
    "       'rent_or_own', 'employment_status', 'hhs_geo_region', 'census_msa',\n",
    "       'household_adults', 'household_children', 'employment_industry',\n",
    "       'employment_occupation'], axis=1)"
   ]
  },
  {
   "cell_type": "code",
   "execution_count": null,
   "id": "aa1c29f8",
   "metadata": {},
   "outputs": [],
   "source": []
  },
  {
   "cell_type": "code",
   "execution_count": 84,
   "id": "9fa45ddc",
   "metadata": {},
   "outputs": [],
   "source": [
    "new_df[\"h1n1_vaccine\"] = h1n1_probability\n",
    "new_df[\"seasonal_vaccine\"] = seasonal_probability"
   ]
  },
  {
   "cell_type": "code",
   "execution_count": 85,
   "id": "b67eacd2",
   "metadata": {},
   "outputs": [
    {
     "data": {
      "text/html": [
       "<div>\n",
       "<style scoped>\n",
       "    .dataframe tbody tr th:only-of-type {\n",
       "        vertical-align: middle;\n",
       "    }\n",
       "\n",
       "    .dataframe tbody tr th {\n",
       "        vertical-align: top;\n",
       "    }\n",
       "\n",
       "    .dataframe thead th {\n",
       "        text-align: right;\n",
       "    }\n",
       "</style>\n",
       "<table border=\"1\" class=\"dataframe\">\n",
       "  <thead>\n",
       "    <tr style=\"text-align: right;\">\n",
       "      <th></th>\n",
       "      <th>respondent_id</th>\n",
       "      <th>h1n1_vaccine</th>\n",
       "      <th>seasonal_vaccine</th>\n",
       "    </tr>\n",
       "  </thead>\n",
       "  <tbody>\n",
       "    <tr>\n",
       "      <th>0</th>\n",
       "      <td>26707</td>\n",
       "      <td>0.119499</td>\n",
       "      <td>0.216504</td>\n",
       "    </tr>\n",
       "    <tr>\n",
       "      <th>1</th>\n",
       "      <td>26708</td>\n",
       "      <td>0.041927</td>\n",
       "      <td>0.036099</td>\n",
       "    </tr>\n",
       "    <tr>\n",
       "      <th>2</th>\n",
       "      <td>26709</td>\n",
       "      <td>0.242962</td>\n",
       "      <td>0.670627</td>\n",
       "    </tr>\n",
       "    <tr>\n",
       "      <th>3</th>\n",
       "      <td>26710</td>\n",
       "      <td>0.703075</td>\n",
       "      <td>0.867926</td>\n",
       "    </tr>\n",
       "    <tr>\n",
       "      <th>4</th>\n",
       "      <td>26711</td>\n",
       "      <td>0.328038</td>\n",
       "      <td>0.503588</td>\n",
       "    </tr>\n",
       "  </tbody>\n",
       "</table>\n",
       "</div>"
      ],
      "text/plain": [
       "   respondent_id  h1n1_vaccine  seasonal_vaccine\n",
       "0          26707      0.119499          0.216504\n",
       "1          26708      0.041927          0.036099\n",
       "2          26709      0.242962          0.670627\n",
       "3          26710      0.703075          0.867926\n",
       "4          26711      0.328038          0.503588"
      ]
     },
     "execution_count": 85,
     "metadata": {},
     "output_type": "execute_result"
    }
   ],
   "source": [
    "new_df.drop(\"h1n1_concern\",axis=1,inplace=True)\n",
    "\n",
    "new_df.head()"
   ]
  },
  {
   "cell_type": "code",
   "execution_count": null,
   "id": "bcc38425",
   "metadata": {},
   "outputs": [],
   "source": []
  },
  {
   "cell_type": "code",
   "execution_count": 86,
   "id": "2bcaeea7",
   "metadata": {},
   "outputs": [],
   "source": [
    "new_df.set_index(\"respondent_id\",inplace=True)"
   ]
  },
  {
   "cell_type": "code",
   "execution_count": 87,
   "id": "9a45710d",
   "metadata": {},
   "outputs": [],
   "source": [
    "new_df.to_csv(\"submission_XGB_FeatureEnginnering_Behaviour_with_Drop.csv\")"
   ]
  },
  {
   "cell_type": "code",
   "execution_count": null,
   "id": "a8e89613",
   "metadata": {},
   "outputs": [],
   "source": []
  }
 ],
 "metadata": {
  "kernelspec": {
   "display_name": "Python 3 (ipykernel)",
   "language": "python",
   "name": "python3"
  },
  "language_info": {
   "codemirror_mode": {
    "name": "ipython",
    "version": 3
   },
   "file_extension": ".py",
   "mimetype": "text/x-python",
   "name": "python",
   "nbconvert_exporter": "python",
   "pygments_lexer": "ipython3",
   "version": "3.9.13"
  }
 },
 "nbformat": 4,
 "nbformat_minor": 5
}
