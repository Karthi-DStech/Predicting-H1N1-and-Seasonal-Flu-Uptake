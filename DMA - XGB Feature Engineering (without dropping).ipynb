{
 "cells": [
  {
   "cell_type": "code",
   "execution_count": 1,
   "id": "4e2a8611",
   "metadata": {},
   "outputs": [],
   "source": [
    "import numpy as np\n",
    "import pandas as pd\n",
    "import matplotlib.pyplot as plt\n",
    "import seaborn as sns\n",
    "%matplotlib inline"
   ]
  },
  {
   "cell_type": "code",
   "execution_count": 2,
   "id": "68fe3775",
   "metadata": {},
   "outputs": [],
   "source": [
    "training_data = pd.read_csv('training_set_features.csv')\n",
    "labels = pd.read_csv('training_set_labels.csv')"
   ]
  },
  {
   "cell_type": "code",
   "execution_count": null,
   "id": "2a13712f",
   "metadata": {},
   "outputs": [],
   "source": []
  },
  {
   "cell_type": "code",
   "execution_count": null,
   "id": "77ca3fb0",
   "metadata": {},
   "outputs": [],
   "source": []
  },
  {
   "cell_type": "code",
   "execution_count": 3,
   "id": "ba54b853",
   "metadata": {},
   "outputs": [],
   "source": [
    "numeric_columns = training_data.select_dtypes('number').columns"
   ]
  },
  {
   "cell_type": "code",
   "execution_count": 4,
   "id": "7d86cec8",
   "metadata": {},
   "outputs": [],
   "source": [
    "category_columns = ['race', 'sex', \n",
    "       'marital_status', 'rent_or_own',  'hhs_geo_region',\n",
    "       'census_msa', 'employment_industry', 'employment_occupation']"
   ]
  },
  {
   "cell_type": "code",
   "execution_count": 5,
   "id": "de764f21",
   "metadata": {},
   "outputs": [],
   "source": [
    "ordinal_columns = ['age_group', 'education',  'income_poverty',\n",
    "        'employment_status']"
   ]
  },
  {
   "cell_type": "code",
   "execution_count": null,
   "id": "06034e1b",
   "metadata": {},
   "outputs": [],
   "source": []
  },
  {
   "cell_type": "code",
   "execution_count": null,
   "id": "59478f3e",
   "metadata": {},
   "outputs": [],
   "source": []
  },
  {
   "cell_type": "code",
   "execution_count": 7,
   "id": "73226a26",
   "metadata": {},
   "outputs": [
    {
     "data": {
      "text/plain": [
       "array(['55 - 64 Years', '35 - 44 Years', '18 - 34 Years', '65+ Years',\n",
       "       '45 - 54 Years'], dtype=object)"
      ]
     },
     "execution_count": 7,
     "metadata": {},
     "output_type": "execute_result"
    }
   ],
   "source": [
    "training_data['age_group'].unique()"
   ]
  },
  {
   "cell_type": "code",
   "execution_count": null,
   "id": "ad7d3acd",
   "metadata": {},
   "outputs": [],
   "source": []
  },
  {
   "cell_type": "code",
   "execution_count": 9,
   "id": "7b94d9e3",
   "metadata": {},
   "outputs": [],
   "source": [
    "# IMPUTING THE MISSING VALUES"
   ]
  },
  {
   "cell_type": "code",
   "execution_count": 10,
   "id": "b97ec3e4",
   "metadata": {},
   "outputs": [],
   "source": [
    "for i, row in training_data[training_data['employment_occupation'].isna()].iterrows():\n",
    "    conditions = (training_data[\"employment_status\"]==\"Unemployed\")\n",
    "    if conditions.any():\n",
    "        training_data.loc[i, 'employment_occupation'] = 'unemployed_occupation'\n"
   ]
  },
  {
   "cell_type": "code",
   "execution_count": 11,
   "id": "3c3481a7",
   "metadata": {},
   "outputs": [],
   "source": [
    "for i, row in training_data[training_data['employment_industry'].isna()].iterrows():\n",
    "    conditions = (training_data[\"employment_status\"]==\"Unemployed\")\n",
    "    if conditions.any():\n",
    "        training_data.loc[i, 'employment_industry'] = 'unemployed_in_industry'\n",
    "        "
   ]
  },
  {
   "cell_type": "code",
   "execution_count": 12,
   "id": "54f8e915",
   "metadata": {},
   "outputs": [],
   "source": [
    "for i, row in training_data[training_data['employment_industry'].isna()].iterrows():\n",
    "    conditions = (training_data[\"employment_status\"]==\"Not in Labor Force\")\n",
    "    if conditions.any():\n",
    "       training_data.loc[i, 'employment_industry'] = 'Not_in_laborforce'\n"
   ]
  },
  {
   "cell_type": "code",
   "execution_count": 13,
   "id": "c2724b63",
   "metadata": {},
   "outputs": [],
   "source": [
    "for i, row in training_data[training_data['employment_occupation'].isna()].iterrows():\n",
    "    conditions = (training_data[\"employment_status\"]==\"Not in Labor Force\")\n",
    "    if conditions.any():\n",
    "        training_data.loc[i, 'employment_occupation'] = 'Not_in_laborforce'\n",
    "        "
   ]
  },
  {
   "cell_type": "code",
   "execution_count": 14,
   "id": "832d05cb",
   "metadata": {},
   "outputs": [],
   "source": [
    "for i, row in training_data[training_data['employment_industry'].isna()].iterrows():\n",
    "    conditions = (training_data[\"employment_status\"]==\"Employed\")\n",
    "    if conditions.any():\n",
    "        training_data.loc[i, 'employment_industry'] = 'other_industry'\n",
    "        "
   ]
  },
  {
   "cell_type": "code",
   "execution_count": 15,
   "id": "0a6cb57c",
   "metadata": {},
   "outputs": [],
   "source": [
    "for i, row in training_data[training_data['employment_occupation'].isna()].iterrows():\n",
    "    conditions = (training_data[\"employment_status\"]==\"Employed\")\n",
    "    if conditions.any():\n",
    "        training_data.loc[i, 'employment_occupation'] = 'other_occupation'\n",
    "        "
   ]
  },
  {
   "cell_type": "code",
   "execution_count": null,
   "id": "302b5940",
   "metadata": {},
   "outputs": [],
   "source": []
  },
  {
   "cell_type": "code",
   "execution_count": 16,
   "id": "4ec06ef4",
   "metadata": {},
   "outputs": [],
   "source": [
    "income_poverty_nan = 'refused_or_unknown'\n",
    "marital_status_nan = 'refused_or_other_category'\n",
    "employment_status_nan = 'refused_or_other_category'\n",
    "rent_or_own_nan = 'other_refused'\n",
    "education_nan = 'refused_or_unknown'\n",
    "\n",
    "\n",
    "training_data['income_poverty'].fillna(income_poverty_nan, inplace=True)\n",
    "training_data['marital_status'].fillna(marital_status_nan, inplace=True)\n",
    "training_data['employment_status'].fillna(employment_status_nan, inplace=True)\n",
    "training_data['rent_or_own'].fillna(rent_or_own_nan, inplace=True)\n",
    "training_data['education'].fillna(education_nan, inplace=True)"
   ]
  },
  {
   "cell_type": "code",
   "execution_count": null,
   "id": "2a88b4b3",
   "metadata": {},
   "outputs": [],
   "source": []
  },
  {
   "cell_type": "code",
   "execution_count": 17,
   "id": "9ab6404e",
   "metadata": {},
   "outputs": [],
   "source": [
    "def missing_count(training_data): # Creating a function which returns the values which is above zero\n",
    "    \n",
    "    count_nan = training_data.isnull().sum()\n",
    "    count_nan = count_nan[count_nan > 0].sort_values()    # To sort down the values\n",
    "    \n",
    "    return count_nan"
   ]
  },
  {
   "cell_type": "code",
   "execution_count": 18,
   "id": "95bfd082",
   "metadata": {},
   "outputs": [],
   "source": [
    "missing_counts_as_nan = missing_count(training_data)"
   ]
  },
  {
   "cell_type": "code",
   "execution_count": 19,
   "id": "ba7803af",
   "metadata": {},
   "outputs": [
    {
     "data": {
      "text/plain": [
       "behavioral_face_mask              19\n",
       "behavioral_wash_hands             42\n",
       "behavioral_antiviral_meds         71\n",
       "behavioral_outside_home           82\n",
       "behavioral_large_gatherings       87\n",
       "h1n1_concern                      92\n",
       "h1n1_knowledge                   116\n",
       "behavioral_touch_face            128\n",
       "behavioral_avoidance             208\n",
       "household_adults                 249\n",
       "household_children               249\n",
       "opinion_h1n1_risk                388\n",
       "opinion_h1n1_vacc_effective      391\n",
       "opinion_h1n1_sick_from_vacc      395\n",
       "opinion_seas_vacc_effective      462\n",
       "opinion_seas_risk                514\n",
       "opinion_seas_sick_from_vacc      537\n",
       "health_worker                    804\n",
       "child_under_6_months             820\n",
       "chronic_med_condition            971\n",
       "doctor_recc_h1n1                2160\n",
       "doctor_recc_seasonal            2160\n",
       "health_insurance               12274\n",
       "dtype: int64"
      ]
     },
     "execution_count": 19,
     "metadata": {},
     "output_type": "execute_result"
    }
   ],
   "source": [
    "missing_counts_as_nan"
   ]
  },
  {
   "cell_type": "code",
   "execution_count": null,
   "id": "2a73d2ca",
   "metadata": {},
   "outputs": [],
   "source": []
  },
  {
   "cell_type": "code",
   "execution_count": 20,
   "id": "5d6f9a9d",
   "metadata": {},
   "outputs": [
    {
     "data": {
      "text/plain": [
       "race                     0\n",
       "sex                      0\n",
       "marital_status           0\n",
       "rent_or_own              0\n",
       "hhs_geo_region           0\n",
       "census_msa               0\n",
       "employment_industry      0\n",
       "employment_occupation    0\n",
       "dtype: int64"
      ]
     },
     "execution_count": 20,
     "metadata": {},
     "output_type": "execute_result"
    }
   ],
   "source": [
    "training_data[category_columns].isna().sum()"
   ]
  },
  {
   "cell_type": "code",
   "execution_count": 21,
   "id": "2e8bc68b",
   "metadata": {},
   "outputs": [
    {
     "data": {
      "text/plain": [
       "age_group            0\n",
       "education            0\n",
       "income_poverty       0\n",
       "employment_status    0\n",
       "dtype: int64"
      ]
     },
     "execution_count": 21,
     "metadata": {},
     "output_type": "execute_result"
    }
   ],
   "source": [
    "training_data[ordinal_columns].isna().sum()"
   ]
  },
  {
   "cell_type": "code",
   "execution_count": 22,
   "id": "b45ac6c1",
   "metadata": {},
   "outputs": [
    {
     "data": {
      "text/plain": [
       "respondent_id                      0\n",
       "h1n1_concern                      92\n",
       "h1n1_knowledge                   116\n",
       "behavioral_antiviral_meds         71\n",
       "behavioral_avoidance             208\n",
       "behavioral_face_mask              19\n",
       "behavioral_wash_hands             42\n",
       "behavioral_large_gatherings       87\n",
       "behavioral_outside_home           82\n",
       "behavioral_touch_face            128\n",
       "doctor_recc_h1n1                2160\n",
       "doctor_recc_seasonal            2160\n",
       "chronic_med_condition            971\n",
       "child_under_6_months             820\n",
       "health_worker                    804\n",
       "health_insurance               12274\n",
       "opinion_h1n1_vacc_effective      391\n",
       "opinion_h1n1_risk                388\n",
       "opinion_h1n1_sick_from_vacc      395\n",
       "opinion_seas_vacc_effective      462\n",
       "opinion_seas_risk                514\n",
       "opinion_seas_sick_from_vacc      537\n",
       "household_adults                 249\n",
       "household_children               249\n",
       "dtype: int64"
      ]
     },
     "execution_count": 22,
     "metadata": {},
     "output_type": "execute_result"
    }
   ],
   "source": [
    "training_data[numeric_columns].isna().sum()"
   ]
  },
  {
   "cell_type": "code",
   "execution_count": null,
   "id": "33217e8e",
   "metadata": {},
   "outputs": [],
   "source": []
  },
  {
   "cell_type": "code",
   "execution_count": null,
   "id": "d53f20c1",
   "metadata": {},
   "outputs": [],
   "source": []
  },
  {
   "cell_type": "code",
   "execution_count": 23,
   "id": "c09916ff",
   "metadata": {},
   "outputs": [],
   "source": [
    "# GOOD TO GO - Now start encoding the columns"
   ]
  },
  {
   "cell_type": "code",
   "execution_count": null,
   "id": "4597d6b8",
   "metadata": {},
   "outputs": [],
   "source": []
  },
  {
   "cell_type": "code",
   "execution_count": 24,
   "id": "54add351",
   "metadata": {},
   "outputs": [
    {
     "data": {
      "text/html": [
       "<div>\n",
       "<style scoped>\n",
       "    .dataframe tbody tr th:only-of-type {\n",
       "        vertical-align: middle;\n",
       "    }\n",
       "\n",
       "    .dataframe tbody tr th {\n",
       "        vertical-align: top;\n",
       "    }\n",
       "\n",
       "    .dataframe thead th {\n",
       "        text-align: right;\n",
       "    }\n",
       "</style>\n",
       "<table border=\"1\" class=\"dataframe\">\n",
       "  <thead>\n",
       "    <tr style=\"text-align: right;\">\n",
       "      <th></th>\n",
       "      <th>age_group</th>\n",
       "      <th>education</th>\n",
       "      <th>income_poverty</th>\n",
       "      <th>employment_status</th>\n",
       "    </tr>\n",
       "  </thead>\n",
       "  <tbody>\n",
       "    <tr>\n",
       "      <th>0</th>\n",
       "      <td>55 - 64 Years</td>\n",
       "      <td>&lt; 12 Years</td>\n",
       "      <td>Below Poverty</td>\n",
       "      <td>Not in Labor Force</td>\n",
       "    </tr>\n",
       "    <tr>\n",
       "      <th>1</th>\n",
       "      <td>35 - 44 Years</td>\n",
       "      <td>12 Years</td>\n",
       "      <td>Below Poverty</td>\n",
       "      <td>Employed</td>\n",
       "    </tr>\n",
       "    <tr>\n",
       "      <th>2</th>\n",
       "      <td>18 - 34 Years</td>\n",
       "      <td>College Graduate</td>\n",
       "      <td>&lt;= $75,000, Above Poverty</td>\n",
       "      <td>Employed</td>\n",
       "    </tr>\n",
       "    <tr>\n",
       "      <th>3</th>\n",
       "      <td>65+ Years</td>\n",
       "      <td>12 Years</td>\n",
       "      <td>Below Poverty</td>\n",
       "      <td>Not in Labor Force</td>\n",
       "    </tr>\n",
       "    <tr>\n",
       "      <th>4</th>\n",
       "      <td>45 - 54 Years</td>\n",
       "      <td>Some College</td>\n",
       "      <td>&lt;= $75,000, Above Poverty</td>\n",
       "      <td>Employed</td>\n",
       "    </tr>\n",
       "    <tr>\n",
       "      <th>...</th>\n",
       "      <td>...</td>\n",
       "      <td>...</td>\n",
       "      <td>...</td>\n",
       "      <td>...</td>\n",
       "    </tr>\n",
       "    <tr>\n",
       "      <th>26702</th>\n",
       "      <td>65+ Years</td>\n",
       "      <td>Some College</td>\n",
       "      <td>&lt;= $75,000, Above Poverty</td>\n",
       "      <td>Not in Labor Force</td>\n",
       "    </tr>\n",
       "    <tr>\n",
       "      <th>26703</th>\n",
       "      <td>18 - 34 Years</td>\n",
       "      <td>College Graduate</td>\n",
       "      <td>&lt;= $75,000, Above Poverty</td>\n",
       "      <td>Employed</td>\n",
       "    </tr>\n",
       "    <tr>\n",
       "      <th>26704</th>\n",
       "      <td>55 - 64 Years</td>\n",
       "      <td>Some College</td>\n",
       "      <td>refused_or_unknown</td>\n",
       "      <td>refused_or_other_category</td>\n",
       "    </tr>\n",
       "    <tr>\n",
       "      <th>26705</th>\n",
       "      <td>18 - 34 Years</td>\n",
       "      <td>Some College</td>\n",
       "      <td>&lt;= $75,000, Above Poverty</td>\n",
       "      <td>Employed</td>\n",
       "    </tr>\n",
       "    <tr>\n",
       "      <th>26706</th>\n",
       "      <td>65+ Years</td>\n",
       "      <td>Some College</td>\n",
       "      <td>&lt;= $75,000, Above Poverty</td>\n",
       "      <td>Not in Labor Force</td>\n",
       "    </tr>\n",
       "  </tbody>\n",
       "</table>\n",
       "<p>26707 rows × 4 columns</p>\n",
       "</div>"
      ],
      "text/plain": [
       "           age_group         education             income_poverty  \\\n",
       "0      55 - 64 Years        < 12 Years              Below Poverty   \n",
       "1      35 - 44 Years          12 Years              Below Poverty   \n",
       "2      18 - 34 Years  College Graduate  <= $75,000, Above Poverty   \n",
       "3          65+ Years          12 Years              Below Poverty   \n",
       "4      45 - 54 Years      Some College  <= $75,000, Above Poverty   \n",
       "...              ...               ...                        ...   \n",
       "26702      65+ Years      Some College  <= $75,000, Above Poverty   \n",
       "26703  18 - 34 Years  College Graduate  <= $75,000, Above Poverty   \n",
       "26704  55 - 64 Years      Some College         refused_or_unknown   \n",
       "26705  18 - 34 Years      Some College  <= $75,000, Above Poverty   \n",
       "26706      65+ Years      Some College  <= $75,000, Above Poverty   \n",
       "\n",
       "               employment_status  \n",
       "0             Not in Labor Force  \n",
       "1                       Employed  \n",
       "2                       Employed  \n",
       "3             Not in Labor Force  \n",
       "4                       Employed  \n",
       "...                          ...  \n",
       "26702         Not in Labor Force  \n",
       "26703                   Employed  \n",
       "26704  refused_or_other_category  \n",
       "26705                   Employed  \n",
       "26706         Not in Labor Force  \n",
       "\n",
       "[26707 rows x 4 columns]"
      ]
     },
     "execution_count": 24,
     "metadata": {},
     "output_type": "execute_result"
    }
   ],
   "source": [
    "training_data[ordinal_columns]"
   ]
  },
  {
   "cell_type": "code",
   "execution_count": 25,
   "id": "aa57da3b",
   "metadata": {},
   "outputs": [],
   "source": [
    "training_data['overall_behaviour_of_respondent'] = training_data['behavioral_antiviral_meds'] + \\\n",
    "training_data['behavioral_avoidance'] + training_data['behavioral_face_mask'] + \\\n",
    "training_data['behavioral_wash_hands'] + training_data['behavioral_large_gatherings'] + \\\n",
    "training_data['behavioral_outside_home'] + training_data['behavioral_touch_face']"
   ]
  },
  {
   "cell_type": "code",
   "execution_count": null,
   "id": "8e07c970",
   "metadata": {},
   "outputs": [],
   "source": []
  },
  {
   "cell_type": "code",
   "execution_count": null,
   "id": "feeb042d",
   "metadata": {},
   "outputs": [],
   "source": []
  },
  {
   "cell_type": "code",
   "execution_count": 26,
   "id": "eed81a1c",
   "metadata": {},
   "outputs": [],
   "source": [
    "from sklearn.preprocessing import LabelEncoder\n",
    "\n",
    "le = LabelEncoder()\n",
    "\n",
    "for features in ordinal_columns:\n",
    "    training_data[features] = le.fit_transform(training_data[features])"
   ]
  },
  {
   "cell_type": "code",
   "execution_count": null,
   "id": "6933897d",
   "metadata": {},
   "outputs": [],
   "source": []
  },
  {
   "cell_type": "code",
   "execution_count": 27,
   "id": "5e7efb06",
   "metadata": {},
   "outputs": [],
   "source": [
    "training_data = pd.get_dummies(training_data, columns=category_columns, drop_first=True)"
   ]
  },
  {
   "cell_type": "code",
   "execution_count": 28,
   "id": "8c1f9c03",
   "metadata": {},
   "outputs": [
    {
     "data": {
      "text/html": [
       "<div>\n",
       "<style scoped>\n",
       "    .dataframe tbody tr th:only-of-type {\n",
       "        vertical-align: middle;\n",
       "    }\n",
       "\n",
       "    .dataframe tbody tr th {\n",
       "        vertical-align: top;\n",
       "    }\n",
       "\n",
       "    .dataframe thead th {\n",
       "        text-align: right;\n",
       "    }\n",
       "</style>\n",
       "<table border=\"1\" class=\"dataframe\">\n",
       "  <thead>\n",
       "    <tr style=\"text-align: right;\">\n",
       "      <th></th>\n",
       "      <th>respondent_id</th>\n",
       "      <th>h1n1_concern</th>\n",
       "      <th>h1n1_knowledge</th>\n",
       "      <th>behavioral_antiviral_meds</th>\n",
       "      <th>behavioral_avoidance</th>\n",
       "      <th>behavioral_face_mask</th>\n",
       "      <th>behavioral_wash_hands</th>\n",
       "      <th>behavioral_large_gatherings</th>\n",
       "      <th>behavioral_outside_home</th>\n",
       "      <th>behavioral_touch_face</th>\n",
       "      <th>...</th>\n",
       "      <th>employment_occupation_rcertsgn</th>\n",
       "      <th>employment_occupation_tfqavkke</th>\n",
       "      <th>employment_occupation_ukymxvdu</th>\n",
       "      <th>employment_occupation_unemployed_occupation</th>\n",
       "      <th>employment_occupation_uqqtjvyb</th>\n",
       "      <th>employment_occupation_vlluhbov</th>\n",
       "      <th>employment_occupation_xgwztkwe</th>\n",
       "      <th>employment_occupation_xqwwgdyp</th>\n",
       "      <th>employment_occupation_xtkaffoo</th>\n",
       "      <th>employment_occupation_xzmlyyjv</th>\n",
       "    </tr>\n",
       "  </thead>\n",
       "  <tbody>\n",
       "    <tr>\n",
       "      <th>0</th>\n",
       "      <td>0</td>\n",
       "      <td>1.0</td>\n",
       "      <td>0.0</td>\n",
       "      <td>0.0</td>\n",
       "      <td>0.0</td>\n",
       "      <td>0.0</td>\n",
       "      <td>0.0</td>\n",
       "      <td>0.0</td>\n",
       "      <td>1.0</td>\n",
       "      <td>1.0</td>\n",
       "      <td>...</td>\n",
       "      <td>0</td>\n",
       "      <td>0</td>\n",
       "      <td>0</td>\n",
       "      <td>1</td>\n",
       "      <td>0</td>\n",
       "      <td>0</td>\n",
       "      <td>0</td>\n",
       "      <td>0</td>\n",
       "      <td>0</td>\n",
       "      <td>0</td>\n",
       "    </tr>\n",
       "    <tr>\n",
       "      <th>1</th>\n",
       "      <td>1</td>\n",
       "      <td>3.0</td>\n",
       "      <td>2.0</td>\n",
       "      <td>0.0</td>\n",
       "      <td>1.0</td>\n",
       "      <td>0.0</td>\n",
       "      <td>1.0</td>\n",
       "      <td>0.0</td>\n",
       "      <td>1.0</td>\n",
       "      <td>1.0</td>\n",
       "      <td>...</td>\n",
       "      <td>0</td>\n",
       "      <td>0</td>\n",
       "      <td>0</td>\n",
       "      <td>0</td>\n",
       "      <td>0</td>\n",
       "      <td>0</td>\n",
       "      <td>1</td>\n",
       "      <td>0</td>\n",
       "      <td>0</td>\n",
       "      <td>0</td>\n",
       "    </tr>\n",
       "    <tr>\n",
       "      <th>2</th>\n",
       "      <td>2</td>\n",
       "      <td>1.0</td>\n",
       "      <td>1.0</td>\n",
       "      <td>0.0</td>\n",
       "      <td>1.0</td>\n",
       "      <td>0.0</td>\n",
       "      <td>0.0</td>\n",
       "      <td>0.0</td>\n",
       "      <td>0.0</td>\n",
       "      <td>0.0</td>\n",
       "      <td>...</td>\n",
       "      <td>0</td>\n",
       "      <td>0</td>\n",
       "      <td>0</td>\n",
       "      <td>0</td>\n",
       "      <td>0</td>\n",
       "      <td>0</td>\n",
       "      <td>0</td>\n",
       "      <td>0</td>\n",
       "      <td>1</td>\n",
       "      <td>0</td>\n",
       "    </tr>\n",
       "    <tr>\n",
       "      <th>3</th>\n",
       "      <td>3</td>\n",
       "      <td>1.0</td>\n",
       "      <td>1.0</td>\n",
       "      <td>0.0</td>\n",
       "      <td>1.0</td>\n",
       "      <td>0.0</td>\n",
       "      <td>1.0</td>\n",
       "      <td>1.0</td>\n",
       "      <td>0.0</td>\n",
       "      <td>0.0</td>\n",
       "      <td>...</td>\n",
       "      <td>0</td>\n",
       "      <td>0</td>\n",
       "      <td>0</td>\n",
       "      <td>1</td>\n",
       "      <td>0</td>\n",
       "      <td>0</td>\n",
       "      <td>0</td>\n",
       "      <td>0</td>\n",
       "      <td>0</td>\n",
       "      <td>0</td>\n",
       "    </tr>\n",
       "    <tr>\n",
       "      <th>4</th>\n",
       "      <td>4</td>\n",
       "      <td>2.0</td>\n",
       "      <td>1.0</td>\n",
       "      <td>0.0</td>\n",
       "      <td>1.0</td>\n",
       "      <td>0.0</td>\n",
       "      <td>1.0</td>\n",
       "      <td>1.0</td>\n",
       "      <td>0.0</td>\n",
       "      <td>1.0</td>\n",
       "      <td>...</td>\n",
       "      <td>0</td>\n",
       "      <td>0</td>\n",
       "      <td>0</td>\n",
       "      <td>0</td>\n",
       "      <td>0</td>\n",
       "      <td>0</td>\n",
       "      <td>0</td>\n",
       "      <td>0</td>\n",
       "      <td>0</td>\n",
       "      <td>0</td>\n",
       "    </tr>\n",
       "  </tbody>\n",
       "</table>\n",
       "<p>5 rows × 92 columns</p>\n",
       "</div>"
      ],
      "text/plain": [
       "   respondent_id  h1n1_concern  h1n1_knowledge  behavioral_antiviral_meds  \\\n",
       "0              0           1.0             0.0                        0.0   \n",
       "1              1           3.0             2.0                        0.0   \n",
       "2              2           1.0             1.0                        0.0   \n",
       "3              3           1.0             1.0                        0.0   \n",
       "4              4           2.0             1.0                        0.0   \n",
       "\n",
       "   behavioral_avoidance  behavioral_face_mask  behavioral_wash_hands  \\\n",
       "0                   0.0                   0.0                    0.0   \n",
       "1                   1.0                   0.0                    1.0   \n",
       "2                   1.0                   0.0                    0.0   \n",
       "3                   1.0                   0.0                    1.0   \n",
       "4                   1.0                   0.0                    1.0   \n",
       "\n",
       "   behavioral_large_gatherings  behavioral_outside_home  \\\n",
       "0                          0.0                      1.0   \n",
       "1                          0.0                      1.0   \n",
       "2                          0.0                      0.0   \n",
       "3                          1.0                      0.0   \n",
       "4                          1.0                      0.0   \n",
       "\n",
       "   behavioral_touch_face  ...  employment_occupation_rcertsgn  \\\n",
       "0                    1.0  ...                               0   \n",
       "1                    1.0  ...                               0   \n",
       "2                    0.0  ...                               0   \n",
       "3                    0.0  ...                               0   \n",
       "4                    1.0  ...                               0   \n",
       "\n",
       "   employment_occupation_tfqavkke  employment_occupation_ukymxvdu  \\\n",
       "0                               0                               0   \n",
       "1                               0                               0   \n",
       "2                               0                               0   \n",
       "3                               0                               0   \n",
       "4                               0                               0   \n",
       "\n",
       "   employment_occupation_unemployed_occupation  \\\n",
       "0                                            1   \n",
       "1                                            0   \n",
       "2                                            0   \n",
       "3                                            1   \n",
       "4                                            0   \n",
       "\n",
       "   employment_occupation_uqqtjvyb  employment_occupation_vlluhbov  \\\n",
       "0                               0                               0   \n",
       "1                               0                               0   \n",
       "2                               0                               0   \n",
       "3                               0                               0   \n",
       "4                               0                               0   \n",
       "\n",
       "   employment_occupation_xgwztkwe  employment_occupation_xqwwgdyp  \\\n",
       "0                               0                               0   \n",
       "1                               1                               0   \n",
       "2                               0                               0   \n",
       "3                               0                               0   \n",
       "4                               0                               0   \n",
       "\n",
       "   employment_occupation_xtkaffoo  employment_occupation_xzmlyyjv  \n",
       "0                               0                               0  \n",
       "1                               0                               0  \n",
       "2                               1                               0  \n",
       "3                               0                               0  \n",
       "4                               0                               0  \n",
       "\n",
       "[5 rows x 92 columns]"
      ]
     },
     "execution_count": 28,
     "metadata": {},
     "output_type": "execute_result"
    }
   ],
   "source": [
    "training_data.head()"
   ]
  },
  {
   "cell_type": "code",
   "execution_count": null,
   "id": "4cfafebb",
   "metadata": {},
   "outputs": [],
   "source": []
  },
  {
   "cell_type": "code",
   "execution_count": 29,
   "id": "9b1c2ee8",
   "metadata": {},
   "outputs": [
    {
     "data": {
      "text/html": [
       "<div>\n",
       "<style scoped>\n",
       "    .dataframe tbody tr th:only-of-type {\n",
       "        vertical-align: middle;\n",
       "    }\n",
       "\n",
       "    .dataframe tbody tr th {\n",
       "        vertical-align: top;\n",
       "    }\n",
       "\n",
       "    .dataframe thead th {\n",
       "        text-align: right;\n",
       "    }\n",
       "</style>\n",
       "<table border=\"1\" class=\"dataframe\">\n",
       "  <thead>\n",
       "    <tr style=\"text-align: right;\">\n",
       "      <th></th>\n",
       "      <th>respondent_id</th>\n",
       "      <th>h1n1_concern</th>\n",
       "      <th>h1n1_knowledge</th>\n",
       "      <th>behavioral_antiviral_meds</th>\n",
       "      <th>behavioral_avoidance</th>\n",
       "      <th>behavioral_face_mask</th>\n",
       "      <th>behavioral_wash_hands</th>\n",
       "      <th>behavioral_large_gatherings</th>\n",
       "      <th>behavioral_outside_home</th>\n",
       "      <th>behavioral_touch_face</th>\n",
       "      <th>...</th>\n",
       "      <th>employment_occupation_rcertsgn</th>\n",
       "      <th>employment_occupation_tfqavkke</th>\n",
       "      <th>employment_occupation_ukymxvdu</th>\n",
       "      <th>employment_occupation_unemployed_occupation</th>\n",
       "      <th>employment_occupation_uqqtjvyb</th>\n",
       "      <th>employment_occupation_vlluhbov</th>\n",
       "      <th>employment_occupation_xgwztkwe</th>\n",
       "      <th>employment_occupation_xqwwgdyp</th>\n",
       "      <th>employment_occupation_xtkaffoo</th>\n",
       "      <th>employment_occupation_xzmlyyjv</th>\n",
       "    </tr>\n",
       "  </thead>\n",
       "  <tbody>\n",
       "    <tr>\n",
       "      <th>0</th>\n",
       "      <td>0</td>\n",
       "      <td>1.0</td>\n",
       "      <td>0.0</td>\n",
       "      <td>0.0</td>\n",
       "      <td>0.0</td>\n",
       "      <td>0.0</td>\n",
       "      <td>0.0</td>\n",
       "      <td>0.0</td>\n",
       "      <td>1.0</td>\n",
       "      <td>1.0</td>\n",
       "      <td>...</td>\n",
       "      <td>0</td>\n",
       "      <td>0</td>\n",
       "      <td>0</td>\n",
       "      <td>1</td>\n",
       "      <td>0</td>\n",
       "      <td>0</td>\n",
       "      <td>0</td>\n",
       "      <td>0</td>\n",
       "      <td>0</td>\n",
       "      <td>0</td>\n",
       "    </tr>\n",
       "    <tr>\n",
       "      <th>1</th>\n",
       "      <td>1</td>\n",
       "      <td>3.0</td>\n",
       "      <td>2.0</td>\n",
       "      <td>0.0</td>\n",
       "      <td>1.0</td>\n",
       "      <td>0.0</td>\n",
       "      <td>1.0</td>\n",
       "      <td>0.0</td>\n",
       "      <td>1.0</td>\n",
       "      <td>1.0</td>\n",
       "      <td>...</td>\n",
       "      <td>0</td>\n",
       "      <td>0</td>\n",
       "      <td>0</td>\n",
       "      <td>0</td>\n",
       "      <td>0</td>\n",
       "      <td>0</td>\n",
       "      <td>1</td>\n",
       "      <td>0</td>\n",
       "      <td>0</td>\n",
       "      <td>0</td>\n",
       "    </tr>\n",
       "    <tr>\n",
       "      <th>2</th>\n",
       "      <td>2</td>\n",
       "      <td>1.0</td>\n",
       "      <td>1.0</td>\n",
       "      <td>0.0</td>\n",
       "      <td>1.0</td>\n",
       "      <td>0.0</td>\n",
       "      <td>0.0</td>\n",
       "      <td>0.0</td>\n",
       "      <td>0.0</td>\n",
       "      <td>0.0</td>\n",
       "      <td>...</td>\n",
       "      <td>0</td>\n",
       "      <td>0</td>\n",
       "      <td>0</td>\n",
       "      <td>0</td>\n",
       "      <td>0</td>\n",
       "      <td>0</td>\n",
       "      <td>0</td>\n",
       "      <td>0</td>\n",
       "      <td>1</td>\n",
       "      <td>0</td>\n",
       "    </tr>\n",
       "    <tr>\n",
       "      <th>3</th>\n",
       "      <td>3</td>\n",
       "      <td>1.0</td>\n",
       "      <td>1.0</td>\n",
       "      <td>0.0</td>\n",
       "      <td>1.0</td>\n",
       "      <td>0.0</td>\n",
       "      <td>1.0</td>\n",
       "      <td>1.0</td>\n",
       "      <td>0.0</td>\n",
       "      <td>0.0</td>\n",
       "      <td>...</td>\n",
       "      <td>0</td>\n",
       "      <td>0</td>\n",
       "      <td>0</td>\n",
       "      <td>1</td>\n",
       "      <td>0</td>\n",
       "      <td>0</td>\n",
       "      <td>0</td>\n",
       "      <td>0</td>\n",
       "      <td>0</td>\n",
       "      <td>0</td>\n",
       "    </tr>\n",
       "    <tr>\n",
       "      <th>4</th>\n",
       "      <td>4</td>\n",
       "      <td>2.0</td>\n",
       "      <td>1.0</td>\n",
       "      <td>0.0</td>\n",
       "      <td>1.0</td>\n",
       "      <td>0.0</td>\n",
       "      <td>1.0</td>\n",
       "      <td>1.0</td>\n",
       "      <td>0.0</td>\n",
       "      <td>1.0</td>\n",
       "      <td>...</td>\n",
       "      <td>0</td>\n",
       "      <td>0</td>\n",
       "      <td>0</td>\n",
       "      <td>0</td>\n",
       "      <td>0</td>\n",
       "      <td>0</td>\n",
       "      <td>0</td>\n",
       "      <td>0</td>\n",
       "      <td>0</td>\n",
       "      <td>0</td>\n",
       "    </tr>\n",
       "  </tbody>\n",
       "</table>\n",
       "<p>5 rows × 92 columns</p>\n",
       "</div>"
      ],
      "text/plain": [
       "   respondent_id  h1n1_concern  h1n1_knowledge  behavioral_antiviral_meds  \\\n",
       "0              0           1.0             0.0                        0.0   \n",
       "1              1           3.0             2.0                        0.0   \n",
       "2              2           1.0             1.0                        0.0   \n",
       "3              3           1.0             1.0                        0.0   \n",
       "4              4           2.0             1.0                        0.0   \n",
       "\n",
       "   behavioral_avoidance  behavioral_face_mask  behavioral_wash_hands  \\\n",
       "0                   0.0                   0.0                    0.0   \n",
       "1                   1.0                   0.0                    1.0   \n",
       "2                   1.0                   0.0                    0.0   \n",
       "3                   1.0                   0.0                    1.0   \n",
       "4                   1.0                   0.0                    1.0   \n",
       "\n",
       "   behavioral_large_gatherings  behavioral_outside_home  \\\n",
       "0                          0.0                      1.0   \n",
       "1                          0.0                      1.0   \n",
       "2                          0.0                      0.0   \n",
       "3                          1.0                      0.0   \n",
       "4                          1.0                      0.0   \n",
       "\n",
       "   behavioral_touch_face  ...  employment_occupation_rcertsgn  \\\n",
       "0                    1.0  ...                               0   \n",
       "1                    1.0  ...                               0   \n",
       "2                    0.0  ...                               0   \n",
       "3                    0.0  ...                               0   \n",
       "4                    1.0  ...                               0   \n",
       "\n",
       "   employment_occupation_tfqavkke  employment_occupation_ukymxvdu  \\\n",
       "0                               0                               0   \n",
       "1                               0                               0   \n",
       "2                               0                               0   \n",
       "3                               0                               0   \n",
       "4                               0                               0   \n",
       "\n",
       "   employment_occupation_unemployed_occupation  \\\n",
       "0                                            1   \n",
       "1                                            0   \n",
       "2                                            0   \n",
       "3                                            1   \n",
       "4                                            0   \n",
       "\n",
       "   employment_occupation_uqqtjvyb  employment_occupation_vlluhbov  \\\n",
       "0                               0                               0   \n",
       "1                               0                               0   \n",
       "2                               0                               0   \n",
       "3                               0                               0   \n",
       "4                               0                               0   \n",
       "\n",
       "   employment_occupation_xgwztkwe  employment_occupation_xqwwgdyp  \\\n",
       "0                               0                               0   \n",
       "1                               1                               0   \n",
       "2                               0                               0   \n",
       "3                               0                               0   \n",
       "4                               0                               0   \n",
       "\n",
       "   employment_occupation_xtkaffoo  employment_occupation_xzmlyyjv  \n",
       "0                               0                               0  \n",
       "1                               0                               0  \n",
       "2                               1                               0  \n",
       "3                               0                               0  \n",
       "4                               0                               0  \n",
       "\n",
       "[5 rows x 92 columns]"
      ]
     },
     "execution_count": 29,
     "metadata": {},
     "output_type": "execute_result"
    }
   ],
   "source": [
    "training_data.head()"
   ]
  },
  {
   "cell_type": "code",
   "execution_count": null,
   "id": "3db8487e",
   "metadata": {},
   "outputs": [],
   "source": []
  },
  {
   "cell_type": "code",
   "execution_count": 30,
   "id": "271af494",
   "metadata": {},
   "outputs": [],
   "source": [
    "final_training_data = pd.merge(training_data, labels, on='respondent_id')"
   ]
  },
  {
   "cell_type": "code",
   "execution_count": 31,
   "id": "088a9e24",
   "metadata": {},
   "outputs": [],
   "source": [
    "label1 = final_training_data['h1n1_vaccine']\n",
    "label2 = final_training_data['seasonal_vaccine']"
   ]
  },
  {
   "cell_type": "code",
   "execution_count": null,
   "id": "8606a7f9",
   "metadata": {},
   "outputs": [],
   "source": []
  },
  {
   "cell_type": "code",
   "execution_count": 32,
   "id": "7f6fe904",
   "metadata": {},
   "outputs": [],
   "source": [
    "final_training_data.drop('respondent_id', axis=1, inplace=True)"
   ]
  },
  {
   "cell_type": "code",
   "execution_count": null,
   "id": "4fe7b15a",
   "metadata": {},
   "outputs": [],
   "source": []
  },
  {
   "cell_type": "code",
   "execution_count": 33,
   "id": "316c34ce",
   "metadata": {},
   "outputs": [],
   "source": [
    "data = final_training_data.drop(['h1n1_vaccine','seasonal_vaccine'], axis=1)"
   ]
  },
  {
   "cell_type": "code",
   "execution_count": null,
   "id": "271d8894",
   "metadata": {},
   "outputs": [],
   "source": []
  },
  {
   "cell_type": "code",
   "execution_count": null,
   "id": "2cc35b96",
   "metadata": {},
   "outputs": [],
   "source": []
  },
  {
   "cell_type": "code",
   "execution_count": 34,
   "id": "1414e65b",
   "metadata": {},
   "outputs": [],
   "source": [
    "from sklearn.metrics import classification_report"
   ]
  },
  {
   "cell_type": "code",
   "execution_count": 35,
   "id": "48848676",
   "metadata": {},
   "outputs": [],
   "source": [
    "import optuna"
   ]
  },
  {
   "cell_type": "code",
   "execution_count": 36,
   "id": "78899bc5",
   "metadata": {},
   "outputs": [],
   "source": [
    "from optuna import visualization"
   ]
  },
  {
   "cell_type": "code",
   "execution_count": 37,
   "id": "b654f5e9",
   "metadata": {},
   "outputs": [],
   "source": [
    "from optuna.samplers import TPESampler"
   ]
  },
  {
   "cell_type": "code",
   "execution_count": 38,
   "id": "ce8a8f82",
   "metadata": {},
   "outputs": [],
   "source": [
    "from xgboost import XGBClassifier\n",
    "from sklearn.model_selection import train_test_split\n",
    "from sklearn.metrics import roc_curve, roc_auc_score"
   ]
  },
  {
   "cell_type": "code",
   "execution_count": 39,
   "id": "989e36e0",
   "metadata": {},
   "outputs": [],
   "source": [
    "X_train, X_test, y_train, y_test = train_test_split(data, label1, test_size=0.2, random_state=101)\n",
    "\n",
    "def objective(trial):\n",
    "    param = {\n",
    "        'n_estimators': trial.suggest_int('n_estimators', 50, 500),\n",
    "        'max_depth': trial.suggest_int('max_depth', 3, 10),\n",
    "        'reg_alpha': trial.suggest_float('reg_alpha', 1e-8, 1.0),\n",
    "        'reg_lambda': trial.suggest_float('reg_lambda', 1e-8, 1.0),\n",
    "        'min_child_weight': trial.suggest_int('min_child_weight', 0, 6),\n",
    "        'gamma': trial.suggest_float('gamma',1e-8, 1.0),\n",
    "        'learning_rate': trial.suggest_float('learning_rate', 0.01, 1),\n",
    "        'colsample_bytree': trial.suggest_float('colsample_bytree', 0.3, 0.8),\n",
    "        'subsample': trial.suggest_float('subsample', 0.3, 0.8),\n",
    "    }\n",
    "    \n",
    "    xgb = XGBClassifier(**param, missing= np.nan)\n",
    "\n",
    "    \n",
    "    from sklearn.model_selection import cross_val_score\n",
    "    scores = cross_val_score(xgb, data, label1, cv=5, scoring='roc_auc')\n",
    "    AUC = np.mean(scores).max() \n",
    "    return AUC"
   ]
  },
  {
   "cell_type": "code",
   "execution_count": 40,
   "id": "4322f521",
   "metadata": {},
   "outputs": [
    {
     "name": "stderr",
     "output_type": "stream",
     "text": [
      "\u001b[32m[I 2023-05-02 22:32:30,714]\u001b[0m A new study created in memory with name: no-name-dd0db50d-7258-4e22-839e-a64307ac8df5\u001b[0m\n",
      "/Users/karthikeyan/opt/anaconda3/lib/python3.9/site-packages/optuna/progress_bar.py:56: ExperimentalWarning: Progress bar is experimental (supported from v1.2.0). The interface can change in the future.\n",
      "  self._init_valid()\n"
     ]
    },
    {
     "data": {
      "application/vnd.jupyter.widget-view+json": {
       "model_id": "a03bb980d7cc4268a4dcae6f5ef436c7",
       "version_major": 2,
       "version_minor": 0
      },
      "text/plain": [
       "  0%|          | 0/120 [00:00<?, ?it/s]"
      ]
     },
     "metadata": {},
     "output_type": "display_data"
    },
    {
     "name": "stdout",
     "output_type": "stream",
     "text": [
      "\u001b[32m[I 2023-05-02 22:32:54,793]\u001b[0m Trial 0 finished with value: 0.808491049603847 and parameters: {'n_estimators': 202, 'max_depth': 5, 'reg_alpha': 0.045391490875075144, 'reg_lambda': 0.04064455340719769, 'min_child_weight': 2, 'gamma': 0.7599785033627541, 'learning_rate': 0.8686952874829643, 'colsample_bytree': 0.5364556950683439, 'subsample': 0.7738592650126478}. Best is trial 0 with value: 0.808491049603847.\u001b[0m\n",
      "\u001b[32m[I 2023-05-02 22:33:34,127]\u001b[0m Trial 1 finished with value: 0.8545413057714706 and parameters: {'n_estimators': 114, 'max_depth': 9, 'reg_alpha': 0.9625708754691245, 'reg_lambda': 0.8633860538495308, 'min_child_weight': 3, 'gamma': 0.21079755587442164, 'learning_rate': 0.2027232082201326, 'colsample_bytree': 0.6235239302241931, 'subsample': 0.7531362381604825}. Best is trial 1 with value: 0.8545413057714706.\u001b[0m\n",
      "\u001b[32m[I 2023-05-02 22:35:34,332]\u001b[0m Trial 2 finished with value: 0.7757349451975738 and parameters: {'n_estimators': 496, 'max_depth': 10, 'reg_alpha': 0.9650936992200563, 'reg_lambda': 0.4343054750624776, 'min_child_weight': 4, 'gamma': 0.19159067805579522, 'learning_rate': 0.7172671137337988, 'colsample_bytree': 0.6037896397935514, 'subsample': 0.35979806274518733}. Best is trial 1 with value: 0.8545413057714706.\u001b[0m\n",
      "\u001b[32m[I 2023-05-02 22:37:51,590]\u001b[0m Trial 3 finished with value: 0.8149135960082534 and parameters: {'n_estimators': 472, 'max_depth': 10, 'reg_alpha': 0.32817269174221825, 'reg_lambda': 0.27079383303616456, 'min_child_weight': 2, 'gamma': 0.5302310195207816, 'learning_rate': 0.7211291293585789, 'colsample_bytree': 0.49507475263669803, 'subsample': 0.6979913850865338}. Best is trial 1 with value: 0.8545413057714706.\u001b[0m\n",
      "\u001b[32m[I 2023-05-02 22:38:06,959]\u001b[0m Trial 4 finished with value: 0.8653123196730188 and parameters: {'n_estimators': 57, 'max_depth': 10, 'reg_alpha': 0.7368844060851722, 'reg_lambda': 0.7434972745342388, 'min_child_weight': 5, 'gamma': 0.4439509030323802, 'learning_rate': 0.06552019210998081, 'colsample_bytree': 0.41031628993229324, 'subsample': 0.35606465273930843}. Best is trial 4 with value: 0.8653123196730188.\u001b[0m\n",
      "\u001b[32m[I 2023-05-02 22:39:32,268]\u001b[0m Trial 5 finished with value: 0.868149959546313 and parameters: {'n_estimators': 258, 'max_depth': 8, 'reg_alpha': 0.40478315649697566, 'reg_lambda': 0.10610369813189555, 'min_child_weight': 6, 'gamma': 0.6252884887466179, 'learning_rate': 0.056698389041730385, 'colsample_bytree': 0.771800568614198, 'subsample': 0.7360279396150171}. Best is trial 5 with value: 0.868149959546313.\u001b[0m\n",
      "\u001b[32m[I 2023-05-02 22:41:28,626]\u001b[0m Trial 6 finished with value: 0.7643623589261481 and parameters: {'n_estimators': 488, 'max_depth': 8, 'reg_alpha': 0.5099376088739707, 'reg_lambda': 0.7620220200810406, 'min_child_weight': 5, 'gamma': 0.8485102303722283, 'learning_rate': 0.9541821883804736, 'colsample_bytree': 0.7116932198390367, 'subsample': 0.38864761004800963}. Best is trial 5 with value: 0.868149959546313.\u001b[0m\n",
      "\u001b[32m[I 2023-05-02 22:44:15,063]\u001b[0m Trial 7 finished with value: 0.8204171010910969 and parameters: {'n_estimators': 447, 'max_depth': 9, 'reg_alpha': 0.053562068342021395, 'reg_lambda': 0.34544416439256115, 'min_child_weight': 2, 'gamma': 0.9362475727202746, 'learning_rate': 0.579834727538034, 'colsample_bytree': 0.7664349841967537, 'subsample': 0.7546919726720847}. Best is trial 5 with value: 0.868149959546313.\u001b[0m\n",
      "\u001b[32m[I 2023-05-02 22:45:13,704]\u001b[0m Trial 8 finished with value: 0.834353944464978 and parameters: {'n_estimators': 402, 'max_depth': 5, 'reg_alpha': 0.48640232732848043, 'reg_lambda': 0.05728783419410366, 'min_child_weight': 6, 'gamma': 0.5166719358012197, 'learning_rate': 0.4116044917923136, 'colsample_bytree': 0.39143634446220366, 'subsample': 0.6340255001559555}. Best is trial 5 with value: 0.868149959546313.\u001b[0m\n",
      "\u001b[32m[I 2023-05-02 22:45:57,788]\u001b[0m Trial 9 finished with value: 0.8198412293776862 and parameters: {'n_estimators': 171, 'max_depth': 7, 'reg_alpha': 0.2805356559808166, 'reg_lambda': 0.48723132668114294, 'min_child_weight': 0, 'gamma': 0.309265565688366, 'learning_rate': 0.3957161407778705, 'colsample_bytree': 0.5171407123651591, 'subsample': 0.4575429654034811}. Best is trial 5 with value: 0.868149959546313.\u001b[0m\n",
      "\u001b[32m[I 2023-05-02 22:46:36,620]\u001b[0m Trial 10 finished with value: 0.8699822032463775 and parameters: {'n_estimators': 320, 'max_depth': 3, 'reg_alpha': 0.61971427094349, 'reg_lambda': 0.1895078440670489, 'min_child_weight': 6, 'gamma': 0.002941470168723148, 'learning_rate': 0.04604322135211758, 'colsample_bytree': 0.7821519629819669, 'subsample': 0.5801463049089988}. Best is trial 10 with value: 0.8699822032463775.\u001b[0m\n",
      "\u001b[32m[I 2023-05-02 22:47:16,188]\u001b[0m Trial 11 finished with value: 0.8693525286443327 and parameters: {'n_estimators': 320, 'max_depth': 3, 'reg_alpha': 0.6498591976923843, 'reg_lambda': 0.16693674837925393, 'min_child_weight': 6, 'gamma': 0.09681606746602822, 'learning_rate': 0.03787959697193889, 'colsample_bytree': 0.7917312428944263, 'subsample': 0.5707252033861491}. Best is trial 10 with value: 0.8699822032463775.\u001b[0m\n",
      "\u001b[32m[I 2023-05-02 22:47:58,991]\u001b[0m Trial 12 finished with value: 0.8657682047283304 and parameters: {'n_estimators': 347, 'max_depth': 3, 'reg_alpha': 0.6621669820166742, 'reg_lambda': 0.21560046362450916, 'min_child_weight': 6, 'gamma': 0.008143989504246746, 'learning_rate': 0.21170578492041958, 'colsample_bytree': 0.7965901429411245, 'subsample': 0.5666504900040444}. Best is trial 10 with value: 0.8699822032463775.\u001b[0m\n",
      "\u001b[32m[I 2023-05-02 22:48:37,499]\u001b[0m Trial 13 finished with value: 0.8650308015231939 and parameters: {'n_estimators': 317, 'max_depth': 3, 'reg_alpha': 0.69604409854121, 'reg_lambda': 0.21301257632320175, 'min_child_weight': 4, 'gamma': 0.018934996699703728, 'learning_rate': 0.019628327118350962, 'colsample_bytree': 0.7014537545356831, 'subsample': 0.5469959102560162}. Best is trial 10 with value: 0.8699822032463775.\u001b[0m\n",
      "\u001b[32m[I 2023-05-02 22:49:21,261]\u001b[0m Trial 14 finished with value: 0.8609519279003905 and parameters: {'n_estimators': 278, 'max_depth': 4, 'reg_alpha': 0.7921359093341627, 'reg_lambda': 0.00240573494925983, 'min_child_weight': 5, 'gamma': 0.12893960316323905, 'learning_rate': 0.21086125783783904, 'colsample_bytree': 0.6954861864952523, 'subsample': 0.5320150436521021}. Best is trial 10 with value: 0.8699822032463775.\u001b[0m\n",
      "\u001b[32m[I 2023-05-02 22:50:18,340]\u001b[0m Trial 15 finished with value: 0.8613602964516847 and parameters: {'n_estimators': 368, 'max_depth': 5, 'reg_alpha': 0.5921758764931332, 'reg_lambda': 0.33689650257470516, 'min_child_weight': 0, 'gamma': 0.3247544870211714, 'learning_rate': 0.1496976686925106, 'colsample_bytree': 0.30391809656145213, 'subsample': 0.6328173023568656}. Best is trial 10 with value: 0.8699822032463775.\u001b[0m\n",
      "\u001b[32m[I 2023-05-02 22:51:02,067]\u001b[0m Trial 16 finished with value: 0.8563756340924078 and parameters: {'n_estimators': 250, 'max_depth': 4, 'reg_alpha': 0.8157588254900201, 'reg_lambda': 0.17934557205790722, 'min_child_weight': 4, 'gamma': 0.09450881735312838, 'learning_rate': 0.25832425899621697, 'colsample_bytree': 0.7988212402380714, 'subsample': 0.5002714366650669}. Best is trial 10 with value: 0.8699822032463775.\u001b[0m\n",
      "\u001b[32m[I 2023-05-02 22:52:40,806]\u001b[0m Trial 17 finished with value: 0.8314612729209166 and parameters: {'n_estimators': 416, 'max_depth': 6, 'reg_alpha': 0.5949566073144543, 'reg_lambda': 0.5599276488709652, 'min_child_weight': 6, 'gamma': 0.0008748691666667012, 'learning_rate': 0.33245657165507503, 'colsample_bytree': 0.6332518869958568, 'subsample': 0.613831720570903}. Best is trial 10 with value: 0.8699822032463775.\u001b[0m\n",
      "\u001b[32m[I 2023-05-02 22:53:14,036]\u001b[0m Trial 18 finished with value: 0.8624460297420512 and parameters: {'n_estimators': 315, 'max_depth': 3, 'reg_alpha': 0.8295847219747903, 'reg_lambda': 0.13792683371617404, 'min_child_weight': 5, 'gamma': 0.2604848225692274, 'learning_rate': 0.015387638692237915, 'colsample_bytree': 0.7090277969526814, 'subsample': 0.301035708437842}. Best is trial 10 with value: 0.8699822032463775.\u001b[0m\n",
      "\u001b[32m[I 2023-05-02 22:53:53,179]\u001b[0m Trial 19 finished with value: 0.8702711133685339 and parameters: {'n_estimators': 223, 'max_depth': 4, 'reg_alpha': 0.6061807223436635, 'reg_lambda': 0.1357563697503705, 'min_child_weight': 3, 'gamma': 0.12745081263730057, 'learning_rate': 0.1075494732665832, 'colsample_bytree': 0.7438454059389602, 'subsample': 0.46809398873602814}. Best is trial 19 with value: 0.8702711133685339.\u001b[0m\n"
     ]
    },
    {
     "name": "stdout",
     "output_type": "stream",
     "text": [
      "\u001b[32m[I 2023-05-02 22:54:31,589]\u001b[0m Trial 20 finished with value: 0.8673762585030774 and parameters: {'n_estimators': 212, 'max_depth': 4, 'reg_alpha': 0.5247556411209969, 'reg_lambda': 0.2997754633735551, 'min_child_weight': 1, 'gamma': 0.3651778764295727, 'learning_rate': 0.13365414555927757, 'colsample_bytree': 0.7380842992691021, 'subsample': 0.4667443255914983}. Best is trial 19 with value: 0.8702711133685339.\u001b[0m\n",
      "\u001b[32m[I 2023-05-02 22:55:12,073]\u001b[0m Trial 21 finished with value: 0.869788690152312 and parameters: {'n_estimators': 291, 'max_depth': 3, 'reg_alpha': 0.6238612318514156, 'reg_lambda': 0.15885755779499475, 'min_child_weight': 3, 'gamma': 0.12751888268208536, 'learning_rate': 0.13580614431291074, 'colsample_bytree': 0.7549761601437962, 'subsample': 0.5839122235471684}. Best is trial 19 with value: 0.8702711133685339.\u001b[0m\n",
      "\u001b[32m[I 2023-05-02 22:55:39,068]\u001b[0m Trial 22 finished with value: 0.869563996957395 and parameters: {'n_estimators': 160, 'max_depth': 4, 'reg_alpha': 0.5872307363421886, 'reg_lambda': 0.09651409595638809, 'min_child_weight': 3, 'gamma': 0.16191823547766704, 'learning_rate': 0.11641654970959917, 'colsample_bytree': 0.6718609460082594, 'subsample': 0.4873578761720335}. Best is trial 19 with value: 0.8702711133685339.\u001b[0m\n",
      "\u001b[32m[I 2023-05-02 22:56:51,433]\u001b[0m Trial 23 finished with value: 0.8397531871660548 and parameters: {'n_estimators': 277, 'max_depth': 6, 'reg_alpha': 0.7121754121745544, 'reg_lambda': 0.11101475770491001, 'min_child_weight': 3, 'gamma': 0.23365956855532602, 'learning_rate': 0.29788269176355187, 'colsample_bytree': 0.7464588735190941, 'subsample': 0.6041454341004022}. Best is trial 19 with value: 0.8702711133685339.\u001b[0m\n",
      "\u001b[32m[I 2023-05-02 22:57:21,188]\u001b[0m Trial 24 finished with value: 0.869528026552377 and parameters: {'n_estimators': 228, 'max_depth': 3, 'reg_alpha': 0.4274017256956008, 'reg_lambda': 0.00031693464529652937, 'min_child_weight': 3, 'gamma': 0.0893696214221006, 'learning_rate': 0.15879254614919897, 'colsample_bytree': 0.7539602457209498, 'subsample': 0.6667937419885535}. Best is trial 19 with value: 0.8702711133685339.\u001b[0m\n",
      "\u001b[32m[I 2023-05-02 22:58:19,180]\u001b[0m Trial 25 finished with value: 0.8673859240823456 and parameters: {'n_estimators': 373, 'max_depth': 4, 'reg_alpha': 0.6102229016604127, 'reg_lambda': 0.2322179490821929, 'min_child_weight': 4, 'gamma': 0.15532414343995726, 'learning_rate': 0.1109205955697767, 'colsample_bytree': 0.6496424256708959, 'subsample': 0.5107167501375485}. Best is trial 19 with value: 0.8702711133685339.\u001b[0m\n",
      "\u001b[32m[I 2023-05-02 22:58:56,298]\u001b[0m Trial 26 finished with value: 0.8523378004692039 and parameters: {'n_estimators': 171, 'max_depth': 5, 'reg_alpha': 0.7326880292630966, 'reg_lambda': 0.15554086568579453, 'min_child_weight': 1, 'gamma': 0.25672764119250846, 'learning_rate': 0.2721155506634665, 'colsample_bytree': 0.7383808791512583, 'subsample': 0.5876513848941889}. Best is trial 19 with value: 0.8702711133685339.\u001b[0m\n",
      "\u001b[32m[I 2023-05-02 22:59:30,431]\u001b[0m Trial 27 finished with value: 0.8701655495401732 and parameters: {'n_estimators': 293, 'max_depth': 3, 'reg_alpha': 0.5457772531962711, 'reg_lambda': 0.27630636734164826, 'min_child_weight': 2, 'gamma': 0.06250879319740227, 'learning_rate': 0.09923832302749555, 'colsample_bytree': 0.5853612629953907, 'subsample': 0.5456418850754855}. Best is trial 19 with value: 0.8702711133685339.\u001b[0m\n",
      "\u001b[32m[I 2023-05-02 22:59:47,595]\u001b[0m Trial 28 finished with value: 0.8697909179507889 and parameters: {'n_estimators': 119, 'max_depth': 4, 'reg_alpha': 0.5125776964719303, 'reg_lambda': 0.3789539422335375, 'min_child_weight': 2, 'gamma': 0.04099605632275874, 'learning_rate': 0.0897382472237134, 'colsample_bytree': 0.5851271715532419, 'subsample': 0.5460250265302257}. Best is trial 19 with value: 0.8702711133685339.\u001b[0m\n",
      "\u001b[32m[I 2023-05-02 23:00:31,141]\u001b[0m Trial 29 finished with value: 0.864938228401855 and parameters: {'n_estimators': 229, 'max_depth': 5, 'reg_alpha': 0.4261854732311743, 'reg_lambda': 0.2558159197980008, 'min_child_weight': 1, 'gamma': 0.07209417026927131, 'learning_rate': 0.01128603017905716, 'colsample_bytree': 0.6744373751084846, 'subsample': 0.4239042840711077}. Best is trial 19 with value: 0.8702711133685339.\u001b[0m\n",
      "\u001b[32m[I 2023-05-02 23:01:10,477]\u001b[0m Trial 30 finished with value: 0.8657600455555704 and parameters: {'n_estimators': 345, 'max_depth': 3, 'reg_alpha': 0.5693333851155556, 'reg_lambda': 0.28667297093304256, 'min_child_weight': 2, 'gamma': 0.18062359678336623, 'learning_rate': 0.19860575441801642, 'colsample_bytree': 0.5754803156214117, 'subsample': 0.5196712752138072}. Best is trial 19 with value: 0.8702711133685339.\u001b[0m\n",
      "\u001b[32m[I 2023-05-02 23:01:26,716]\u001b[0m Trial 31 finished with value: 0.870043309021586 and parameters: {'n_estimators': 113, 'max_depth': 4, 'reg_alpha': 0.5377780110002449, 'reg_lambda': 0.3983994616880881, 'min_child_weight': 2, 'gamma': 0.0513550948588437, 'learning_rate': 0.09904964455575394, 'colsample_bytree': 0.5779719169316396, 'subsample': 0.5463835616067662}. Best is trial 19 with value: 0.8702711133685339.\u001b[0m\n",
      "\u001b[32m[I 2023-05-02 23:01:36,252]\u001b[0m Trial 32 finished with value: 0.866641879812574 and parameters: {'n_estimators': 60, 'max_depth': 4, 'reg_alpha': 0.548363511966903, 'reg_lambda': 0.3691924724548443, 'min_child_weight': 2, 'gamma': 0.057158949591510536, 'learning_rate': 0.08063622228847012, 'colsample_bytree': 0.5527402502082477, 'subsample': 0.5453086771283858}. Best is trial 19 with value: 0.8702711133685339.\u001b[0m\n",
      "\u001b[32m[I 2023-05-02 23:01:57,680]\u001b[0m Trial 33 finished with value: 0.8626268944824581 and parameters: {'n_estimators': 102, 'max_depth': 5, 'reg_alpha': 0.47465367492304245, 'reg_lambda': 0.4273488891358951, 'min_child_weight': 1, 'gamma': 0.0002107190527225397, 'learning_rate': 0.20420915538022644, 'colsample_bytree': 0.6452996641103845, 'subsample': 0.4825986120580151}. Best is trial 19 with value: 0.8702711133685339.\u001b[0m\n",
      "\u001b[32m[I 2023-05-02 23:02:30,752]\u001b[0m Trial 34 finished with value: 0.8693283114164834 and parameters: {'n_estimators': 138, 'max_depth': 6, 'reg_alpha': 0.6573253700533328, 'reg_lambda': 0.2864344142716656, 'min_child_weight': 3, 'gamma': 0.18578881442265943, 'learning_rate': 0.07565520590480282, 'colsample_bytree': 0.6168974178371455, 'subsample': 0.517968460612732}. Best is trial 19 with value: 0.8702711133685339.\u001b[0m\n",
      "\u001b[32m[I 2023-05-02 23:02:53,134]\u001b[0m Trial 35 finished with value: 0.8681321066563553 and parameters: {'n_estimators': 193, 'max_depth': 3, 'reg_alpha': 0.5507622589621272, 'reg_lambda': 0.06606518746530256, 'min_child_weight': 4, 'gamma': 0.06885945921334868, 'learning_rate': 0.18094563186644297, 'colsample_bytree': 0.604488328897085, 'subsample': 0.4578922008664259}. Best is trial 19 with value: 0.8702711133685339.\u001b[0m\n",
      "\u001b[32m[I 2023-05-02 23:03:29,727]\u001b[0m Trial 36 finished with value: 0.8595337785401604 and parameters: {'n_estimators': 251, 'max_depth': 4, 'reg_alpha': 0.9196154387697165, 'reg_lambda': 0.20400813770199783, 'min_child_weight': 2, 'gamma': 0.13127041685721813, 'learning_rate': 0.251789287006565, 'colsample_bytree': 0.5384594259519706, 'subsample': 0.5637465039909632}. Best is trial 19 with value: 0.8702711133685339.\u001b[0m\n",
      "\u001b[32m[I 2023-05-02 23:03:52,144]\u001b[0m Trial 37 finished with value: 0.8680559322524004 and parameters: {'n_estimators': 80, 'max_depth': 7, 'reg_alpha': 0.6688118711855581, 'reg_lambda': 0.24738568300588404, 'min_child_weight': 2, 'gamma': 0.20604167799834866, 'learning_rate': 0.08183368005915859, 'colsample_bytree': 0.5790998690565136, 'subsample': 0.43313918412581776}. Best is trial 19 with value: 0.8702711133685339.\u001b[0m\n",
      "\u001b[32m[I 2023-05-02 23:04:51,913]\u001b[0m Trial 38 finished with value: 0.8606111522065077 and parameters: {'n_estimators': 298, 'max_depth': 5, 'reg_alpha': 0.7535851513865914, 'reg_lambda': 0.5521292262154593, 'min_child_weight': 1, 'gamma': 0.05776498541124648, 'learning_rate': 0.1507774302068564, 'colsample_bytree': 0.49078689252192603, 'subsample': 0.5203793107421057}. Best is trial 19 with value: 0.8702711133685339.\u001b[0m\n",
      "\u001b[32m[I 2023-05-02 23:05:10,301]\u001b[0m Trial 39 finished with value: 0.8672037693527418 and parameters: {'n_estimators': 137, 'max_depth': 3, 'reg_alpha': 0.359491830406965, 'reg_lambda': 0.11742147455466659, 'min_child_weight': 3, 'gamma': 0.12321835407392125, 'learning_rate': 0.06355530020362289, 'colsample_bytree': 0.7217907639525494, 'subsample': 0.7961116735976311}. Best is trial 19 with value: 0.8702711133685339.\u001b[0m\n"
     ]
    },
    {
     "name": "stdout",
     "output_type": "stream",
     "text": [
      "\u001b[32m[I 2023-05-02 23:06:21,684]\u001b[0m Trial 40 finished with value: 0.8426787460342743 and parameters: {'n_estimators': 404, 'max_depth': 4, 'reg_alpha': 0.47871323582004255, 'reg_lambda': 0.321828286143496, 'min_child_weight': 4, 'gamma': 0.42544505142074274, 'learning_rate': 0.3320275870028149, 'colsample_bytree': 0.6794903439845197, 'subsample': 0.4914530503710771}. Best is trial 19 with value: 0.8702711133685339.\u001b[0m\n",
      "\u001b[32m[I 2023-05-02 23:06:39,749]\u001b[0m Trial 41 finished with value: 0.8703854829909471 and parameters: {'n_estimators': 110, 'max_depth': 4, 'reg_alpha': 0.5255742002495815, 'reg_lambda': 0.4099462862100933, 'min_child_weight': 2, 'gamma': 0.04508446330451375, 'learning_rate': 0.10373252959011701, 'colsample_bytree': 0.5823659580173018, 'subsample': 0.547411256377153}. Best is trial 41 with value: 0.8703854829909471.\u001b[0m\n",
      "\u001b[32m[I 2023-05-02 23:06:57,233]\u001b[0m Trial 42 finished with value: 0.8701690282663785 and parameters: {'n_estimators': 105, 'max_depth': 4, 'reg_alpha': 0.5453120132554686, 'reg_lambda': 0.4216100305135538, 'min_child_weight': 2, 'gamma': 0.047049069239404315, 'learning_rate': 0.11061755687202068, 'colsample_bytree': 0.6106548850162276, 'subsample': 0.555300927206276}. Best is trial 41 with value: 0.8703854829909471.\u001b[0m\n",
      "\u001b[32m[I 2023-05-02 23:07:15,351]\u001b[0m Trial 43 finished with value: 0.8684094606016259 and parameters: {'n_estimators': 87, 'max_depth': 5, 'reg_alpha': 0.49599366975445514, 'reg_lambda': 0.4076514099964784, 'min_child_weight': 2, 'gamma': 0.20714492208797533, 'learning_rate': 0.1270213005448144, 'colsample_bytree': 0.621243057623411, 'subsample': 0.5438348430152872}. Best is trial 41 with value: 0.8703854829909471.\u001b[0m\n",
      "\u001b[32m[I 2023-05-02 23:07:24,120]\u001b[0m Trial 44 finished with value: 0.8681163737540173 and parameters: {'n_estimators': 53, 'max_depth': 4, 'reg_alpha': 0.5521101453148335, 'reg_lambda': 0.4658651327989928, 'min_child_weight': 2, 'gamma': 0.10181044604796, 'learning_rate': 0.18389157242690563, 'colsample_bytree': 0.6009190968413158, 'subsample': 0.5295933264748365}. Best is trial 41 with value: 0.8703854829909471.\u001b[0m\n",
      "\u001b[32m[I 2023-05-02 23:07:44,656]\u001b[0m Trial 45 finished with value: 0.8700092113298646 and parameters: {'n_estimators': 128, 'max_depth': 4, 'reg_alpha': 0.4547455461614512, 'reg_lambda': 0.3890259736184283, 'min_child_weight': 2, 'gamma': 0.16159291307584306, 'learning_rate': 0.08033224288466687, 'colsample_bytree': 0.5633031510176444, 'subsample': 0.5609468682674663}. Best is trial 41 with value: 0.8703854829909471.\u001b[0m\n",
      "\u001b[32m[I 2023-05-02 23:08:37,208]\u001b[0m Trial 46 finished with value: 0.8441039820384356 and parameters: {'n_estimators': 153, 'max_depth': 9, 'reg_alpha': 0.3888298606319678, 'reg_lambda': 0.44252329578289473, 'min_child_weight': 3, 'gamma': 0.03701692067958699, 'learning_rate': 0.23792278967006794, 'colsample_bytree': 0.5100895631906002, 'subsample': 0.5910303982341437}. Best is trial 41 with value: 0.8703854829909471.\u001b[0m\n",
      "\u001b[32m[I 2023-05-02 23:09:15,528]\u001b[0m Trial 47 finished with value: 0.8690706527435154 and parameters: {'n_estimators': 103, 'max_depth': 8, 'reg_alpha': 0.5260663635194918, 'reg_lambda': 0.5248232767859295, 'min_child_weight': 1, 'gamma': 0.05178246019847183, 'learning_rate': 0.04498449550731963, 'colsample_bytree': 0.5533274256229576, 'subsample': 0.5056847161535756}. Best is trial 41 with value: 0.8703854829909471.\u001b[0m\n",
      "\u001b[32m[I 2023-05-02 23:09:52,910]\u001b[0m Trial 48 finished with value: 0.8651683103449475 and parameters: {'n_estimators': 186, 'max_depth': 5, 'reg_alpha': 0.2940491209672496, 'reg_lambda': 0.3338796604267865, 'min_child_weight': 3, 'gamma': 0.09982138034465585, 'learning_rate': 0.16669776923889848, 'colsample_bytree': 0.6532772028824934, 'subsample': 0.622736933104895}. Best is trial 41 with value: 0.8703854829909471.\u001b[0m\n",
      "\u001b[32m[I 2023-05-02 23:10:02,134]\u001b[0m Trial 49 finished with value: 0.8664619767328375 and parameters: {'n_estimators': 75, 'max_depth': 3, 'reg_alpha': 0.45501070450590836, 'reg_lambda': 0.47545061127018257, 'min_child_weight': 1, 'gamma': 0.035858591684913683, 'learning_rate': 0.1129568332863403, 'colsample_bytree': 0.596645368591752, 'subsample': 0.5679569010080028}. Best is trial 41 with value: 0.8703854829909471.\u001b[0m\n",
      "\u001b[32m[I 2023-05-02 23:10:27,631]\u001b[0m Trial 50 finished with value: 0.8630939571005495 and parameters: {'n_estimators': 103, 'max_depth': 6, 'reg_alpha': 0.6457862052495313, 'reg_lambda': 0.35658830615823894, 'min_child_weight': 0, 'gamma': 0.14708805961218746, 'learning_rate': 0.010675773330800123, 'colsample_bytree': 0.6234687454527003, 'subsample': 0.6536936797979074}. Best is trial 41 with value: 0.8703854829909471.\u001b[0m\n",
      "\u001b[32m[I 2023-05-02 23:10:48,013]\u001b[0m Trial 51 finished with value: 0.8704381056808156 and parameters: {'n_estimators': 134, 'max_depth': 4, 'reg_alpha': 0.43861124186477674, 'reg_lambda': 0.4328985503557532, 'min_child_weight': 2, 'gamma': 0.16701859229455596, 'learning_rate': 0.08024497889414986, 'colsample_bytree': 0.5777897663412269, 'subsample': 0.6047847433091926}. Best is trial 51 with value: 0.8704381056808156.\u001b[0m\n",
      "\u001b[32m[I 2023-05-02 23:11:11,242]\u001b[0m Trial 52 finished with value: 0.8695337224395754 and parameters: {'n_estimators': 152, 'max_depth': 4, 'reg_alpha': 0.5816101607734013, 'reg_lambda': 0.40788730642415405, 'min_child_weight': 2, 'gamma': 0.09254311943415437, 'learning_rate': 0.057465423440033275, 'colsample_bytree': 0.5321294664042558, 'subsample': 0.6112723775497488}. Best is trial 51 with value: 0.8704381056808156.\u001b[0m\n",
      "\u001b[32m[I 2023-05-02 23:11:28,986]\u001b[0m Trial 53 finished with value: 0.8702782849244143 and parameters: {'n_estimators': 116, 'max_depth': 4, 'reg_alpha': 0.5014913738848173, 'reg_lambda': 0.5095646553986704, 'min_child_weight': 2, 'gamma': 0.21411644678182307, 'learning_rate': 0.1107023060568323, 'colsample_bytree': 0.5648498517503528, 'subsample': 0.5926020929716879}. Best is trial 51 with value: 0.8704381056808156.\u001b[0m\n",
      "\u001b[32m[I 2023-05-02 23:11:54,868]\u001b[0m Trial 54 finished with value: 0.8669413957059863 and parameters: {'n_estimators': 209, 'max_depth': 3, 'reg_alpha': 0.38204294913436576, 'reg_lambda': 0.6142711216735097, 'min_child_weight': 2, 'gamma': 0.28636669872265574, 'learning_rate': 0.22665884918771811, 'colsample_bytree': 0.6020058370706507, 'subsample': 0.5981945723409512}. Best is trial 51 with value: 0.8704381056808156.\u001b[0m\n",
      "\u001b[32m[I 2023-05-02 23:12:11,716]\u001b[0m Trial 55 finished with value: 0.8680533288155277 and parameters: {'n_estimators': 84, 'max_depth': 5, 'reg_alpha': 0.5118728137531346, 'reg_lambda': 0.4969081022819165, 'min_child_weight': 3, 'gamma': 0.18306245418714856, 'learning_rate': 0.1566836449328815, 'colsample_bytree': 0.6361542264750895, 'subsample': 0.5811149661215245}. Best is trial 51 with value: 0.8704381056808156.\u001b[0m\n",
      "\u001b[32m[I 2023-05-02 23:12:37,556]\u001b[0m Trial 56 finished with value: 0.8693353899758807 and parameters: {'n_estimators': 175, 'max_depth': 4, 'reg_alpha': 0.42922761688055167, 'reg_lambda': 0.3045662875816225, 'min_child_weight': 1, 'gamma': 0.22432137189947143, 'learning_rate': 0.0424934097863367, 'colsample_bytree': 0.5702927996564628, 'subsample': 0.6405373170343105}. Best is trial 51 with value: 0.8704381056808156.\u001b[0m\n",
      "\u001b[32m[I 2023-05-02 23:12:53,359]\u001b[0m Trial 57 finished with value: 0.8693304529332746 and parameters: {'n_estimators': 136, 'max_depth': 3, 'reg_alpha': 0.6106138746849825, 'reg_lambda': 0.4340489010665164, 'min_child_weight': 2, 'gamma': 0.12484982283971786, 'learning_rate': 0.12370641360495313, 'colsample_bytree': 0.5428298886502336, 'subsample': 0.6080237109827612}. Best is trial 51 with value: 0.8704381056808156.\u001b[0m\n",
      "\u001b[32m[I 2023-05-02 23:13:32,444]\u001b[0m Trial 58 finished with value: 0.8662447751369907 and parameters: {'n_estimators': 266, 'max_depth': 4, 'reg_alpha': 0.4793523760391161, 'reg_lambda': 0.4602397485355272, 'min_child_weight': 3, 'gamma': 0.2478672982725198, 'learning_rate': 0.1826689361418511, 'colsample_bytree': 0.5215005893552, 'subsample': 0.6734723981681783}. Best is trial 51 with value: 0.8704381056808156.\u001b[0m\n",
      "\u001b[32m[I 2023-05-02 23:14:04,246]\u001b[0m Trial 59 finished with value: 0.8527629731363575 and parameters: {'n_estimators': 228, 'max_depth': 3, 'reg_alpha': 0.5618368969187942, 'reg_lambda': 0.3388190762148887, 'min_child_weight': 2, 'gamma': 0.0014267323310481334, 'learning_rate': 0.48175090741409105, 'colsample_bytree': 0.7732683034383744, 'subsample': 0.5748968500871876}. Best is trial 51 with value: 0.8704381056808156.\u001b[0m\n"
     ]
    },
    {
     "name": "stdout",
     "output_type": "stream",
     "text": [
      "\u001b[32m[I 2023-05-02 23:14:28,519]\u001b[0m Trial 60 finished with value: 0.8618747000281781 and parameters: {'n_estimators': 121, 'max_depth': 5, 'reg_alpha': 0.6233705068151205, 'reg_lambda': 0.24219276642333265, 'min_child_weight': 1, 'gamma': 0.2052992883497262, 'learning_rate': 0.22082594935511463, 'colsample_bytree': 0.5624283347768588, 'subsample': 0.6327092814001724}. Best is trial 51 with value: 0.8704381056808156.\u001b[0m\n",
      "\u001b[32m[I 2023-05-02 23:14:45,068]\u001b[0m Trial 61 finished with value: 0.8700080154397476 and parameters: {'n_estimators': 105, 'max_depth': 4, 'reg_alpha': 0.5287582465883659, 'reg_lambda': 0.3876900844601874, 'min_child_weight': 2, 'gamma': 0.07645488513156085, 'learning_rate': 0.10934458884347986, 'colsample_bytree': 0.5827228304903445, 'subsample': 0.5341582587948212}. Best is trial 51 with value: 0.8704381056808156.\u001b[0m\n",
      "\u001b[32m[I 2023-05-02 23:14:59,549]\u001b[0m Trial 62 finished with value: 0.8647376706265067 and parameters: {'n_estimators': 92, 'max_depth': 4, 'reg_alpha': 0.5029228370421799, 'reg_lambda': 0.5033829270364361, 'min_child_weight': 2, 'gamma': 0.03142685142370748, 'learning_rate': 0.04152094967413817, 'colsample_bytree': 0.5865875149272238, 'subsample': 0.559630741674428}. Best is trial 51 with value: 0.8704381056808156.\u001b[0m\n",
      "\u001b[32m[I 2023-05-02 23:15:10,678]\u001b[0m Trial 63 finished with value: 0.8686962418311619 and parameters: {'n_estimators': 70, 'max_depth': 4, 'reg_alpha': 0.45037122804387586, 'reg_lambda': 0.3602167644662321, 'min_child_weight': 3, 'gamma': 0.15668914025681682, 'learning_rate': 0.1475066047776438, 'colsample_bytree': 0.6190380264447602, 'subsample': 0.5978219376958475}. Best is trial 51 with value: 0.8704381056808156.\u001b[0m\n",
      "\u001b[32m[I 2023-05-02 23:15:34,228]\u001b[0m Trial 64 finished with value: 0.8700594441230185 and parameters: {'n_estimators': 118, 'max_depth': 5, 'reg_alpha': 0.5840312225300437, 'reg_lambda': 0.26953498196964926, 'min_child_weight': 2, 'gamma': 0.11561040665542605, 'learning_rate': 0.10176112679911958, 'colsample_bytree': 0.5549441612825768, 'subsample': 0.557055885145124}. Best is trial 51 with value: 0.8704381056808156.\u001b[0m\n",
      "\u001b[32m[I 2023-05-02 23:16:02,005]\u001b[0m Trial 65 finished with value: 0.8700853825154441 and parameters: {'n_estimators': 149, 'max_depth': 5, 'reg_alpha': 0.5850751676323782, 'reg_lambda': 0.269230906495942, 'min_child_weight': 2, 'gamma': 0.12374393912471195, 'learning_rate': 0.0993444228430984, 'colsample_bytree': 0.49214924534854865, 'subsample': 0.578665851860757}. Best is trial 51 with value: 0.8704381056808156.\u001b[0m\n",
      "\u001b[32m[I 2023-05-02 23:16:20,484]\u001b[0m Trial 66 finished with value: 0.8675147731569529 and parameters: {'n_estimators': 161, 'max_depth': 3, 'reg_alpha': 0.5933104933340595, 'reg_lambda': 0.18979668130329996, 'min_child_weight': 1, 'gamma': 0.0866750504031329, 'learning_rate': 0.05732450887651266, 'colsample_bytree': 0.4886551578358166, 'subsample': 0.5780783534272058}. Best is trial 51 with value: 0.8704381056808156.\u001b[0m\n",
      "\u001b[32m[I 2023-05-02 23:16:46,568]\u001b[0m Trial 67 finished with value: 0.8660168536103259 and parameters: {'n_estimators': 148, 'max_depth': 5, 'reg_alpha': 0.6773910705659374, 'reg_lambda': 0.3149870637090056, 'min_child_weight': 3, 'gamma': 0.14787155276124025, 'learning_rate': 0.17450938320610732, 'colsample_bytree': 0.4680267196584923, 'subsample': 0.6188069516742958}. Best is trial 51 with value: 0.8704381056808156.\u001b[0m\n",
      "\u001b[32m[I 2023-05-02 23:17:17,049]\u001b[0m Trial 68 finished with value: 0.8700966077975496 and parameters: {'n_estimators': 185, 'max_depth': 4, 'reg_alpha': 0.6348477808930086, 'reg_lambda': 0.213929737024812, 'min_child_weight': 2, 'gamma': 0.22931048828728903, 'learning_rate': 0.13388142457562188, 'colsample_bytree': 0.6615720582355876, 'subsample': 0.5920156037328441}. Best is trial 51 with value: 0.8704381056808156.\u001b[0m\n",
      "\u001b[32m[I 2023-05-02 23:18:53,282]\u001b[0m Trial 69 finished with value: 0.8490863161401222 and parameters: {'n_estimators': 203, 'max_depth': 10, 'reg_alpha': 0.6391487659037067, 'reg_lambda': 0.14868738189903477, 'min_child_weight': 2, 'gamma': 0.27145767878371074, 'learning_rate': 0.14377274749994173, 'colsample_bytree': 0.6613650601655462, 'subsample': 0.5316296101693863}. Best is trial 51 with value: 0.8704381056808156.\u001b[0m\n",
      "\u001b[32m[I 2023-05-02 23:19:23,492]\u001b[0m Trial 70 finished with value: 0.8606113378209205 and parameters: {'n_estimators': 185, 'max_depth': 4, 'reg_alpha': 0.7020336668192565, 'reg_lambda': 0.21921699687124574, 'min_child_weight': 1, 'gamma': 0.22843876886807185, 'learning_rate': 0.013107024400685827, 'colsample_bytree': 0.6366828575937645, 'subsample': 0.6007146035356632}. Best is trial 51 with value: 0.8704381056808156.\u001b[0m\n",
      "\u001b[32m[I 2023-05-02 23:20:03,865]\u001b[0m Trial 71 finished with value: 0.8710207349795542 and parameters: {'n_estimators': 241, 'max_depth': 4, 'reg_alpha': 0.5683355306581495, 'reg_lambda': 0.2736998937950511, 'min_child_weight': 2, 'gamma': 0.1849727740463578, 'learning_rate': 0.0894638611449402, 'colsample_bytree': 0.6872414179348518, 'subsample': 0.5884423175224776}. Best is trial 71 with value: 0.8710207349795542.\u001b[0m\n",
      "\u001b[32m[I 2023-05-02 23:20:40,648]\u001b[0m Trial 72 finished with value: 0.8709938313217052 and parameters: {'n_estimators': 219, 'max_depth': 4, 'reg_alpha': 0.5555696010526536, 'reg_lambda': 0.21967742715000663, 'min_child_weight': 2, 'gamma': 0.18760946178148108, 'learning_rate': 0.07903568713802162, 'colsample_bytree': 0.7053630179605074, 'subsample': 0.5936428018348873}. Best is trial 71 with value: 0.8710207349795542.\u001b[0m\n",
      "\u001b[32m[I 2023-05-02 23:21:10,794]\u001b[0m Trial 73 finished with value: 0.8700147087901646 and parameters: {'n_estimators': 237, 'max_depth': 3, 'reg_alpha': 0.5483173321246863, 'reg_lambda': 0.16714631888896908, 'min_child_weight': 2, 'gamma': 0.18050965675335529, 'learning_rate': 0.07146839773735404, 'colsample_bytree': 0.6898681607809766, 'subsample': 0.5566598193457075}. Best is trial 71 with value: 0.8710207349795542.\u001b[0m\n",
      "\u001b[32m[I 2023-05-02 23:22:00,034]\u001b[0m Trial 74 finished with value: 0.8706899572088878 and parameters: {'n_estimators': 300, 'max_depth': 4, 'reg_alpha': 0.5062551959658805, 'reg_lambda': 0.29311789540928446, 'min_child_weight': 3, 'gamma': 0.30154628715210585, 'learning_rate': 0.03599536869584949, 'colsample_bytree': 0.7142663296336929, 'subsample': 0.5029222836197691}. Best is trial 71 with value: 0.8710207349795542.\u001b[0m\n",
      "\u001b[32m[I 2023-05-02 23:22:44,370]\u001b[0m Trial 75 finished with value: 0.870154712364408 and parameters: {'n_estimators': 269, 'max_depth': 4, 'reg_alpha': 0.5213951615352154, 'reg_lambda': 0.34223514930481247, 'min_child_weight': 3, 'gamma': 0.29371331263369144, 'learning_rate': 0.03275911840858542, 'colsample_bytree': 0.713760543388162, 'subsample': 0.5050381389746361}. Best is trial 71 with value: 0.8710207349795542.\u001b[0m\n",
      "\u001b[32m[I 2023-05-02 23:23:21,800]\u001b[0m Trial 76 finished with value: 0.8708133124606426 and parameters: {'n_estimators': 219, 'max_depth': 4, 'reg_alpha': 0.49673878528630194, 'reg_lambda': 0.3015986451026667, 'min_child_weight': 4, 'gamma': 0.31819805284611136, 'learning_rate': 0.06887815760481919, 'colsample_bytree': 0.6987130242474265, 'subsample': 0.6214444669523412}. Best is trial 71 with value: 0.8710207349795542.\u001b[0m\n",
      "\u001b[32m[I 2023-05-02 23:24:04,756]\u001b[0m Trial 77 finished with value: 0.8701094432951141 and parameters: {'n_estimators': 242, 'max_depth': 4, 'reg_alpha': 0.5008946759501299, 'reg_lambda': 0.2932784245645528, 'min_child_weight': 4, 'gamma': 0.3181015824654481, 'learning_rate': 0.03617383386209903, 'colsample_bytree': 0.7013685170657393, 'subsample': 0.6219530252358724}. Best is trial 71 with value: 0.8710207349795542.\u001b[0m\n",
      "\u001b[32m[I 2023-05-02 23:24:43,758]\u001b[0m Trial 78 finished with value: 0.870756037817255 and parameters: {'n_estimators': 218, 'max_depth': 4, 'reg_alpha': 0.47320217383996216, 'reg_lambda': 0.2520044119291938, 'min_child_weight': 4, 'gamma': 0.3565113263108981, 'learning_rate': 0.0656045334061841, 'colsample_bytree': 0.7262969826113164, 'subsample': 0.47589972095509114}. Best is trial 71 with value: 0.8710207349795542.\u001b[0m\n",
      "\u001b[32m[I 2023-05-02 23:25:43,315]\u001b[0m Trial 79 finished with value: 0.8704935536209593 and parameters: {'n_estimators': 285, 'max_depth': 5, 'reg_alpha': 0.4149356306457132, 'reg_lambda': 0.24563859839738378, 'min_child_weight': 4, 'gamma': 0.3639439159248478, 'learning_rate': 0.06634588161190465, 'colsample_bytree': 0.7287329803365783, 'subsample': 0.6430954702923918}. Best is trial 71 with value: 0.8710207349795542.\u001b[0m\n"
     ]
    },
    {
     "name": "stdout",
     "output_type": "stream",
     "text": [
      "\u001b[32m[I 2023-05-02 23:26:57,796]\u001b[0m Trial 80 finished with value: 0.8678218096417378 and parameters: {'n_estimators': 304, 'max_depth': 6, 'reg_alpha': 0.4185071369369861, 'reg_lambda': 0.24672764438995629, 'min_child_weight': 5, 'gamma': 0.36651392624354784, 'learning_rate': 0.07067076756041896, 'colsample_bytree': 0.7227467659709848, 'subsample': 0.6989336320183103}. Best is trial 71 with value: 0.8710207349795542.\u001b[0m\n",
      "\u001b[32m[I 2023-05-02 23:27:42,623]\u001b[0m Trial 81 finished with value: 0.8713769131482255 and parameters: {'n_estimators': 282, 'max_depth': 4, 'reg_alpha': 0.4688984398504459, 'reg_lambda': 0.30333516986047204, 'min_child_weight': 4, 'gamma': 0.34316171869983725, 'learning_rate': 0.05741901776546653, 'colsample_bytree': 0.7331176825939008, 'subsample': 0.6029377364799213}. Best is trial 81 with value: 0.8713769131482255.\u001b[0m\n",
      "\u001b[32m[I 2023-05-02 23:28:47,379]\u001b[0m Trial 82 finished with value: 0.8698799875296677 and parameters: {'n_estimators': 333, 'max_depth': 5, 'reg_alpha': 0.45314407278505187, 'reg_lambda': 0.22831319487949475, 'min_child_weight': 4, 'gamma': 0.3429044755362388, 'learning_rate': 0.05940160278432499, 'colsample_bytree': 0.7273678430635412, 'subsample': 0.643252762856779}. Best is trial 81 with value: 0.8713769131482255.\u001b[0m\n",
      "\u001b[32m[I 2023-05-02 23:29:34,782]\u001b[0m Trial 83 finished with value: 0.8703218327545226 and parameters: {'n_estimators': 283, 'max_depth': 4, 'reg_alpha': 0.4738274049272965, 'reg_lambda': 0.3125840293531017, 'min_child_weight': 5, 'gamma': 0.260774199957184, 'learning_rate': 0.03375305399352984, 'colsample_bytree': 0.7596100348807517, 'subsample': 0.6125393521841295}. Best is trial 81 with value: 0.8713769131482255.\u001b[0m\n",
      "\u001b[32m[I 2023-05-02 23:30:31,961]\u001b[0m Trial 84 finished with value: 0.8665719736749967 and parameters: {'n_estimators': 257, 'max_depth': 5, 'reg_alpha': 0.4089814275152844, 'reg_lambda': 0.26729747691220623, 'min_child_weight': 4, 'gamma': 0.40422183516531174, 'learning_rate': 0.012918876529268014, 'colsample_bytree': 0.6926737254264483, 'subsample': 0.6273710579608699}. Best is trial 81 with value: 0.8713769131482255.\u001b[0m\n",
      "\u001b[32m[I 2023-05-02 23:31:24,112]\u001b[0m Trial 85 finished with value: 0.8701197423379623 and parameters: {'n_estimators': 309, 'max_depth': 4, 'reg_alpha': 0.3565995663429319, 'reg_lambda': 0.19200931345492278, 'min_child_weight': 4, 'gamma': 0.31153717082291854, 'learning_rate': 0.0800131875893378, 'colsample_bytree': 0.7323518608870404, 'subsample': 0.5716455209873544}. Best is trial 81 with value: 0.8713769131482255.\u001b[0m\n",
      "\u001b[32m[I 2023-05-02 23:32:00,929]\u001b[0m Trial 86 finished with value: 0.8708826173264287 and parameters: {'n_estimators': 219, 'max_depth': 4, 'reg_alpha': 0.43182275441798096, 'reg_lambda': 0.3016517102377391, 'min_child_weight': 4, 'gamma': 0.4727385676906879, 'learning_rate': 0.08780242211983706, 'colsample_bytree': 0.7435802352845954, 'subsample': 0.6072962700723824}. Best is trial 81 with value: 0.8713769131482255.\u001b[0m\n",
      "\u001b[32m[I 2023-05-02 23:32:37,324]\u001b[0m Trial 87 finished with value: 0.8707619410361417 and parameters: {'n_estimators': 221, 'max_depth': 4, 'reg_alpha': 0.4065989483324618, 'reg_lambda': 0.24835215675148453, 'min_child_weight': 4, 'gamma': 0.38209316500495516, 'learning_rate': 0.05308597330352744, 'colsample_bytree': 0.7447668393957052, 'subsample': 0.6523729486354669}. Best is trial 81 with value: 0.8713769131482255.\u001b[0m\n",
      "\u001b[32m[I 2023-05-02 23:33:23,624]\u001b[0m Trial 88 finished with value: 0.8707482783092922 and parameters: {'n_estimators': 219, 'max_depth': 5, 'reg_alpha': 0.47395908513075197, 'reg_lambda': 0.2882851285673557, 'min_child_weight': 4, 'gamma': 0.4890047022251289, 'learning_rate': 0.05309021015068645, 'colsample_bytree': 0.7476641652615549, 'subsample': 0.652694318468953}. Best is trial 81 with value: 0.8713769131482255.\u001b[0m\n",
      "\u001b[32m[I 2023-05-02 23:33:51,708]\u001b[0m Trial 89 finished with value: 0.8668847874240957 and parameters: {'n_estimators': 218, 'max_depth': 3, 'reg_alpha': 0.474258182929618, 'reg_lambda': 0.2896586734473808, 'min_child_weight': 5, 'gamma': 0.4861660417320481, 'learning_rate': 0.03669234311532389, 'colsample_bytree': 0.7471505905687101, 'subsample': 0.6641366945953173}. Best is trial 81 with value: 0.8713769131482255.\u001b[0m\n",
      "\u001b[32m[I 2023-05-02 23:35:01,818]\u001b[0m Trial 90 finished with value: 0.8580132072635038 and parameters: {'n_estimators': 247, 'max_depth': 7, 'reg_alpha': 0.39251858986833243, 'reg_lambda': 0.18346899110970555, 'min_child_weight': 4, 'gamma': 0.45995775894472857, 'learning_rate': 0.13263286237838273, 'colsample_bytree': 0.7094680997561806, 'subsample': 0.6261387018613294}. Best is trial 81 with value: 0.8713769131482255.\u001b[0m\n",
      "\u001b[32m[I 2023-05-02 23:35:59,622]\u001b[0m Trial 91 finished with value: 0.8707074883253328 and parameters: {'n_estimators': 286, 'max_depth': 5, 'reg_alpha': 0.4123659525983009, 'reg_lambda': 0.24706987391889867, 'min_child_weight': 4, 'gamma': 0.38093908047180003, 'learning_rate': 0.062160752858012334, 'colsample_bytree': 0.7667384723975745, 'subsample': 0.6460178143878288}. Best is trial 81 with value: 0.8713769131482255.\u001b[0m\n",
      "\u001b[32m[I 2023-05-02 23:36:40,870]\u001b[0m Trial 92 finished with value: 0.8706878276148805 and parameters: {'n_estimators': 234, 'max_depth': 4, 'reg_alpha': 0.4487584231352406, 'reg_lambda': 0.21940589615685088, 'min_child_weight': 4, 'gamma': 0.3990463356510878, 'learning_rate': 0.05121171175391406, 'colsample_bytree': 0.7823031529757798, 'subsample': 0.6532480470806545}. Best is trial 81 with value: 0.8713769131482255.\u001b[0m\n",
      "\u001b[32m[I 2023-05-02 23:37:23,130]\u001b[0m Trial 93 finished with value: 0.8703631852046685 and parameters: {'n_estimators': 199, 'max_depth': 5, 'reg_alpha': 0.4855434002833384, 'reg_lambda': 0.26538722287042066, 'min_child_weight': 4, 'gamma': 0.33823749060641806, 'learning_rate': 0.08674482470128066, 'colsample_bytree': 0.7426200813905075, 'subsample': 0.6135175013930406}. Best is trial 81 with value: 0.8713769131482255.\u001b[0m\n",
      "\u001b[32m[I 2023-05-02 23:38:21,319]\u001b[0m Trial 94 finished with value: 0.8707185547659344 and parameters: {'n_estimators': 217, 'max_depth': 6, 'reg_alpha': 0.36797463746182124, 'reg_lambda': 0.32048220137509775, 'min_child_weight': 4, 'gamma': 0.44581039497906133, 'learning_rate': 0.025793660532929023, 'colsample_bytree': 0.7644568335568045, 'subsample': 0.6337245993256106}. Best is trial 81 with value: 0.8713769131482255.\u001b[0m\n",
      "\u001b[32m[I 2023-05-02 23:39:17,787]\u001b[0m Trial 95 finished with value: 0.8684989447012226 and parameters: {'n_estimators': 220, 'max_depth': 6, 'reg_alpha': 0.36671529356166505, 'reg_lambda': 0.3230618330986302, 'min_child_weight': 4, 'gamma': 0.44773293445971374, 'learning_rate': 0.0165731077121484, 'colsample_bytree': 0.7569300822919516, 'subsample': 0.6292473681996947}. Best is trial 81 with value: 0.8713769131482255.\u001b[0m\n",
      "\u001b[32m[I 2023-05-02 23:40:34,145]\u001b[0m Trial 96 finished with value: 0.8626625420529394 and parameters: {'n_estimators': 261, 'max_depth': 7, 'reg_alpha': 0.3182944616606745, 'reg_lambda': 0.36933746001400947, 'min_child_weight': 4, 'gamma': 0.5544391204668421, 'learning_rate': 0.09008095643556724, 'colsample_bytree': 0.7699782750145845, 'subsample': 0.6777453402069666}. Best is trial 81 with value: 0.8713769131482255.\u001b[0m\n",
      "\u001b[32m[I 2023-05-02 23:41:24,659]\u001b[0m Trial 97 finished with value: 0.8629848668154614 and parameters: {'n_estimators': 213, 'max_depth': 6, 'reg_alpha': 0.3944781751296466, 'reg_lambda': 0.23239843274418726, 'min_child_weight': 5, 'gamma': 0.4178347609223906, 'learning_rate': 0.13175117288665356, 'colsample_bytree': 0.7361590391622684, 'subsample': 0.6376874581425513}. Best is trial 81 with value: 0.8713769131482255.\u001b[0m\n",
      "\u001b[32m[I 2023-05-02 23:42:29,249]\u001b[0m Trial 98 finished with value: 0.8560948312683452 and parameters: {'n_estimators': 253, 'max_depth': 6, 'reg_alpha': 0.4344409310340194, 'reg_lambda': 0.30792983824177766, 'min_child_weight': 4, 'gamma': 0.3751997534582444, 'learning_rate': 0.15982450641835635, 'colsample_bytree': 0.7634970413109542, 'subsample': 0.5875875966392067}. Best is trial 81 with value: 0.8713769131482255.\u001b[0m\n",
      "\u001b[32m[I 2023-05-02 23:43:13,581]\u001b[0m Trial 99 finished with value: 0.8710811144840163 and parameters: {'n_estimators': 203, 'max_depth': 5, 'reg_alpha': 0.40725425471049875, 'reg_lambda': 0.2771367420610401, 'min_child_weight': 4, 'gamma': 0.4320596956048979, 'learning_rate': 0.051026322879320546, 'colsample_bytree': 0.7908025142725981, 'subsample': 0.6045325225582449}. Best is trial 81 with value: 0.8713769131482255.\u001b[0m\n"
     ]
    },
    {
     "name": "stdout",
     "output_type": "stream",
     "text": [
      "\u001b[32m[I 2023-05-02 23:43:47,908]\u001b[0m Trial 100 finished with value: 0.8694417001815481 and parameters: {'n_estimators': 202, 'max_depth': 4, 'reg_alpha': 0.4663699660020236, 'reg_lambda': 0.20263644736822123, 'min_child_weight': 5, 'gamma': 0.4311283631106056, 'learning_rate': 0.12083491674181604, 'colsample_bytree': 0.7944164215530498, 'subsample': 0.6054390866633718}. Best is trial 81 with value: 0.8713769131482255.\u001b[0m\n",
      "\u001b[32m[I 2023-05-02 23:44:35,230]\u001b[0m Trial 101 finished with value: 0.8711457043695339 and parameters: {'n_estimators': 223, 'max_depth': 5, 'reg_alpha': 0.4117146878434491, 'reg_lambda': 0.25698340538590825, 'min_child_weight': 4, 'gamma': 0.4007125166229202, 'learning_rate': 0.05827248105317487, 'colsample_bytree': 0.7800753594406082, 'subsample': 0.6165929844926841}. Best is trial 81 with value: 0.8713769131482255.\u001b[0m\n",
      "\u001b[32m[I 2023-05-02 23:45:21,561]\u001b[0m Trial 102 finished with value: 0.8712097843331452 and parameters: {'n_estimators': 224, 'max_depth': 5, 'reg_alpha': 0.37260056224550264, 'reg_lambda': 0.3307937368874318, 'min_child_weight': 4, 'gamma': 0.40135234288060384, 'learning_rate': 0.052552894247985656, 'colsample_bytree': 0.7828646382491734, 'subsample': 0.6194525408810398}. Best is trial 81 with value: 0.8713769131482255.\u001b[0m\n",
      "\u001b[32m[I 2023-05-02 23:46:15,671]\u001b[0m Trial 103 finished with value: 0.8690941347776237 and parameters: {'n_estimators': 230, 'max_depth': 5, 'reg_alpha': 0.43010813132761516, 'reg_lambda': 0.27780228948172037, 'min_child_weight': 4, 'gamma': 0.33935577633043806, 'learning_rate': 0.08902281076834073, 'colsample_bytree': 0.7878444393154524, 'subsample': 0.6154094499440889}. Best is trial 81 with value: 0.8713769131482255.\u001b[0m\n",
      "\u001b[32m[I 2023-05-02 23:51:56,032]\u001b[0m Trial 104 finished with value: 0.8710678724019709 and parameters: {'n_estimators': 193, 'max_depth': 5, 'reg_alpha': 0.3413341578179561, 'reg_lambda': 0.34655695112683, 'min_child_weight': 4, 'gamma': 0.39631403095648554, 'learning_rate': 0.05890113223130919, 'colsample_bytree': 0.7802128991683741, 'subsample': 0.5990435151936904}. Best is trial 81 with value: 0.8713769131482255.\u001b[0m\n",
      "\u001b[32m[I 2023-05-02 23:53:44,561]\u001b[0m Trial 105 finished with value: 0.8701442851965956 and parameters: {'n_estimators': 193, 'max_depth': 5, 'reg_alpha': 0.3550831476509849, 'reg_lambda': 0.3399589028268092, 'min_child_weight': 5, 'gamma': 0.39466708906239484, 'learning_rate': 0.09187459431197269, 'colsample_bytree': 0.7844893324362987, 'subsample': 0.5960840922022417}. Best is trial 81 with value: 0.8713769131482255.\u001b[0m\n",
      "\u001b[32m[I 2023-05-02 23:54:09,113]\u001b[0m Trial 106 finished with value: 0.8646232429549695 and parameters: {'n_estimators': 174, 'max_depth': 4, 'reg_alpha': 0.33185366534647653, 'reg_lambda': 0.2558720909767721, 'min_child_weight': 4, 'gamma': 0.3505612910761505, 'learning_rate': 0.19327450927532147, 'colsample_bytree': 0.7995411304646426, 'subsample': 0.6043450341084661}. Best is trial 81 with value: 0.8713769131482255.\u001b[0m\n",
      "\u001b[32m[I 2023-05-02 23:54:52,946]\u001b[0m Trial 107 finished with value: 0.8711198855443273 and parameters: {'n_estimators': 242, 'max_depth': 5, 'reg_alpha': 0.3914881133672227, 'reg_lambda': 0.3552777429577322, 'min_child_weight': 4, 'gamma': 0.3984790310772016, 'learning_rate': 0.05209437376531083, 'colsample_bytree': 0.7800595199909268, 'subsample': 0.5845337468420345}. Best is trial 81 with value: 0.8713769131482255.\u001b[0m\n",
      "\u001b[32m[I 2023-05-02 23:55:44,186]\u001b[0m Trial 108 finished with value: 0.8714394665142532 and parameters: {'n_estimators': 272, 'max_depth': 5, 'reg_alpha': 0.40078975509495296, 'reg_lambda': 0.35131732548987954, 'min_child_weight': 4, 'gamma': 0.3898470116057284, 'learning_rate': 0.02958295829568431, 'colsample_bytree': 0.781450922707258, 'subsample': 0.5860826343801664}. Best is trial 108 with value: 0.8714394665142532.\u001b[0m\n",
      "\u001b[32m[I 2023-05-02 23:56:35,981]\u001b[0m Trial 109 finished with value: 0.8652728192710922 and parameters: {'n_estimators': 272, 'max_depth': 5, 'reg_alpha': 0.37790829762626543, 'reg_lambda': 0.3563202339560546, 'min_child_weight': 5, 'gamma': 0.4145029213452359, 'learning_rate': 0.11537557222288214, 'colsample_bytree': 0.7767659237008041, 'subsample': 0.5867295977025501}. Best is trial 108 with value: 0.8714394665142532.\u001b[0m\n",
      "\u001b[32m[I 2023-05-02 23:57:23,324]\u001b[0m Trial 110 finished with value: 0.8635443141537162 and parameters: {'n_estimators': 240, 'max_depth': 5, 'reg_alpha': 0.34356057052443006, 'reg_lambda': 0.3806730483650725, 'min_child_weight': 4, 'gamma': 0.32228066858750093, 'learning_rate': 0.010595099038505432, 'colsample_bytree': 0.7760057786352392, 'subsample': 0.568991181613119}. Best is trial 108 with value: 0.8714394665142532.\u001b[0m\n",
      "\u001b[32m[I 2023-05-02 23:58:09,717]\u001b[0m Trial 111 finished with value: 0.8711693936182792 and parameters: {'n_estimators': 245, 'max_depth': 5, 'reg_alpha': 0.39469654853196223, 'reg_lambda': 0.33681087825819606, 'min_child_weight': 4, 'gamma': 0.42579373526907643, 'learning_rate': 0.04818456552350034, 'colsample_bytree': 0.790783765266886, 'subsample': 0.5831963287256314}. Best is trial 108 with value: 0.8714394665142532.\u001b[0m\n",
      "\u001b[32m[I 2023-05-02 23:58:59,313]\u001b[0m Trial 112 finished with value: 0.8708671861510837 and parameters: {'n_estimators': 244, 'max_depth': 5, 'reg_alpha': 0.3841268644752474, 'reg_lambda': 0.3493841118350065, 'min_child_weight': 4, 'gamma': 0.39115343965102134, 'learning_rate': 0.02974640376177065, 'colsample_bytree': 0.7895090600980108, 'subsample': 0.59866922429217}. Best is trial 108 with value: 0.8714394665142532.\u001b[0m\n",
      "\u001b[32m[I 2023-05-02 23:59:50,851]\u001b[0m Trial 113 finished with value: 0.8711060674539016 and parameters: {'n_estimators': 248, 'max_depth': 5, 'reg_alpha': 0.38650158008402474, 'reg_lambda': 0.34992353624234673, 'min_child_weight': 4, 'gamma': 0.42449726454161485, 'learning_rate': 0.0304945736265724, 'colsample_bytree': 0.7919891940154294, 'subsample': 0.5851910041694205}. Best is trial 108 with value: 0.8714394665142532.\u001b[0m\n",
      "\u001b[32m[I 2023-05-03 00:00:46,954]\u001b[0m Trial 114 finished with value: 0.8713441653998693 and parameters: {'n_estimators': 262, 'max_depth': 5, 'reg_alpha': 0.31278610995603606, 'reg_lambda': 0.32947010441902475, 'min_child_weight': 4, 'gamma': 0.4261389860296293, 'learning_rate': 0.04198918932807269, 'colsample_bytree': 0.7996493462727725, 'subsample': 0.5810145478214811}. Best is trial 108 with value: 0.8714394665142532.\u001b[0m\n",
      "\u001b[32m[I 2023-05-03 00:01:42,015]\u001b[0m Trial 115 finished with value: 0.8714617964772511 and parameters: {'n_estimators': 264, 'max_depth': 5, 'reg_alpha': 0.31326888663084973, 'reg_lambda': 0.3809167956337899, 'min_child_weight': 4, 'gamma': 0.4284120841874153, 'learning_rate': 0.04884131914445361, 'colsample_bytree': 0.7988707743933411, 'subsample': 0.5822009839519543}. Best is trial 115 with value: 0.8714617964772511.\u001b[0m\n",
      "\u001b[32m[I 2023-05-03 00:02:36,912]\u001b[0m Trial 116 finished with value: 0.8714243536430553 and parameters: {'n_estimators': 262, 'max_depth': 5, 'reg_alpha': 0.31303841649311354, 'reg_lambda': 0.37648928002387577, 'min_child_weight': 4, 'gamma': 0.4299198068784863, 'learning_rate': 0.043329490903109134, 'colsample_bytree': 0.7998126973991465, 'subsample': 0.5783794444696176}. Best is trial 115 with value: 0.8714617964772511.\u001b[0m\n",
      "\u001b[32m[I 2023-05-03 00:03:33,013]\u001b[0m Trial 117 finished with value: 0.8711124769944201 and parameters: {'n_estimators': 276, 'max_depth': 5, 'reg_alpha': 0.3009469040198241, 'reg_lambda': 0.3731896278497125, 'min_child_weight': 4, 'gamma': 0.428733654539779, 'learning_rate': 0.04656569552318388, 'colsample_bytree': 0.7955133325488151, 'subsample': 0.5772510324788547}. Best is trial 115 with value: 0.8714617964772511.\u001b[0m\n",
      "\u001b[32m[I 2023-05-03 00:04:42,329]\u001b[0m Trial 118 finished with value: 0.8717654263053658 and parameters: {'n_estimators': 277, 'max_depth': 6, 'reg_alpha': 0.31275249798717175, 'reg_lambda': 0.39624037557783565, 'min_child_weight': 4, 'gamma': 0.4271332060293897, 'learning_rate': 0.0272243451304113, 'colsample_bytree': 0.7985041560009833, 'subsample': 0.5707179725702736}. Best is trial 118 with value: 0.8717654263053658.\u001b[0m\n",
      "\u001b[32m[I 2023-05-03 00:05:50,270]\u001b[0m Trial 119 finished with value: 0.8714259039377257 and parameters: {'n_estimators': 276, 'max_depth': 6, 'reg_alpha': 0.31036409551033844, 'reg_lambda': 0.3973740987824117, 'min_child_weight': 4, 'gamma': 0.42181293387055896, 'learning_rate': 0.026818925109649533, 'colsample_bytree': 0.7977819895574274, 'subsample': 0.5702194793958791}. Best is trial 118 with value: 0.8717654263053658.\u001b[0m\n"
     ]
    }
   ],
   "source": [
    "study1 = optuna.create_study(direction='maximize', sampler=TPESampler())\n",
    "study1.optimize(objective, n_trials=120, show_progress_bar=True)"
   ]
  },
  {
   "cell_type": "code",
   "execution_count": 41,
   "id": "d20bf5c2",
   "metadata": {},
   "outputs": [
    {
     "data": {
      "text/plain": [
       "FrozenTrial(number=118, state=TrialState.COMPLETE, values=[0.8717654263053658], datetime_start=datetime.datetime(2023, 5, 3, 0, 3, 33, 16547), datetime_complete=datetime.datetime(2023, 5, 3, 0, 4, 42, 328690), params={'n_estimators': 277, 'max_depth': 6, 'reg_alpha': 0.31275249798717175, 'reg_lambda': 0.39624037557783565, 'min_child_weight': 4, 'gamma': 0.4271332060293897, 'learning_rate': 0.0272243451304113, 'colsample_bytree': 0.7985041560009833, 'subsample': 0.5707179725702736}, user_attrs={}, system_attrs={}, intermediate_values={}, distributions={'n_estimators': IntDistribution(high=500, log=False, low=50, step=1), 'max_depth': IntDistribution(high=10, log=False, low=3, step=1), 'reg_alpha': FloatDistribution(high=1.0, log=False, low=1e-08, step=None), 'reg_lambda': FloatDistribution(high=1.0, log=False, low=1e-08, step=None), 'min_child_weight': IntDistribution(high=6, log=False, low=0, step=1), 'gamma': FloatDistribution(high=1.0, log=False, low=1e-08, step=None), 'learning_rate': FloatDistribution(high=1.0, log=False, low=0.01, step=None), 'colsample_bytree': FloatDistribution(high=0.8, log=False, low=0.3, step=None), 'subsample': FloatDistribution(high=0.8, log=False, low=0.3, step=None)}, trial_id=118, value=None)"
      ]
     },
     "execution_count": 41,
     "metadata": {},
     "output_type": "execute_result"
    }
   ],
   "source": [
    "study1.best_trial"
   ]
  },
  {
   "cell_type": "code",
   "execution_count": null,
   "id": "c57d17b2",
   "metadata": {},
   "outputs": [],
   "source": []
  },
  {
   "cell_type": "code",
   "execution_count": 42,
   "id": "2e873a7a",
   "metadata": {},
   "outputs": [],
   "source": [
    "param_h1n1 = study1.best_params"
   ]
  },
  {
   "cell_type": "code",
   "execution_count": 43,
   "id": "4156a56d",
   "metadata": {},
   "outputs": [
    {
     "data": {
      "text/plain": [
       "{'n_estimators': 277,\n",
       " 'max_depth': 6,\n",
       " 'reg_alpha': 0.31275249798717175,\n",
       " 'reg_lambda': 0.39624037557783565,\n",
       " 'min_child_weight': 4,\n",
       " 'gamma': 0.4271332060293897,\n",
       " 'learning_rate': 0.0272243451304113,\n",
       " 'colsample_bytree': 0.7985041560009833,\n",
       " 'subsample': 0.5707179725702736}"
      ]
     },
     "execution_count": 43,
     "metadata": {},
     "output_type": "execute_result"
    }
   ],
   "source": [
    "param_h1n1"
   ]
  },
  {
   "cell_type": "code",
   "execution_count": 44,
   "id": "a9973207",
   "metadata": {},
   "outputs": [
    {
     "data": {
      "text/plain": [
       "<optuna.pruners._median.MedianPruner at 0x7f95e8fff820>"
      ]
     },
     "execution_count": 44,
     "metadata": {},
     "output_type": "execute_result"
    }
   ],
   "source": [
    "study1.pruner"
   ]
  },
  {
   "cell_type": "code",
   "execution_count": null,
   "id": "ef244fe6",
   "metadata": {},
   "outputs": [],
   "source": []
  },
  {
   "cell_type": "code",
   "execution_count": 45,
   "id": "9a0c7f72",
   "metadata": {},
   "outputs": [],
   "source": [
    "X_train_h1, X_test_h1, y_train_h1, y_test_h1 = train_test_split(data, label1, test_size=0.2, random_state=101)"
   ]
  },
  {
   "cell_type": "code",
   "execution_count": 46,
   "id": "952112dd",
   "metadata": {},
   "outputs": [],
   "source": [
    "h1n1_model = XGBClassifier(**param_h1n1,missing= np.nan)"
   ]
  },
  {
   "cell_type": "code",
   "execution_count": 47,
   "id": "63b63f7d",
   "metadata": {},
   "outputs": [
    {
     "data": {
      "text/plain": [
       "XGBClassifier(base_score=None, booster=None, callbacks=None,\n",
       "              colsample_bylevel=None, colsample_bynode=None,\n",
       "              colsample_bytree=0.7985041560009833, early_stopping_rounds=None,\n",
       "              enable_categorical=False, eval_metric=None, feature_types=None,\n",
       "              gamma=0.4271332060293897, gpu_id=None, grow_policy=None,\n",
       "              importance_type=None, interaction_constraints=None,\n",
       "              learning_rate=0.0272243451304113, max_bin=None,\n",
       "              max_cat_threshold=None, max_cat_to_onehot=None,\n",
       "              max_delta_step=None, max_depth=6, max_leaves=None,\n",
       "              min_child_weight=4, missing=nan, monotone_constraints=None,\n",
       "              n_estimators=277, n_jobs=None, num_parallel_tree=None,\n",
       "              predictor=None, random_state=None, ...)"
      ]
     },
     "execution_count": 47,
     "metadata": {},
     "output_type": "execute_result"
    }
   ],
   "source": [
    "h1n1_model.fit(X_train_h1, y_train_h1)"
   ]
  },
  {
   "cell_type": "code",
   "execution_count": null,
   "id": "6b2f4a77",
   "metadata": {},
   "outputs": [],
   "source": []
  },
  {
   "cell_type": "code",
   "execution_count": 48,
   "id": "76e8bea0",
   "metadata": {},
   "outputs": [],
   "source": [
    "h1n1_predict = h1n1_model.predict(X_test_h1)"
   ]
  },
  {
   "cell_type": "code",
   "execution_count": 49,
   "id": "4ff72da2",
   "metadata": {},
   "outputs": [
    {
     "name": "stdout",
     "output_type": "stream",
     "text": [
      "              precision    recall  f1-score   support\n",
      "\n",
      "           0       0.88      0.95      0.91      4199\n",
      "           1       0.75      0.50      0.60      1143\n",
      "\n",
      "    accuracy                           0.86      5342\n",
      "   macro avg       0.81      0.73      0.76      5342\n",
      "weighted avg       0.85      0.86      0.85      5342\n",
      "\n"
     ]
    }
   ],
   "source": [
    "print(classification_report(y_test_h1, h1n1_predict))"
   ]
  },
  {
   "cell_type": "code",
   "execution_count": 50,
   "id": "e63e1fb6",
   "metadata": {},
   "outputs": [
    {
     "name": "stderr",
     "output_type": "stream",
     "text": [
      "/Users/karthikeyan/opt/anaconda3/lib/python3.9/site-packages/sklearn/utils/deprecation.py:87: FutureWarning: Function plot_roc_curve is deprecated; Function :func:`plot_roc_curve` is deprecated in 1.0 and will be removed in 1.2. Use one of the class methods: :meth:`sklearn.metric.RocCurveDisplay.from_predictions` or :meth:`sklearn.metric.RocCurveDisplay.from_estimator`.\n",
      "  warnings.warn(msg, category=FutureWarning)\n"
     ]
    },
    {
     "data": {
      "text/plain": [
       "<sklearn.metrics._plot.roc_curve.RocCurveDisplay at 0x7f95fa07a310>"
      ]
     },
     "execution_count": 50,
     "metadata": {},
     "output_type": "execute_result"
    },
    {
     "data": {
      "image/png": "[encoded data removed]",
      "text/plain": [
       "<Figure size 640x480 with 1 Axes>"
      ]
     },
     "metadata": {},
     "output_type": "display_data"
    }
   ],
   "source": [
    "from sklearn.metrics import plot_roc_curve\n",
    "\n",
    "plot_roc_curve(h1n1_model, X_test_h1, y_test_h1)"
   ]
  },
  {
   "cell_type": "code",
   "execution_count": null,
   "id": "905f92cd",
   "metadata": {},
   "outputs": [],
   "source": []
  },
  {
   "cell_type": "code",
   "execution_count": 51,
   "id": "03e8f4e0",
   "metadata": {},
   "outputs": [
    {
     "data": {
      "text/plain": [
       "(26707,)"
      ]
     },
     "execution_count": 51,
     "metadata": {},
     "output_type": "execute_result"
    }
   ],
   "source": [
    "label1.shape"
   ]
  },
  {
   "cell_type": "code",
   "execution_count": 52,
   "id": "5d135088",
   "metadata": {},
   "outputs": [
    {
     "data": {
      "text/plain": [
       "(21365, 91)"
      ]
     },
     "execution_count": 52,
     "metadata": {},
     "output_type": "execute_result"
    }
   ],
   "source": [
    "X_train.shape"
   ]
  },
  {
   "cell_type": "code",
   "execution_count": null,
   "id": "622773a7",
   "metadata": {},
   "outputs": [],
   "source": []
  },
  {
   "cell_type": "code",
   "execution_count": 53,
   "id": "e0aea0f8",
   "metadata": {},
   "outputs": [],
   "source": [
    "X_train, X_test, y_train, y_test = train_test_split(data, label2, test_size=0.2, random_state=101)\n",
    "\n",
    "\n",
    "def objective(trial):\n",
    "    param = {\n",
    "        'n_estimators': trial.suggest_int('n_estimators', 50, 500),\n",
    "        'max_depth': trial.suggest_int('max_depth', 3, 10),\n",
    "        'reg_alpha': trial.suggest_float('reg_alpha', 1e-8, 1.0),\n",
    "        'reg_lambda': trial.suggest_float('reg_lambda', 1e-8, 1.0),\n",
    "        'min_child_weight': trial.suggest_int('min_child_weight', 0, 6),\n",
    "        'gamma': trial.suggest_float('gamma',1e-8, 1.0),\n",
    "        'learning_rate': trial.suggest_float('learning_rate', 0.01, 1),\n",
    "        'colsample_bytree': trial.suggest_float('colsample_bytree', 0.3, 0.8),\n",
    "        'subsample': trial.suggest_float('subsample', 0.3, 0.8),\n",
    "\n",
    "    }\n",
    "    \n",
    "    xgb = XGBClassifier(**param, missing= np.nan)\n",
    "\n",
    "    \n",
    "    from sklearn.model_selection import cross_val_score\n",
    "    scores = cross_val_score(xgb, data, label2, cv=5, scoring='roc_auc')\n",
    "    AUC = np.mean(scores).max()\n",
    "    return AUC"
   ]
  },
  {
   "cell_type": "code",
   "execution_count": 54,
   "id": "ee03b151",
   "metadata": {
    "scrolled": true
   },
   "outputs": [
    {
     "name": "stderr",
     "output_type": "stream",
     "text": [
      "\u001b[32m[I 2023-05-03 00:06:04,062]\u001b[0m A new study created in memory with name: no-name-5fccd7ef-e71b-420e-9844-8aa62bc21830\u001b[0m\n",
      "/Users/karthikeyan/opt/anaconda3/lib/python3.9/site-packages/optuna/progress_bar.py:56: ExperimentalWarning: Progress bar is experimental (supported from v1.2.0). The interface can change in the future.\n",
      "  self._init_valid()\n"
     ]
    },
    {
     "data": {
      "application/vnd.jupyter.widget-view+json": {
       "model_id": "5d04e38c3dfc415b998c36e01c592b4e",
       "version_major": 2,
       "version_minor": 0
      },
      "text/plain": [
       "  0%|          | 0/120 [00:00<?, ?it/s]"
      ]
     },
     "metadata": {},
     "output_type": "display_data"
    },
    {
     "name": "stdout",
     "output_type": "stream",
     "text": [
      "\u001b[32m[I 2023-05-03 00:06:39,535]\u001b[0m Trial 0 finished with value: 0.8645155893243782 and parameters: {'n_estimators': 263, 'max_depth': 4, 'reg_alpha': 0.7720758828136772, 'reg_lambda': 0.5093644597394722, 'min_child_weight': 0, 'gamma': 0.9908110057244077, 'learning_rate': 0.0843375268842243, 'colsample_bytree': 0.5694832602660058, 'subsample': 0.5862796211908576}. Best is trial 0 with value: 0.8645155893243782.\u001b[0m\n",
      "\u001b[32m[I 2023-05-03 00:06:59,998]\u001b[0m Trial 1 finished with value: 0.8403424665209792 and parameters: {'n_estimators': 77, 'max_depth': 8, 'reg_alpha': 0.5173115305393252, 'reg_lambda': 0.08585183541783019, 'min_child_weight': 4, 'gamma': 0.45185511251472993, 'learning_rate': 0.3503730545358737, 'colsample_bytree': 0.49043434670428415, 'subsample': 0.6008333500112879}. Best is trial 0 with value: 0.8645155893243782.\u001b[0m\n",
      "\u001b[32m[I 2023-05-03 00:08:19,279]\u001b[0m Trial 2 finished with value: 0.8334937276334186 and parameters: {'n_estimators': 463, 'max_depth': 6, 'reg_alpha': 0.2769564732588506, 'reg_lambda': 0.6433692603704841, 'min_child_weight': 2, 'gamma': 0.8113753240656223, 'learning_rate': 0.33394870426282613, 'colsample_bytree': 0.34414845319245024, 'subsample': 0.78751234001052}. Best is trial 0 with value: 0.8645155893243782.\u001b[0m\n",
      "\u001b[32m[I 2023-05-03 00:08:35,883]\u001b[0m Trial 3 finished with value: 0.8429062021375561 and parameters: {'n_estimators': 130, 'max_depth': 4, 'reg_alpha': 0.4786155082418478, 'reg_lambda': 0.2679889446618373, 'min_child_weight': 2, 'gamma': 0.48385388887422875, 'learning_rate': 0.6105472003337761, 'colsample_bytree': 0.4633001771046212, 'subsample': 0.6457330325353631}. Best is trial 0 with value: 0.8645155893243782.\u001b[0m\n",
      "\u001b[32m[I 2023-05-03 00:10:48,838]\u001b[0m Trial 4 finished with value: 0.8336042197222289 and parameters: {'n_estimators': 378, 'max_depth': 10, 'reg_alpha': 0.3144069252355057, 'reg_lambda': 0.10913220727482696, 'min_child_weight': 3, 'gamma': 0.48805095819892313, 'learning_rate': 0.21391082205816622, 'colsample_bytree': 0.4994981154188894, 'subsample': 0.6318789926717203}. Best is trial 0 with value: 0.8645155893243782.\u001b[0m\n",
      "\u001b[32m[I 2023-05-03 00:11:06,813]\u001b[0m Trial 5 finished with value: 0.7890758727716847 and parameters: {'n_estimators': 154, 'max_depth': 4, 'reg_alpha': 0.35550228899599406, 'reg_lambda': 0.14972933029534008, 'min_child_weight': 1, 'gamma': 0.6622153148176781, 'learning_rate': 0.9550841845989855, 'colsample_bytree': 0.4274312490432159, 'subsample': 0.35830453907144894}. Best is trial 0 with value: 0.8645155893243782.\u001b[0m\n",
      "\u001b[32m[I 2023-05-03 00:13:46,714]\u001b[0m Trial 6 finished with value: 0.8247579733404302 and parameters: {'n_estimators': 330, 'max_depth': 10, 'reg_alpha': 0.4007693218629536, 'reg_lambda': 0.7328756448691394, 'min_child_weight': 0, 'gamma': 0.2666124425854459, 'learning_rate': 0.32121645532310833, 'colsample_bytree': 0.4839060884839815, 'subsample': 0.46138384667599336}. Best is trial 0 with value: 0.8645155893243782.\u001b[0m\n",
      "\u001b[32m[I 2023-05-03 00:14:50,240]\u001b[0m Trial 7 finished with value: 0.780277554927871 and parameters: {'n_estimators': 470, 'max_depth': 4, 'reg_alpha': 0.5072410258820018, 'reg_lambda': 0.5776211611539892, 'min_child_weight': 2, 'gamma': 0.6489379537789076, 'learning_rate': 0.7889073209197274, 'colsample_bytree': 0.4874959571300849, 'subsample': 0.3202981309557608}. Best is trial 0 with value: 0.8645155893243782.\u001b[0m\n",
      "\u001b[32m[I 2023-05-03 00:15:54,347]\u001b[0m Trial 8 finished with value: 0.774922716788299 and parameters: {'n_estimators': 488, 'max_depth': 4, 'reg_alpha': 0.43113537346475145, 'reg_lambda': 0.4346566554895276, 'min_child_weight': 6, 'gamma': 0.5642121049698253, 'learning_rate': 0.8925565529914822, 'colsample_bytree': 0.7159755882709451, 'subsample': 0.3158849820786498}. Best is trial 0 with value: 0.8645155893243782.\u001b[0m\n",
      "\u001b[32m[I 2023-05-03 00:17:42,045]\u001b[0m Trial 9 finished with value: 0.8320325799975041 and parameters: {'n_estimators': 459, 'max_depth': 7, 'reg_alpha': 0.07745876967238059, 'reg_lambda': 0.8051773936934475, 'min_child_weight': 1, 'gamma': 0.6302080117159704, 'learning_rate': 0.26850844344066344, 'colsample_bytree': 0.38857012084150677, 'subsample': 0.6043160514415766}. Best is trial 0 with value: 0.8645155893243782.\u001b[0m\n",
      "\u001b[32m[I 2023-05-03 00:18:34,699]\u001b[0m Trial 10 finished with value: 0.8624791566828582 and parameters: {'n_estimators': 237, 'max_depth': 6, 'reg_alpha': 0.8152553007495664, 'reg_lambda': 0.9527086292126707, 'min_child_weight': 5, 'gamma': 0.9972631622007596, 'learning_rate': 0.08130165541190876, 'colsample_bytree': 0.6151824461111963, 'subsample': 0.506777502594551}. Best is trial 0 with value: 0.8645155893243782.\u001b[0m\n",
      "\u001b[32m[I 2023-05-03 00:19:31,433]\u001b[0m Trial 11 finished with value: 0.8621854793675852 and parameters: {'n_estimators': 237, 'max_depth': 6, 'reg_alpha': 0.8461734449543504, 'reg_lambda': 0.9892154078508408, 'min_child_weight': 5, 'gamma': 0.9725857973904892, 'learning_rate': 0.014953342278383172, 'colsample_bytree': 0.6079341934290264, 'subsample': 0.5037627453477052}. Best is trial 0 with value: 0.8645155893243782.\u001b[0m\n",
      "\u001b[32m[I 2023-05-03 00:20:03,618]\u001b[0m Trial 12 finished with value: 0.8538745818247795 and parameters: {'n_estimators': 254, 'max_depth': 3, 'reg_alpha': 0.8779009069404498, 'reg_lambda': 0.4329341683266521, 'min_child_weight': 6, 'gamma': 0.9777697036302311, 'learning_rate': 0.014156934485988051, 'colsample_bytree': 0.6173066535684995, 'subsample': 0.4548217709103325}. Best is trial 0 with value: 0.8645155893243782.\u001b[0m\n",
      "\u001b[32m[I 2023-05-03 00:20:44,125]\u001b[0m Trial 13 finished with value: 0.8614712140383511 and parameters: {'n_estimators': 209, 'max_depth': 5, 'reg_alpha': 0.755268873102546, 'reg_lambda': 0.9754696299263327, 'min_child_weight': 4, 'gamma': 0.8627021007480573, 'learning_rate': 0.13482042714093834, 'colsample_bytree': 0.5906168096747514, 'subsample': 0.5368739949614747}. Best is trial 0 with value: 0.8645155893243782.\u001b[0m\n",
      "\u001b[32m[I 2023-05-03 00:23:00,818]\u001b[0m Trial 14 finished with value: 0.8247257037142838 and parameters: {'n_estimators': 320, 'max_depth': 8, 'reg_alpha': 0.9843493558773672, 'reg_lambda': 0.805194763011422, 'min_child_weight': 0, 'gamma': 0.9980145335130668, 'learning_rate': 0.48458737465630897, 'colsample_bytree': 0.6760082722248735, 'subsample': 0.7044941985848913}. Best is trial 0 with value: 0.8645155893243782.\u001b[0m\n",
      "\u001b[32m[I 2023-05-03 00:23:40,674]\u001b[0m Trial 15 finished with value: 0.8599612424166944 and parameters: {'n_estimators': 186, 'max_depth': 5, 'reg_alpha': 0.6685458868158761, 'reg_lambda': 0.515188285906754, 'min_child_weight': 4, 'gamma': 0.8449292160366587, 'learning_rate': 0.1411357606155543, 'colsample_bytree': 0.783309017555453, 'subsample': 0.516252201589351}. Best is trial 0 with value: 0.8645155893243782.\u001b[0m\n",
      "\u001b[32m[I 2023-05-03 00:24:13,939]\u001b[0m Trial 16 finished with value: 0.8638356643904934 and parameters: {'n_estimators': 315, 'max_depth': 3, 'reg_alpha': 0.6520159492481226, 'reg_lambda': 0.35228886019971906, 'min_child_weight': 5, 'gamma': 0.027979697566254236, 'learning_rate': 0.08279890714153305, 'colsample_bytree': 0.5381251602047429, 'subsample': 0.4218191526431543}. Best is trial 0 with value: 0.8645155893243782.\u001b[0m\n",
      "\u001b[32m[I 2023-05-03 00:24:53,484]\u001b[0m Trial 17 finished with value: 0.8586108466687618 and parameters: {'n_estimators': 396, 'max_depth': 3, 'reg_alpha': 0.62500196591703, 'reg_lambda': 0.3234513641083379, 'min_child_weight': 3, 'gamma': 0.030421737210853395, 'learning_rate': 0.1995801610000505, 'colsample_bytree': 0.5432150127934834, 'subsample': 0.4050942323842124}. Best is trial 0 with value: 0.8645155893243782.\u001b[0m\n",
      "\u001b[32m[I 2023-05-03 00:25:23,104]\u001b[0m Trial 18 finished with value: 0.8635435310857742 and parameters: {'n_estimators': 311, 'max_depth': 3, 'reg_alpha': 0.6939344864599304, 'reg_lambda': 0.3173602354503862, 'min_child_weight': 5, 'gamma': 0.0029682038745377226, 'learning_rate': 0.09953821489470321, 'colsample_bytree': 0.306928124592447, 'subsample': 0.4134301011216349}. Best is trial 0 with value: 0.8645155893243782.\u001b[0m\n",
      "\u001b[32m[I 2023-05-03 00:26:33,667]\u001b[0m Trial 19 finished with value: 0.8221042452587597 and parameters: {'n_estimators': 387, 'max_depth': 5, 'reg_alpha': 0.6118028315036471, 'reg_lambda': 0.43975748222765654, 'min_child_weight': 3, 'gamma': 0.3325450348893352, 'learning_rate': 0.4444081856900275, 'colsample_bytree': 0.5413673484315824, 'subsample': 0.5658844603905541}. Best is trial 0 with value: 0.8645155893243782.\u001b[0m\n"
     ]
    },
    {
     "name": "stdout",
     "output_type": "stream",
     "text": [
      "\u001b[32m[I 2023-05-03 00:27:07,856]\u001b[0m Trial 20 finished with value: 0.8608284728565941 and parameters: {'n_estimators': 287, 'max_depth': 3, 'reg_alpha': 0.9802484182474769, 'reg_lambda': 0.22257421350797807, 'min_child_weight': 1, 'gamma': 0.11713346968794625, 'learning_rate': 0.21883027742470063, 'colsample_bytree': 0.5490740367130122, 'subsample': 0.5666747017223905}. Best is trial 0 with value: 0.8645155893243782.\u001b[0m\n",
      "\u001b[32m[I 2023-05-03 00:27:36,976]\u001b[0m Trial 21 finished with value: 0.8636146076228712 and parameters: {'n_estimators': 308, 'max_depth': 3, 'reg_alpha': 0.7648099636807019, 'reg_lambda': 0.3429168642781494, 'min_child_weight': 5, 'gamma': 0.003976971845903959, 'learning_rate': 0.10681560577936834, 'colsample_bytree': 0.3491571708447356, 'subsample': 0.40672124304066815}. Best is trial 0 with value: 0.8645155893243782.\u001b[0m\n",
      "\u001b[32m[I 2023-05-03 00:28:09,686]\u001b[0m Trial 22 finished with value: 0.8601014555169266 and parameters: {'n_estimators': 352, 'max_depth': 3, 'reg_alpha': 0.752671609040338, 'reg_lambda': 0.3671089545930013, 'min_child_weight': 6, 'gamma': 0.12474898007961266, 'learning_rate': 0.020347773247652717, 'colsample_bytree': 0.4123817029178618, 'subsample': 0.3761688869266867}. Best is trial 0 with value: 0.8645155893243782.\u001b[0m\n",
      "\u001b[32m[I 2023-05-03 00:28:46,216]\u001b[0m Trial 23 finished with value: 0.8629962746589104 and parameters: {'n_estimators': 297, 'max_depth': 4, 'reg_alpha': 0.5911356855191068, 'reg_lambda': 0.18279356184430312, 'min_child_weight': 5, 'gamma': 0.24020445736808044, 'learning_rate': 0.11693202673442457, 'colsample_bytree': 0.39004285756957374, 'subsample': 0.4580326020862176}. Best is trial 0 with value: 0.8645155893243782.\u001b[0m\n",
      "\u001b[32m[I 2023-05-03 00:29:50,409]\u001b[0m Trial 24 finished with value: 0.8499170938636376 and parameters: {'n_estimators': 420, 'max_depth': 5, 'reg_alpha': 0.7411551995418759, 'reg_lambda': 0.2755923385475675, 'min_child_weight': 4, 'gamma': 0.11056711380769851, 'learning_rate': 0.18319993707309312, 'colsample_bytree': 0.43792300934102635, 'subsample': 0.42886464017943865}. Best is trial 0 with value: 0.8645155893243782.\u001b[0m\n",
      "\u001b[32m[I 2023-05-03 00:30:12,907]\u001b[0m Trial 25 finished with value: 0.8591861554252633 and parameters: {'n_estimators': 254, 'max_depth': 3, 'reg_alpha': 0.8070896709534483, 'reg_lambda': 0.38138665845496955, 'min_child_weight': 5, 'gamma': 0.38395030234773997, 'learning_rate': 0.2589488917716174, 'colsample_bytree': 0.35978145234656556, 'subsample': 0.36094145703740477}. Best is trial 0 with value: 0.8645155893243782.\u001b[0m\n",
      "\u001b[32m[I 2023-05-03 00:30:53,987]\u001b[0m Trial 26 finished with value: 0.8643778275554379 and parameters: {'n_estimators': 346, 'max_depth': 4, 'reg_alpha': 0.9085387963926331, 'reg_lambda': 0.5033465687544172, 'min_child_weight': 6, 'gamma': 0.19847910530783622, 'learning_rate': 0.08823486577886085, 'colsample_bytree': 0.30258124114944807, 'subsample': 0.4820621145745224}. Best is trial 0 with value: 0.8645155893243782.\u001b[0m\n",
      "\u001b[32m[I 2023-05-03 00:31:42,222]\u001b[0m Trial 27 finished with value: 0.8651003246796808 and parameters: {'n_estimators': 358, 'max_depth': 4, 'reg_alpha': 0.9017472025562636, 'reg_lambda': 0.010476356016312471, 'min_child_weight': 6, 'gamma': 0.20684605674662998, 'learning_rate': 0.06308950735203867, 'colsample_bytree': 0.5212993550314374, 'subsample': 0.48434595293453164}. Best is trial 27 with value: 0.8651003246796808.\u001b[0m\n",
      "\u001b[32m[I 2023-05-03 00:32:53,604]\u001b[0m Trial 28 finished with value: 0.8525034924636298 and parameters: {'n_estimators': 420, 'max_depth': 5, 'reg_alpha': 0.9045286572579003, 'reg_lambda': 0.04828006715730665, 'min_child_weight': 6, 'gamma': 0.22092171308055503, 'learning_rate': 0.16295790110568514, 'colsample_bytree': 0.4516746579891244, 'subsample': 0.5015839605742126}. Best is trial 27 with value: 0.8651003246796808.\u001b[0m\n",
      "\u001b[32m[I 2023-05-03 00:34:33,009]\u001b[0m Trial 29 finished with value: 0.8205733324875389 and parameters: {'n_estimators': 355, 'max_depth': 8, 'reg_alpha': 0.9114875205919133, 'reg_lambda': 0.5175708412726884, 'min_child_weight': 6, 'gamma': 0.4134381236066008, 'learning_rate': 0.39521528340048095, 'colsample_bytree': 0.5092833003183055, 'subsample': 0.5551145645725666}. Best is trial 27 with value: 0.8651003246796808.\u001b[0m\n",
      "\u001b[32m[I 2023-05-03 00:35:48,424]\u001b[0m Trial 30 finished with value: 0.836776902055321 and parameters: {'n_estimators': 348, 'max_depth': 7, 'reg_alpha': 0.9489386418325864, 'reg_lambda': 0.5796832193245173, 'min_child_weight': 4, 'gamma': 0.3173077171858443, 'learning_rate': 0.28254678301703384, 'colsample_bytree': 0.3083023501687623, 'subsample': 0.5863928708250588}. Best is trial 27 with value: 0.8651003246796808.\u001b[0m\n",
      "\u001b[32m[I 2023-05-03 00:35:59,280]\u001b[0m Trial 31 finished with value: 0.8588361992100374 and parameters: {'n_estimators': 60, 'max_depth': 4, 'reg_alpha': 0.8417901503265645, 'reg_lambda': 0.12930243580339792, 'min_child_weight': 6, 'gamma': 0.1604369032534295, 'learning_rate': 0.0649998897567309, 'colsample_bytree': 0.5734676502820976, 'subsample': 0.47430040044720995}. Best is trial 27 with value: 0.8651003246796808.\u001b[0m\n",
      "\u001b[32m[I 2023-05-03 00:36:40,649]\u001b[0m Trial 32 finished with value: 0.8647950086062799 and parameters: {'n_estimators': 279, 'max_depth': 4, 'reg_alpha': 0.8863954048389849, 'reg_lambda': 0.05924429347461366, 'min_child_weight': 6, 'gamma': 0.18112167929230752, 'learning_rate': 0.06428481506778864, 'colsample_bytree': 0.5176261315269406, 'subsample': 0.47962537584255927}. Best is trial 27 with value: 0.8651003246796808.\u001b[0m\n",
      "\u001b[32m[I 2023-05-03 00:37:18,446]\u001b[0m Trial 33 finished with value: 0.861946613889087 and parameters: {'n_estimators': 277, 'max_depth': 4, 'reg_alpha': 0.9943907471496864, 'reg_lambda': 0.028383034465940704, 'min_child_weight': 6, 'gamma': 0.19236319908369318, 'learning_rate': 0.15613871854406142, 'colsample_bytree': 0.4714495145946176, 'subsample': 0.535229558503658}. Best is trial 27 with value: 0.8651003246796808.\u001b[0m\n",
      "\u001b[32m[I 2023-05-03 00:37:55,637]\u001b[0m Trial 34 finished with value: 0.8400766058176957 and parameters: {'n_estimators': 218, 'max_depth': 5, 'reg_alpha': 0.9142716985856145, 'reg_lambda': 0.0648432333963337, 'min_child_weight': 2, 'gamma': 0.2739931166451303, 'learning_rate': 0.3651739384500567, 'colsample_bytree': 0.5202860524188142, 'subsample': 0.5280230031730744}. Best is trial 27 with value: 0.8651003246796808.\u001b[0m\n",
      "\u001b[32m[I 2023-05-03 00:38:18,980]\u001b[0m Trial 35 finished with value: 0.8545389142387961 and parameters: {'n_estimators': 125, 'max_depth': 6, 'reg_alpha': 0.9243150492438184, 'reg_lambda': 0.09854228005786958, 'min_child_weight': 6, 'gamma': 0.41082140502101455, 'learning_rate': 0.2311562154567417, 'colsample_bytree': 0.4714024217473829, 'subsample': 0.4742468084686456}. Best is trial 27 with value: 0.8651003246796808.\u001b[0m\n",
      "\u001b[32m[I 2023-05-03 00:38:42,351]\u001b[0m Trial 36 finished with value: 0.8646116040553696 and parameters: {'n_estimators': 176, 'max_depth': 4, 'reg_alpha': 0.8529910919788523, 'reg_lambda': 0.038351194719361215, 'min_child_weight': 0, 'gamma': 0.5013739970101365, 'learning_rate': 0.06026201567359574, 'colsample_bytree': 0.49960725972671044, 'subsample': 0.47916136562297224}. Best is trial 27 with value: 0.8651003246796808.\u001b[0m\n",
      "\u001b[32m[I 2023-05-03 00:40:05,639]\u001b[0m Trial 37 finished with value: 0.86151861746589 and parameters: {'n_estimators': 174, 'max_depth': 9, 'reg_alpha': 0.8539597781711113, 'reg_lambda': 0.09449289725548077, 'min_child_weight': 0, 'gamma': 0.503174862666929, 'learning_rate': 0.050619147998477165, 'colsample_bytree': 0.5083511353011607, 'subsample': 0.6173907479879723}. Best is trial 27 with value: 0.8651003246796808.\u001b[0m\n",
      "\u001b[32m[I 2023-05-03 00:40:25,069]\u001b[0m Trial 38 finished with value: 0.8624643179492129 and parameters: {'n_estimators': 113, 'max_depth': 4, 'reg_alpha': 0.7827704374833605, 'reg_lambda': 0.009244010260693498, 'min_child_weight': 0, 'gamma': 0.5330505380282579, 'learning_rate': 0.18450633709394682, 'colsample_bytree': 0.568550842143974, 'subsample': 0.6478426044134113}. Best is trial 27 with value: 0.8651003246796808.\u001b[0m\n",
      "\u001b[32m[I 2023-05-03 00:40:54,270]\u001b[0m Trial 39 finished with value: 0.8455530823321192 and parameters: {'n_estimators': 157, 'max_depth': 5, 'reg_alpha': 0.8564973820974837, 'reg_lambda': 0.1623684554433424, 'min_child_weight': 1, 'gamma': 0.7279282217857616, 'learning_rate': 0.3229105809332584, 'colsample_bytree': 0.48463448364296396, 'subsample': 0.4450391708353004}. Best is trial 27 with value: 0.8651003246796808.\u001b[0m\n"
     ]
    },
    {
     "name": "stdout",
     "output_type": "stream",
     "text": [
      "\u001b[32m[I 2023-05-03 00:41:43,865]\u001b[0m Trial 40 finished with value: 0.864703982728013 and parameters: {'n_estimators': 208, 'max_depth': 6, 'reg_alpha': 0.7095652163994534, 'reg_lambda': 0.017579986119928136, 'min_child_weight': 2, 'gamma': 0.5661998992727466, 'learning_rate': 0.05707672381853116, 'colsample_bytree': 0.5170133397536925, 'subsample': 0.491626869407004}. Best is trial 27 with value: 0.8651003246796808.\u001b[0m\n",
      "\u001b[32m[I 2023-05-03 00:42:46,540]\u001b[0m Trial 41 finished with value: 0.8645652207616233 and parameters: {'n_estimators': 261, 'max_depth': 6, 'reg_alpha': 0.7050177231400476, 'reg_lambda': 0.020589683959858433, 'min_child_weight': 2, 'gamma': 0.575202721360198, 'learning_rate': 0.044527837177118, 'colsample_bytree': 0.5195621083017175, 'subsample': 0.4903042996810193}. Best is trial 27 with value: 0.8651003246796808.\u001b[0m\n",
      "\u001b[32m[I 2023-05-03 00:43:46,247]\u001b[0m Trial 42 finished with value: 0.8637306210522862 and parameters: {'n_estimators': 215, 'max_depth': 7, 'reg_alpha': 0.7059594570130558, 'reg_lambda': 0.007255930457791597, 'min_child_weight': 2, 'gamma': 0.5616263351057807, 'learning_rate': 0.04899606226198411, 'colsample_bytree': 0.5216013775371301, 'subsample': 0.49243970137951615}. Best is trial 27 with value: 0.8651003246796808.\u001b[0m\n",
      "\u001b[32m[I 2023-05-03 00:44:13,587]\u001b[0m Trial 43 finished with value: 0.8595488661429656 and parameters: {'n_estimators': 96, 'max_depth': 7, 'reg_alpha': 0.8002308169431337, 'reg_lambda': 0.07298521784584683, 'min_child_weight': 1, 'gamma': 0.46837981019371056, 'learning_rate': 0.12584387860869453, 'colsample_bytree': 0.4940250376183811, 'subsample': 0.49107564293098055}. Best is trial 27 with value: 0.8651003246796808.\u001b[0m\n",
      "\u001b[32m[I 2023-05-03 00:44:54,134]\u001b[0m Trial 44 finished with value: 0.8613994990151937 and parameters: {'n_estimators': 191, 'max_depth': 6, 'reg_alpha': 0.7168900250508227, 'reg_lambda': 0.0023473660144915053, 'min_child_weight': 2, 'gamma': 0.5808826026766787, 'learning_rate': 0.015521298639748694, 'colsample_bytree': 0.45798445857494985, 'subsample': 0.44470559527180803}. Best is trial 27 with value: 0.8651003246796808.\u001b[0m\n",
      "\u001b[32m[I 2023-05-03 00:45:29,834]\u001b[0m Trial 45 finished with value: 0.8648084429035119 and parameters: {'n_estimators': 153, 'max_depth': 6, 'reg_alpha': 0.8154669747530271, 'reg_lambda': 0.12840872052826768, 'min_child_weight': 3, 'gamma': 0.45508188264577154, 'learning_rate': 0.05882201011401785, 'colsample_bytree': 0.5191178735210984, 'subsample': 0.5284101095201785}. Best is trial 27 with value: 0.8651003246796808.\u001b[0m\n",
      "\u001b[32m[I 2023-05-03 00:46:05,753]\u001b[0m Trial 46 finished with value: 0.8568068838380581 and parameters: {'n_estimators': 170, 'max_depth': 6, 'reg_alpha': 0.829582551111506, 'reg_lambda': 0.12619456994468792, 'min_child_weight': 3, 'gamma': 0.438872476220237, 'learning_rate': 0.15897661692925807, 'colsample_bytree': 0.4965230117533062, 'subsample': 0.5160233011118412}. Best is trial 27 with value: 0.8651003246796808.\u001b[0m\n",
      "\u001b[32m[I 2023-05-03 00:46:33,295]\u001b[0m Trial 47 finished with value: 0.8614920158111643 and parameters: {'n_estimators': 92, 'max_depth': 8, 'reg_alpha': 0.8007651858947875, 'reg_lambda': 0.0699545457019268, 'min_child_weight': 3, 'gamma': 0.5002269831502331, 'learning_rate': 0.08039083159866126, 'colsample_bytree': 0.4485326786020154, 'subsample': 0.5389178395270232}. Best is trial 27 with value: 0.8651003246796808.\u001b[0m\n",
      "\u001b[32m[I 2023-05-03 00:46:51,281]\u001b[0m Trial 48 finished with value: 0.8640930931063012 and parameters: {'n_estimators': 141, 'max_depth': 4, 'reg_alpha': 0.8681607459886707, 'reg_lambda': 0.19385495684948348, 'min_child_weight': 3, 'gamma': 0.6232457767753345, 'learning_rate': 0.1322872773275149, 'colsample_bytree': 0.4783371104578411, 'subsample': 0.46900566070342875}. Best is trial 27 with value: 0.8651003246796808.\u001b[0m\n",
      "\u001b[32m[I 2023-05-03 00:48:29,219]\u001b[0m Trial 49 finished with value: 0.8597489144659965 and parameters: {'n_estimators': 238, 'max_depth': 9, 'reg_alpha': 0.9581782927541154, 'reg_lambda': 0.1379715708512228, 'min_child_weight': 1, 'gamma': 0.36085359638722425, 'learning_rate': 0.05703752911995482, 'colsample_bytree': 0.5668951460336196, 'subsample': 0.5219301222881916}. Best is trial 27 with value: 0.8651003246796808.\u001b[0m\n",
      "\u001b[32m[I 2023-05-03 00:49:05,275]\u001b[0m Trial 50 finished with value: 0.854764227331773 and parameters: {'n_estimators': 202, 'max_depth': 5, 'reg_alpha': 0.880695831951219, 'reg_lambda': 0.05506035188228005, 'min_child_weight': 4, 'gamma': 0.4597479964032627, 'learning_rate': 0.19656533776161683, 'colsample_bytree': 0.5279008211182593, 'subsample': 0.44326899588408075}. Best is trial 27 with value: 0.8651003246796808.\u001b[0m\n",
      "\u001b[32m[I 2023-05-03 00:50:07,127]\u001b[0m Trial 51 finished with value: 0.8646950688880078 and parameters: {'n_estimators': 260, 'max_depth': 6, 'reg_alpha': 0.7316928649742201, 'reg_lambda': 0.03980971884993663, 'min_child_weight': 2, 'gamma': 0.513723811131462, 'learning_rate': 0.04276946018858868, 'colsample_bytree': 0.5308905182526014, 'subsample': 0.4867252098957403}. Best is trial 27 with value: 0.8651003246796808.\u001b[0m\n",
      "\u001b[32m[I 2023-05-03 00:50:51,604]\u001b[0m Trial 52 finished with value: 0.8630911384855425 and parameters: {'n_estimators': 230, 'max_depth': 6, 'reg_alpha': 0.7968547238097922, 'reg_lambda': 0.10145705534096908, 'min_child_weight': 3, 'gamma': 0.5316485960480228, 'learning_rate': 0.017616158198495532, 'colsample_bytree': 0.5049654722263371, 'subsample': 0.46480135646265586}. Best is trial 27 with value: 0.8651003246796808.\u001b[0m\n",
      "\u001b[32m[I 2023-05-03 00:51:28,665]\u001b[0m Trial 53 finished with value: 0.8603720980853333 and parameters: {'n_estimators': 152, 'max_depth': 7, 'reg_alpha': 0.7488197603531277, 'reg_lambda': 0.061106329645814646, 'min_child_weight': 2, 'gamma': 0.43451277256645104, 'learning_rate': 0.1037917738452831, 'colsample_bytree': 0.5540668862008896, 'subsample': 0.5067560744981895}. Best is trial 27 with value: 0.8651003246796808.\u001b[0m\n",
      "\u001b[32m[I 2023-05-03 00:52:06,648]\u001b[0m Trial 54 finished with value: 0.8637631184659564 and parameters: {'n_estimators': 193, 'max_depth': 6, 'reg_alpha': 0.8317541650867957, 'reg_lambda': 0.14508835302502335, 'min_child_weight': 2, 'gamma': 0.31316273022836943, 'learning_rate': 0.0737338017507479, 'colsample_bytree': 0.5366101322984304, 'subsample': 0.5542535468149327}. Best is trial 27 with value: 0.8651003246796808.\u001b[0m\n",
      "\u001b[32m[I 2023-05-03 00:52:53,667]\u001b[0m Trial 55 finished with value: 0.8577992830880177 and parameters: {'n_estimators': 279, 'max_depth': 5, 'reg_alpha': 0.9400535405979158, 'reg_lambda': 0.0382035659016693, 'min_child_weight': 1, 'gamma': 0.48166861393506233, 'learning_rate': 0.13013594199145104, 'colsample_bytree': 0.5949559774145227, 'subsample': 0.4867646944132528}. Best is trial 27 with value: 0.8651003246796808.\u001b[0m\n",
      "\u001b[32m[I 2023-05-03 00:53:24,079]\u001b[0m Trial 56 finished with value: 0.8641750885860425 and parameters: {'n_estimators': 241, 'max_depth': 4, 'reg_alpha': 0.8812860327130455, 'reg_lambda': 0.10466227521173038, 'min_child_weight': 0, 'gamma': 0.38182154032140714, 'learning_rate': 0.037657867054307445, 'colsample_bytree': 0.4954264741388103, 'subsample': 0.5087321739388315}. Best is trial 27 with value: 0.8651003246796808.\u001b[0m\n",
      "\u001b[32m[I 2023-05-03 00:54:05,367]\u001b[0m Trial 57 finished with value: 0.8604915988499512 and parameters: {'n_estimators': 173, 'max_depth': 7, 'reg_alpha': 0.6543032753928332, 'reg_lambda': 0.22279929137315088, 'min_child_weight': 3, 'gamma': 0.6829688236946034, 'learning_rate': 0.09835262434983294, 'colsample_bytree': 0.4689254579816276, 'subsample': 0.46296148972563295}. Best is trial 27 with value: 0.8651003246796808.\u001b[0m\n",
      "\u001b[32m[I 2023-05-03 00:54:47,179]\u001b[0m Trial 58 finished with value: 0.8594706248246666 and parameters: {'n_estimators': 225, 'max_depth': 5, 'reg_alpha': 0.7704455031608963, 'reg_lambda': 0.03589827102880376, 'min_child_weight': 2, 'gamma': 0.6023524796164291, 'learning_rate': 0.011905368490226928, 'colsample_bytree': 0.5495667709953327, 'subsample': 0.523871697244096}. Best is trial 27 with value: 0.8651003246796808.\u001b[0m\n",
      "\u001b[32m[I 2023-05-03 00:55:42,771]\u001b[0m Trial 59 finished with value: 0.8402823942580225 and parameters: {'n_estimators': 263, 'max_depth': 6, 'reg_alpha': 0.8251634441459861, 'reg_lambda': 0.0003434457442094141, 'min_child_weight': 4, 'gamma': 0.2728295557485049, 'learning_rate': 0.22966333421341598, 'colsample_bytree': 0.5289175427808305, 'subsample': 0.4399824582881361}. Best is trial 27 with value: 0.8651003246796808.\u001b[0m\n"
     ]
    },
    {
     "name": "stdout",
     "output_type": "stream",
     "text": [
      "\u001b[32m[I 2023-05-03 00:56:38,137]\u001b[0m Trial 60 finished with value: 0.8554749146943991 and parameters: {'n_estimators': 333, 'max_depth': 5, 'reg_alpha': 0.7411419927682984, 'reg_lambda': 0.09155483667201758, 'min_child_weight': 1, 'gamma': 0.5290168638548217, 'learning_rate': 0.16133459399193395, 'colsample_bytree': 0.4332657414089802, 'subsample': 0.5452617665836532}. Best is trial 27 with value: 0.8651003246796808.\u001b[0m\n",
      "\u001b[32m[I 2023-05-03 00:57:33,823]\u001b[0m Trial 61 finished with value: 0.8643522415290885 and parameters: {'n_estimators': 257, 'max_depth': 6, 'reg_alpha': 0.6850102550905396, 'reg_lambda': 0.03150911100261234, 'min_child_weight': 2, 'gamma': 0.5781707040742209, 'learning_rate': 0.050194598622367206, 'colsample_bytree': 0.5105269003079184, 'subsample': 0.49131095207279957}. Best is trial 27 with value: 0.8651003246796808.\u001b[0m\n",
      "\u001b[32m[I 2023-05-03 00:58:38,142]\u001b[0m Trial 62 finished with value: 0.86209844135997 and parameters: {'n_estimators': 301, 'max_depth': 6, 'reg_alpha': 0.7162709300351321, 'reg_lambda': 0.12005964267493371, 'min_child_weight': 3, 'gamma': 0.6628362138942685, 'learning_rate': 0.0676424649991907, 'colsample_bytree': 0.520465972699169, 'subsample': 0.479245704315178}. Best is trial 27 with value: 0.8651003246796808.\u001b[0m\n",
      "\u001b[32m[I 2023-05-03 00:59:39,106]\u001b[0m Trial 63 finished with value: 0.8572767508403795 and parameters: {'n_estimators': 289, 'max_depth': 6, 'reg_alpha': 0.5897751085718387, 'reg_lambda': 0.06828825257496561, 'min_child_weight': 2, 'gamma': 0.5525528441282472, 'learning_rate': 0.10836403046269197, 'colsample_bytree': 0.48415961924748124, 'subsample': 0.5021752538683976}. Best is trial 27 with value: 0.8651003246796808.\u001b[0m\n",
      "\u001b[32m[I 2023-05-03 01:00:07,126]\u001b[0m Trial 64 finished with value: 0.8637610298576746 and parameters: {'n_estimators': 202, 'max_depth': 4, 'reg_alpha': 0.778296697176518, 'reg_lambda': 0.02864651931639234, 'min_child_weight': 2, 'gamma': 0.6056913233112388, 'learning_rate': 0.04929349800947977, 'colsample_bytree': 0.5589245083299973, 'subsample': 0.419618707208512}. Best is trial 27 with value: 0.8651003246796808.\u001b[0m\n",
      "\u001b[32m[I 2023-05-03 01:01:18,688]\u001b[0m Trial 65 finished with value: 0.86208372702121 and parameters: {'n_estimators': 246, 'max_depth': 7, 'reg_alpha': 0.8814316665869708, 'reg_lambda': 0.16514101174816326, 'min_child_weight': 1, 'gamma': 0.4966688844593966, 'learning_rate': 0.010896698697217128, 'colsample_bytree': 0.5340664413882494, 'subsample': 0.45642761051469455}. Best is trial 27 with value: 0.8651003246796808.\u001b[0m\n",
      "\u001b[32m[I 2023-05-03 01:02:35,591]\u001b[0m Trial 66 finished with value: 0.8614892382097746 and parameters: {'n_estimators': 369, 'max_depth': 5, 'reg_alpha': 0.683917552316585, 'reg_lambda': 0.0009926139278817348, 'min_child_weight': 4, 'gamma': 0.45284576560990264, 'learning_rate': 0.09312475439320447, 'colsample_bytree': 0.5790151154981217, 'subsample': 0.5184160235187609}. Best is trial 27 with value: 0.8651003246796808.\u001b[0m\n",
      "\u001b[32m[I 2023-05-03 01:03:14,400]\u001b[0m Trial 67 finished with value: 0.8632030742172627 and parameters: {'n_estimators': 327, 'max_depth': 3, 'reg_alpha': 0.9571937023414882, 'reg_lambda': 0.08996911088654613, 'min_child_weight': 5, 'gamma': 0.41751606200434216, 'learning_rate': 0.13429357336333847, 'colsample_bytree': 0.5507117534696989, 'subsample': 0.47898850373209284}. Best is trial 27 with value: 0.8651003246796808.\u001b[0m\n",
      "\u001b[32m[I 2023-05-03 01:04:09,577]\u001b[0m Trial 68 finished with value: 0.8619334461713575 and parameters: {'n_estimators': 268, 'max_depth': 6, 'reg_alpha': 0.8217644203239778, 'reg_lambda': 0.04340765631459491, 'min_child_weight': 3, 'gamma': 0.5267051416753649, 'learning_rate': 0.07706512879500739, 'colsample_bytree': 0.5174993368069002, 'subsample': 0.4302072875336364}. Best is trial 27 with value: 0.8651003246796808.\u001b[0m\n",
      "\u001b[32m[I 2023-05-03 01:10:25,329]\u001b[0m Trial 69 finished with value: 0.8602542350419515 and parameters: {'n_estimators': 133, 'max_depth': 5, 'reg_alpha': 0.5512914293820838, 'reg_lambda': 0.12372864141571072, 'min_child_weight': 2, 'gamma': 0.5887253541547426, 'learning_rate': 0.18004499900365517, 'colsample_bytree': 0.5022082130964962, 'subsample': 0.528536117382145}. Best is trial 27 with value: 0.8651003246796808.\u001b[0m\n",
      "\u001b[32m[I 2023-05-03 01:57:09,549]\u001b[0m Trial 70 finished with value: 0.8650960722922475 and parameters: {'n_estimators': 448, 'max_depth': 4, 'reg_alpha': 0.6396648335508741, 'reg_lambda': 0.06853016196537115, 'min_child_weight': 0, 'gamma': 0.47280641713237254, 'learning_rate': 0.04745638906733332, 'colsample_bytree': 0.46163222690876937, 'subsample': 0.4971341174215369}. Best is trial 27 with value: 0.8651003246796808.\u001b[0m\n",
      "\u001b[32m[I 2023-05-03 03:00:43,956]\u001b[0m Trial 71 finished with value: 0.8653547461856569 and parameters: {'n_estimators': 452, 'max_depth': 4, 'reg_alpha': 0.7772082105904048, 'reg_lambda': 0.08095352969625812, 'min_child_weight': 0, 'gamma': 0.47141260429732074, 'learning_rate': 0.0346363002791915, 'colsample_bytree': 0.4627054955548765, 'subsample': 0.5000832960987232}. Best is trial 71 with value: 0.8653547461856569.\u001b[0m\n",
      "\u001b[32m[I 2023-05-03 03:53:21,098]\u001b[0m Trial 72 finished with value: 0.8607575828427386 and parameters: {'n_estimators': 481, 'max_depth': 4, 'reg_alpha': 0.6443960096168067, 'reg_lambda': 0.07428116615518505, 'min_child_weight': 0, 'gamma': 0.4780685048934905, 'learning_rate': 0.1086717227204358, 'colsample_bytree': 0.46174326224921847, 'subsample': 0.5044826801995315}. Best is trial 71 with value: 0.8653547461856569.\u001b[0m\n",
      "\u001b[32m[I 2023-05-03 06:22:26,170]\u001b[0m Trial 73 finished with value: 0.8651572127632179 and parameters: {'n_estimators': 448, 'max_depth': 4, 'reg_alpha': 0.7459151872228371, 'reg_lambda': 0.15000606445157, 'min_child_weight': 0, 'gamma': 0.39245769070604886, 'learning_rate': 0.03811556683416903, 'colsample_bytree': 0.48608374343516975, 'subsample': 0.457444726020152}. Best is trial 71 with value: 0.8653547461856569.\u001b[0m\n",
      "\u001b[32m[I 2023-05-03 08:51:36,743]\u001b[0m Trial 74 finished with value: 0.8652007198644363 and parameters: {'n_estimators': 452, 'max_depth': 4, 'reg_alpha': 0.7381272041387961, 'reg_lambda': 0.18739830964557275, 'min_child_weight': 0, 'gamma': 0.39265564996961433, 'learning_rate': 0.030504606629367312, 'colsample_bytree': 0.4795967723390247, 'subsample': 0.46644348594949075}. Best is trial 71 with value: 0.8653547461856569.\u001b[0m\n",
      "\u001b[32m[I 2023-05-03 10:46:40,471]\u001b[0m Trial 75 finished with value: 0.8614689075761739 and parameters: {'n_estimators': 452, 'max_depth': 3, 'reg_alpha': 0.7709587918303568, 'reg_lambda': 0.19998216153960535, 'min_child_weight': 0, 'gamma': 0.3825743107998703, 'learning_rate': 0.14464408698058673, 'colsample_bytree': 0.4837155507617793, 'subsample': 0.4561359069860536}. Best is trial 71 with value: 0.8653547461856569.\u001b[0m\n",
      "\u001b[32m[I 2023-05-03 10:48:15,007]\u001b[0m Trial 76 finished with value: 0.8629924414873722 and parameters: {'n_estimators': 436, 'max_depth': 4, 'reg_alpha': 0.66270420981963, 'reg_lambda': 0.15433958246196372, 'min_child_weight': 0, 'gamma': 0.3274696920319571, 'learning_rate': 0.07978958789033819, 'colsample_bytree': 0.44608911122617023, 'subsample': 0.46920183434227347}. Best is trial 71 with value: 0.8653547461856569.\u001b[0m\n",
      "\u001b[32m[I 2023-05-03 11:07:24,133]\u001b[0m Trial 77 finished with value: 0.865268723914982 and parameters: {'n_estimators': 495, 'max_depth': 4, 'reg_alpha': 0.7521866966883848, 'reg_lambda': 0.17236640661284458, 'min_child_weight': 0, 'gamma': 0.3558202804222746, 'learning_rate': 0.0368505920485111, 'colsample_bytree': 0.4633047920468292, 'subsample': 0.535906172043326}. Best is trial 71 with value: 0.8653547461856569.\u001b[0m\n",
      "\u001b[32m[I 2023-05-03 12:01:30,752]\u001b[0m Trial 78 finished with value: 0.8640407308884643 and parameters: {'n_estimators': 403, 'max_depth': 4, 'reg_alpha': 0.7512761192551579, 'reg_lambda': 0.16882238452310713, 'min_child_weight': 0, 'gamma': 0.29864489601348876, 'learning_rate': 0.022117457306451427, 'colsample_bytree': 0.422449615461959, 'subsample': 0.5660701261394048}. Best is trial 71 with value: 0.8653547461856569.\u001b[0m\n",
      "\u001b[32m[I 2023-05-03 12:02:14,022]\u001b[0m Trial 79 finished with value: 0.8636270428428396 and parameters: {'n_estimators': 492, 'max_depth': 3, 'reg_alpha': 0.8000631878368946, 'reg_lambda': 0.24705235838725564, 'min_child_weight': 0, 'gamma': 0.36935674571675897, 'learning_rate': 0.1155792789499512, 'colsample_bytree': 0.4653939454947456, 'subsample': 0.5355643882558297}. Best is trial 71 with value: 0.8653547461856569.\u001b[0m\n"
     ]
    },
    {
     "name": "stdout",
     "output_type": "stream",
     "text": [
      "\u001b[32m[I 2023-05-03 12:03:07,690]\u001b[0m Trial 80 finished with value: 0.8650558685838584 and parameters: {'n_estimators': 473, 'max_depth': 4, 'reg_alpha': 0.7267166541299336, 'reg_lambda': 0.18816956123511877, 'min_child_weight': 0, 'gamma': 0.24322215282542067, 'learning_rate': 0.028086336744296676, 'colsample_bytree': 0.43973362478395495, 'subsample': 0.545555089593389}. Best is trial 71 with value: 0.8653547461856569.\u001b[0m\n",
      "\u001b[32m[I 2023-05-03 12:04:03,659]\u001b[0m Trial 81 finished with value: 0.8650415905105147 and parameters: {'n_estimators': 471, 'max_depth': 4, 'reg_alpha': 0.6797876124337364, 'reg_lambda': 0.1956359862271665, 'min_child_weight': 0, 'gamma': 0.2418250104539527, 'learning_rate': 0.033534326249817586, 'colsample_bytree': 0.43935505194397695, 'subsample': 0.5103997471607007}. Best is trial 71 with value: 0.8653547461856569.\u001b[0m\n",
      "\u001b[32m[I 2023-05-03 12:05:01,548]\u001b[0m Trial 82 finished with value: 0.8652566806168711 and parameters: {'n_estimators': 476, 'max_depth': 4, 'reg_alpha': 0.7265598744155546, 'reg_lambda': 0.18481786437385683, 'min_child_weight': 0, 'gamma': 0.3492512873031667, 'learning_rate': 0.03223287439957874, 'colsample_bytree': 0.44047110569941456, 'subsample': 0.549550970500447}. Best is trial 71 with value: 0.8653547461856569.\u001b[0m\n",
      "\u001b[32m[I 2023-05-03 12:05:59,914]\u001b[0m Trial 83 finished with value: 0.8650833897974735 and parameters: {'n_estimators': 469, 'max_depth': 4, 'reg_alpha': 0.6809966965433574, 'reg_lambda': 0.20585102052833903, 'min_child_weight': 0, 'gamma': 0.34139002738733987, 'learning_rate': 0.03473527112245846, 'colsample_bytree': 0.41930850351332427, 'subsample': 0.5512760376241594}. Best is trial 71 with value: 0.8653547461856569.\u001b[0m\n",
      "\u001b[32m[I 2023-05-03 12:06:56,674]\u001b[0m Trial 84 finished with value: 0.8602521516792965 and parameters: {'n_estimators': 448, 'max_depth': 4, 'reg_alpha': 0.728518580296158, 'reg_lambda': 0.2608123530322358, 'min_child_weight': 0, 'gamma': 0.3453442868857477, 'learning_rate': 0.010056013011777207, 'colsample_bytree': 0.41651132852909173, 'subsample': 0.554961901170731}. Best is trial 71 with value: 0.8653547461856569.\u001b[0m\n",
      "\u001b[32m[I 2023-05-03 12:07:53,915]\u001b[0m Trial 85 finished with value: 0.8653057330119143 and parameters: {'n_estimators': 500, 'max_depth': 4, 'reg_alpha': 0.632860950476874, 'reg_lambda': 0.2196027127098504, 'min_child_weight': 0, 'gamma': 0.40036461987238947, 'learning_rate': 0.03406949981003669, 'colsample_bytree': 0.4055167541574757, 'subsample': 0.576171257987744}. Best is trial 71 with value: 0.8653547461856569.\u001b[0m\n",
      "\u001b[32m[I 2023-05-03 12:08:50,336]\u001b[0m Trial 86 finished with value: 0.8636126830847713 and parameters: {'n_estimators': 495, 'max_depth': 4, 'reg_alpha': 0.627579149793857, 'reg_lambda': 0.21938169738777677, 'min_child_weight': 0, 'gamma': 0.4049484499620186, 'learning_rate': 0.0905473404458264, 'colsample_bytree': 0.40513470149293906, 'subsample': 0.5790869729106469}. Best is trial 71 with value: 0.8653547461856569.\u001b[0m\n",
      "\u001b[32m[I 2023-05-03 12:09:29,782]\u001b[0m Trial 87 finished with value: 0.8640784181220796 and parameters: {'n_estimators': 434, 'max_depth': 3, 'reg_alpha': 0.6940133388947567, 'reg_lambda': 0.29039737781819797, 'min_child_weight': 0, 'gamma': 0.35271685879244463, 'learning_rate': 0.036115678019277425, 'colsample_bytree': 0.4594508132971573, 'subsample': 0.5852051513595392}. Best is trial 71 with value: 0.8653547461856569.\u001b[0m\n",
      "\u001b[32m[I 2023-05-03 12:10:26,548]\u001b[0m Trial 88 finished with value: 0.8635747283439226 and parameters: {'n_estimators': 460, 'max_depth': 4, 'reg_alpha': 0.6708660812252294, 'reg_lambda': 0.15407717171068908, 'min_child_weight': 0, 'gamma': 0.33386233537324095, 'learning_rate': 0.08374845589993177, 'colsample_bytree': 0.4258703881942558, 'subsample': 0.5986137514420892}. Best is trial 71 with value: 0.8653547461856569.\u001b[0m\n",
      "\u001b[32m[I 2023-05-03 12:11:14,382]\u001b[0m Trial 89 finished with value: 0.8635202141113503 and parameters: {'n_estimators': 482, 'max_depth': 3, 'reg_alpha': 0.6118984031979537, 'reg_lambda': 0.1710443840483859, 'min_child_weight': 0, 'gamma': 0.38844955123597213, 'learning_rate': 0.10964533671378257, 'colsample_bytree': 0.4537897352687209, 'subsample': 0.5668218312151162}. Best is trial 71 with value: 0.8653547461856569.\u001b[0m\n",
      "\u001b[32m[I 2023-05-03 12:12:06,004]\u001b[0m Trial 90 finished with value: 0.865182610134519 and parameters: {'n_estimators': 415, 'max_depth': 4, 'reg_alpha': 0.6410025621491688, 'reg_lambda': 0.24058548595295975, 'min_child_weight': 1, 'gamma': 0.29949006134743, 'learning_rate': 0.037072607374002926, 'colsample_bytree': 0.4076760466805917, 'subsample': 0.544314486951461}. Best is trial 71 with value: 0.8653547461856569.\u001b[0m\n",
      "\u001b[32m[I 2023-05-03 12:12:58,791]\u001b[0m Trial 91 finished with value: 0.8649405851502928 and parameters: {'n_estimators': 413, 'max_depth': 4, 'reg_alpha': 0.6396315370282183, 'reg_lambda': 0.24498867208025363, 'min_child_weight': 1, 'gamma': 0.29186483879445707, 'learning_rate': 0.03196728359288699, 'colsample_bytree': 0.40092485763152186, 'subsample': 0.5449960084180548}. Best is trial 71 with value: 0.8653547461856569.\u001b[0m\n",
      "\u001b[32m[I 2023-05-03 12:14:01,574]\u001b[0m Trial 92 finished with value: 0.8640063593894591 and parameters: {'n_estimators': 500, 'max_depth': 4, 'reg_alpha': 0.6979512124401415, 'reg_lambda': 0.21835534699184977, 'min_child_weight': 0, 'gamma': 0.3579656846598671, 'learning_rate': 0.06819277851519044, 'colsample_bytree': 0.43033071023985625, 'subsample': 0.5356841385375348}. Best is trial 71 with value: 0.8653547461856569.\u001b[0m\n",
      "\u001b[32m[I 2023-05-03 12:17:28,244]\u001b[0m Trial 93 finished with value: 0.8588864330406663 and parameters: {'n_estimators': 442, 'max_depth': 4, 'reg_alpha': 0.7659345881056911, 'reg_lambda': 0.13192194776143001, 'min_child_weight': 1, 'gamma': 0.4325063251502054, 'learning_rate': 0.14376293958893355, 'colsample_bytree': 0.3884450514964168, 'subsample': 0.5190636470991356}. Best is trial 71 with value: 0.8653547461856569.\u001b[0m\n",
      "\u001b[32m[I 2023-05-03 12:18:17,006]\u001b[0m Trial 94 finished with value: 0.8656131240885234 and parameters: {'n_estimators': 425, 'max_depth': 4, 'reg_alpha': 0.5930816807154049, 'reg_lambda': 0.2930104954533214, 'min_child_weight': 0, 'gamma': 0.39752249443686355, 'learning_rate': 0.04070567456156883, 'colsample_bytree': 0.46992978837612076, 'subsample': 0.49657583284061163}. Best is trial 94 with value: 0.8656131240885234.\u001b[0m\n",
      "\u001b[32m[I 2023-05-03 12:19:09,882]\u001b[0m Trial 95 finished with value: 0.8642830347002134 and parameters: {'n_estimators': 430, 'max_depth': 4, 'reg_alpha': 0.5928151041741092, 'reg_lambda': 0.2984328800752019, 'min_child_weight': 0, 'gamma': 0.4173861318145803, 'learning_rate': 0.06682628032209711, 'colsample_bytree': 0.47954615272128687, 'subsample': 0.5002135509449697}. Best is trial 94 with value: 0.8656131240885234.\u001b[0m\n",
      "\u001b[32m[I 2023-05-03 12:19:48,122]\u001b[0m Trial 96 finished with value: 0.864076451288337 and parameters: {'n_estimators': 422, 'max_depth': 3, 'reg_alpha': 0.6625494003766588, 'reg_lambda': 0.24132661952921985, 'min_child_weight': 0, 'gamma': 0.3958885620628013, 'learning_rate': 0.0923580622889239, 'colsample_bytree': 0.4481914094730823, 'subsample': 0.515612944159254}. Best is trial 94 with value: 0.8656131240885234.\u001b[0m\n",
      "\u001b[32m[I 2023-05-03 12:20:47,823]\u001b[0m Trial 97 finished with value: 0.8619106288391947 and parameters: {'n_estimators': 383, 'max_depth': 5, 'reg_alpha': 0.5581289246511624, 'reg_lambda': 0.17396824722338627, 'min_child_weight': 0, 'gamma': 0.36878715931598915, 'learning_rate': 0.010560363999647708, 'colsample_bytree': 0.46910058911256564, 'subsample': 0.4992556414085085}. Best is trial 94 with value: 0.8656131240885234.\u001b[0m\n",
      "\u001b[32m[I 2023-05-03 12:21:42,832]\u001b[0m Trial 98 finished with value: 0.8597569561107316 and parameters: {'n_estimators': 453, 'max_depth': 4, 'reg_alpha': 0.6419417509481095, 'reg_lambda': 0.10890314610611128, 'min_child_weight': 0, 'gamma': 0.3124217149619617, 'learning_rate': 0.11905321664350059, 'colsample_bytree': 0.4766420780561976, 'subsample': 0.47606323420613167}. Best is trial 94 with value: 0.8656131240885234.\u001b[0m\n",
      "\u001b[32m[I 2023-05-03 12:22:22,194]\u001b[0m Trial 99 finished with value: 0.8643510598961133 and parameters: {'n_estimators': 402, 'max_depth': 3, 'reg_alpha': 0.7514137097825158, 'reg_lambda': 0.1449670634242544, 'min_child_weight': 1, 'gamma': 0.42933023388241887, 'learning_rate': 0.05154708283711401, 'colsample_bytree': 0.4572481817127587, 'subsample': 0.5319384400842265}. Best is trial 94 with value: 0.8656131240885234.\u001b[0m\n"
     ]
    },
    {
     "name": "stdout",
     "output_type": "stream",
     "text": [
      "\u001b[32m[I 2023-05-03 12:23:22,452]\u001b[0m Trial 100 finished with value: 0.865302450340051 and parameters: {'n_estimators': 480, 'max_depth': 4, 'reg_alpha': 0.7159042962582494, 'reg_lambda': 0.28288635151170405, 'min_child_weight': 1, 'gamma': 0.45340745537979105, 'learning_rate': 0.03616886432170124, 'colsample_bytree': 0.4932187596562909, 'subsample': 0.4653591958059059}. Best is trial 94 with value: 0.8656131240885234.\u001b[0m\n",
      "\u001b[32m[I 2023-05-03 12:24:23,588]\u001b[0m Trial 101 finished with value: 0.8650640801957875 and parameters: {'n_estimators': 489, 'max_depth': 4, 'reg_alpha': 0.7216873974595833, 'reg_lambda': 0.26881557552335994, 'min_child_weight': 1, 'gamma': 0.44914923106775023, 'learning_rate': 0.03575624773666513, 'colsample_bytree': 0.47478038419765173, 'subsample': 0.4542096228448644}. Best is trial 94 with value: 0.8656131240885234.\u001b[0m\n",
      "\u001b[32m[I 2023-05-03 12:25:23,839]\u001b[0m Trial 102 finished with value: 0.8639411576386686 and parameters: {'n_estimators': 462, 'max_depth': 4, 'reg_alpha': 0.7025437296250981, 'reg_lambda': 0.23415499857461516, 'min_child_weight': 0, 'gamma': 0.40123985500352366, 'learning_rate': 0.06481090973266095, 'colsample_bytree': 0.4910122481575954, 'subsample': 0.47337314850487494}. Best is trial 94 with value: 0.8656131240885234.\u001b[0m\n",
      "\u001b[32m[I 2023-05-03 12:31:14,974]\u001b[0m Trial 103 finished with value: 0.8624386468331693 and parameters: {'n_estimators': 479, 'max_depth': 4, 'reg_alpha': 0.7884728440222182, 'reg_lambda': 0.18847800450781405, 'min_child_weight': 0, 'gamma': 0.47167848796151973, 'learning_rate': 0.09158210850490142, 'colsample_bytree': 0.4906790469961505, 'subsample': 0.49228185186763895}. Best is trial 94 with value: 0.8656131240885234.\u001b[0m\n",
      "\u001b[32m[I 2023-05-03 12:32:05,669]\u001b[0m Trial 104 finished with value: 0.8650464079699057 and parameters: {'n_estimators': 443, 'max_depth': 4, 'reg_alpha': 0.6223866243685894, 'reg_lambda': 0.2888792603081937, 'min_child_weight': 1, 'gamma': 0.4194655662746794, 'learning_rate': 0.04535054654792246, 'colsample_bytree': 0.43954852166329167, 'subsample': 0.4643850131998758}. Best is trial 94 with value: 0.8656131240885234.\u001b[0m\n",
      "\u001b[32m[I 2023-05-03 12:33:13,315]\u001b[0m Trial 105 finished with value: 0.8621854576498016 and parameters: {'n_estimators': 457, 'max_depth': 5, 'reg_alpha': 0.7419569301804235, 'reg_lambda': 0.3105107529211638, 'min_child_weight': 0, 'gamma': 0.443801919617001, 'learning_rate': 0.07393701187822786, 'colsample_bytree': 0.46781484190461736, 'subsample': 0.5093816499786371}. Best is trial 94 with value: 0.8656131240885234.\u001b[0m\n",
      "\u001b[32m[I 2023-05-03 12:34:03,399]\u001b[0m Trial 106 finished with value: 0.8649098550342188 and parameters: {'n_estimators': 412, 'max_depth': 4, 'reg_alpha': 0.6634075025443625, 'reg_lambda': 0.2581758384702382, 'min_child_weight': 1, 'gamma': 0.3644080965681455, 'learning_rate': 0.0301415246214889, 'colsample_bytree': 0.44841820854920017, 'subsample': 0.5232569517003902}. Best is trial 94 with value: 0.8656131240885234.\u001b[0m\n",
      "\u001b[32m[I 2023-05-03 12:34:54,439]\u001b[0m Trial 107 finished with value: 0.8602406251025764 and parameters: {'n_estimators': 426, 'max_depth': 4, 'reg_alpha': 0.7102713895193946, 'reg_lambda': 0.21383599696760902, 'min_child_weight': 0, 'gamma': 0.39428746484908894, 'learning_rate': 0.12140665866459621, 'colsample_bytree': 0.500710871708448, 'subsample': 0.49821299184178464}. Best is trial 94 with value: 0.8656131240885234.\u001b[0m\n",
      "\u001b[32m[I 2023-05-03 12:36:07,440]\u001b[0m Trial 108 finished with value: 0.863177359083353 and parameters: {'n_estimators': 468, 'max_depth': 5, 'reg_alpha': 0.7727122714316862, 'reg_lambda': 0.11063886321032684, 'min_child_weight': 0, 'gamma': 0.4679192105922364, 'learning_rate': 0.057337512011217937, 'colsample_bytree': 0.486095072081598, 'subsample': 0.4808029226843393}. Best is trial 94 with value: 0.8656131240885234.\u001b[0m\n",
      "\u001b[32m[I 2023-05-03 12:36:50,993]\u001b[0m Trial 109 finished with value: 0.8634561351221063 and parameters: {'n_estimators': 485, 'max_depth': 3, 'reg_alpha': 0.7334842285880053, 'reg_lambda': 0.08436757761746146, 'min_child_weight': 0, 'gamma': 0.3221533041195872, 'learning_rate': 0.09141749227061513, 'colsample_bytree': 0.4589574144519188, 'subsample': 0.44896879398429285}. Best is trial 94 with value: 0.8656131240885234.\u001b[0m\n",
      "\u001b[32m[I 2023-05-03 12:37:45,061]\u001b[0m Trial 110 finished with value: 0.8647161148464804 and parameters: {'n_estimators': 437, 'max_depth': 4, 'reg_alpha': 0.81317226173604, 'reg_lambda': 0.18097065865761106, 'min_child_weight': 0, 'gamma': 0.37659105064362447, 'learning_rate': 0.023749495535692968, 'colsample_bytree': 0.43559689251500666, 'subsample': 0.4623850918216916}. Best is trial 94 with value: 0.8656131240885234.\u001b[0m\n",
      "\u001b[32m[I 2023-05-03 12:38:39,956]\u001b[0m Trial 111 finished with value: 0.8651551397388397 and parameters: {'n_estimators': 466, 'max_depth': 4, 'reg_alpha': 0.6907547631872877, 'reg_lambda': 0.2064191727316941, 'min_child_weight': 0, 'gamma': 0.33407138497449623, 'learning_rate': 0.04145861273219426, 'colsample_bytree': 0.4188586416252503, 'subsample': 0.5564536009768039}. Best is trial 94 with value: 0.8656131240885234.\u001b[0m\n",
      "\u001b[32m[I 2023-05-03 14:32:31,347]\u001b[0m Trial 112 finished with value: 0.8613528945464729 and parameters: {'n_estimators': 478, 'max_depth': 4, 'reg_alpha': 0.6528646128418651, 'reg_lambda': 0.27644773674924106, 'min_child_weight': 0, 'gamma': 0.344432193061791, 'learning_rate': 0.011022253476686054, 'colsample_bytree': 0.4105357366542695, 'subsample': 0.5563190449225075}. Best is trial 94 with value: 0.8656131240885234.\u001b[0m\n",
      "\u001b[32m[I 2023-05-03 14:54:35,478]\u001b[0m Trial 113 finished with value: 0.8648431975158661 and parameters: {'n_estimators': 447, 'max_depth': 4, 'reg_alpha': 0.6905030780722335, 'reg_lambda': 0.20870000643395406, 'min_child_weight': 0, 'gamma': 0.29158153611317356, 'learning_rate': 0.061565782814370314, 'colsample_bytree': 0.47086004482312666, 'subsample': 0.5398507445314897}. Best is trial 94 with value: 0.8656131240885234.\u001b[0m\n",
      "\u001b[32m[I 2023-05-03 14:55:27,051]\u001b[0m Trial 114 finished with value: 0.865177272751092 and parameters: {'n_estimators': 465, 'max_depth': 4, 'reg_alpha': 0.7094872442666977, 'reg_lambda': 0.1563597391867449, 'min_child_weight': 1, 'gamma': 0.40681304910822463, 'learning_rate': 0.048166053892776825, 'colsample_bytree': 0.4283732394922308, 'subsample': 0.4868000422355057}. Best is trial 94 with value: 0.8656131240885234.\u001b[0m\n",
      "\u001b[32m[I 2023-05-03 14:56:11,882]\u001b[0m Trial 115 finished with value: 0.8639055014693507 and parameters: {'n_estimators': 371, 'max_depth': 4, 'reg_alpha': 0.7568250507767165, 'reg_lambda': 0.2284336016221578, 'min_child_weight': 1, 'gamma': 0.3916687618912662, 'learning_rate': 0.07933704283055379, 'colsample_bytree': 0.4285109356103658, 'subsample': 0.43411289293923766}. Best is trial 94 with value: 0.8656131240885234.\u001b[0m\n",
      "\u001b[32m[I 2023-05-03 14:57:25,977]\u001b[0m Trial 116 finished with value: 0.8576679902577545 and parameters: {'n_estimators': 500, 'max_depth': 5, 'reg_alpha': 0.7891249256609927, 'reg_lambda': 0.334963170294057, 'min_child_weight': 1, 'gamma': 0.41103266567333313, 'learning_rate': 0.10300323767335459, 'colsample_bytree': 0.39647959208745853, 'subsample': 0.4848768024329007}. Best is trial 94 with value: 0.8656131240885234.\u001b[0m\n",
      "\u001b[32m[I 2023-05-03 14:58:08,378]\u001b[0m Trial 117 finished with value: 0.8638616922091662 and parameters: {'n_estimators': 463, 'max_depth': 3, 'reg_alpha': 0.7051274284255422, 'reg_lambda': 0.14799025174018732, 'min_child_weight': 1, 'gamma': 0.3341175809928411, 'learning_rate': 0.03821604406759585, 'colsample_bytree': 0.4123775889776326, 'subsample': 0.5110810369645852}. Best is trial 94 with value: 0.8656131240885234.\u001b[0m\n",
      "\u001b[32m[I 2023-05-03 14:59:04,698]\u001b[0m Trial 118 finished with value: 0.8602387457173324 and parameters: {'n_estimators': 474, 'max_depth': 4, 'reg_alpha': 0.7250002999135671, 'reg_lambda': 0.2504665083964436, 'min_child_weight': 1, 'gamma': 0.26695142041757147, 'learning_rate': 0.13535209321853808, 'colsample_bytree': 0.3789973173499702, 'subsample': 0.5311870224069205}. Best is trial 94 with value: 0.8656131240885234.\u001b[0m\n",
      "\u001b[32m[I 2023-05-03 15:00:06,857]\u001b[0m Trial 119 finished with value: 0.8571163203341186 and parameters: {'n_estimators': 490, 'max_depth': 4, 'reg_alpha': 0.8433244420250523, 'reg_lambda': 0.1675153236292462, 'min_child_weight': 0, 'gamma': 0.3614430168879271, 'learning_rate': 0.15927754237001807, 'colsample_bytree': 0.4224569618775215, 'subsample': 0.5611864749335966}. Best is trial 94 with value: 0.8656131240885234.\u001b[0m\n"
     ]
    }
   ],
   "source": [
    "study2 = optuna.create_study(direction='maximize', sampler=TPESampler())\n",
    "study2.optimize(objective, n_trials=120, show_progress_bar=True)"
   ]
  },
  {
   "cell_type": "code",
   "execution_count": 56,
   "id": "574b54c6",
   "metadata": {},
   "outputs": [
    {
     "data": {
      "text/plain": [
       "FrozenTrial(number=94, state=TrialState.COMPLETE, values=[0.8656131240885234], datetime_start=datetime.datetime(2023, 5, 3, 12, 17, 28, 250403), datetime_complete=datetime.datetime(2023, 5, 3, 12, 18, 17, 6493), params={'n_estimators': 425, 'max_depth': 4, 'reg_alpha': 0.5930816807154049, 'reg_lambda': 0.2930104954533214, 'min_child_weight': 0, 'gamma': 0.39752249443686355, 'learning_rate': 0.04070567456156883, 'colsample_bytree': 0.46992978837612076, 'subsample': 0.49657583284061163}, user_attrs={}, system_attrs={}, intermediate_values={}, distributions={'n_estimators': IntDistribution(high=500, log=False, low=50, step=1), 'max_depth': IntDistribution(high=10, log=False, low=3, step=1), 'reg_alpha': FloatDistribution(high=1.0, log=False, low=1e-08, step=None), 'reg_lambda': FloatDistribution(high=1.0, log=False, low=1e-08, step=None), 'min_child_weight': IntDistribution(high=6, log=False, low=0, step=1), 'gamma': FloatDistribution(high=1.0, log=False, low=1e-08, step=None), 'learning_rate': FloatDistribution(high=1.0, log=False, low=0.01, step=None), 'colsample_bytree': FloatDistribution(high=0.8, log=False, low=0.3, step=None), 'subsample': FloatDistribution(high=0.8, log=False, low=0.3, step=None)}, trial_id=94, value=None)"
      ]
     },
     "execution_count": 56,
     "metadata": {},
     "output_type": "execute_result"
    }
   ],
   "source": [
    "study2.best_trial"
   ]
  },
  {
   "cell_type": "code",
   "execution_count": null,
   "id": "d3c8729e",
   "metadata": {},
   "outputs": [],
   "source": []
  },
  {
   "cell_type": "code",
   "execution_count": 57,
   "id": "f218a92a",
   "metadata": {},
   "outputs": [],
   "source": [
    "param_seasonal = study2.best_params"
   ]
  },
  {
   "cell_type": "code",
   "execution_count": 58,
   "id": "60fba4b1",
   "metadata": {},
   "outputs": [
    {
     "data": {
      "text/plain": [
       "{'n_estimators': 425,\n",
       " 'max_depth': 4,\n",
       " 'reg_alpha': 0.5930816807154049,\n",
       " 'reg_lambda': 0.2930104954533214,\n",
       " 'min_child_weight': 0,\n",
       " 'gamma': 0.39752249443686355,\n",
       " 'learning_rate': 0.04070567456156883,\n",
       " 'colsample_bytree': 0.46992978837612076,\n",
       " 'subsample': 0.49657583284061163}"
      ]
     },
     "execution_count": 58,
     "metadata": {},
     "output_type": "execute_result"
    }
   ],
   "source": [
    "param_seasonal"
   ]
  },
  {
   "cell_type": "code",
   "execution_count": 59,
   "id": "70f59c9e",
   "metadata": {},
   "outputs": [],
   "source": [
    "X_train_seas, X_test_seas, y_train_seas, y_test_seas = train_test_split(data, label2, test_size=0.2, random_state=101)"
   ]
  },
  {
   "cell_type": "code",
   "execution_count": 60,
   "id": "7a1e129f",
   "metadata": {},
   "outputs": [],
   "source": [
    "seasonal_model = XGBClassifier(**param_seasonal, missing= np.nan)"
   ]
  },
  {
   "cell_type": "code",
   "execution_count": 61,
   "id": "b160232d",
   "metadata": {},
   "outputs": [
    {
     "data": {
      "text/plain": [
       "XGBClassifier(base_score=None, booster=None, callbacks=None,\n",
       "              colsample_bylevel=None, colsample_bynode=None,\n",
       "              colsample_bytree=0.46992978837612076, early_stopping_rounds=None,\n",
       "              enable_categorical=False, eval_metric=None, feature_types=None,\n",
       "              gamma=0.39752249443686355, gpu_id=None, grow_policy=None,\n",
       "              importance_type=None, interaction_constraints=None,\n",
       "              learning_rate=0.04070567456156883, max_bin=None,\n",
       "              max_cat_threshold=None, max_cat_to_onehot=None,\n",
       "              max_delta_step=None, max_depth=4, max_leaves=None,\n",
       "              min_child_weight=0, missing=nan, monotone_constraints=None,\n",
       "              n_estimators=425, n_jobs=None, num_parallel_tree=None,\n",
       "              predictor=None, random_state=None, ...)"
      ]
     },
     "execution_count": 61,
     "metadata": {},
     "output_type": "execute_result"
    }
   ],
   "source": [
    "seasonal_model.fit(X_train_seas, y_train_seas)"
   ]
  },
  {
   "cell_type": "code",
   "execution_count": 62,
   "id": "14449b2e",
   "metadata": {},
   "outputs": [],
   "source": [
    "seas_predict = seasonal_model.predict(X_test_seas)"
   ]
  },
  {
   "cell_type": "code",
   "execution_count": 63,
   "id": "126c081e",
   "metadata": {},
   "outputs": [
    {
     "name": "stdout",
     "output_type": "stream",
     "text": [
      "              precision    recall  f1-score   support\n",
      "\n",
      "           0       0.79      0.82      0.80      2823\n",
      "           1       0.79      0.75      0.77      2519\n",
      "\n",
      "    accuracy                           0.79      5342\n",
      "   macro avg       0.79      0.79      0.79      5342\n",
      "weighted avg       0.79      0.79      0.79      5342\n",
      "\n"
     ]
    }
   ],
   "source": [
    "print(classification_report(y_test_seas, seas_predict))"
   ]
  },
  {
   "cell_type": "code",
   "execution_count": 64,
   "id": "5d2a830b",
   "metadata": {},
   "outputs": [
    {
     "name": "stderr",
     "output_type": "stream",
     "text": [
      "/Users/karthikeyan/opt/anaconda3/lib/python3.9/site-packages/sklearn/utils/deprecation.py:87: FutureWarning: Function plot_roc_curve is deprecated; Function :func:`plot_roc_curve` is deprecated in 1.0 and will be removed in 1.2. Use one of the class methods: :meth:`sklearn.metric.RocCurveDisplay.from_predictions` or :meth:`sklearn.metric.RocCurveDisplay.from_estimator`.\n",
      "  warnings.warn(msg, category=FutureWarning)\n"
     ]
    },
    {
     "data": {
      "text/plain": [
       "<sklearn.metrics._plot.roc_curve.RocCurveDisplay at 0x7f95b81c5d90>"
      ]
     },
     "execution_count": 64,
     "metadata": {},
     "output_type": "execute_result"
    },
    {
     "data": {
      "image/png": "[encoded data removed]",
      "text/plain": [
       "<Figure size 640x480 with 1 Axes>"
      ]
     },
     "metadata": {},
     "output_type": "display_data"
    }
   ],
   "source": [
    "\n",
    "\n",
    "plot_roc_curve(seasonal_model, X_test_seas, y_test_seas)"
   ]
  },
  {
   "cell_type": "code",
   "execution_count": 65,
   "id": "dd7eac8f",
   "metadata": {},
   "outputs": [],
   "source": []
  },
  {
   "cell_type": "code",
   "execution_count": 66,
   "id": "7771a563",
   "metadata": {},
   "outputs": [
    {
     "data": {
      "text/plain": [
       "5342"
      ]
     },
     "execution_count": 66,
     "metadata": {},
     "output_type": "execute_result"
    }
   ],
   "source": [
    "len(h1n1_predict)"
   ]
  },
  {
   "cell_type": "code",
   "execution_count": 67,
   "id": "96b7ad58",
   "metadata": {},
   "outputs": [
    {
     "data": {
      "text/plain": [
       "5342"
      ]
     },
     "execution_count": 67,
     "metadata": {},
     "output_type": "execute_result"
    }
   ],
   "source": [
    "len(seas_predict)"
   ]
  },
  {
   "cell_type": "code",
   "execution_count": null,
   "id": "fbb518a0",
   "metadata": {},
   "outputs": [],
   "source": [
    "\n"
   ]
  },
  {
   "cell_type": "code",
   "execution_count": 68,
   "id": "ed8ee9e4",
   "metadata": {},
   "outputs": [],
   "source": [
    "test = pd.read_csv('test_set_features.csv')"
   ]
  },
  {
   "cell_type": "code",
   "execution_count": 69,
   "id": "3c7ce41b",
   "metadata": {},
   "outputs": [
    {
     "data": {
      "text/plain": [
       "36"
      ]
     },
     "execution_count": 69,
     "metadata": {},
     "output_type": "execute_result"
    }
   ],
   "source": [
    "len(test.columns)"
   ]
  },
  {
   "cell_type": "code",
   "execution_count": 70,
   "id": "997056a5",
   "metadata": {},
   "outputs": [],
   "source": [
    "for i, row in test[test['employment_occupation'].isna()].iterrows():\n",
    "    conditions = (test[\"employment_status\"]==\"Unemployed\")\n",
    "    if conditions.any():\n",
    "        test.loc[i, 'employment_occupation'] = 'unemployed_occupation'\n",
    "\n",
    "for i, row in test[test['employment_industry'].isna()].iterrows():\n",
    "    conditions = (test[\"employment_status\"]==\"Unemployed\")\n",
    "    if conditions.any():\n",
    "        test.loc[i, 'employment_industry'] = 'unemployed_in_industry'\n",
    "\n",
    "for i, row in test[test['employment_industry'].isna()].iterrows():\n",
    "    conditions = (test[\"employment_status\"]==\"Not in Labor Force\")\n",
    "    if conditions.any():\n",
    "        test.loc[i, 'employment_industry'] = 'Not_in_laborforce'\n",
    "\n",
    "for i, row in test[test['employment_occupation'].isna()].iterrows():\n",
    "    conditions = (test[\"employment_status\"]==\"Not in Labor Force\")\n",
    "    if conditions.any():\n",
    "        test.loc[i, 'employment_occupation'] = 'Not_in_laborforce'\n",
    " \n",
    "for i, row in test[test['employment_industry'].isna()].iterrows():\n",
    "    conditions = (test[\"employment_status\"]==\"Employed\")\n",
    "    if conditions.any():\n",
    "        test.loc[i, 'employment_industry'] = 'other_industry'\n",
    " \n",
    "for i, row in test[test['employment_occupation'].isna()].iterrows():\n",
    "    conditions = (test[\"employment_status\"]==\"Employed\")\n",
    "    if conditions.any():\n",
    "        test.loc[i, 'employment_occupation'] = 'other_occupation'\n",
    "        \n",
    "income_poverty_nan = 'refused_or_unknown'\n",
    "marital_status_nan = 'refused_or_other_category'\n",
    "employment_status_nan = 'refused_or_other_category'\n",
    "rent_or_own_nan = 'other_refused'\n",
    "education_nan = 'refused_or_unknown'\n",
    "\n",
    "\n",
    "test['income_poverty'].fillna(income_poverty_nan, inplace=True)\n",
    "test['marital_status'].fillna(marital_status_nan, inplace=True)\n",
    "test['employment_status'].fillna(employment_status_nan, inplace=True)\n",
    "test['rent_or_own'].fillna(rent_or_own_nan, inplace=True)\n",
    "test['education'].fillna(education_nan, inplace=True)\n"
   ]
  },
  {
   "cell_type": "code",
   "execution_count": 71,
   "id": "536132ce",
   "metadata": {},
   "outputs": [],
   "source": [
    "\n",
    "test['overall_behaviour_of_respondent'] = test['behavioral_antiviral_meds'] + \\\n",
    "test['behavioral_avoidance'] + test['behavioral_face_mask'] + \\\n",
    "test['behavioral_wash_hands'] + test['behavioral_large_gatherings'] + \\\n",
    "test['behavioral_outside_home'] + test['behavioral_touch_face']"
   ]
  },
  {
   "cell_type": "code",
   "execution_count": null,
   "id": "22582480",
   "metadata": {},
   "outputs": [],
   "source": []
  },
  {
   "cell_type": "code",
   "execution_count": 72,
   "id": "a2db44e5",
   "metadata": {},
   "outputs": [],
   "source": [
    "le = LabelEncoder()\n",
    "\n",
    "for features in ordinal_columns:\n",
    "    test[features] = le.fit_transform(test[features])"
   ]
  },
  {
   "cell_type": "code",
   "execution_count": 73,
   "id": "906d2036",
   "metadata": {},
   "outputs": [],
   "source": [
    "test = pd.get_dummies(test, columns=category_columns, drop_first=True)"
   ]
  },
  {
   "cell_type": "code",
   "execution_count": 74,
   "id": "09dd26bb",
   "metadata": {},
   "outputs": [],
   "source": [
    "numeric_columns = test.select_dtypes('number').columns"
   ]
  },
  {
   "cell_type": "code",
   "execution_count": 75,
   "id": "47967aa6",
   "metadata": {},
   "outputs": [],
   "source": [
    "test.drop('respondent_id', axis=1, inplace=True)"
   ]
  },
  {
   "cell_type": "code",
   "execution_count": null,
   "id": "a6af09cd",
   "metadata": {},
   "outputs": [],
   "source": []
  },
  {
   "cell_type": "code",
   "execution_count": 76,
   "id": "6c50bad2",
   "metadata": {},
   "outputs": [
    {
     "data": {
      "text/plain": [
       "h1n1_concern                       True\n",
       "h1n1_knowledge                     True\n",
       "behavioral_antiviral_meds          True\n",
       "behavioral_avoidance               True\n",
       "behavioral_face_mask               True\n",
       "                                  ...  \n",
       "employment_occupation_vlluhbov    False\n",
       "employment_occupation_xgwztkwe    False\n",
       "employment_occupation_xqwwgdyp    False\n",
       "employment_occupation_xtkaffoo    False\n",
       "employment_occupation_xzmlyyjv    False\n",
       "Length: 91, dtype: bool"
      ]
     },
     "execution_count": 76,
     "metadata": {},
     "output_type": "execute_result"
    }
   ],
   "source": [
    "test.isna().sum() != 0"
   ]
  },
  {
   "cell_type": "code",
   "execution_count": null,
   "id": "cccd6090",
   "metadata": {},
   "outputs": [],
   "source": []
  },
  {
   "cell_type": "code",
   "execution_count": 77,
   "id": "5165df77",
   "metadata": {},
   "outputs": [],
   "source": [
    "h1n1_probability = h1n1_model.predict_proba(test)"
   ]
  },
  {
   "cell_type": "code",
   "execution_count": 78,
   "id": "48425206",
   "metadata": {},
   "outputs": [],
   "source": [
    "h1n1_probability = h1n1_probability[:,1].reshape(-1,1)"
   ]
  },
  {
   "cell_type": "code",
   "execution_count": 79,
   "id": "8b7ba98d",
   "metadata": {},
   "outputs": [],
   "source": [
    "seasonal_probability = seasonal_model.predict_proba(test)"
   ]
  },
  {
   "cell_type": "code",
   "execution_count": 80,
   "id": "0ed9671d",
   "metadata": {},
   "outputs": [],
   "source": [
    "seasonal_probability = seasonal_probability[:,1].reshape(-1,1)"
   ]
  },
  {
   "cell_type": "code",
   "execution_count": 81,
   "id": "bf1a53d9",
   "metadata": {},
   "outputs": [
    {
     "data": {
      "text/plain": [
       "array([[0.10995667],\n",
       "       [0.032679  ],\n",
       "       [0.2073952 ],\n",
       "       ...,\n",
       "       [0.16579579],\n",
       "       [0.02459511],\n",
       "       [0.6520644 ]], dtype=float32)"
      ]
     },
     "execution_count": 81,
     "metadata": {},
     "output_type": "execute_result"
    }
   ],
   "source": [
    "h1n1_probability"
   ]
  },
  {
   "cell_type": "code",
   "execution_count": 82,
   "id": "b0f7d0dd",
   "metadata": {},
   "outputs": [
    {
     "data": {
      "text/plain": [
       "array([[0.25215748],\n",
       "       [0.03873692],\n",
       "       [0.6436715 ],\n",
       "       ...,\n",
       "       [0.17088561],\n",
       "       [0.3059221 ],\n",
       "       [0.6479085 ]], dtype=float32)"
      ]
     },
     "execution_count": 82,
     "metadata": {},
     "output_type": "execute_result"
    }
   ],
   "source": [
    "seasonal_probability"
   ]
  },
  {
   "cell_type": "code",
   "execution_count": 83,
   "id": "7ee01805",
   "metadata": {},
   "outputs": [],
   "source": [
    "test_id = pd.read_csv(\"test_set_features.csv\")"
   ]
  },
  {
   "cell_type": "code",
   "execution_count": 84,
   "id": "e1f13081",
   "metadata": {},
   "outputs": [
    {
     "data": {
      "text/html": [
       "<div>\n",
       "<style scoped>\n",
       "    .dataframe tbody tr th:only-of-type {\n",
       "        vertical-align: middle;\n",
       "    }\n",
       "\n",
       "    .dataframe tbody tr th {\n",
       "        vertical-align: top;\n",
       "    }\n",
       "\n",
       "    .dataframe thead th {\n",
       "        text-align: right;\n",
       "    }\n",
       "</style>\n",
       "<table border=\"1\" class=\"dataframe\">\n",
       "  <thead>\n",
       "    <tr style=\"text-align: right;\">\n",
       "      <th></th>\n",
       "      <th>respondent_id</th>\n",
       "      <th>h1n1_concern</th>\n",
       "      <th>h1n1_knowledge</th>\n",
       "      <th>behavioral_antiviral_meds</th>\n",
       "      <th>behavioral_avoidance</th>\n",
       "      <th>behavioral_face_mask</th>\n",
       "      <th>behavioral_wash_hands</th>\n",
       "      <th>behavioral_large_gatherings</th>\n",
       "      <th>behavioral_outside_home</th>\n",
       "      <th>behavioral_touch_face</th>\n",
       "      <th>...</th>\n",
       "      <th>income_poverty</th>\n",
       "      <th>marital_status</th>\n",
       "      <th>rent_or_own</th>\n",
       "      <th>employment_status</th>\n",
       "      <th>hhs_geo_region</th>\n",
       "      <th>census_msa</th>\n",
       "      <th>household_adults</th>\n",
       "      <th>household_children</th>\n",
       "      <th>employment_industry</th>\n",
       "      <th>employment_occupation</th>\n",
       "    </tr>\n",
       "  </thead>\n",
       "  <tbody>\n",
       "    <tr>\n",
       "      <th>0</th>\n",
       "      <td>26707</td>\n",
       "      <td>2.0</td>\n",
       "      <td>2.0</td>\n",
       "      <td>0.0</td>\n",
       "      <td>1.0</td>\n",
       "      <td>0.0</td>\n",
       "      <td>1.0</td>\n",
       "      <td>1.0</td>\n",
       "      <td>0.0</td>\n",
       "      <td>1.0</td>\n",
       "      <td>...</td>\n",
       "      <td>&gt; $75,000</td>\n",
       "      <td>Not Married</td>\n",
       "      <td>Rent</td>\n",
       "      <td>Employed</td>\n",
       "      <td>mlyzmhmf</td>\n",
       "      <td>MSA, Not Principle  City</td>\n",
       "      <td>1.0</td>\n",
       "      <td>0.0</td>\n",
       "      <td>atmlpfrs</td>\n",
       "      <td>hfxkjkmi</td>\n",
       "    </tr>\n",
       "    <tr>\n",
       "      <th>1</th>\n",
       "      <td>26708</td>\n",
       "      <td>1.0</td>\n",
       "      <td>1.0</td>\n",
       "      <td>0.0</td>\n",
       "      <td>0.0</td>\n",
       "      <td>0.0</td>\n",
       "      <td>0.0</td>\n",
       "      <td>0.0</td>\n",
       "      <td>0.0</td>\n",
       "      <td>0.0</td>\n",
       "      <td>...</td>\n",
       "      <td>Below Poverty</td>\n",
       "      <td>Not Married</td>\n",
       "      <td>Rent</td>\n",
       "      <td>Employed</td>\n",
       "      <td>bhuqouqj</td>\n",
       "      <td>Non-MSA</td>\n",
       "      <td>3.0</td>\n",
       "      <td>0.0</td>\n",
       "      <td>atmlpfrs</td>\n",
       "      <td>xqwwgdyp</td>\n",
       "    </tr>\n",
       "    <tr>\n",
       "      <th>2</th>\n",
       "      <td>26709</td>\n",
       "      <td>2.0</td>\n",
       "      <td>2.0</td>\n",
       "      <td>0.0</td>\n",
       "      <td>0.0</td>\n",
       "      <td>1.0</td>\n",
       "      <td>1.0</td>\n",
       "      <td>1.0</td>\n",
       "      <td>1.0</td>\n",
       "      <td>1.0</td>\n",
       "      <td>...</td>\n",
       "      <td>&gt; $75,000</td>\n",
       "      <td>Married</td>\n",
       "      <td>Own</td>\n",
       "      <td>Employed</td>\n",
       "      <td>lrircsnp</td>\n",
       "      <td>Non-MSA</td>\n",
       "      <td>1.0</td>\n",
       "      <td>0.0</td>\n",
       "      <td>nduyfdeo</td>\n",
       "      <td>pvmttkik</td>\n",
       "    </tr>\n",
       "    <tr>\n",
       "      <th>3</th>\n",
       "      <td>26710</td>\n",
       "      <td>1.0</td>\n",
       "      <td>1.0</td>\n",
       "      <td>0.0</td>\n",
       "      <td>0.0</td>\n",
       "      <td>0.0</td>\n",
       "      <td>0.0</td>\n",
       "      <td>0.0</td>\n",
       "      <td>0.0</td>\n",
       "      <td>0.0</td>\n",
       "      <td>...</td>\n",
       "      <td>&lt;= $75,000, Above Poverty</td>\n",
       "      <td>Married</td>\n",
       "      <td>Own</td>\n",
       "      <td>Not in Labor Force</td>\n",
       "      <td>lrircsnp</td>\n",
       "      <td>MSA, Not Principle  City</td>\n",
       "      <td>1.0</td>\n",
       "      <td>0.0</td>\n",
       "      <td>NaN</td>\n",
       "      <td>NaN</td>\n",
       "    </tr>\n",
       "    <tr>\n",
       "      <th>4</th>\n",
       "      <td>26711</td>\n",
       "      <td>3.0</td>\n",
       "      <td>1.0</td>\n",
       "      <td>1.0</td>\n",
       "      <td>1.0</td>\n",
       "      <td>0.0</td>\n",
       "      <td>1.0</td>\n",
       "      <td>1.0</td>\n",
       "      <td>1.0</td>\n",
       "      <td>1.0</td>\n",
       "      <td>...</td>\n",
       "      <td>&lt;= $75,000, Above Poverty</td>\n",
       "      <td>Not Married</td>\n",
       "      <td>Own</td>\n",
       "      <td>Employed</td>\n",
       "      <td>lzgpxyit</td>\n",
       "      <td>Non-MSA</td>\n",
       "      <td>0.0</td>\n",
       "      <td>1.0</td>\n",
       "      <td>fcxhlnwr</td>\n",
       "      <td>mxkfnird</td>\n",
       "    </tr>\n",
       "  </tbody>\n",
       "</table>\n",
       "<p>5 rows × 36 columns</p>\n",
       "</div>"
      ],
      "text/plain": [
       "   respondent_id  h1n1_concern  h1n1_knowledge  behavioral_antiviral_meds  \\\n",
       "0          26707           2.0             2.0                        0.0   \n",
       "1          26708           1.0             1.0                        0.0   \n",
       "2          26709           2.0             2.0                        0.0   \n",
       "3          26710           1.0             1.0                        0.0   \n",
       "4          26711           3.0             1.0                        1.0   \n",
       "\n",
       "   behavioral_avoidance  behavioral_face_mask  behavioral_wash_hands  \\\n",
       "0                   1.0                   0.0                    1.0   \n",
       "1                   0.0                   0.0                    0.0   \n",
       "2                   0.0                   1.0                    1.0   \n",
       "3                   0.0                   0.0                    0.0   \n",
       "4                   1.0                   0.0                    1.0   \n",
       "\n",
       "   behavioral_large_gatherings  behavioral_outside_home  \\\n",
       "0                          1.0                      0.0   \n",
       "1                          0.0                      0.0   \n",
       "2                          1.0                      1.0   \n",
       "3                          0.0                      0.0   \n",
       "4                          1.0                      1.0   \n",
       "\n",
       "   behavioral_touch_face  ...             income_poverty  marital_status  \\\n",
       "0                    1.0  ...                  > $75,000     Not Married   \n",
       "1                    0.0  ...              Below Poverty     Not Married   \n",
       "2                    1.0  ...                  > $75,000         Married   \n",
       "3                    0.0  ...  <= $75,000, Above Poverty         Married   \n",
       "4                    1.0  ...  <= $75,000, Above Poverty     Not Married   \n",
       "\n",
       "   rent_or_own   employment_status  hhs_geo_region                census_msa  \\\n",
       "0         Rent            Employed        mlyzmhmf  MSA, Not Principle  City   \n",
       "1         Rent            Employed        bhuqouqj                   Non-MSA   \n",
       "2          Own            Employed        lrircsnp                   Non-MSA   \n",
       "3          Own  Not in Labor Force        lrircsnp  MSA, Not Principle  City   \n",
       "4          Own            Employed        lzgpxyit                   Non-MSA   \n",
       "\n",
       "   household_adults  household_children  employment_industry  \\\n",
       "0               1.0                 0.0             atmlpfrs   \n",
       "1               3.0                 0.0             atmlpfrs   \n",
       "2               1.0                 0.0             nduyfdeo   \n",
       "3               1.0                 0.0                  NaN   \n",
       "4               0.0                 1.0             fcxhlnwr   \n",
       "\n",
       "   employment_occupation  \n",
       "0               hfxkjkmi  \n",
       "1               xqwwgdyp  \n",
       "2               pvmttkik  \n",
       "3                    NaN  \n",
       "4               mxkfnird  \n",
       "\n",
       "[5 rows x 36 columns]"
      ]
     },
     "execution_count": 84,
     "metadata": {},
     "output_type": "execute_result"
    }
   ],
   "source": [
    "test_id.head()"
   ]
  },
  {
   "cell_type": "code",
   "execution_count": 85,
   "id": "4acda12e",
   "metadata": {},
   "outputs": [
    {
     "data": {
      "text/plain": [
       "Index(['respondent_id', 'h1n1_concern', 'h1n1_knowledge',\n",
       "       'behavioral_antiviral_meds', 'behavioral_avoidance',\n",
       "       'behavioral_face_mask', 'behavioral_wash_hands',\n",
       "       'behavioral_large_gatherings', 'behavioral_outside_home',\n",
       "       'behavioral_touch_face', 'doctor_recc_h1n1', 'doctor_recc_seasonal',\n",
       "       'chronic_med_condition', 'child_under_6_months', 'health_worker',\n",
       "       'health_insurance', 'opinion_h1n1_vacc_effective', 'opinion_h1n1_risk',\n",
       "       'opinion_h1n1_sick_from_vacc', 'opinion_seas_vacc_effective',\n",
       "       'opinion_seas_risk', 'opinion_seas_sick_from_vacc', 'age_group',\n",
       "       'education', 'race', 'sex', 'income_poverty', 'marital_status',\n",
       "       'rent_or_own', 'employment_status', 'hhs_geo_region', 'census_msa',\n",
       "       'household_adults', 'household_children', 'employment_industry',\n",
       "       'employment_occupation'],\n",
       "      dtype='object')"
      ]
     },
     "execution_count": 85,
     "metadata": {},
     "output_type": "execute_result"
    }
   ],
   "source": [
    "test_id.columns"
   ]
  },
  {
   "cell_type": "code",
   "execution_count": 86,
   "id": "a629c592",
   "metadata": {
    "scrolled": true
   },
   "outputs": [],
   "source": [
    "new_df = test_id.drop(['h1n1_knowledge',\n",
    "       'behavioral_antiviral_meds', 'behavioral_avoidance',\n",
    "       'behavioral_face_mask', 'behavioral_wash_hands',\n",
    "       'behavioral_large_gatherings', 'behavioral_outside_home',\n",
    "       'behavioral_touch_face', 'doctor_recc_h1n1', 'doctor_recc_seasonal',\n",
    "       'chronic_med_condition', 'child_under_6_months', 'health_worker',\n",
    "       'health_insurance', 'opinion_h1n1_vacc_effective', 'opinion_h1n1_risk',\n",
    "       'opinion_h1n1_sick_from_vacc', 'opinion_seas_vacc_effective',\n",
    "       'opinion_seas_risk', 'opinion_seas_sick_from_vacc', 'age_group',\n",
    "       'education', 'race', 'sex', 'income_poverty', 'marital_status',\n",
    "       'rent_or_own', 'employment_status', 'hhs_geo_region', 'census_msa',\n",
    "       'household_adults', 'household_children', 'employment_industry',\n",
    "       'employment_occupation'], axis=1)"
   ]
  },
  {
   "cell_type": "code",
   "execution_count": null,
   "id": "aa1c29f8",
   "metadata": {},
   "outputs": [],
   "source": []
  },
  {
   "cell_type": "code",
   "execution_count": 87,
   "id": "9fa45ddc",
   "metadata": {},
   "outputs": [],
   "source": [
    "new_df[\"h1n1_vaccine\"] = h1n1_probability\n",
    "new_df[\"seasonal_vaccine\"] = seasonal_probability"
   ]
  },
  {
   "cell_type": "code",
   "execution_count": 88,
   "id": "b67eacd2",
   "metadata": {},
   "outputs": [
    {
     "data": {
      "text/html": [
       "<div>\n",
       "<style scoped>\n",
       "    .dataframe tbody tr th:only-of-type {\n",
       "        vertical-align: middle;\n",
       "    }\n",
       "\n",
       "    .dataframe tbody tr th {\n",
       "        vertical-align: top;\n",
       "    }\n",
       "\n",
       "    .dataframe thead th {\n",
       "        text-align: right;\n",
       "    }\n",
       "</style>\n",
       "<table border=\"1\" class=\"dataframe\">\n",
       "  <thead>\n",
       "    <tr style=\"text-align: right;\">\n",
       "      <th></th>\n",
       "      <th>respondent_id</th>\n",
       "      <th>h1n1_vaccine</th>\n",
       "      <th>seasonal_vaccine</th>\n",
       "    </tr>\n",
       "  </thead>\n",
       "  <tbody>\n",
       "    <tr>\n",
       "      <th>0</th>\n",
       "      <td>26707</td>\n",
       "      <td>0.109957</td>\n",
       "      <td>0.252157</td>\n",
       "    </tr>\n",
       "    <tr>\n",
       "      <th>1</th>\n",
       "      <td>26708</td>\n",
       "      <td>0.032679</td>\n",
       "      <td>0.038737</td>\n",
       "    </tr>\n",
       "    <tr>\n",
       "      <th>2</th>\n",
       "      <td>26709</td>\n",
       "      <td>0.207395</td>\n",
       "      <td>0.643672</td>\n",
       "    </tr>\n",
       "    <tr>\n",
       "      <th>3</th>\n",
       "      <td>26710</td>\n",
       "      <td>0.734341</td>\n",
       "      <td>0.870458</td>\n",
       "    </tr>\n",
       "    <tr>\n",
       "      <th>4</th>\n",
       "      <td>26711</td>\n",
       "      <td>0.368565</td>\n",
       "      <td>0.510619</td>\n",
       "    </tr>\n",
       "  </tbody>\n",
       "</table>\n",
       "</div>"
      ],
      "text/plain": [
       "   respondent_id  h1n1_vaccine  seasonal_vaccine\n",
       "0          26707      0.109957          0.252157\n",
       "1          26708      0.032679          0.038737\n",
       "2          26709      0.207395          0.643672\n",
       "3          26710      0.734341          0.870458\n",
       "4          26711      0.368565          0.510619"
      ]
     },
     "execution_count": 88,
     "metadata": {},
     "output_type": "execute_result"
    }
   ],
   "source": [
    "new_df.drop(\"h1n1_concern\",axis=1,inplace=True)\n",
    "\n",
    "new_df.head()"
   ]
  },
  {
   "cell_type": "code",
   "execution_count": 89,
   "id": "2bcaeea7",
   "metadata": {},
   "outputs": [],
   "source": [
    "new_df.set_index(\"respondent_id\",inplace=True)"
   ]
  },
  {
   "cell_type": "code",
   "execution_count": 90,
   "id": "9a45710d",
   "metadata": {},
   "outputs": [],
   "source": [
    "new_df.to_csv(\"submission_XGB_FeatureEnginnering_Behaviour_WithoutDrop.csv\")"
   ]
  },
  {
   "cell_type": "code",
   "execution_count": null,
   "id": "a8e89613",
   "metadata": {},
   "outputs": [],
   "source": []
  }
 ],
 "metadata": {
  "kernelspec": {
   "display_name": "Python 3 (ipykernel)",
   "language": "python",
   "name": "python3"
  },
  "language_info": {
   "codemirror_mode": {
    "name": "ipython",
    "version": 3
   },
   "file_extension": ".py",
   "mimetype": "text/x-python",
   "name": "python",
   "nbconvert_exporter": "python",
   "pygments_lexer": "ipython3",
   "version": "3.9.13"
  }
 },
 "nbformat": 4,
 "nbformat_minor": 5
}
